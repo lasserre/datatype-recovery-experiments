{
 "cells": [
  {
   "cell_type": "code",
   "execution_count": 1,
   "metadata": {},
   "outputs": [],
   "source": [
    "import os\n",
    "import pandas as pd\n",
    "from pathlib import Path\n",
    "\n",
    "# Execute this notebook headlessly using something like:\n",
    "#\n",
    "# EXP_FOLDER=~/test_builds/coreutils.exp/ jupyter nbconvert --to html --execute characterize_dataset.ipynb --no-input\n",
    "#\n",
    "\n",
    "# MANUAL_EXP_FOLDER = Path.home()/'test_builds'/'astera3.exp'\n",
    "MANUAL_EXP_FOLDER = Path.home()/'test_builds'/'astera.exp'\n",
    "\n",
    "# take the env-var-specified experiment if present\n",
    "EXP_FOLDER = Path(os.environ['EXP_FOLDER']) if 'EXP_FOLDER' in os.environ else MANUAL_EXP_FOLDER"
   ]
  },
  {
   "cell_type": "code",
   "execution_count": 2,
   "metadata": {},
   "outputs": [
    {
     "data": {
      "text/plain": [
       "[]"
      ]
     },
     "execution_count": 2,
     "metadata": {},
     "output_type": "execute_result"
    }
   ],
   "source": [
    "# import wildebeest as wdb\n",
    "# wdb.get_experiment_names()\n",
    "ast_json = EXP_FOLDER/'rundata'/'run1'/'0.fighter'/'ast_dumps'/'stripped'/'Func143603-FUN_00143603.json'\n",
    "[x for x in (EXP_FOLDER/'rundata'/'run1'/'0.fighter'/'ast_dumps'/'stripped').iterdir() if '143603' in x.name]\n"
   ]
  },
  {
   "cell_type": "markdown",
   "metadata": {},
   "source": [
    "# Prepare data for PyG Model\n",
    "*Sticking this here for now for sake of time...*\n",
    "\n",
    "We need to **quickly** write the code to take our data tables and convert each variable into the format ready to go for PyG"
   ]
  },
  {
   "cell_type": "code",
   "execution_count": 3,
   "metadata": {},
   "outputs": [
    {
     "data": {
      "text/plain": [
       "806        PTR,STRUCT\n",
       "807    PTR,PTR,STRUCT\n",
       "Name: TypeSeq_Debug, dtype: object"
      ]
     },
     "execution_count": 3,
     "metadata": {},
     "output_type": "execute_result"
    }
   ],
   "source": [
    "import astlib\n",
    "from astlib.color_ast import highlight_var_refs, highlight_khop_neighborhood\n",
    "from astlib.find_all_references import *\n",
    "\n",
    "run_folder = EXP_FOLDER/'rundata'/'run1'\n",
    "locals_df = pd.read_csv(run_folder/'locals.csv')\n",
    "funcs_df = pd.read_csv(run_folder/'functions.csv')\n",
    "\n",
    "# AHA! DataFrameGroupBy object behaves like an iterable of tuples:\n",
    "    # [0]: tuple of values for the columns you grouped by\n",
    "    # [1]: corresponding data frame with this subset of the data\n",
    "\n",
    "##########################################################\n",
    "df_list = locals_df.groupby(['BinaryId', 'FunctionStart']).pipe(lambda gb: [x[1] for x in gb])\n",
    "# --------------------\n",
    "# TODO: for all locals in this function (start here, we'll see how it evolves)\n",
    "#       >>> only need to save the data/features we need for the model (and just enough metadata\n",
    "#           to refer back to the func/var of interest)\n",
    "##########################################################\n",
    "\n",
    "# TODO: convert this to a function we call using pipe() above\n",
    "df = df_list[313]\n",
    "\n",
    "addr = df.FunctionStart.iloc[0]\n",
    "ast_file = funcs_df[funcs_df.FunctionStart==addr].iloc[0].AstJson_Strip\n",
    "\n",
    "ast, slib = astlib.json_to_ast(ast_file)\n",
    "df.drop(columns=['LocType_Debug','LocRegName_Debug','LocOffset_Debug','LocType_Strip','LocRegName_Strip','LocOffset_Strip'])\n",
    "\n",
    "# -------------------------------------------\n",
    "# TODO: for each local... i in range(len(df))\n",
    "name_strip = df.iloc[0].Name_Strip\n",
    "# -------------------------------------------\n",
    "\n",
    "fbody = ast.inner[-1].inner[-1]\n",
    "\n",
    "# for node in decl_ref_nodes:\n",
    "#     display(node.parent.parent.parent.render(format_node=highlight_khop_neighborhood(node, 2, 'red')))\n",
    "df.TypeSeq_Debug"
   ]
  },
  {
   "cell_type": "code",
   "execution_count": 4,
   "metadata": {},
   "outputs": [],
   "source": [
    "from datatype_recovery.models.dataset import TypeSequenceDataset\n",
    "\n",
    "ds_params = {\n",
    "    'name': 'Test',\n",
    "    'experiment_runs': ['/home/cls0027/test_builds/coreutils.exp/rundata/run1'],\n",
    "    'copy_data': False\n",
    "}\n",
    "dataset = TypeSequenceDataset(ds_params, 'typeseq_data', max_hops=3)\n",
    "# dataset.download()"
   ]
  },
  {
   "cell_type": "code",
   "execution_count": 5,
   "metadata": {},
   "outputs": [
    {
     "data": {
      "text/plain": [
       "31947"
      ]
     },
     "execution_count": 5,
     "metadata": {},
     "output_type": "execute_result"
    }
   ],
   "source": [
    "dataset.len()"
   ]
  },
  {
   "cell_type": "code",
   "execution_count": 6,
   "metadata": {},
   "outputs": [
    {
     "data": {
      "text/plain": [
       "31947"
      ]
     },
     "execution_count": 6,
     "metadata": {},
     "output_type": "execute_result"
    }
   ],
   "source": [
    "len(dataset)"
   ]
  },
  {
   "cell_type": "code",
   "execution_count": 7,
   "metadata": {},
   "outputs": [
    {
     "name": "stdout",
     "output_type": "stream",
     "text": [
      "(0, 108, 1074895, '59,91', 'p')\n",
      "Run 0 exp name: coreutils\n",
      "Binary name: mknod\n",
      "\n",
      "FunctionStart             1074895\n",
      "Name_Debug            right_quote\n",
      "Signature                   59,91\n",
      "IsReturnType_Debug          False\n",
      "Type_Debug                int8_t*\n",
      "LocType_Debug                 reg\n",
      "LocRegName_Debug              rdx\n",
      "LocOffset_Debug               0.0\n",
      "TypeCategory_Debug        POINTER\n",
      "TypeSeq_Debug          PTR,int8_t\n",
      "Name_Strip                param_3\n",
      "IsReturnType_Strip          False\n",
      "Type_Strip                int64_t\n",
      "LocType_Strip                 reg\n",
      "LocRegName_Strip              rdx\n",
      "LocOffset_Strip               0.0\n",
      "TypeCategory_Strip        BUILTIN\n",
      "TypeSeq_Strip             int64_t\n",
      "BinaryId                      108\n",
      "Name: 35401, dtype: object\n",
      "\n",
      "PTR,int8_t\n"
     ]
    },
    {
     "data": {
      "text/plain": [
       "['PTR']"
      ]
     },
     "execution_count": 7,
     "metadata": {},
     "output_type": "execute_result"
    }
   ],
   "source": [
    "from datatype_recovery.models.dataset.encoding import TypeSequence\n",
    "\n",
    "# data = torch.load('typeseq_data/processed/vars-1000_30.pt')\n",
    "sample = dataset.get(30650)\n",
    "\n",
    "print(sample.varid)\n",
    "\n",
    "rgid, bid, funcaddr, sig, vtype = sample.varid\n",
    "\n",
    "runs_df = pd.read_csv(Path.cwd()/'typeseq_data'/'raw'/'experiment_runs.csv')\n",
    "bins_df = pd.read_csv(runs_df[runs_df.RunGid==rgid].iloc[0].BinariesCsv)\n",
    "\n",
    "exp_name = Path(runs_df.iloc[0].RunFolder).parent.parent.stem\n",
    "print(f'Run {rgid} exp name: {exp_name}')\n",
    "print(f'Binary name: {bins_df[bins_df.BinaryId==bid].iloc[0].Name}')\n",
    "print()\n",
    "\n",
    "run_row = runs_df[runs_df.RunGid==rgid].iloc[0]\n",
    "locals_df = pd.read_csv(run_row.LocalsCsv if vtype == 'l' else run_row.ParamsCsv)\n",
    "match_df = locals_df[(locals_df.FunctionStart==funcaddr)&(locals_df.Signature==sig)]\n",
    "print(match_df.iloc[0])\n",
    "print()\n",
    "print(match_df.iloc[0].TypeSeq_Debug)\n",
    "TypeSequence().decode(sample.y)\n",
    "\n",
    "# import subprocess\n",
    "# from wildebeest.utils import cd\n",
    "\n",
    "# with cd(Path(runs_df.iloc[0].RunFolder).parent.parent):\n",
    "#     subprocess.run(['wdb', 'info'])\n"
   ]
  },
  {
   "cell_type": "code",
   "execution_count": 8,
   "metadata": {},
   "outputs": [
    {
     "data": {
      "text/plain": [
       "FunctionStart                       1678442\n",
       "Name_Debug                           window\n",
       "Signature             87,97,119,128,128,135\n",
       "Type_Debug                     _GLFWwindow*\n",
       "LocType_Debug                         stack\n",
       "LocRegName_Debug                        NaN\n",
       "LocOffset_Debug                         -32\n",
       "TypeCategory_Debug                  POINTER\n",
       "TypeSeq_Debug                    PTR,STRUCT\n",
       "Name_Strip                         local_20\n",
       "Type_Strip                        uint64_t*\n",
       "LocType_Strip                         stack\n",
       "LocRegName_Strip                        NaN\n",
       "LocOffset_Strip                         -32\n",
       "TypeCategory_Strip                  POINTER\n",
       "TypeSeq_Strip                  PTR,uint64_t\n",
       "BinaryId                                  3\n",
       "Name: 806, dtype: object"
      ]
     },
     "execution_count": 8,
     "metadata": {},
     "output_type": "execute_result"
    }
   ],
   "source": [
    "# ast.inner[-1].inner[-1].inner[-3].render()\n",
    "# print(ast.inner[-1].inner[-1].inner[-3].inner[2].inner[1].parent)\n",
    "df.iloc[0]"
   ]
  },
  {
   "cell_type": "code",
   "execution_count": 9,
   "metadata": {},
   "outputs": [
    {
     "data": {
      "text/plain": [
       "['PTR']"
      ]
     },
     "execution_count": 9,
     "metadata": {},
     "output_type": "execute_result"
    }
   ],
   "source": [
    "df.iloc[0].Type_Debug\n",
    "df.iloc[0].TypeCategory_Debug\n",
    "\n",
    "type_seq = df.iloc[0].TypeSeq_Debug.split(',')  # list of str\n",
    "df.TypeSeq_Strip\n",
    "type_seq[:1]\n",
    "# TODO: collect TypeSeq_Debug, split that and encode each entry as the y label\n",
    "# --> probably should start with FIRST entry only to get end-to-end, then add in the sequence model output?"
   ]
  },
  {
   "cell_type": "code",
   "execution_count": 10,
   "metadata": {},
   "outputs": [
    {
     "data": {
      "text/plain": [
       "['ARR',\n",
       " 'ENUM',\n",
       " 'FUNC',\n",
       " 'PTR',\n",
       " 'STRUCT',\n",
       " 'UNION',\n",
       " '__int128_t',\n",
       " '__uint128_t',\n",
       " 'double',\n",
       " 'float',\n",
       " 'float10',\n",
       " 'int16_t',\n",
       " 'int32_t',\n",
       " 'int64_t',\n",
       " 'int8_t',\n",
       " 'long double',\n",
       " 'uint16_t',\n",
       " 'uint32_t',\n",
       " 'uint64_t',\n",
       " 'uint8_t']"
      ]
     },
     "execution_count": 10,
     "metadata": {},
     "output_type": "execute_result"
    }
   ],
   "source": [
    "from datatype_recovery.models.dataset.encoding import encode_typeseq, typeseq_name_to_id\n",
    "\n",
    "sorted(typeseq_name_to_id().keys())"
   ]
  },
  {
   "cell_type": "code",
   "execution_count": 11,
   "metadata": {},
   "outputs": [
    {
     "data": {
      "text/plain": [
       "tensor([[0, 0, 0, 0, 0, 0, 0, 0, 0, 0, 0, 0, 0, 0, 1, 0, 0, 0, 0, 0],\n",
       "        [0, 0, 0, 0, 0, 0, 0, 0, 0, 0, 0, 0, 0, 0, 0, 0, 1, 0, 0, 0]])"
      ]
     },
     "execution_count": 11,
     "metadata": {},
     "output_type": "execute_result"
    }
   ],
   "source": [
    "# F.one_hot() type_seq\n",
    "import torch\n",
    "from torch.nn import functional as F\n",
    "\n",
    "y = encode_typeseq(type_seq)\n",
    "y"
   ]
  },
  {
   "cell_type": "markdown",
   "metadata": {},
   "source": [
    "# One-hot encoding approach\n",
    "Ah... this is probably the best way to do this simply\n",
    "\n",
    "1. Put the set of possible keys in a **list** (e.g. `['A', 'B', 'C']`)\n",
    "2. Generate a dictionary mapping each key to its list index: `{name: i for i, name in enumerate(name_list)}`\n",
    "3. One-hot encode by converting names to ids, then `F.one_hot()`\n",
    "4. Decode by using `argmax(dim=1)` to convert the `1` to its index, then index into `name_list` directly to\n",
    "convert back to the original name (*since we used the indices as the ids we have that nice side effect*)"
   ]
  },
  {
   "cell_type": "code",
   "execution_count": 12,
   "metadata": {},
   "outputs": [
    {
     "name": "stdout",
     "output_type": "stream",
     "text": [
      "['PTR', 'STRUCT']\n",
      "tensor([[0, 0, 0, 0, 0, 0, 0, 0, 0, 0, 0, 0, 0, 0, 1, 0, 0, 0, 0, 0],\n",
      "        [0, 0, 0, 0, 0, 0, 0, 0, 0, 0, 0, 0, 0, 0, 0, 0, 1, 0, 0, 0]])\n"
     ]
    },
    {
     "data": {
      "text/plain": [
       "['PTR', 'STRUCT']"
      ]
     },
     "execution_count": 12,
     "metadata": {},
     "output_type": "execute_result"
    }
   ],
   "source": [
    "\n",
    "\n",
    "print(type_seq)\n",
    "print(encode_typeseq(type_seq))\n",
    "TypeSequence().decode(encode_typeseq(type_seq))"
   ]
  },
  {
   "cell_type": "code",
   "execution_count": 13,
   "metadata": {},
   "outputs": [
    {
     "data": {
      "text/plain": [
       "'DeclStmt'"
      ]
     },
     "execution_count": 13,
     "metadata": {},
     "output_type": "execute_result"
    }
   ],
   "source": [
    "from datatype_recovery.models.dataset.encoding import encode_astnode, decode_astnode\n",
    "\n",
    "x = encode_astnode(ast.inner[-1].inner[-1].inner[0])\n",
    "decode_astnode(x)"
   ]
  },
  {
   "cell_type": "code",
   "execution_count": 14,
   "metadata": {},
   "outputs": [
    {
     "data": {
      "text/plain": [
       "tensor([[0, 0, 0, 0, 0, 0, 0, 0, 0, 0, 0, 1, 0, 0, 0, 0, 0, 0, 0, 0, 0, 0, 0, 0,\n",
       "         0, 0, 0, 0, 0, 0, 0, 0, 0, 0, 0, 0, 0, 0, 0, 0, 0, 0, 0, 0, 0, 0, 0],\n",
       "        [0, 1, 0, 0, 0, 0, 0, 0, 0, 0, 0, 0, 0, 0, 0, 0, 0, 0, 0, 0, 0, 0, 0, 0,\n",
       "         0, 0, 0, 0, 0, 0, 0, 0, 0, 0, 0, 0, 0, 0, 0, 0, 0, 0, 0, 0, 0, 0, 0],\n",
       "        [0, 0, 0, 0, 0, 0, 0, 0, 0, 0, 0, 1, 0, 0, 0, 0, 0, 0, 0, 0, 0, 0, 0, 0,\n",
       "         0, 0, 0, 0, 0, 0, 0, 0, 0, 0, 0, 0, 0, 0, 0, 0, 0, 0, 0, 0, 0, 0, 0],\n",
       "        [0, 1, 0, 0, 0, 0, 0, 0, 0, 0, 0, 0, 0, 0, 0, 0, 0, 0, 0, 0, 0, 0, 0, 0,\n",
       "         0, 0, 0, 0, 0, 0, 0, 0, 0, 0, 0, 0, 0, 0, 0, 0, 0, 0, 0, 0, 0, 0, 0],\n",
       "        [0, 0, 0, 0, 0, 0, 0, 0, 0, 0, 0, 0, 0, 0, 0, 0, 0, 0, 0, 0, 1, 0, 0, 0,\n",
       "         0, 0, 0, 0, 0, 0, 0, 0, 0, 0, 0, 0, 0, 0, 0, 0, 0, 0, 0, 0, 0, 0, 0],\n",
       "        [0, 1, 0, 0, 0, 0, 0, 0, 0, 0, 0, 0, 0, 0, 0, 0, 0, 0, 0, 0, 0, 0, 0, 0,\n",
       "         0, 0, 0, 0, 0, 0, 0, 0, 0, 0, 0, 0, 0, 0, 0, 0, 0, 0, 0, 0, 0, 0, 0],\n",
       "        [0, 0, 0, 0, 0, 0, 0, 1, 0, 0, 0, 0, 0, 0, 0, 0, 0, 0, 0, 0, 0, 0, 0, 0,\n",
       "         0, 0, 0, 0, 0, 0, 0, 0, 0, 0, 0, 0, 0, 0, 0, 0, 0, 0, 0, 0, 0, 0, 0],\n",
       "        [0, 0, 0, 0, 0, 0, 0, 0, 0, 0, 1, 0, 0, 0, 0, 0, 0, 0, 0, 0, 0, 0, 0, 0,\n",
       "         0, 0, 0, 0, 0, 0, 0, 0, 0, 0, 0, 0, 0, 0, 0, 0, 0, 0, 0, 0, 0, 0, 0],\n",
       "        [0, 0, 0, 0, 0, 0, 0, 0, 0, 0, 0, 0, 0, 0, 0, 0, 0, 0, 0, 0, 0, 0, 0, 0,\n",
       "         0, 1, 0, 0, 0, 0, 0, 0, 0, 0, 0, 0, 0, 0, 0, 0, 0, 0, 0, 0, 0, 0, 0],\n",
       "        [0, 0, 0, 0, 0, 0, 0, 0, 0, 0, 1, 0, 0, 0, 0, 0, 0, 0, 0, 0, 0, 0, 0, 0,\n",
       "         0, 0, 0, 0, 0, 0, 0, 0, 0, 0, 0, 0, 0, 0, 0, 0, 0, 0, 0, 0, 0, 0, 0],\n",
       "        [0, 0, 0, 0, 0, 0, 0, 0, 0, 0, 0, 0, 0, 0, 0, 0, 0, 0, 0, 0, 0, 0, 0, 0,\n",
       "         0, 0, 0, 0, 0, 0, 0, 0, 0, 0, 0, 0, 0, 0, 0, 0, 0, 0, 1, 0, 0, 0, 0],\n",
       "        [1, 0, 0, 0, 0, 0, 0, 0, 0, 0, 0, 0, 0, 0, 0, 0, 0, 0, 0, 0, 0, 0, 0, 0,\n",
       "         0, 0, 0, 0, 0, 0, 0, 0, 0, 0, 0, 0, 0, 0, 0, 0, 0, 0, 0, 0, 0, 0, 0],\n",
       "        [0, 0, 0, 0, 0, 0, 0, 0, 0, 0, 1, 0, 0, 0, 0, 0, 0, 0, 0, 0, 0, 0, 0, 0,\n",
       "         0, 0, 0, 0, 0, 0, 0, 0, 0, 0, 0, 0, 0, 0, 0, 0, 0, 0, 0, 0, 0, 0, 0],\n",
       "        [0, 1, 0, 0, 0, 0, 0, 0, 0, 0, 0, 0, 0, 0, 0, 0, 0, 0, 0, 0, 0, 0, 0, 0,\n",
       "         0, 0, 0, 0, 0, 0, 0, 0, 0, 0, 0, 0, 0, 0, 0, 0, 0, 0, 0, 0, 0, 0, 0],\n",
       "        [0, 0, 0, 0, 0, 0, 0, 0, 0, 0, 0, 0, 0, 0, 0, 0, 0, 0, 0, 0, 0, 0, 0, 0,\n",
       "         0, 1, 0, 0, 0, 0, 0, 0, 0, 0, 0, 0, 0, 0, 0, 0, 0, 0, 0, 0, 0, 0, 0],\n",
       "        [0, 0, 0, 0, 1, 0, 0, 0, 0, 0, 0, 0, 0, 0, 0, 0, 0, 0, 0, 0, 0, 0, 0, 0,\n",
       "         0, 0, 0, 0, 0, 0, 0, 0, 0, 0, 0, 0, 0, 0, 0, 0, 0, 0, 0, 0, 0, 0, 0],\n",
       "        [0, 0, 0, 0, 0, 0, 0, 0, 0, 0, 0, 1, 0, 0, 0, 0, 0, 0, 0, 0, 0, 0, 0, 0,\n",
       "         0, 0, 0, 0, 0, 0, 0, 0, 0, 0, 0, 0, 0, 0, 0, 0, 0, 0, 0, 0, 0, 0, 0],\n",
       "        [0, 0, 0, 0, 0, 0, 0, 0, 0, 0, 0, 0, 0, 0, 0, 0, 0, 0, 0, 0, 0, 0, 0, 0,\n",
       "         0, 1, 0, 0, 0, 0, 0, 0, 0, 0, 0, 0, 0, 0, 0, 0, 0, 0, 0, 0, 0, 0, 0]])"
      ]
     },
     "execution_count": 14,
     "metadata": {},
     "output_type": "execute_result"
    }
   ],
   "source": [
    "from datatype_recovery.models.dataset import VariableGraphBuilder\n",
    "\n",
    "builder = VariableGraphBuilder(name_strip, ast, max_hops=3, sdb=slib)\n",
    "node_list, edge_index = builder.build()\n",
    "node_list"
   ]
  },
  {
   "cell_type": "code",
   "execution_count": 15,
   "metadata": {},
   "outputs": [
    {
     "ename": "FileNotFoundError",
     "evalue": "[Errno 2] No such file or directory: '/home/cls0027/test_builds/astera.exp/rundata/run1/0.fighter/ast_dumps/stripped/Func143603-FUN_00143603.json'",
     "output_type": "error",
     "traceback": [
      "\u001b[0;31m---------------------------------------------------------------------------\u001b[0m",
      "\u001b[0;31mFileNotFoundError\u001b[0m                         Traceback (most recent call last)",
      "Cell \u001b[0;32mIn[15], line 4\u001b[0m\n\u001b[1;32m      1\u001b[0m \u001b[38;5;28;01mimport\u001b[39;00m \u001b[38;5;21;01mastlib\u001b[39;00m\n\u001b[1;32m      2\u001b[0m \u001b[38;5;28;01mfrom\u001b[39;00m \u001b[38;5;21;01mastlib\u001b[39;00m\u001b[38;5;21;01m.\u001b[39;00m\u001b[38;5;21;01mcolor_ast\u001b[39;00m \u001b[38;5;28;01mimport\u001b[39;00m highlight_var_refs\n\u001b[0;32m----> 4\u001b[0m ast, slib \u001b[38;5;241m=\u001b[39m \u001b[43mastlib\u001b[49m\u001b[38;5;241;43m.\u001b[39;49m\u001b[43mjson_to_ast\u001b[49m\u001b[43m(\u001b[49m\u001b[43mast_json\u001b[49m\u001b[43m)\u001b[49m\n\u001b[1;32m      5\u001b[0m ast\u001b[38;5;241m.\u001b[39minner[\u001b[38;5;241m-\u001b[39m\u001b[38;5;241m1\u001b[39m]\u001b[38;5;241m.\u001b[39minner[\u001b[38;5;241m-\u001b[39m\u001b[38;5;241m1\u001b[39m]\u001b[38;5;241m.\u001b[39minner[\u001b[38;5;241m8\u001b[39m]\u001b[38;5;241m.\u001b[39minner[\u001b[38;5;241m0\u001b[39m]\u001b[38;5;241m.\u001b[39minner\n\u001b[1;32m      7\u001b[0m \u001b[38;5;66;03m# if node.kind == highlight_kind:\u001b[39;00m\n\u001b[1;32m      8\u001b[0m \u001b[38;5;66;03m#             attrs.font_color = highlight_color\u001b[39;00m\n\u001b[1;32m      9\u001b[0m \u001b[38;5;66;03m# def highlight_var(varname:str):\u001b[39;00m\n\u001b[0;32m   (...)\u001b[0m\n\u001b[1;32m     12\u001b[0m \u001b[38;5;66;03m#             attrs.font_color = 'red'\u001b[39;00m\n\u001b[1;32m     13\u001b[0m \u001b[38;5;66;03m#     return do_highlight\u001b[39;00m\n",
      "File \u001b[0;32m~/dev/astlib/src/astlib/ast.py:276\u001b[0m, in \u001b[0;36mjson_to_ast\u001b[0;34m(json_file)\u001b[0m\n\u001b[1;32m    275\u001b[0m \u001b[38;5;28;01mdef\u001b[39;00m \u001b[38;5;21mjson_to_ast\u001b[39m(json_file:Path):\n\u001b[0;32m--> 276\u001b[0m     \u001b[38;5;28;01mwith\u001b[39;00m \u001b[38;5;28;43mopen\u001b[39;49m\u001b[43m(\u001b[49m\u001b[43mjson_file\u001b[49m\u001b[43m)\u001b[49m \u001b[38;5;28;01mas\u001b[39;00m f:\n\u001b[1;32m    277\u001b[0m         data \u001b[38;5;241m=\u001b[39m json\u001b[38;5;241m.\u001b[39mload(f)\n\u001b[1;32m    278\u001b[0m     \u001b[38;5;28;01mreturn\u001b[39;00m dict_to_ast(data)\n",
      "\u001b[0;31mFileNotFoundError\u001b[0m: [Errno 2] No such file or directory: '/home/cls0027/test_builds/astera.exp/rundata/run1/0.fighter/ast_dumps/stripped/Func143603-FUN_00143603.json'"
     ]
    }
   ],
   "source": [
    "import astlib\n",
    "from astlib.color_ast import highlight_var_refs\n",
    "\n",
    "ast, slib = astlib.json_to_ast(ast_json)\n",
    "ast.inner[-1].inner[-1].inner[8].inner[0].inner\n",
    "\n",
    "# if node.kind == highlight_kind:\n",
    "#             attrs.font_color = highlight_color\n",
    "# def highlight_var(varname:str):\n",
    "#     def do_highlight(node, attrs):\n",
    "#         if node.kind == 'DeclRefExpr' and node.referencedDecl.name == varname:\n",
    "#             attrs.font_color = 'red'\n",
    "#     return do_highlight\n",
    "\n",
    "ast.render(format_node=highlight_var_refs('param_1'))"
   ]
  },
  {
   "cell_type": "code",
   "execution_count": null,
   "metadata": {},
   "outputs": [
    {
     "data": {
      "text/plain": [
       "[<astlib.find_all_references.Statement at 0x7f24cc8228e0>,\n",
       " <astlib.find_all_references.Statement at 0x7f24cc822940>,\n",
       " <astlib.find_all_references.Statement at 0x7f24cc822880>]"
      ]
     },
     "execution_count": 8,
     "metadata": {},
     "output_type": "execute_result"
    }
   ],
   "source": [
    "pvdecl = ast.inner[-1].inner[0]\n",
    "pvdecl.name\n",
    "\n",
    "fbody = ast.inner[-1].inner[-1]\n",
    "from astlib.find_all_references import *\n",
    "\n",
    "res = FindAllVarRefs('param_1').visit(fbody)\n",
    "# res[0].parent.parent.parent.parent.parent.parent\n",
    "statements = FindAllStatementsContainingVar('param_1').collect_statement_set(fbody)\n",
    "statements"
   ]
  },
  {
   "cell_type": "code",
   "execution_count": null,
   "metadata": {},
   "outputs": [
    {
     "data": {
      "image/svg+xml": [
       "<?xml version=\"1.0\" encoding=\"UTF-8\" standalone=\"no\"?>\n",
       "<!DOCTYPE svg PUBLIC \"-//W3C//DTD SVG 1.1//EN\"\n",
       " \"http://www.w3.org/Graphics/SVG/1.1/DTD/svg11.dtd\">\n",
       "<!-- Generated by graphviz version 2.43.0 (0)\n",
       " -->\n",
       "<!-- Title: BinaryOperator_AST Pages: 1 -->\n",
       "<svg width=\"352pt\" height=\"560pt\"\n",
       " viewBox=\"0.00 0.00 351.50 560.00\" xmlns=\"http://www.w3.org/2000/svg\" xmlns:xlink=\"http://www.w3.org/1999/xlink\">\n",
       "<g id=\"graph0\" class=\"graph\" transform=\"scale(1 1) rotate(0) translate(4 556)\">\n",
       "<title>BinaryOperator_AST</title>\n",
       "<polygon fill=\"white\" stroke=\"transparent\" points=\"-4,4 -4,-556 347.5,-556 347.5,4 -4,4\"/>\n",
       "<!-- 0 -->\n",
       "<g id=\"node1\" class=\"node\">\n",
       "<title>0</title>\n",
       "<polygon fill=\"none\" stroke=\"black\" points=\"71.5,-527 71.5,-548 193.5,-548 193.5,-527 71.5,-527\"/>\n",
       "<text text-anchor=\"start\" x=\"74.5\" y=\"-534.8\" font-family=\"Cascadia Code\" font-weight=\"bold\" font-size=\"14.00\">BinaryOperator</text>\n",
       "<polygon fill=\"none\" stroke=\"black\" points=\"71.5,-506 71.5,-527 193.5,-527 193.5,-506 71.5,-506\"/>\n",
       "<text text-anchor=\"start\" x=\"128\" y=\"-512.8\" font-family=\"Cascadia Code\" font-size=\"14.00\">=</text>\n",
       "</g>\n",
       "<!-- 1 -->\n",
       "<g id=\"node2\" class=\"node\">\n",
       "<title>1</title>\n",
       "<polygon fill=\"none\" stroke=\"black\" points=\"12.5,-441 12.5,-462 109.5,-462 109.5,-441 12.5,-441\"/>\n",
       "<text text-anchor=\"start\" x=\"15.5\" y=\"-448.8\" font-family=\"Cascadia Code\" font-weight=\"bold\" font-size=\"14.00\">DeclRefExpr</text>\n",
       "<polygon fill=\"none\" stroke=\"black\" points=\"12.5,-420 12.5,-441 109.5,-441 109.5,-420 12.5,-420\"/>\n",
       "<text text-anchor=\"start\" x=\"40\" y=\"-426.8\" font-family=\"Cascadia Code\" font-size=\"14.00\">fVar1</text>\n",
       "</g>\n",
       "<!-- 1&#45;&#45;0 -->\n",
       "<g id=\"edge1\" class=\"edge\">\n",
       "<title>1&#45;&#45;0</title>\n",
       "<path fill=\"none\" stroke=\"black\" d=\"M81.33,-466.3C90.88,-477.44 102.17,-490.62 111.72,-501.76\"/>\n",
       "</g>\n",
       "<!-- 2 -->\n",
       "<g id=\"node3\" class=\"node\">\n",
       "<title>2</title>\n",
       "<polygon fill=\"none\" stroke=\"black\" points=\"143.5,-441 143.5,-462 265.5,-462 265.5,-441 143.5,-441\"/>\n",
       "<text text-anchor=\"start\" x=\"146.5\" y=\"-448.8\" font-family=\"Cascadia Code\" font-weight=\"bold\" font-size=\"14.00\">BinaryOperator</text>\n",
       "<polygon fill=\"none\" stroke=\"black\" points=\"143.5,-420 143.5,-441 265.5,-441 265.5,-420 143.5,-420\"/>\n",
       "<text text-anchor=\"start\" x=\"200\" y=\"-426.8\" font-family=\"Cascadia Code\" font-size=\"14.00\">&#45;</text>\n",
       "</g>\n",
       "<!-- 2&#45;&#45;0 -->\n",
       "<g id=\"edge2\" class=\"edge\">\n",
       "<title>2&#45;&#45;0</title>\n",
       "<path fill=\"none\" stroke=\"black\" d=\"M183.67,-466.3C174.12,-477.44 162.83,-490.62 153.28,-501.76\"/>\n",
       "</g>\n",
       "<!-- 3 -->\n",
       "<g id=\"node4\" class=\"node\">\n",
       "<title>3</title>\n",
       "<polygon fill=\"none\" stroke=\"black\" points=\"73.5,-355 73.5,-376 187.5,-376 187.5,-355 73.5,-355\"/>\n",
       "<text text-anchor=\"start\" x=\"76.5\" y=\"-362.8\" font-family=\"Cascadia Code\" font-weight=\"bold\" font-size=\"14.00\">UnaryOperator</text>\n",
       "<polygon fill=\"none\" stroke=\"black\" points=\"73.5,-334 73.5,-355 187.5,-355 187.5,-334 73.5,-334\"/>\n",
       "<text text-anchor=\"start\" x=\"126\" y=\"-340.8\" font-family=\"Cascadia Code\" font-size=\"14.00\">*</text>\n",
       "</g>\n",
       "<!-- 3&#45;&#45;2 -->\n",
       "<g id=\"edge3\" class=\"edge\">\n",
       "<title>3&#45;&#45;2</title>\n",
       "<path fill=\"none\" stroke=\"black\" d=\"M151.9,-380.3C161.72,-391.44 173.33,-404.62 183.14,-415.76\"/>\n",
       "</g>\n",
       "<!-- 4 -->\n",
       "<g id=\"node5\" class=\"node\">\n",
       "<title>4</title>\n",
       "<polygon fill=\"none\" stroke=\"black\" points=\"69.5,-269 69.5,-290 191.5,-290 191.5,-269 69.5,-269\"/>\n",
       "<text text-anchor=\"start\" x=\"72.5\" y=\"-276.8\" font-family=\"Cascadia Code\" font-weight=\"bold\" font-size=\"14.00\">CStyleCastExpr</text>\n",
       "<polygon fill=\"none\" stroke=\"black\" points=\"69.5,-248 69.5,-269 191.5,-269 191.5,-248 69.5,-248\"/>\n",
       "<text text-anchor=\"start\" x=\"105.5\" y=\"-254.8\" font-family=\"Cascadia Code\" font-size=\"14.00\">float*</text>\n",
       "</g>\n",
       "<!-- 4&#45;&#45;3 -->\n",
       "<g id=\"edge4\" class=\"edge\">\n",
       "<title>4&#45;&#45;3</title>\n",
       "<path fill=\"none\" stroke=\"black\" d=\"M130.5,-294.3C130.5,-305.44 130.5,-318.62 130.5,-329.76\"/>\n",
       "</g>\n",
       "<!-- 5 -->\n",
       "<g id=\"node6\" class=\"node\">\n",
       "<title>5</title>\n",
       "<polygon fill=\"none\" stroke=\"black\" points=\"90.5,-182 90.5,-203 171.5,-203 171.5,-182 90.5,-182\"/>\n",
       "<text text-anchor=\"start\" x=\"93.5\" y=\"-189.8\" font-family=\"Cascadia Code\" font-weight=\"bold\" font-size=\"14.00\">ParenExpr</text>\n",
       "<polygon fill=\"none\" stroke=\"black\" points=\"90.5,-176 90.5,-182 171.5,-182 171.5,-176 90.5,-176\"/>\n",
       "</g>\n",
       "<!-- 5&#45;&#45;4 -->\n",
       "<g id=\"edge5\" class=\"edge\">\n",
       "<title>5&#45;&#45;4</title>\n",
       "<path fill=\"none\" stroke=\"black\" d=\"M130.5,-208.09C130.5,-218.63 130.5,-232.32 130.5,-243.95\"/>\n",
       "</g>\n",
       "<!-- 6 -->\n",
       "<g id=\"node7\" class=\"node\">\n",
       "<title>6</title>\n",
       "<polygon fill=\"none\" stroke=\"black\" points=\"69.5,-111 69.5,-132 191.5,-132 191.5,-111 69.5,-111\"/>\n",
       "<text text-anchor=\"start\" x=\"72.5\" y=\"-118.8\" font-family=\"Cascadia Code\" font-weight=\"bold\" font-size=\"14.00\">BinaryOperator</text>\n",
       "<polygon fill=\"none\" stroke=\"black\" points=\"69.5,-90 69.5,-111 191.5,-111 191.5,-90 69.5,-90\"/>\n",
       "<text text-anchor=\"start\" x=\"126\" y=\"-96.8\" font-family=\"Cascadia Code\" font-size=\"14.00\">+</text>\n",
       "</g>\n",
       "<!-- 6&#45;&#45;5 -->\n",
       "<g id=\"edge6\" class=\"edge\">\n",
       "<title>6&#45;&#45;5</title>\n",
       "<path fill=\"none\" stroke=\"black\" d=\"M130.5,-136.36C130.5,-147.82 130.5,-161.21 130.5,-171.62\"/>\n",
       "</g>\n",
       "<!-- 7 -->\n",
       "<g id=\"node8\" class=\"node\">\n",
       "<title>7</title>\n",
       "<polygon fill=\"none\" stroke=\"black\" points=\"8.5,-25 8.5,-46 105.5,-46 105.5,-25 8.5,-25\"/>\n",
       "<text text-anchor=\"start\" x=\"11.5\" y=\"-32.8\" font-family=\"Cascadia Code\" font-weight=\"bold\" font-size=\"14.00\" fill=\"red\">DeclRefExpr</text>\n",
       "<polygon fill=\"none\" stroke=\"black\" points=\"8.5,-4 8.5,-25 105.5,-25 105.5,-4 8.5,-4\"/>\n",
       "<text text-anchor=\"start\" x=\"28\" y=\"-10.8\" font-family=\"Cascadia Code\" font-size=\"14.00\" fill=\"red\">param_1</text>\n",
       "</g>\n",
       "<!-- 7&#45;&#45;6 -->\n",
       "<g id=\"edge7\" class=\"edge\">\n",
       "<title>7&#45;&#45;6</title>\n",
       "<path fill=\"none\" stroke=\"black\" d=\"M77.9,-50.3C87.72,-61.44 99.33,-74.62 109.14,-85.76\"/>\n",
       "</g>\n",
       "<!-- 8 -->\n",
       "<g id=\"node9\" class=\"node\">\n",
       "<title>8</title>\n",
       "<polygon fill=\"none\" stroke=\"black\" points=\"139.5,-25 139.5,-46 269.5,-46 269.5,-25 139.5,-25\"/>\n",
       "<text text-anchor=\"start\" x=\"146.5\" y=\"-32.8\" font-family=\"Cascadia Code\" font-weight=\"bold\" font-size=\"14.00\">IntegerLiteral</text>\n",
       "<polygon fill=\"none\" stroke=\"black\" points=\"139.5,-4 139.5,-25 269.5,-25 269.5,-4 139.5,-4\"/>\n",
       "<text text-anchor=\"start\" x=\"142.5\" y=\"-10.8\" font-family=\"Cascadia Code\" font-size=\"14.00\">0x1c @ 0x14361b</text>\n",
       "</g>\n",
       "<!-- 8&#45;&#45;6 -->\n",
       "<g id=\"edge8\" class=\"edge\">\n",
       "<title>8&#45;&#45;6</title>\n",
       "<path fill=\"none\" stroke=\"black\" d=\"M183.1,-50.3C173.28,-61.44 161.67,-74.62 151.86,-85.76\"/>\n",
       "</g>\n",
       "<!-- 9 -->\n",
       "<g id=\"node10\" class=\"node\">\n",
       "<title>9</title>\n",
       "<polygon fill=\"none\" stroke=\"black\" points=\"221.5,-355 221.5,-376 335.5,-376 335.5,-355 221.5,-355\"/>\n",
       "<text text-anchor=\"start\" x=\"224.5\" y=\"-362.8\" font-family=\"Cascadia Code\" font-weight=\"bold\" font-size=\"14.00\">UnaryOperator</text>\n",
       "<polygon fill=\"none\" stroke=\"black\" points=\"221.5,-334 221.5,-355 335.5,-355 335.5,-334 221.5,-334\"/>\n",
       "<text text-anchor=\"start\" x=\"274\" y=\"-340.8\" font-family=\"Cascadia Code\" font-size=\"14.00\">*</text>\n",
       "</g>\n",
       "<!-- 9&#45;&#45;2 -->\n",
       "<g id=\"edge9\" class=\"edge\">\n",
       "<title>9&#45;&#45;2</title>\n",
       "<path fill=\"none\" stroke=\"black\" d=\"M257.1,-380.3C247.28,-391.44 235.67,-404.62 225.86,-415.76\"/>\n",
       "</g>\n",
       "<!-- 10 -->\n",
       "<g id=\"node11\" class=\"node\">\n",
       "<title>10</title>\n",
       "<polygon fill=\"none\" stroke=\"black\" points=\"230.5,-269 230.5,-290 327.5,-290 327.5,-269 230.5,-269\"/>\n",
       "<text text-anchor=\"start\" x=\"233.5\" y=\"-276.8\" font-family=\"Cascadia Code\" font-weight=\"bold\" font-size=\"14.00\">DeclRefExpr</text>\n",
       "<polygon fill=\"none\" stroke=\"black\" points=\"230.5,-248 230.5,-269 327.5,-269 327.5,-248 230.5,-248\"/>\n",
       "<text text-anchor=\"start\" x=\"250\" y=\"-254.8\" font-family=\"Cascadia Code\" font-size=\"14.00\">param_2</text>\n",
       "</g>\n",
       "<!-- 10&#45;&#45;9 -->\n",
       "<g id=\"edge10\" class=\"edge\">\n",
       "<title>10&#45;&#45;9</title>\n",
       "<path fill=\"none\" stroke=\"black\" d=\"M278.5,-294.3C278.5,-305.44 278.5,-318.62 278.5,-329.76\"/>\n",
       "</g>\n",
       "</g>\n",
       "</svg>\n"
      ],
      "text/plain": [
       "<graphviz.graphs.Graph at 0x7f2624cc3a90>"
      ]
     },
     "metadata": {},
     "output_type": "display_data"
    },
    {
     "data": {
      "image/svg+xml": [
       "<?xml version=\"1.0\" encoding=\"UTF-8\" standalone=\"no\"?>\n",
       "<!DOCTYPE svg PUBLIC \"-//W3C//DTD SVG 1.1//EN\"\n",
       " \"http://www.w3.org/Graphics/SVG/1.1/DTD/svg11.dtd\">\n",
       "<!-- Generated by graphviz version 2.43.0 (0)\n",
       " -->\n",
       "<!-- Title: BinaryOperator_AST Pages: 1 -->\n",
       "<svg width=\"426pt\" height=\"560pt\"\n",
       " viewBox=\"0.00 0.00 425.50 560.00\" xmlns=\"http://www.w3.org/2000/svg\" xmlns:xlink=\"http://www.w3.org/1999/xlink\">\n",
       "<g id=\"graph0\" class=\"graph\" transform=\"scale(1 1) rotate(0) translate(4 556)\">\n",
       "<title>BinaryOperator_AST</title>\n",
       "<polygon fill=\"white\" stroke=\"transparent\" points=\"-4,4 -4,-556 421.5,-556 421.5,4 -4,4\"/>\n",
       "<!-- 0 -->\n",
       "<g id=\"node1\" class=\"node\">\n",
       "<title>0</title>\n",
       "<polygon fill=\"none\" stroke=\"black\" points=\"67.5,-527 67.5,-548 189.5,-548 189.5,-527 67.5,-527\"/>\n",
       "<text text-anchor=\"start\" x=\"70.5\" y=\"-534.8\" font-family=\"Cascadia Code\" font-weight=\"bold\" font-size=\"14.00\">BinaryOperator</text>\n",
       "<polygon fill=\"none\" stroke=\"black\" points=\"67.5,-506 67.5,-527 189.5,-527 189.5,-506 67.5,-506\"/>\n",
       "<text text-anchor=\"start\" x=\"124\" y=\"-512.8\" font-family=\"Cascadia Code\" font-size=\"14.00\">=</text>\n",
       "</g>\n",
       "<!-- 1 -->\n",
       "<g id=\"node2\" class=\"node\">\n",
       "<title>1</title>\n",
       "<polygon fill=\"none\" stroke=\"black\" points=\"8.5,-441 8.5,-462 105.5,-462 105.5,-441 8.5,-441\"/>\n",
       "<text text-anchor=\"start\" x=\"11.5\" y=\"-448.8\" font-family=\"Cascadia Code\" font-weight=\"bold\" font-size=\"14.00\">DeclRefExpr</text>\n",
       "<polygon fill=\"none\" stroke=\"black\" points=\"8.5,-420 8.5,-441 105.5,-441 105.5,-420 8.5,-420\"/>\n",
       "<text text-anchor=\"start\" x=\"36\" y=\"-426.8\" font-family=\"Cascadia Code\" font-size=\"14.00\">fVar2</text>\n",
       "</g>\n",
       "<!-- 1&#45;&#45;0 -->\n",
       "<g id=\"edge1\" class=\"edge\">\n",
       "<title>1&#45;&#45;0</title>\n",
       "<path fill=\"none\" stroke=\"black\" d=\"M77.33,-466.3C86.88,-477.44 98.17,-490.62 107.72,-501.76\"/>\n",
       "</g>\n",
       "<!-- 2 -->\n",
       "<g id=\"node3\" class=\"node\">\n",
       "<title>2</title>\n",
       "<polygon fill=\"none\" stroke=\"black\" points=\"139.5,-441 139.5,-462 261.5,-462 261.5,-441 139.5,-441\"/>\n",
       "<text text-anchor=\"start\" x=\"142.5\" y=\"-448.8\" font-family=\"Cascadia Code\" font-weight=\"bold\" font-size=\"14.00\">BinaryOperator</text>\n",
       "<polygon fill=\"none\" stroke=\"black\" points=\"139.5,-420 139.5,-441 261.5,-441 261.5,-420 139.5,-420\"/>\n",
       "<text text-anchor=\"start\" x=\"196\" y=\"-426.8\" font-family=\"Cascadia Code\" font-size=\"14.00\">/</text>\n",
       "</g>\n",
       "<!-- 2&#45;&#45;0 -->\n",
       "<g id=\"edge2\" class=\"edge\">\n",
       "<title>2&#45;&#45;0</title>\n",
       "<path fill=\"none\" stroke=\"black\" d=\"M179.67,-466.3C170.12,-477.44 158.83,-490.62 149.28,-501.76\"/>\n",
       "</g>\n",
       "<!-- 3 -->\n",
       "<g id=\"node4\" class=\"node\">\n",
       "<title>3</title>\n",
       "<polygon fill=\"none\" stroke=\"black\" points=\"82.5,-355 82.5,-376 179.5,-376 179.5,-355 82.5,-355\"/>\n",
       "<text text-anchor=\"start\" x=\"85.5\" y=\"-362.8\" font-family=\"Cascadia Code\" font-weight=\"bold\" font-size=\"14.00\">DeclRefExpr</text>\n",
       "<polygon fill=\"none\" stroke=\"black\" points=\"82.5,-334 82.5,-355 179.5,-355 179.5,-334 82.5,-334\"/>\n",
       "<text text-anchor=\"start\" x=\"110\" y=\"-340.8\" font-family=\"Cascadia Code\" font-size=\"14.00\">fVar1</text>\n",
       "</g>\n",
       "<!-- 3&#45;&#45;2 -->\n",
       "<g id=\"edge3\" class=\"edge\">\n",
       "<title>3&#45;&#45;2</title>\n",
       "<path fill=\"none\" stroke=\"black\" d=\"M150.75,-380.3C160.03,-391.44 171.02,-404.62 180.3,-415.76\"/>\n",
       "</g>\n",
       "<!-- 4 -->\n",
       "<g id=\"node5\" class=\"node\">\n",
       "<title>4</title>\n",
       "<polygon fill=\"none\" stroke=\"black\" points=\"213.5,-355 213.5,-376 327.5,-376 327.5,-355 213.5,-355\"/>\n",
       "<text text-anchor=\"start\" x=\"216.5\" y=\"-362.8\" font-family=\"Cascadia Code\" font-weight=\"bold\" font-size=\"14.00\">UnaryOperator</text>\n",
       "<polygon fill=\"none\" stroke=\"black\" points=\"213.5,-334 213.5,-355 327.5,-355 327.5,-334 213.5,-334\"/>\n",
       "<text text-anchor=\"start\" x=\"266\" y=\"-340.8\" font-family=\"Cascadia Code\" font-size=\"14.00\">*</text>\n",
       "</g>\n",
       "<!-- 4&#45;&#45;2 -->\n",
       "<g id=\"edge4\" class=\"edge\">\n",
       "<title>4&#45;&#45;2</title>\n",
       "<path fill=\"none\" stroke=\"black\" d=\"M250.25,-380.3C240.97,-391.44 229.98,-404.62 220.7,-415.76\"/>\n",
       "</g>\n",
       "<!-- 5 -->\n",
       "<g id=\"node6\" class=\"node\">\n",
       "<title>5</title>\n",
       "<polygon fill=\"none\" stroke=\"black\" points=\"209.5,-269 209.5,-290 331.5,-290 331.5,-269 209.5,-269\"/>\n",
       "<text text-anchor=\"start\" x=\"212.5\" y=\"-276.8\" font-family=\"Cascadia Code\" font-weight=\"bold\" font-size=\"14.00\">CStyleCastExpr</text>\n",
       "<polygon fill=\"none\" stroke=\"black\" points=\"209.5,-248 209.5,-269 331.5,-269 331.5,-248 209.5,-248\"/>\n",
       "<text text-anchor=\"start\" x=\"245.5\" y=\"-254.8\" font-family=\"Cascadia Code\" font-size=\"14.00\">float*</text>\n",
       "</g>\n",
       "<!-- 5&#45;&#45;4 -->\n",
       "<g id=\"edge5\" class=\"edge\">\n",
       "<title>5&#45;&#45;4</title>\n",
       "<path fill=\"none\" stroke=\"black\" d=\"M270.5,-294.3C270.5,-305.44 270.5,-318.62 270.5,-329.76\"/>\n",
       "</g>\n",
       "<!-- 6 -->\n",
       "<g id=\"node7\" class=\"node\">\n",
       "<title>6</title>\n",
       "<polygon fill=\"none\" stroke=\"black\" points=\"230.5,-182 230.5,-203 311.5,-203 311.5,-182 230.5,-182\"/>\n",
       "<text text-anchor=\"start\" x=\"233.5\" y=\"-189.8\" font-family=\"Cascadia Code\" font-weight=\"bold\" font-size=\"14.00\">ParenExpr</text>\n",
       "<polygon fill=\"none\" stroke=\"black\" points=\"230.5,-176 230.5,-182 311.5,-182 311.5,-176 230.5,-176\"/>\n",
       "</g>\n",
       "<!-- 6&#45;&#45;5 -->\n",
       "<g id=\"edge6\" class=\"edge\">\n",
       "<title>6&#45;&#45;5</title>\n",
       "<path fill=\"none\" stroke=\"black\" d=\"M270.5,-208.09C270.5,-218.63 270.5,-232.32 270.5,-243.95\"/>\n",
       "</g>\n",
       "<!-- 7 -->\n",
       "<g id=\"node8\" class=\"node\">\n",
       "<title>7</title>\n",
       "<polygon fill=\"none\" stroke=\"black\" points=\"209.5,-111 209.5,-132 331.5,-132 331.5,-111 209.5,-111\"/>\n",
       "<text text-anchor=\"start\" x=\"212.5\" y=\"-118.8\" font-family=\"Cascadia Code\" font-weight=\"bold\" font-size=\"14.00\">BinaryOperator</text>\n",
       "<polygon fill=\"none\" stroke=\"black\" points=\"209.5,-90 209.5,-111 331.5,-111 331.5,-90 209.5,-90\"/>\n",
       "<text text-anchor=\"start\" x=\"266\" y=\"-96.8\" font-family=\"Cascadia Code\" font-size=\"14.00\">+</text>\n",
       "</g>\n",
       "<!-- 7&#45;&#45;6 -->\n",
       "<g id=\"edge7\" class=\"edge\">\n",
       "<title>7&#45;&#45;6</title>\n",
       "<path fill=\"none\" stroke=\"black\" d=\"M270.5,-136.36C270.5,-147.82 270.5,-161.21 270.5,-171.62\"/>\n",
       "</g>\n",
       "<!-- 8 -->\n",
       "<g id=\"node9\" class=\"node\">\n",
       "<title>8</title>\n",
       "<polygon fill=\"none\" stroke=\"black\" points=\"148.5,-25 148.5,-46 245.5,-46 245.5,-25 148.5,-25\"/>\n",
       "<text text-anchor=\"start\" x=\"151.5\" y=\"-32.8\" font-family=\"Cascadia Code\" font-weight=\"bold\" font-size=\"14.00\" fill=\"red\">DeclRefExpr</text>\n",
       "<polygon fill=\"none\" stroke=\"black\" points=\"148.5,-4 148.5,-25 245.5,-25 245.5,-4 148.5,-4\"/>\n",
       "<text text-anchor=\"start\" x=\"168\" y=\"-10.8\" font-family=\"Cascadia Code\" font-size=\"14.00\" fill=\"red\">param_1</text>\n",
       "</g>\n",
       "<!-- 8&#45;&#45;7 -->\n",
       "<g id=\"edge8\" class=\"edge\">\n",
       "<title>8&#45;&#45;7</title>\n",
       "<path fill=\"none\" stroke=\"black\" d=\"M217.9,-50.3C227.72,-61.44 239.33,-74.62 249.14,-85.76\"/>\n",
       "</g>\n",
       "<!-- 9 -->\n",
       "<g id=\"node10\" class=\"node\">\n",
       "<title>9</title>\n",
       "<polygon fill=\"none\" stroke=\"black\" points=\"279.5,-25 279.5,-46 409.5,-46 409.5,-25 279.5,-25\"/>\n",
       "<text text-anchor=\"start\" x=\"286.5\" y=\"-32.8\" font-family=\"Cascadia Code\" font-weight=\"bold\" font-size=\"14.00\">IntegerLiteral</text>\n",
       "<polygon fill=\"none\" stroke=\"black\" points=\"279.5,-4 279.5,-25 409.5,-25 409.5,-4 279.5,-4\"/>\n",
       "<text text-anchor=\"start\" x=\"282.5\" y=\"-10.8\" font-family=\"Cascadia Code\" font-size=\"14.00\">0x1c @ 0x143635</text>\n",
       "</g>\n",
       "<!-- 9&#45;&#45;7 -->\n",
       "<g id=\"edge9\" class=\"edge\">\n",
       "<title>9&#45;&#45;7</title>\n",
       "<path fill=\"none\" stroke=\"black\" d=\"M323.1,-50.3C313.28,-61.44 301.67,-74.62 291.86,-85.76\"/>\n",
       "</g>\n",
       "</g>\n",
       "</svg>\n"
      ],
      "text/plain": [
       "<graphviz.graphs.Graph at 0x7f2624b79a30>"
      ]
     },
     "metadata": {},
     "output_type": "display_data"
    },
    {
     "data": {
      "image/svg+xml": [
       "<?xml version=\"1.0\" encoding=\"UTF-8\" standalone=\"no\"?>\n",
       "<!DOCTYPE svg PUBLIC \"-//W3C//DTD SVG 1.1//EN\"\n",
       " \"http://www.w3.org/Graphics/SVG/1.1/DTD/svg11.dtd\">\n",
       "<!-- Generated by graphviz version 2.43.0 (0)\n",
       " -->\n",
       "<!-- Title: BinaryOperator_AST Pages: 1 -->\n",
       "<svg width=\"418pt\" height=\"402pt\"\n",
       " viewBox=\"0.00 0.00 417.50 402.00\" xmlns=\"http://www.w3.org/2000/svg\" xmlns:xlink=\"http://www.w3.org/1999/xlink\">\n",
       "<g id=\"graph0\" class=\"graph\" transform=\"scale(1 1) rotate(0) translate(4 398)\">\n",
       "<title>BinaryOperator_AST</title>\n",
       "<polygon fill=\"white\" stroke=\"transparent\" points=\"-4,4 -4,-398 413.5,-398 413.5,4 -4,4\"/>\n",
       "<!-- 0 -->\n",
       "<g id=\"node1\" class=\"node\">\n",
       "<title>0</title>\n",
       "<polygon fill=\"none\" stroke=\"black\" points=\"76,-369 76,-390 198,-390 198,-369 76,-369\"/>\n",
       "<text text-anchor=\"start\" x=\"79\" y=\"-376.8\" font-family=\"Cascadia Code\" font-weight=\"bold\" font-size=\"14.00\">BinaryOperator</text>\n",
       "<polygon fill=\"none\" stroke=\"black\" points=\"76,-348 76,-369 198,-369 198,-348 76,-348\"/>\n",
       "<text text-anchor=\"start\" x=\"132.5\" y=\"-354.8\" font-family=\"Cascadia Code\" font-size=\"14.00\">=</text>\n",
       "</g>\n",
       "<!-- 1 -->\n",
       "<g id=\"node2\" class=\"node\">\n",
       "<title>1</title>\n",
       "<polygon fill=\"none\" stroke=\"black\" points=\"17,-283 17,-304 114,-304 114,-283 17,-283\"/>\n",
       "<text text-anchor=\"start\" x=\"20\" y=\"-290.8\" font-family=\"Cascadia Code\" font-weight=\"bold\" font-size=\"14.00\">DeclRefExpr</text>\n",
       "<polygon fill=\"none\" stroke=\"black\" points=\"17,-262 17,-283 114,-283 114,-262 17,-262\"/>\n",
       "<text text-anchor=\"start\" x=\"44.5\" y=\"-268.8\" font-family=\"Cascadia Code\" font-size=\"14.00\">fVar1</text>\n",
       "</g>\n",
       "<!-- 1&#45;&#45;0 -->\n",
       "<g id=\"edge1\" class=\"edge\">\n",
       "<title>1&#45;&#45;0</title>\n",
       "<path fill=\"none\" stroke=\"black\" d=\"M85.83,-308.3C95.38,-319.44 106.67,-332.62 116.22,-343.76\"/>\n",
       "</g>\n",
       "<!-- 2 -->\n",
       "<g id=\"node3\" class=\"node\">\n",
       "<title>2</title>\n",
       "<polygon fill=\"none\" stroke=\"black\" points=\"148,-283 148,-304 270,-304 270,-283 148,-283\"/>\n",
       "<text text-anchor=\"start\" x=\"151\" y=\"-290.8\" font-family=\"Cascadia Code\" font-weight=\"bold\" font-size=\"14.00\">CStyleCastExpr</text>\n",
       "<polygon fill=\"none\" stroke=\"black\" points=\"148,-262 148,-283 270,-283 270,-262 148,-262\"/>\n",
       "<text text-anchor=\"start\" x=\"188\" y=\"-268.8\" font-family=\"Cascadia Code\" font-size=\"14.00\">float</text>\n",
       "</g>\n",
       "<!-- 2&#45;&#45;0 -->\n",
       "<g id=\"edge2\" class=\"edge\">\n",
       "<title>2&#45;&#45;0</title>\n",
       "<path fill=\"none\" stroke=\"black\" d=\"M188.17,-308.3C178.62,-319.44 167.33,-332.62 157.78,-343.76\"/>\n",
       "</g>\n",
       "<!-- 3 -->\n",
       "<g id=\"node4\" class=\"node\">\n",
       "<title>3</title>\n",
       "<polygon fill=\"none\" stroke=\"black\" points=\"136,-197 136,-218 283,-218 283,-197 136,-197\"/>\n",
       "<text text-anchor=\"start\" x=\"176\" y=\"-204.8\" font-family=\"Cascadia Code\" font-weight=\"bold\" font-size=\"14.00\">CallExpr</text>\n",
       "<polygon fill=\"none\" stroke=\"black\" points=\"136,-176 136,-197 283,-197 283,-176 136,-176\"/>\n",
       "<text text-anchor=\"start\" x=\"139\" y=\"-182.8\" font-family=\"Cascadia Code\" font-size=\"14.00\">caller @ 0x143654</text>\n",
       "</g>\n",
       "<!-- 3&#45;&#45;2 -->\n",
       "<g id=\"edge3\" class=\"edge\">\n",
       "<title>3&#45;&#45;2</title>\n",
       "<path fill=\"none\" stroke=\"black\" d=\"M209,-222.3C209,-233.44 209,-246.62 209,-257.76\"/>\n",
       "</g>\n",
       "<!-- 4 -->\n",
       "<g id=\"node5\" class=\"node\">\n",
       "<title>4</title>\n",
       "<polygon fill=\"none\" stroke=\"black\" points=\"8,-111 8,-132 114,-132 114,-111 8,-111\"/>\n",
       "<text text-anchor=\"start\" x=\"15.5\" y=\"-118.8\" font-family=\"Cascadia Code\" font-weight=\"bold\" font-size=\"14.00\">DeclRefExpr</text>\n",
       "<polygon fill=\"none\" stroke=\"black\" points=\"8,-90 8,-111 114,-111 114,-90 8,-90\"/>\n",
       "<text text-anchor=\"start\" x=\"11\" y=\"-96.8\" font-family=\"Cascadia Code\" font-size=\"14.00\">FUN_00194d40</text>\n",
       "</g>\n",
       "<!-- 4&#45;&#45;3 -->\n",
       "<g id=\"edge4\" class=\"edge\">\n",
       "<title>4&#45;&#45;3</title>\n",
       "<path fill=\"none\" stroke=\"black\" d=\"M103.41,-136.07C123.23,-147.32 146.77,-160.68 166.58,-171.93\"/>\n",
       "</g>\n",
       "<!-- 5 -->\n",
       "<g id=\"node6\" class=\"node\">\n",
       "<title>5</title>\n",
       "<polygon fill=\"none\" stroke=\"black\" points=\"148,-111 148,-132 270,-132 270,-111 148,-111\"/>\n",
       "<text text-anchor=\"start\" x=\"151\" y=\"-118.8\" font-family=\"Cascadia Code\" font-weight=\"bold\" font-size=\"14.00\">CStyleCastExpr</text>\n",
       "<polygon fill=\"none\" stroke=\"black\" points=\"148,-90 148,-111 270,-111 270,-90 148,-90\"/>\n",
       "<text text-anchor=\"start\" x=\"184\" y=\"-96.8\" font-family=\"Cascadia Code\" font-size=\"14.00\">double</text>\n",
       "</g>\n",
       "<!-- 5&#45;&#45;3 -->\n",
       "<g id=\"edge5\" class=\"edge\">\n",
       "<title>5&#45;&#45;3</title>\n",
       "<path fill=\"none\" stroke=\"black\" d=\"M209,-136.3C209,-147.44 209,-160.62 209,-171.76\"/>\n",
       "</g>\n",
       "<!-- 6 -->\n",
       "<g id=\"node7\" class=\"node\">\n",
       "<title>6</title>\n",
       "<polygon fill=\"none\" stroke=\"black\" points=\"161,-25 161,-46 258,-46 258,-25 161,-25\"/>\n",
       "<text text-anchor=\"start\" x=\"164\" y=\"-32.8\" font-family=\"Cascadia Code\" font-weight=\"bold\" font-size=\"14.00\">DeclRefExpr</text>\n",
       "<polygon fill=\"none\" stroke=\"black\" points=\"161,-4 161,-25 258,-25 258,-4 161,-4\"/>\n",
       "<text text-anchor=\"start\" x=\"188.5\" y=\"-10.8\" font-family=\"Cascadia Code\" font-size=\"14.00\">fVar1</text>\n",
       "</g>\n",
       "<!-- 6&#45;&#45;5 -->\n",
       "<g id=\"edge6\" class=\"edge\">\n",
       "<title>6&#45;&#45;5</title>\n",
       "<path fill=\"none\" stroke=\"black\" d=\"M209,-50.3C209,-61.44 209,-74.62 209,-85.76\"/>\n",
       "</g>\n",
       "<!-- 7 -->\n",
       "<g id=\"node8\" class=\"node\">\n",
       "<title>7</title>\n",
       "<polygon fill=\"none\" stroke=\"black\" points=\"305,-111 305,-132 402,-132 402,-111 305,-111\"/>\n",
       "<text text-anchor=\"start\" x=\"308\" y=\"-118.8\" font-family=\"Cascadia Code\" font-weight=\"bold\" font-size=\"14.00\" fill=\"red\">DeclRefExpr</text>\n",
       "<polygon fill=\"none\" stroke=\"black\" points=\"305,-90 305,-111 402,-111 402,-90 305,-90\"/>\n",
       "<text text-anchor=\"start\" x=\"324.5\" y=\"-96.8\" font-family=\"Cascadia Code\" font-size=\"14.00\" fill=\"red\">param_1</text>\n",
       "</g>\n",
       "<!-- 7&#45;&#45;3 -->\n",
       "<g id=\"edge7\" class=\"edge\">\n",
       "<title>7&#45;&#45;3</title>\n",
       "<path fill=\"none\" stroke=\"black\" d=\"M311.74,-136.07C292.45,-147.32 269.55,-160.68 250.27,-171.93\"/>\n",
       "</g>\n",
       "</g>\n",
       "</svg>\n"
      ],
      "text/plain": [
       "<graphviz.graphs.Graph at 0x7f2624cc3850>"
      ]
     },
     "metadata": {},
     "output_type": "display_data"
    }
   ],
   "source": [
    "for s in statements:\n",
    "    display(s.statement_node.render(format_node=highlight_var_refs('param_1')))"
   ]
  }
 ],
 "metadata": {
  "kernelspec": {
   "display_name": "phd",
   "language": "python",
   "name": "python3"
  },
  "language_info": {
   "codemirror_mode": {
    "name": "ipython",
    "version": 3
   },
   "file_extension": ".py",
   "mimetype": "text/x-python",
   "name": "python",
   "nbconvert_exporter": "python",
   "pygments_lexer": "ipython3",
   "version": "3.8.10"
  }
 },
 "nbformat": 4,
 "nbformat_minor": 2
}
