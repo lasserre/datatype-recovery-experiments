{
 "cells": [
  {
   "cell_type": "code",
   "execution_count": 13,
   "metadata": {},
   "outputs": [],
   "source": [
    "from pathlib import Path\n",
    "import pandas as pd\n",
    "\n",
    "#!head ~/test_builds/astera3.exp/rundata/run1/locals.csv\n",
    "\n",
    "EXP_FOLDER = Path.home()/'test_builds'/'astera3.exp'\n",
    "\n",
    "num_runs = len(list((EXP_FOLDER/'rundata').iterdir()))\n",
    "\n",
    "# assume 1 run for now, verify this\n",
    "if num_runs > 1:\n",
    "    raise Exception(f'More than 1 run - {num_runs} found')\n",
    "\n",
    "locals_csv = EXP_FOLDER/'rundata'/'run1'/'locals.csv'"
   ]
  },
  {
   "cell_type": "code",
   "execution_count": 32,
   "metadata": {},
   "outputs": [],
   "source": [
    "locals_df = pd.read_csv(locals_csv)"
   ]
  },
  {
   "cell_type": "markdown",
   "metadata": {},
   "source": [
    "# Binaries & Functions\n",
    "How many binaries and functions do we have?\n",
    "Do we need to filter out any duplicate functions?"
   ]
  },
  {
   "cell_type": "code",
   "execution_count": 46,
   "metadata": {},
   "outputs": [
    {
     "name": "stdout",
     "output_type": "stream",
     "text": [
      "There are 8 binaries in this dataset (that have local variables)\n"
     ]
    }
   ],
   "source": [
    "num_binaries = len(locals_df.BinaryId.unique())\n",
    "print(f'There are {num_binaries} binaries in this dataset (that have local variables)')\n",
    "\n",
    "# NOTE: we can't determine duplicates as easily from this dataset...if we have a table\n",
    "# of functions (1 row per function) then it easy to do a  groupby and count any duplicates across\n",
    "# binaries"
   ]
  },
  {
   "cell_type": "code",
   "execution_count": 31,
   "metadata": {},
   "outputs": [
    {
     "name": "stdout",
     "output_type": "stream",
     "text": [
      "# true locals = 21,789\n",
      "# debug locals = 86,827\n",
      "# strip locals = 63,564\n"
     ]
    }
   ],
   "source": [
    "true_vars = locals_df[~locals_df.Name_DWARF.isna()]\n",
    "strip_vars = locals_df[~locals_df.Name_Strip.isna()]\n",
    "debug_vars = locals_df[~locals_df.Name_Debug.isna()]\n",
    "\n",
    "print(f'# true locals = {len(true_vars):,}')\n",
    "print(f'# debug locals = {len(debug_vars):,}')\n",
    "print(f'# strip locals = {len(strip_vars):,}')"
   ]
  },
  {
   "cell_type": "code",
   "execution_count": 30,
   "metadata": {},
   "outputs": [
    {
     "data": {
      "text/plain": [
       "11383"
      ]
     },
     "execution_count": 30,
     "metadata": {},
     "output_type": "execute_result"
    }
   ],
   "source": [
    "len(true_vars[~true_vars.Name_Strip.isna()])"
   ]
  }
 ],
 "metadata": {
  "kernelspec": {
   "display_name": "phd",
   "language": "python",
   "name": "python3"
  },
  "language_info": {
   "codemirror_mode": {
    "name": "ipython",
    "version": 3
   },
   "file_extension": ".py",
   "mimetype": "text/x-python",
   "name": "python",
   "nbconvert_exporter": "python",
   "pygments_lexer": "ipython3",
   "version": "3.8.10"
  },
  "orig_nbformat": 4
 },
 "nbformat": 4,
 "nbformat_minor": 2
}
