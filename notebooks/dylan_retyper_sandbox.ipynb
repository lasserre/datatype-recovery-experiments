{
 "cells": [
  {
   "cell_type": "code",
   "execution_count": 1,
   "metadata": {},
   "outputs": [
    {
     "data": {
      "text/plain": [
       "<pyhidra.launcher.HeadlessPyhidraLauncher at 0x7f60b061b550>"
      ]
     },
     "execution_count": 1,
     "metadata": {},
     "output_type": "execute_result"
    }
   ],
   "source": [
    "from pathlib import Path\n",
    "from datatype_recovery.models.dataset import load_dataset_from_path\n",
    "from datatype_recovery.models.dataset.encoding import *\n",
    "\n",
    "import pandas as pd\n",
    "pd.set_option('display.max_colwidth', 20)   # JSON columns make things look weird in notebook without this\n",
    "\n",
    "import pyhidra\n",
    "pyhidra.start()"
   ]
  },
  {
   "cell_type": "code",
   "execution_count": 2,
   "metadata": {},
   "outputs": [],
   "source": [
    "# TODO: need to map dataset binary ids -> ghidra repo/files\n",
    "ds = load_dataset_from_path(Path('/home/cls0027/datasets/astera'))"
   ]
  },
  {
   "cell_type": "code",
   "execution_count": 3,
   "metadata": {},
   "outputs": [
    {
     "data": {
      "text/html": [
       "<div>\n",
       "<style scoped>\n",
       "    .dataframe tbody tr th:only-of-type {\n",
       "        vertical-align: middle;\n",
       "    }\n",
       "\n",
       "    .dataframe tbody tr th {\n",
       "        vertical-align: top;\n",
       "    }\n",
       "\n",
       "    .dataframe thead th {\n",
       "        text-align: right;\n",
       "    }\n",
       "</style>\n",
       "<table border=\"1\" class=\"dataframe\">\n",
       "  <thead>\n",
       "    <tr style=\"text-align: right;\">\n",
       "      <th></th>\n",
       "      <th>BinaryId</th>\n",
       "      <th>Name</th>\n",
       "      <th>RunGid</th>\n",
       "      <th>OrigBinaryId</th>\n",
       "      <th>RunFolder</th>\n",
       "      <th>BinariesCsv</th>\n",
       "      <th>FuncsCsv</th>\n",
       "      <th>ParamsCsv</th>\n",
       "      <th>LocalsCsv</th>\n",
       "      <th>ExpName</th>\n",
       "      <th>RunName</th>\n",
       "    </tr>\n",
       "  </thead>\n",
       "  <tbody>\n",
       "    <tr>\n",
       "      <th>0</th>\n",
       "      <td>1000</td>\n",
       "      <td>sprites</td>\n",
       "      <td>0</td>\n",
       "      <td>0</td>\n",
       "      <td>/home/cls0027/ex...</td>\n",
       "      <td>/home/cls0027/ex...</td>\n",
       "      <td>/home/cls0027/ex...</td>\n",
       "      <td>/home/cls0027/ex...</td>\n",
       "      <td>/home/cls0027/ex...</td>\n",
       "      <td>astera</td>\n",
       "      <td>run1</td>\n",
       "    </tr>\n",
       "    <tr>\n",
       "      <th>1</th>\n",
       "      <td>1001</td>\n",
       "      <td>debug</td>\n",
       "      <td>0</td>\n",
       "      <td>1</td>\n",
       "      <td>/home/cls0027/ex...</td>\n",
       "      <td>/home/cls0027/ex...</td>\n",
       "      <td>/home/cls0027/ex...</td>\n",
       "      <td>/home/cls0027/ex...</td>\n",
       "      <td>/home/cls0027/ex...</td>\n",
       "      <td>astera</td>\n",
       "      <td>run1</td>\n",
       "    </tr>\n",
       "    <tr>\n",
       "      <th>2</th>\n",
       "      <td>1002</td>\n",
       "      <td>collision</td>\n",
       "      <td>0</td>\n",
       "      <td>2</td>\n",
       "      <td>/home/cls0027/ex...</td>\n",
       "      <td>/home/cls0027/ex...</td>\n",
       "      <td>/home/cls0027/ex...</td>\n",
       "      <td>/home/cls0027/ex...</td>\n",
       "      <td>/home/cls0027/ex...</td>\n",
       "      <td>astera</td>\n",
       "      <td>run1</td>\n",
       "    </tr>\n",
       "    <tr>\n",
       "      <th>3</th>\n",
       "      <td>1003</td>\n",
       "      <td>audio</td>\n",
       "      <td>0</td>\n",
       "      <td>3</td>\n",
       "      <td>/home/cls0027/ex...</td>\n",
       "      <td>/home/cls0027/ex...</td>\n",
       "      <td>/home/cls0027/ex...</td>\n",
       "      <td>/home/cls0027/ex...</td>\n",
       "      <td>/home/cls0027/ex...</td>\n",
       "      <td>astera</td>\n",
       "      <td>run1</td>\n",
       "    </tr>\n",
       "    <tr>\n",
       "      <th>4</th>\n",
       "      <td>1004</td>\n",
       "      <td>config</td>\n",
       "      <td>0</td>\n",
       "      <td>4</td>\n",
       "      <td>/home/cls0027/ex...</td>\n",
       "      <td>/home/cls0027/ex...</td>\n",
       "      <td>/home/cls0027/ex...</td>\n",
       "      <td>/home/cls0027/ex...</td>\n",
       "      <td>/home/cls0027/ex...</td>\n",
       "      <td>astera</td>\n",
       "      <td>run1</td>\n",
       "    </tr>\n",
       "    <tr>\n",
       "      <th>5</th>\n",
       "      <td>1005</td>\n",
       "      <td>assets</td>\n",
       "      <td>0</td>\n",
       "      <td>5</td>\n",
       "      <td>/home/cls0027/ex...</td>\n",
       "      <td>/home/cls0027/ex...</td>\n",
       "      <td>/home/cls0027/ex...</td>\n",
       "      <td>/home/cls0027/ex...</td>\n",
       "      <td>/home/cls0027/ex...</td>\n",
       "      <td>astera</td>\n",
       "      <td>run1</td>\n",
       "    </tr>\n",
       "    <tr>\n",
       "      <th>6</th>\n",
       "      <td>1006</td>\n",
       "      <td>fighter</td>\n",
       "      <td>0</td>\n",
       "      <td>6</td>\n",
       "      <td>/home/cls0027/ex...</td>\n",
       "      <td>/home/cls0027/ex...</td>\n",
       "      <td>/home/cls0027/ex...</td>\n",
       "      <td>/home/cls0027/ex...</td>\n",
       "      <td>/home/cls0027/ex...</td>\n",
       "      <td>astera</td>\n",
       "      <td>run1</td>\n",
       "    </tr>\n",
       "    <tr>\n",
       "      <th>7</th>\n",
       "      <td>1007</td>\n",
       "      <td>input</td>\n",
       "      <td>0</td>\n",
       "      <td>7</td>\n",
       "      <td>/home/cls0027/ex...</td>\n",
       "      <td>/home/cls0027/ex...</td>\n",
       "      <td>/home/cls0027/ex...</td>\n",
       "      <td>/home/cls0027/ex...</td>\n",
       "      <td>/home/cls0027/ex...</td>\n",
       "      <td>astera</td>\n",
       "      <td>run1</td>\n",
       "    </tr>\n",
       "    <tr>\n",
       "      <th>8</th>\n",
       "      <td>1008</td>\n",
       "      <td>pakutil</td>\n",
       "      <td>0</td>\n",
       "      <td>8</td>\n",
       "      <td>/home/cls0027/ex...</td>\n",
       "      <td>/home/cls0027/ex...</td>\n",
       "      <td>/home/cls0027/ex...</td>\n",
       "      <td>/home/cls0027/ex...</td>\n",
       "      <td>/home/cls0027/ex...</td>\n",
       "      <td>astera</td>\n",
       "      <td>run1</td>\n",
       "    </tr>\n",
       "  </tbody>\n",
       "</table>\n",
       "</div>"
      ],
      "text/plain": [
       "   BinaryId       Name  RunGid  OrigBinaryId            RunFolder   \n",
       "0      1000    sprites       0             0  /home/cls0027/ex...  \\\n",
       "1      1001      debug       0             1  /home/cls0027/ex...   \n",
       "2      1002  collision       0             2  /home/cls0027/ex...   \n",
       "3      1003      audio       0             3  /home/cls0027/ex...   \n",
       "4      1004     config       0             4  /home/cls0027/ex...   \n",
       "5      1005     assets       0             5  /home/cls0027/ex...   \n",
       "6      1006    fighter       0             6  /home/cls0027/ex...   \n",
       "7      1007      input       0             7  /home/cls0027/ex...   \n",
       "8      1008    pakutil       0             8  /home/cls0027/ex...   \n",
       "\n",
       "           BinariesCsv             FuncsCsv            ParamsCsv   \n",
       "0  /home/cls0027/ex...  /home/cls0027/ex...  /home/cls0027/ex...  \\\n",
       "1  /home/cls0027/ex...  /home/cls0027/ex...  /home/cls0027/ex...   \n",
       "2  /home/cls0027/ex...  /home/cls0027/ex...  /home/cls0027/ex...   \n",
       "3  /home/cls0027/ex...  /home/cls0027/ex...  /home/cls0027/ex...   \n",
       "4  /home/cls0027/ex...  /home/cls0027/ex...  /home/cls0027/ex...   \n",
       "5  /home/cls0027/ex...  /home/cls0027/ex...  /home/cls0027/ex...   \n",
       "6  /home/cls0027/ex...  /home/cls0027/ex...  /home/cls0027/ex...   \n",
       "7  /home/cls0027/ex...  /home/cls0027/ex...  /home/cls0027/ex...   \n",
       "8  /home/cls0027/ex...  /home/cls0027/ex...  /home/cls0027/ex...   \n",
       "\n",
       "             LocalsCsv ExpName RunName  \n",
       "0  /home/cls0027/ex...  astera    run1  \n",
       "1  /home/cls0027/ex...  astera    run1  \n",
       "2  /home/cls0027/ex...  astera    run1  \n",
       "3  /home/cls0027/ex...  astera    run1  \n",
       "4  /home/cls0027/ex...  astera    run1  \n",
       "5  /home/cls0027/ex...  astera    run1  \n",
       "6  /home/cls0027/ex...  astera    run1  \n",
       "7  /home/cls0027/ex...  astera    run1  \n",
       "8  /home/cls0027/ex...  astera    run1  "
      ]
     },
     "execution_count": 3,
     "metadata": {},
     "output_type": "execute_result"
    }
   ],
   "source": [
    "bt = ds.full_binaries_table\n",
    "bt"
   ]
  },
  {
   "cell_type": "code",
   "execution_count": 5,
   "metadata": {},
   "outputs": [
    {
     "data": {
      "text/html": [
       "<div>\n",
       "<style scoped>\n",
       "    .dataframe tbody tr th:only-of-type {\n",
       "        vertical-align: middle;\n",
       "    }\n",
       "\n",
       "    .dataframe tbody tr th {\n",
       "        vertical-align: top;\n",
       "    }\n",
       "\n",
       "    .dataframe thead th {\n",
       "        text-align: right;\n",
       "    }\n",
       "</style>\n",
       "<table border=\"1\" class=\"dataframe\">\n",
       "  <thead>\n",
       "    <tr style=\"text-align: right;\">\n",
       "      <th></th>\n",
       "      <th>BinaryId</th>\n",
       "      <th>Name</th>\n",
       "      <th>RunGid</th>\n",
       "      <th>OrigBinaryId</th>\n",
       "      <th>RunFolder</th>\n",
       "      <th>BinariesCsv</th>\n",
       "      <th>FuncsCsv</th>\n",
       "      <th>ParamsCsv</th>\n",
       "      <th>LocalsCsv</th>\n",
       "      <th>ExpName</th>\n",
       "      <th>RunName</th>\n",
       "    </tr>\n",
       "  </thead>\n",
       "  <tbody>\n",
       "    <tr>\n",
       "      <th>0</th>\n",
       "      <td>1000</td>\n",
       "      <td>sprites</td>\n",
       "      <td>0</td>\n",
       "      <td>0</td>\n",
       "      <td>/home/cls0027/ex...</td>\n",
       "      <td>/home/cls0027/ex...</td>\n",
       "      <td>/home/cls0027/ex...</td>\n",
       "      <td>/home/cls0027/ex...</td>\n",
       "      <td>/home/cls0027/ex...</td>\n",
       "      <td>astera</td>\n",
       "      <td>run1</td>\n",
       "    </tr>\n",
       "    <tr>\n",
       "      <th>1</th>\n",
       "      <td>1001</td>\n",
       "      <td>debug</td>\n",
       "      <td>0</td>\n",
       "      <td>1</td>\n",
       "      <td>/home/cls0027/ex...</td>\n",
       "      <td>/home/cls0027/ex...</td>\n",
       "      <td>/home/cls0027/ex...</td>\n",
       "      <td>/home/cls0027/ex...</td>\n",
       "      <td>/home/cls0027/ex...</td>\n",
       "      <td>astera</td>\n",
       "      <td>run1</td>\n",
       "    </tr>\n",
       "    <tr>\n",
       "      <th>2</th>\n",
       "      <td>1002</td>\n",
       "      <td>collision</td>\n",
       "      <td>0</td>\n",
       "      <td>2</td>\n",
       "      <td>/home/cls0027/ex...</td>\n",
       "      <td>/home/cls0027/ex...</td>\n",
       "      <td>/home/cls0027/ex...</td>\n",
       "      <td>/home/cls0027/ex...</td>\n",
       "      <td>/home/cls0027/ex...</td>\n",
       "      <td>astera</td>\n",
       "      <td>run1</td>\n",
       "    </tr>\n",
       "    <tr>\n",
       "      <th>3</th>\n",
       "      <td>1003</td>\n",
       "      <td>audio</td>\n",
       "      <td>0</td>\n",
       "      <td>3</td>\n",
       "      <td>/home/cls0027/ex...</td>\n",
       "      <td>/home/cls0027/ex...</td>\n",
       "      <td>/home/cls0027/ex...</td>\n",
       "      <td>/home/cls0027/ex...</td>\n",
       "      <td>/home/cls0027/ex...</td>\n",
       "      <td>astera</td>\n",
       "      <td>run1</td>\n",
       "    </tr>\n",
       "    <tr>\n",
       "      <th>4</th>\n",
       "      <td>1004</td>\n",
       "      <td>config</td>\n",
       "      <td>0</td>\n",
       "      <td>4</td>\n",
       "      <td>/home/cls0027/ex...</td>\n",
       "      <td>/home/cls0027/ex...</td>\n",
       "      <td>/home/cls0027/ex...</td>\n",
       "      <td>/home/cls0027/ex...</td>\n",
       "      <td>/home/cls0027/ex...</td>\n",
       "      <td>astera</td>\n",
       "      <td>run1</td>\n",
       "    </tr>\n",
       "    <tr>\n",
       "      <th>5</th>\n",
       "      <td>1005</td>\n",
       "      <td>assets</td>\n",
       "      <td>0</td>\n",
       "      <td>5</td>\n",
       "      <td>/home/cls0027/ex...</td>\n",
       "      <td>/home/cls0027/ex...</td>\n",
       "      <td>/home/cls0027/ex...</td>\n",
       "      <td>/home/cls0027/ex...</td>\n",
       "      <td>/home/cls0027/ex...</td>\n",
       "      <td>astera</td>\n",
       "      <td>run1</td>\n",
       "    </tr>\n",
       "    <tr>\n",
       "      <th>6</th>\n",
       "      <td>1006</td>\n",
       "      <td>fighter</td>\n",
       "      <td>0</td>\n",
       "      <td>6</td>\n",
       "      <td>/home/cls0027/ex...</td>\n",
       "      <td>/home/cls0027/ex...</td>\n",
       "      <td>/home/cls0027/ex...</td>\n",
       "      <td>/home/cls0027/ex...</td>\n",
       "      <td>/home/cls0027/ex...</td>\n",
       "      <td>astera</td>\n",
       "      <td>run1</td>\n",
       "    </tr>\n",
       "    <tr>\n",
       "      <th>7</th>\n",
       "      <td>1007</td>\n",
       "      <td>input</td>\n",
       "      <td>0</td>\n",
       "      <td>7</td>\n",
       "      <td>/home/cls0027/ex...</td>\n",
       "      <td>/home/cls0027/ex...</td>\n",
       "      <td>/home/cls0027/ex...</td>\n",
       "      <td>/home/cls0027/ex...</td>\n",
       "      <td>/home/cls0027/ex...</td>\n",
       "      <td>astera</td>\n",
       "      <td>run1</td>\n",
       "    </tr>\n",
       "    <tr>\n",
       "      <th>8</th>\n",
       "      <td>1008</td>\n",
       "      <td>pakutil</td>\n",
       "      <td>0</td>\n",
       "      <td>8</td>\n",
       "      <td>/home/cls0027/ex...</td>\n",
       "      <td>/home/cls0027/ex...</td>\n",
       "      <td>/home/cls0027/ex...</td>\n",
       "      <td>/home/cls0027/ex...</td>\n",
       "      <td>/home/cls0027/ex...</td>\n",
       "      <td>astera</td>\n",
       "      <td>run1</td>\n",
       "    </tr>\n",
       "  </tbody>\n",
       "</table>\n",
       "</div>"
      ],
      "text/plain": [
       "   BinaryId       Name  RunGid  OrigBinaryId            RunFolder   \n",
       "0      1000    sprites       0             0  /home/cls0027/ex...  \\\n",
       "1      1001      debug       0             1  /home/cls0027/ex...   \n",
       "2      1002  collision       0             2  /home/cls0027/ex...   \n",
       "3      1003      audio       0             3  /home/cls0027/ex...   \n",
       "4      1004     config       0             4  /home/cls0027/ex...   \n",
       "5      1005     assets       0             5  /home/cls0027/ex...   \n",
       "6      1006    fighter       0             6  /home/cls0027/ex...   \n",
       "7      1007      input       0             7  /home/cls0027/ex...   \n",
       "8      1008    pakutil       0             8  /home/cls0027/ex...   \n",
       "\n",
       "           BinariesCsv             FuncsCsv            ParamsCsv   \n",
       "0  /home/cls0027/ex...  /home/cls0027/ex...  /home/cls0027/ex...  \\\n",
       "1  /home/cls0027/ex...  /home/cls0027/ex...  /home/cls0027/ex...   \n",
       "2  /home/cls0027/ex...  /home/cls0027/ex...  /home/cls0027/ex...   \n",
       "3  /home/cls0027/ex...  /home/cls0027/ex...  /home/cls0027/ex...   \n",
       "4  /home/cls0027/ex...  /home/cls0027/ex...  /home/cls0027/ex...   \n",
       "5  /home/cls0027/ex...  /home/cls0027/ex...  /home/cls0027/ex...   \n",
       "6  /home/cls0027/ex...  /home/cls0027/ex...  /home/cls0027/ex...   \n",
       "7  /home/cls0027/ex...  /home/cls0027/ex...  /home/cls0027/ex...   \n",
       "8  /home/cls0027/ex...  /home/cls0027/ex...  /home/cls0027/ex...   \n",
       "\n",
       "             LocalsCsv ExpName RunName  \n",
       "0  /home/cls0027/ex...  astera    run1  \n",
       "1  /home/cls0027/ex...  astera    run1  \n",
       "2  /home/cls0027/ex...  astera    run1  \n",
       "3  /home/cls0027/ex...  astera    run1  \n",
       "4  /home/cls0027/ex...  astera    run1  \n",
       "5  /home/cls0027/ex...  astera    run1  \n",
       "6  /home/cls0027/ex...  astera    run1  \n",
       "7  /home/cls0027/ex...  astera    run1  \n",
       "8  /home/cls0027/ex...  astera    run1  "
      ]
     },
     "execution_count": 5,
     "metadata": {},
     "output_type": "execute_result"
    }
   ],
   "source": [
    "# each run is its own repo/folder combination...\n",
    "# bt.groupby('RunGid').pipe(lambda gb: gb)\n",
    "gb0 = list(bt.groupby('RunGid'))[0]\n",
    "\n",
    "rungid = gb0[0]\n",
    "rundf = gb0[1]\n",
    "rundf"
   ]
  },
  {
   "cell_type": "code",
   "execution_count": 8,
   "metadata": {},
   "outputs": [
    {
     "name": "stdout",
     "output_type": "stream",
     "text": [
      "(0, 'BinaryId')\n",
      "(1, 'Name')\n",
      "(2, 'RunGid')\n",
      "(3, 'OrigBinaryId')\n",
      "(4, 'RunFolder')\n",
      "(5, 'BinariesCsv')\n",
      "(6, 'FuncsCsv')\n",
      "(7, 'ParamsCsv')\n",
      "(8, 'LocalsCsv')\n",
      "(9, 'ExpName')\n",
      "(10, 'RunName')\n"
     ]
    }
   ],
   "source": [
    "# really, we're going to be grouping the VAR DATA by RunGid (but we'll then do lookups in this table...)\n",
    "# but we can assume we're handed only 1 binary at a time...\n",
    "\n",
    "for x in enumerate(rundf):\n",
    "    print(x)"
   ]
  },
  {
   "cell_type": "code",
   "execution_count": 40,
   "metadata": {},
   "outputs": [
    {
     "name": "stdout",
     "output_type": "stream",
     "text": [
      "Matching file: astera-temp-13681:/run1.x64-gcc-O0.astera/3.audio\n",
      "<java class 'ghidra.framework.data.GhidraFile'>\n",
      "File version = -1\n"
     ]
    }
   ],
   "source": [
    "from ghidralib.projects import OpenSharedGhidraProject, locate_ghidra_binary, GhidraCheckout\n",
    "from ghidra.base.project import GhidraProject\n",
    "\n",
    "# proj = OpenSharedGhidraProject('localhost', 'astera')\n",
    "# proj.__enter__()\n",
    "\n",
    "server = 'localhost'\n",
    "reponame = 'astera'\n",
    "\n",
    "run_name = 'run1'   # hardcode for testing...\n",
    "binary_id = 3   # should be \"audio\" (OrigBinaryId)\n",
    "use_debug_binary = False    # select stripped or debug\n",
    "\n",
    "\n",
    "# TODO: once we locate the binary file:\n",
    "# bin_file.checkout(False, None)\n",
    "\n",
    "# TODO: how do we get the program from the bin_file?\n",
    "\n",
    "# program = proj.openProgram(bin_file.parent.pathname, bin_file.name, False)\n",
    "# proj.save(program)\n",
    "\n",
    "# from ghidra.framework.data import DefaultCheckinHandler\n",
    "# program.domainFile.checkin(DefaultCheckinHandler('TEST checkin', False, False), True, None)\n",
    "# maybe also: bin_file.checkin(...)\n",
    "\n",
    "\n",
    "with OpenSharedGhidraProject(server, reponame) as proj:\n",
    "    locate_ghidra_binary(proj, run_name, binary_id, use_debug_binary)\n",
    "    print(f'Matching file: {bin_file}')\n",
    "    print(type(bin_file))\n",
    "    print(f'File version = {bin_file.version}')"
   ]
  },
  {
   "cell_type": "code",
   "execution_count": 2,
   "metadata": {},
   "outputs": [],
   "source": [
    "from ghidralib.projects import get_project_manager_headless\n",
    "\n",
    "pmgr = get_project_manager_headless()"
   ]
  },
  {
   "cell_type": "code",
   "execution_count": 3,
   "metadata": {},
   "outputs": [
    {
     "data": {
      "text/plain": [
       "[/home/cls0027/ghidra_projects/R,\n",
       " /home/cls0027/ghidra_projects/astera,\n",
       " /home/cls0027/ghidra_projects/openssl,\n",
       " /home/cls0027/ghidra_projects/coreutils_dpid,\n",
       " /home/cls0027/ghidra_projects/coreutils]"
      ]
     },
     "execution_count": 3,
     "metadata": {},
     "output_type": "execute_result"
    }
   ],
   "source": [
    "list(pmgr.recentProjects)"
   ]
  },
  {
   "cell_type": "code",
   "execution_count": 4,
   "metadata": {},
   "outputs": [
    {
     "data": {
      "text/plain": [
       "localhost:13100"
      ]
     },
     "execution_count": 4,
     "metadata": {},
     "output_type": "execute_result"
    }
   ],
   "source": [
    "pmgr.mostRecentServerInfo"
   ]
  },
  {
   "cell_type": "code",
   "execution_count": 5,
   "metadata": {},
   "outputs": [
    {
     "data": {
      "text/plain": [
       "localhost:13100"
      ]
     },
     "execution_count": 5,
     "metadata": {},
     "output_type": "execute_result"
    }
   ],
   "source": [
    "adapter = pmgr.getRepositoryServerAdapter('localhost', 13100, True)\n",
    "adapter"
   ]
  },
  {
   "cell_type": "code",
   "execution_count": 6,
   "metadata": {},
   "outputs": [
    {
     "data": {
      "text/plain": [
       "['ANONYMOUS',\n",
       " 'R',\n",
       " 'R2',\n",
       " 'SECOND_source_ast',\n",
       " 'aarch64_astera',\n",
       " 'aarch64test',\n",
       " 'angband',\n",
       " 'another',\n",
       " 'astera',\n",
       " 'astera2',\n",
       " 'astera3',\n",
       " 'astera4',\n",
       " 'astera_O1',\n",
       " 'astera_Og',\n",
       " 'astera_arm64',\n",
       " 'astera_checkaptworks',\n",
       " 'astera_cross',\n",
       " 'astera_instrument',\n",
       " 'bash',\n",
       " 'basic-dataset',\n",
       " 'bc',\n",
       " 'binutils',\n",
       " 'bison',\n",
       " 'busybox',\n",
       " 'c',\n",
       " 'cbasic',\n",
       " 'cflow',\n",
       " 'chipmunk',\n",
       " 'coreutils',\n",
       " 'coreutils_dpid',\n",
       " 'cpp_aarch64test',\n",
       " 'cpp_test',\n",
       " 'cpython',\n",
       " 'cpython_dpid',\n",
       " 'curl',\n",
       " 'demo',\n",
       " 'diffutils',\n",
       " 'dpkg',\n",
       " 'ffmpeg',\n",
       " 'ffmpeg_CHECK',\n",
       " 'ffmpeg_O0',\n",
       " 'ffmpeg_dpid',\n",
       " 'ffmpeg_new_ghidra',\n",
       " 'ffmpeg_redo',\n",
       " 'findutils',\n",
       " 'gawk',\n",
       " 'glfw',\n",
       " 'gmp',\n",
       " 'goaccess',\n",
       " 'greg',\n",
       " 'grep',\n",
       " 'gtypist',\n",
       " 'gzip',\n",
       " 'imagemagick',\n",
       " 'indent',\n",
       " 'inetutils',\n",
       " 'less',\n",
       " 'libmicrohttpd',\n",
       " 'libpng',\n",
       " 'libsodium',\n",
       " 'libtomcrypt',\n",
       " 'libwebsockets',\n",
       " 'musl',\n",
       " 'nano',\n",
       " 'openssl',\n",
       " 'putty',\n",
       " 'quake2',\n",
       " 'redis',\n",
       " 'redis_dpid',\n",
       " 'rizin',\n",
       " 'rizin_dpid',\n",
       " 'sed',\n",
       " 'sg3-utils',\n",
       " 'source_ast',\n",
       " 'sqlite',\n",
       " 'stateformer33',\n",
       " 'systemv',\n",
       " 'test',\n",
       " 'test2',\n",
       " 'test_programs',\n",
       " 'testaaa',\n",
       " 'timing',\n",
       " 'usbutils',\n",
       " 'utillinux',\n",
       " 'vlc',\n",
       " 'vlc_dpid',\n",
       " 'wget',\n",
       " 'wine',\n",
       " 'wine_dpid',\n",
       " 'xrdp',\n",
       " 'zlib']"
      ]
     },
     "execution_count": 6,
     "metadata": {},
     "output_type": "execute_result"
    }
   ],
   "source": [
    "list(adapter.getRepositoryNames())"
   ]
  },
  {
   "cell_type": "code",
   "execution_count": 7,
   "metadata": {},
   "outputs": [],
   "source": [
    "list(adapter.getAllUsers())\n",
    "proj_adapter = adapter.getRepository('astera')\n",
    "# adapter.getRepository('findutils').getItemList('/')\n",
    "proj_adapter.connect()"
   ]
  },
  {
   "cell_type": "code",
   "execution_count": 8,
   "metadata": {},
   "outputs": [
    {
     "data": {
      "text/plain": [
       "<java class 'ghidra.framework.client.RepositoryAdapter'>"
      ]
     },
     "execution_count": 8,
     "metadata": {},
     "output_type": "execute_result"
    }
   ],
   "source": [
    "# list(proj_adapter.getItemList(''))\n",
    "proj_adapter.getItemCount()\n",
    "# proj_adapter.getItemList('')\n",
    "type(proj_adapter)"
   ]
  },
  {
   "cell_type": "code",
   "execution_count": 9,
   "metadata": {},
   "outputs": [
    {
     "data": {
      "text/plain": [
       "<java class 'ghidra.framework.client.RepositoryServerAdapter'>"
      ]
     },
     "execution_count": 9,
     "metadata": {},
     "output_type": "execute_result"
    }
   ],
   "source": [
    "type(adapter)"
   ]
  },
  {
   "cell_type": "code",
   "execution_count": 10,
   "metadata": {},
   "outputs": [],
   "source": [
    "# proj_adapter.get"
   ]
  },
  {
   "cell_type": "code",
   "execution_count": 11,
   "metadata": {},
   "outputs": [
    {
     "data": {
      "text/plain": [
       "ghidra.base.project.GhidraProject@7e31062c"
      ]
     },
     "execution_count": 11,
     "metadata": {},
     "output_type": "execute_result"
    }
   ],
   "source": [
    "from ghidralib.projects import OpenSharedGhidraProject\n",
    "\n",
    "proj = OpenSharedGhidraProject('localhost', 'astera')\n",
    "proj.__enter__()"
   ]
  },
  {
   "cell_type": "code",
   "execution_count": 12,
   "metadata": {},
   "outputs": [
    {
     "data": {
      "text/plain": [
       "astera-temp-3e882:/"
      ]
     },
     "execution_count": 12,
     "metadata": {},
     "output_type": "execute_result"
    }
   ],
   "source": [
    "root_folder = proj.shared_gp.getRootFolder()\n",
    "root_folder"
   ]
  },
  {
   "cell_type": "code",
   "execution_count": 13,
   "metadata": {},
   "outputs": [
    {
     "data": {
      "text/plain": [
       "[astera-temp-3e882:/run1.gcc-O0.astera,\n",
       " astera-temp-3e882:/run1.x64-gcc-O0.astera]"
      ]
     },
     "execution_count": 13,
     "metadata": {},
     "output_type": "execute_result"
    }
   ],
   "source": [
    "list(root_folder.getFolders())"
   ]
  },
  {
   "cell_type": "code",
   "execution_count": 14,
   "metadata": {},
   "outputs": [
    {
     "data": {
      "text/plain": [
       "[astera-temp-3e882:/run1.x64-gcc-O0.astera/0.sprites,\n",
       " astera-temp-3e882:/run1.x64-gcc-O0.astera/0.sprites.debug,\n",
       " astera-temp-3e882:/run1.x64-gcc-O0.astera/1.debug,\n",
       " astera-temp-3e882:/run1.x64-gcc-O0.astera/1.debug.debug,\n",
       " astera-temp-3e882:/run1.x64-gcc-O0.astera/2.collision,\n",
       " astera-temp-3e882:/run1.x64-gcc-O0.astera/2.collision.debug,\n",
       " astera-temp-3e882:/run1.x64-gcc-O0.astera/3.audio,\n",
       " astera-temp-3e882:/run1.x64-gcc-O0.astera/3.audio.debug,\n",
       " astera-temp-3e882:/run1.x64-gcc-O0.astera/4.config,\n",
       " astera-temp-3e882:/run1.x64-gcc-O0.astera/4.config.debug,\n",
       " astera-temp-3e882:/run1.x64-gcc-O0.astera/5.assets,\n",
       " astera-temp-3e882:/run1.x64-gcc-O0.astera/5.assets.debug,\n",
       " astera-temp-3e882:/run1.x64-gcc-O0.astera/6.fighter,\n",
       " astera-temp-3e882:/run1.x64-gcc-O0.astera/6.fighter.debug,\n",
       " astera-temp-3e882:/run1.x64-gcc-O0.astera/7.input,\n",
       " astera-temp-3e882:/run1.x64-gcc-O0.astera/7.input.debug,\n",
       " astera-temp-3e882:/run1.x64-gcc-O0.astera/8.pakutil,\n",
       " astera-temp-3e882:/run1.x64-gcc-O0.astera/8.pakutil.debug]"
      ]
     },
     "execution_count": 14,
     "metadata": {},
     "output_type": "execute_result"
    }
   ],
   "source": [
    "list(root_folder.getFolder('run1.x64-gcc-O0.astera').getFiles())"
   ]
  },
  {
   "cell_type": "code",
   "execution_count": 15,
   "metadata": {},
   "outputs": [
    {
     "data": {
      "text/plain": [
       "[]"
      ]
     },
     "execution_count": 15,
     "metadata": {},
     "output_type": "execute_result"
    }
   ],
   "source": [
    "list(root_folder.getProjectData().getRepository().getCheckouts('/run1.x64-gcc-O0.astera', '6.fighter'))"
   ]
  },
  {
   "cell_type": "code",
   "execution_count": 16,
   "metadata": {},
   "outputs": [
    {
     "data": {
      "text/plain": [
       "True"
      ]
     },
     "execution_count": 16,
     "metadata": {},
     "output_type": "execute_result"
    }
   ],
   "source": [
    "root_folder.getFolder('run1.x64-gcc-O0.astera').getFile('6.fighter').checkout(False, None)"
   ]
  },
  {
   "cell_type": "code",
   "execution_count": 17,
   "metadata": {},
   "outputs": [],
   "source": [
    "bin_file = root_folder.getFolder('run1.x64-gcc-O0.astera').getFile('6.fighter')"
   ]
  },
  {
   "cell_type": "code",
   "execution_count": 18,
   "metadata": {},
   "outputs": [
    {
     "data": {
      "text/plain": [
       "1"
      ]
     },
     "execution_count": 18,
     "metadata": {},
     "output_type": "execute_result"
    }
   ],
   "source": [
    "bin_file.version"
   ]
  },
  {
   "cell_type": "code",
   "execution_count": 21,
   "metadata": {},
   "outputs": [
    {
     "data": {
      "text/plain": [
       "'/run1.x64-gcc-O0.astera/6.fighter'"
      ]
     },
     "execution_count": 21,
     "metadata": {},
     "output_type": "execute_result"
    }
   ],
   "source": [
    "bin_file.pathname"
   ]
  },
  {
   "cell_type": "code",
   "execution_count": 24,
   "metadata": {},
   "outputs": [
    {
     "data": {
      "text/plain": [
       "'/run1.x64-gcc-O0.astera'"
      ]
     },
     "execution_count": 24,
     "metadata": {},
     "output_type": "execute_result"
    }
   ],
   "source": [
    "bin_file.parent.pathname"
   ]
  },
  {
   "cell_type": "code",
   "execution_count": 22,
   "metadata": {},
   "outputs": [
    {
     "data": {
      "text/plain": [
       "'6.fighter'"
      ]
     },
     "execution_count": 22,
     "metadata": {},
     "output_type": "execute_result"
    }
   ],
   "source": [
    "bin_file.name"
   ]
  },
  {
   "cell_type": "code",
   "execution_count": 26,
   "metadata": {},
   "outputs": [],
   "source": [
    "from ghidralib.ghidraretyper import GhidraRetyper\n",
    "\n",
    "program = proj.shared_gp.openProgram(bin_file.parent.pathname, bin_file.name, False)\n",
    "# proj.save(program)\n",
    "# GhidraRetyper()"
   ]
  },
  {
   "cell_type": "code",
   "execution_count": 29,
   "metadata": {},
   "outputs": [],
   "source": [
    "retyper = GhidraRetyper(program, reference_db=None)"
   ]
  },
  {
   "cell_type": "code",
   "execution_count": 31,
   "metadata": {},
   "outputs": [
    {
     "data": {
      "text/plain": [
       "{lVar2=ghidra.program.model.pcode.HighSymbol@27691ee8, lVar3=ghidra.program.model.pcode.HighSymbol@78a34c47, param_1=ghidra.program.model.pcode.HighSymbol@77648321, param_2=ghidra.program.model.pcode.HighSymbol@43201f84, uVar1=ghidra.program.model.pcode.HighSymbol@2c51c756}"
      ]
     },
     "execution_count": 31,
     "metadata": {},
     "output_type": "execute_result"
    }
   ],
   "source": [
    "# retyper.set_localvar_type()\n",
    "symbols = retyper.get_function_symbols(0x10a509)\n",
    "symbols"
   ]
  },
  {
   "cell_type": "code",
   "execution_count": 37,
   "metadata": {},
   "outputs": [],
   "source": [
    "dict(symbols)\n",
    "#retyper.set_param_type(0x)\n",
    "retyper.set_localvar_type(symbols['param_1'], datatypes.PointerType(datatypes.BuiltinType('char', False, True, 1), 8))"
   ]
  },
  {
   "cell_type": "code",
   "execution_count": 56,
   "metadata": {},
   "outputs": [],
   "source": [
    "dict(symbols)\n",
    "retyper.set_localvar_type(symbols['lVar2'], datatypes.PointerType(datatypes.BuiltinType('char', False, True, 1), 8))"
   ]
  },
  {
   "cell_type": "code",
   "execution_count": 58,
   "metadata": {},
   "outputs": [],
   "source": [
    "proj.shared_gp.save(program)"
   ]
  },
  {
   "cell_type": "code",
   "execution_count": 65,
   "metadata": {},
   "outputs": [],
   "source": [
    "import ghidra\n",
    "from ghidra.framework.data import DefaultCheckinHandler\n",
    "program.domainFile.checkin(DefaultCheckinHandler('TEST checkin', False, False), True, None)"
   ]
  },
  {
   "cell_type": "code",
   "execution_count": 66,
   "metadata": {},
   "outputs": [
    {
     "data": {
      "text/plain": [
       "True"
      ]
     },
     "execution_count": 66,
     "metadata": {},
     "output_type": "execute_result"
    }
   ],
   "source": [
    "bin_file.versioned"
   ]
  },
  {
   "cell_type": "code",
   "execution_count": 67,
   "metadata": {},
   "outputs": [
    {
     "data": {
      "text/plain": [
       "2"
      ]
     },
     "execution_count": 67,
     "metadata": {},
     "output_type": "execute_result"
    }
   ],
   "source": [
    "bin_file.version"
   ]
  },
  {
   "cell_type": "code",
   "execution_count": 94,
   "metadata": {},
   "outputs": [],
   "source": [
    "bin_file.undoCheckout(False)"
   ]
  },
  {
   "cell_type": "code",
   "execution_count": 68,
   "metadata": {},
   "outputs": [],
   "source": [
    "bin_file.getCheckoutStatus()"
   ]
  },
  {
   "cell_type": "code",
   "execution_count": 69,
   "metadata": {},
   "outputs": [
    {
     "data": {
      "text/plain": [
       "[ghidra.framework.store.Version@5ab3f611,\n",
       " ghidra.framework.store.Version@33425171]"
      ]
     },
     "execution_count": 69,
     "metadata": {},
     "output_type": "execute_result"
    }
   ],
   "source": [
    "list(bin_file.getVersionHistory())"
   ]
  },
  {
   "cell_type": "code",
   "execution_count": 39,
   "metadata": {},
   "outputs": [],
   "source": [
    "\n"
   ]
  },
  {
   "cell_type": "code",
   "execution_count": 45,
   "metadata": {},
   "outputs": [
    {
     "ename": "TypeError",
     "evalue": "No matching overloads found for ghidra.framework.data.GhidraFile.checkin(ghidra.framework.data.DefaultCheckinHandler,ghidra.util.task.ConsoleTaskMonitor), options are:\n\tpublic void ghidra.framework.data.GhidraFile.checkin(ghidra.framework.data.CheckinHandler,boolean,ghidra.util.task.TaskMonitor) throws java.io.IOException,ghidra.util.exception.VersionException,ghidra.util.exception.CancelledException\n",
     "output_type": "error",
     "traceback": [
      "\u001b[0;31m---------------------------------------------------------------------------\u001b[0m",
      "\u001b[0;31mTypeError\u001b[0m                                 Traceback (most recent call last)",
      "Cell \u001b[0;32mIn[45], line 8\u001b[0m\n\u001b[1;32m      4\u001b[0m \u001b[38;5;28;01mfrom\u001b[39;00m \u001b[38;5;21;01mghidra\u001b[39;00m\u001b[38;5;21;01m.\u001b[39;00m\u001b[38;5;21;01mutil\u001b[39;00m\u001b[38;5;21;01m.\u001b[39;00m\u001b[38;5;21;01mtask\u001b[39;00m \u001b[38;5;28;01mimport\u001b[39;00m ConsoleTaskMonitor\n\u001b[1;32m      6\u001b[0m monitor \u001b[38;5;241m=\u001b[39m ConsoleTaskMonitor()\n\u001b[0;32m----> 8\u001b[0m \u001b[43mbin_file\u001b[49m\u001b[38;5;241;43m.\u001b[39;49m\u001b[43mcheckin\u001b[49m\u001b[43m(\u001b[49m\u001b[43mhandler\u001b[49m\u001b[43m,\u001b[49m\u001b[43m \u001b[49m\u001b[43mmonitor\u001b[49m\u001b[43m)\u001b[49m\n",
      "\u001b[0;31mTypeError\u001b[0m: No matching overloads found for ghidra.framework.data.GhidraFile.checkin(ghidra.framework.data.DefaultCheckinHandler,ghidra.util.task.ConsoleTaskMonitor), options are:\n\tpublic void ghidra.framework.data.GhidraFile.checkin(ghidra.framework.data.CheckinHandler,boolean,ghidra.util.task.TaskMonitor) throws java.io.IOException,ghidra.util.exception.VersionException,ghidra.util.exception.CancelledException\n"
     ]
    }
   ],
   "source": [
    "# TODO: we may need to call proj.save(program) first...\n",
    "handler = DefaultCheckinHandler('TEST checkin from python', False, False)\n",
    "#from ghidra.framework.data import CheckinHandler\n",
    "from ghidra.util.task import ConsoleTaskMonitor\n",
    "\n",
    "monitor = ConsoleTaskMonitor()\n",
    "\n",
    "bin_file.checkin(handler, monitor)"
   ]
  },
  {
   "cell_type": "code",
   "execution_count": 93,
   "metadata": {},
   "outputs": [
    {
     "data": {
      "text/plain": [
       "[ghidra.framework.store.ItemCheckoutStatus@6621def8]"
      ]
     },
     "execution_count": 93,
     "metadata": {},
     "output_type": "execute_result"
    }
   ],
   "source": [
    "#co_id = bin_file.getCheckouts()[0].getCheckoutId()\n",
    "list(bin_file.getCheckouts())"
   ]
  },
  {
   "cell_type": "code",
   "execution_count": 60,
   "metadata": {},
   "outputs": [],
   "source": [
    "# terminates a checkout:\n",
    "#bin_file.terminateCheckout(co_id)"
   ]
  },
  {
   "cell_type": "code",
   "execution_count": 54,
   "metadata": {},
   "outputs": [
    {
     "data": {
      "text/plain": [
       "'cls0027'"
      ]
     },
     "execution_count": 54,
     "metadata": {},
     "output_type": "execute_result"
    }
   ],
   "source": [
    "#list(root_folder.getFolder('run1.x64-gcc-O0.astera').getFile('6.fighter').getCheckouts())[0].getUser()"
   ]
  },
  {
   "cell_type": "code",
   "execution_count": 95,
   "metadata": {},
   "outputs": [],
   "source": [
    "proj.__exit__(None, None, None)"
   ]
  }
 ],
 "metadata": {
  "kernelspec": {
   "display_name": "phd",
   "language": "python",
   "name": "python3"
  },
  "language_info": {
   "codemirror_mode": {
    "name": "ipython",
    "version": 3
   },
   "file_extension": ".py",
   "mimetype": "text/x-python",
   "name": "python",
   "nbconvert_exporter": "python",
   "pygments_lexer": "ipython3",
   "version": "3.8.10"
  }
 },
 "nbformat": 4,
 "nbformat_minor": 2
}
