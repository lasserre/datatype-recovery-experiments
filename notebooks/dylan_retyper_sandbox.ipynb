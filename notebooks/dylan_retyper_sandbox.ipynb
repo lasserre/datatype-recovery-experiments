{
 "cells": [
  {
   "cell_type": "code",
   "execution_count": 1,
   "metadata": {},
   "outputs": [
    {
     "data": {
      "text/plain": [
       "<pyhidra.launcher.HeadlessPyhidraLauncher at 0x7f2150485670>"
      ]
     },
     "execution_count": 1,
     "metadata": {},
     "output_type": "execute_result"
    }
   ],
   "source": [
    "from pathlib import Path\n",
    "from datatype_recovery.models.dataset import load_dataset_from_path\n",
    "from datatype_recovery.models.dataset.encoding import *\n",
    "\n",
    "import pandas as pd\n",
    "pd.set_option('display.max_colwidth', 20)   # JSON columns make things look weird in notebook without this\n",
    "\n",
    "import pyhidra\n",
    "pyhidra.start()"
   ]
  },
  {
   "cell_type": "code",
   "execution_count": 2,
   "metadata": {},
   "outputs": [],
   "source": [
    "from ghidralib.opensharedghidraproject import get_project_manager_headless\n",
    "\n",
    "pmgr = get_project_manager_headless()"
   ]
  },
  {
   "cell_type": "code",
   "execution_count": 3,
   "metadata": {},
   "outputs": [
    {
     "data": {
      "text/plain": [
       "[/home/cls0027/ghidra_projects/R,\n",
       " /home/cls0027/ghidra_projects/astera,\n",
       " /home/cls0027/ghidra_projects/openssl,\n",
       " /home/cls0027/ghidra_projects/coreutils_dpid,\n",
       " /home/cls0027/ghidra_projects/coreutils]"
      ]
     },
     "execution_count": 3,
     "metadata": {},
     "output_type": "execute_result"
    }
   ],
   "source": [
    "list(pmgr.recentProjects)"
   ]
  },
  {
   "cell_type": "code",
   "execution_count": 4,
   "metadata": {},
   "outputs": [
    {
     "data": {
      "text/plain": [
       "localhost:13100"
      ]
     },
     "execution_count": 4,
     "metadata": {},
     "output_type": "execute_result"
    }
   ],
   "source": [
    "pmgr.mostRecentServerInfo"
   ]
  },
  {
   "cell_type": "code",
   "execution_count": 5,
   "metadata": {},
   "outputs": [
    {
     "data": {
      "text/plain": [
       "localhost:13100"
      ]
     },
     "execution_count": 5,
     "metadata": {},
     "output_type": "execute_result"
    }
   ],
   "source": [
    "adapter = pmgr.getRepositoryServerAdapter('localhost', 13100, True)\n",
    "adapter"
   ]
  },
  {
   "cell_type": "code",
   "execution_count": 6,
   "metadata": {},
   "outputs": [
    {
     "data": {
      "text/plain": [
       "['ANONYMOUS',\n",
       " 'R',\n",
       " 'R2',\n",
       " 'SECOND_source_ast',\n",
       " 'aarch64_astera',\n",
       " 'aarch64test',\n",
       " 'angband',\n",
       " 'another',\n",
       " 'astera',\n",
       " 'astera2',\n",
       " 'astera3',\n",
       " 'astera4',\n",
       " 'astera_O1',\n",
       " 'astera_Og',\n",
       " 'astera_arm64',\n",
       " 'astera_checkaptworks',\n",
       " 'astera_cross',\n",
       " 'astera_instrument',\n",
       " 'bash',\n",
       " 'basic-dataset',\n",
       " 'bc',\n",
       " 'binutils',\n",
       " 'bison',\n",
       " 'busybox',\n",
       " 'c',\n",
       " 'cbasic',\n",
       " 'cflow',\n",
       " 'chipmunk',\n",
       " 'coreutils',\n",
       " 'coreutils_dpid',\n",
       " 'cpp_aarch64test',\n",
       " 'cpp_test',\n",
       " 'cpython',\n",
       " 'cpython_dpid',\n",
       " 'curl',\n",
       " 'demo',\n",
       " 'diffutils',\n",
       " 'dpkg',\n",
       " 'ffmpeg',\n",
       " 'ffmpeg_CHECK',\n",
       " 'ffmpeg_O0',\n",
       " 'ffmpeg_dpid',\n",
       " 'ffmpeg_new_ghidra',\n",
       " 'ffmpeg_redo',\n",
       " 'findutils',\n",
       " 'gawk',\n",
       " 'glfw',\n",
       " 'gmp',\n",
       " 'goaccess',\n",
       " 'greg',\n",
       " 'grep',\n",
       " 'gtypist',\n",
       " 'gzip',\n",
       " 'imagemagick',\n",
       " 'indent',\n",
       " 'inetutils',\n",
       " 'less',\n",
       " 'libmicrohttpd',\n",
       " 'libpng',\n",
       " 'libsodium',\n",
       " 'libtomcrypt',\n",
       " 'libwebsockets',\n",
       " 'musl',\n",
       " 'nano',\n",
       " 'openssl',\n",
       " 'putty',\n",
       " 'quake2',\n",
       " 'redis',\n",
       " 'redis_dpid',\n",
       " 'rizin',\n",
       " 'rizin_dpid',\n",
       " 'sed',\n",
       " 'sg3-utils',\n",
       " 'source_ast',\n",
       " 'sqlite',\n",
       " 'stateformer33',\n",
       " 'systemv',\n",
       " 'test',\n",
       " 'test2',\n",
       " 'test_programs',\n",
       " 'testaaa',\n",
       " 'timing',\n",
       " 'usbutils',\n",
       " 'utillinux',\n",
       " 'vlc',\n",
       " 'vlc_dpid',\n",
       " 'wget',\n",
       " 'wine',\n",
       " 'wine_dpid',\n",
       " 'xrdp',\n",
       " 'zlib']"
      ]
     },
     "execution_count": 6,
     "metadata": {},
     "output_type": "execute_result"
    }
   ],
   "source": [
    "list(adapter.getRepositoryNames())"
   ]
  },
  {
   "cell_type": "code",
   "execution_count": 7,
   "metadata": {},
   "outputs": [],
   "source": [
    "list(adapter.getAllUsers())\n",
    "proj_adapter = adapter.getRepository('astera')\n",
    "# adapter.getRepository('findutils').getItemList('/')\n",
    "proj_adapter.connect()"
   ]
  },
  {
   "cell_type": "code",
   "execution_count": 8,
   "metadata": {},
   "outputs": [
    {
     "data": {
      "text/plain": [
       "<java class 'ghidra.framework.client.RepositoryAdapter'>"
      ]
     },
     "execution_count": 8,
     "metadata": {},
     "output_type": "execute_result"
    }
   ],
   "source": [
    "# list(proj_adapter.getItemList(''))\n",
    "proj_adapter.getItemCount()\n",
    "# proj_adapter.getItemList('')\n",
    "type(proj_adapter)"
   ]
  },
  {
   "cell_type": "code",
   "execution_count": 9,
   "metadata": {},
   "outputs": [
    {
     "data": {
      "text/plain": [
       "<java class 'ghidra.framework.client.RepositoryServerAdapter'>"
      ]
     },
     "execution_count": 9,
     "metadata": {},
     "output_type": "execute_result"
    }
   ],
   "source": [
    "type(adapter)"
   ]
  },
  {
   "cell_type": "code",
   "execution_count": 10,
   "metadata": {},
   "outputs": [],
   "source": [
    "# proj_adapter.get"
   ]
  },
  {
   "cell_type": "code",
   "execution_count": 11,
   "metadata": {},
   "outputs": [
    {
     "data": {
      "text/plain": [
       "ghidra.base.project.GhidraProject@7e31062c"
      ]
     },
     "execution_count": 11,
     "metadata": {},
     "output_type": "execute_result"
    }
   ],
   "source": [
    "from ghidralib.opensharedghidraproject import OpenSharedGhidraProject\n",
    "\n",
    "proj = OpenSharedGhidraProject('localhost', 'astera')\n",
    "proj.__enter__()"
   ]
  },
  {
   "cell_type": "code",
   "execution_count": 12,
   "metadata": {},
   "outputs": [
    {
     "data": {
      "text/plain": [
       "astera-temp-3e882:/"
      ]
     },
     "execution_count": 12,
     "metadata": {},
     "output_type": "execute_result"
    }
   ],
   "source": [
    "root_folder = proj.shared_gp.getRootFolder()\n",
    "root_folder"
   ]
  },
  {
   "cell_type": "code",
   "execution_count": 13,
   "metadata": {},
   "outputs": [
    {
     "data": {
      "text/plain": [
       "[astera-temp-3e882:/run1.gcc-O0.astera,\n",
       " astera-temp-3e882:/run1.x64-gcc-O0.astera]"
      ]
     },
     "execution_count": 13,
     "metadata": {},
     "output_type": "execute_result"
    }
   ],
   "source": [
    "list(root_folder.getFolders())"
   ]
  },
  {
   "cell_type": "code",
   "execution_count": 14,
   "metadata": {},
   "outputs": [
    {
     "data": {
      "text/plain": [
       "[astera-temp-3e882:/run1.x64-gcc-O0.astera/0.sprites,\n",
       " astera-temp-3e882:/run1.x64-gcc-O0.astera/0.sprites.debug,\n",
       " astera-temp-3e882:/run1.x64-gcc-O0.astera/1.debug,\n",
       " astera-temp-3e882:/run1.x64-gcc-O0.astera/1.debug.debug,\n",
       " astera-temp-3e882:/run1.x64-gcc-O0.astera/2.collision,\n",
       " astera-temp-3e882:/run1.x64-gcc-O0.astera/2.collision.debug,\n",
       " astera-temp-3e882:/run1.x64-gcc-O0.astera/3.audio,\n",
       " astera-temp-3e882:/run1.x64-gcc-O0.astera/3.audio.debug,\n",
       " astera-temp-3e882:/run1.x64-gcc-O0.astera/4.config,\n",
       " astera-temp-3e882:/run1.x64-gcc-O0.astera/4.config.debug,\n",
       " astera-temp-3e882:/run1.x64-gcc-O0.astera/5.assets,\n",
       " astera-temp-3e882:/run1.x64-gcc-O0.astera/5.assets.debug,\n",
       " astera-temp-3e882:/run1.x64-gcc-O0.astera/6.fighter,\n",
       " astera-temp-3e882:/run1.x64-gcc-O0.astera/6.fighter.debug,\n",
       " astera-temp-3e882:/run1.x64-gcc-O0.astera/7.input,\n",
       " astera-temp-3e882:/run1.x64-gcc-O0.astera/7.input.debug,\n",
       " astera-temp-3e882:/run1.x64-gcc-O0.astera/8.pakutil,\n",
       " astera-temp-3e882:/run1.x64-gcc-O0.astera/8.pakutil.debug]"
      ]
     },
     "execution_count": 14,
     "metadata": {},
     "output_type": "execute_result"
    }
   ],
   "source": [
    "list(root_folder.getFolder('run1.x64-gcc-O0.astera').getFiles())"
   ]
  },
  {
   "cell_type": "code",
   "execution_count": 15,
   "metadata": {},
   "outputs": [
    {
     "data": {
      "text/plain": [
       "[]"
      ]
     },
     "execution_count": 15,
     "metadata": {},
     "output_type": "execute_result"
    }
   ],
   "source": [
    "list(root_folder.getProjectData().getRepository().getCheckouts('/run1.x64-gcc-O0.astera', '6.fighter'))"
   ]
  },
  {
   "cell_type": "code",
   "execution_count": 16,
   "metadata": {},
   "outputs": [
    {
     "data": {
      "text/plain": [
       "True"
      ]
     },
     "execution_count": 16,
     "metadata": {},
     "output_type": "execute_result"
    }
   ],
   "source": [
    "root_folder.getFolder('run1.x64-gcc-O0.astera').getFile('6.fighter').checkout(False, None)"
   ]
  },
  {
   "cell_type": "code",
   "execution_count": 17,
   "metadata": {},
   "outputs": [],
   "source": [
    "bin_file = root_folder.getFolder('run1.x64-gcc-O0.astera').getFile('6.fighter')"
   ]
  },
  {
   "cell_type": "code",
   "execution_count": 18,
   "metadata": {},
   "outputs": [
    {
     "data": {
      "text/plain": [
       "1"
      ]
     },
     "execution_count": 18,
     "metadata": {},
     "output_type": "execute_result"
    }
   ],
   "source": [
    "bin_file.version"
   ]
  },
  {
   "cell_type": "code",
   "execution_count": 21,
   "metadata": {},
   "outputs": [
    {
     "data": {
      "text/plain": [
       "'/run1.x64-gcc-O0.astera/6.fighter'"
      ]
     },
     "execution_count": 21,
     "metadata": {},
     "output_type": "execute_result"
    }
   ],
   "source": [
    "bin_file.pathname"
   ]
  },
  {
   "cell_type": "code",
   "execution_count": 24,
   "metadata": {},
   "outputs": [
    {
     "data": {
      "text/plain": [
       "'/run1.x64-gcc-O0.astera'"
      ]
     },
     "execution_count": 24,
     "metadata": {},
     "output_type": "execute_result"
    }
   ],
   "source": [
    "bin_file.parent.pathname"
   ]
  },
  {
   "cell_type": "code",
   "execution_count": 22,
   "metadata": {},
   "outputs": [
    {
     "data": {
      "text/plain": [
       "'6.fighter'"
      ]
     },
     "execution_count": 22,
     "metadata": {},
     "output_type": "execute_result"
    }
   ],
   "source": [
    "bin_file.name"
   ]
  },
  {
   "cell_type": "code",
   "execution_count": 26,
   "metadata": {},
   "outputs": [],
   "source": [
    "from ghidralib.ghidraretyper import GhidraRetyper\n",
    "\n",
    "program = proj.shared_gp.openProgram(bin_file.parent.pathname, bin_file.name, False)\n",
    "# GhidraRetyper()"
   ]
  },
  {
   "cell_type": "code",
   "execution_count": 29,
   "metadata": {},
   "outputs": [],
   "source": [
    "retyper = GhidraRetyper(program, reference_db=None)"
   ]
  },
  {
   "cell_type": "code",
   "execution_count": 31,
   "metadata": {},
   "outputs": [
    {
     "data": {
      "text/plain": [
       "{lVar2=ghidra.program.model.pcode.HighSymbol@27691ee8, lVar3=ghidra.program.model.pcode.HighSymbol@78a34c47, param_1=ghidra.program.model.pcode.HighSymbol@77648321, param_2=ghidra.program.model.pcode.HighSymbol@43201f84, uVar1=ghidra.program.model.pcode.HighSymbol@2c51c756}"
      ]
     },
     "execution_count": 31,
     "metadata": {},
     "output_type": "execute_result"
    }
   ],
   "source": [
    "# retyper.set_localvar_type()\n",
    "symbols = retyper.get_function_symbols(0x10a509)\n",
    "symbols"
   ]
  },
  {
   "cell_type": "code",
   "execution_count": 37,
   "metadata": {},
   "outputs": [],
   "source": [
    "dict(symbols)\n",
    "#retyper.set_param_type(0x)\n",
    "retyper.set_localvar_type(symbols['param_1'], datatypes.PointerType(datatypes.BuiltinType('char', False, True, 1), 8))"
   ]
  },
  {
   "cell_type": "code",
   "execution_count": 56,
   "metadata": {},
   "outputs": [],
   "source": [
    "dict(symbols)\n",
    "retyper.set_localvar_type(symbols['lVar2'], datatypes.PointerType(datatypes.BuiltinType('char', False, True, 1), 8))"
   ]
  },
  {
   "cell_type": "code",
   "execution_count": 58,
   "metadata": {},
   "outputs": [],
   "source": [
    "proj.shared_gp.save(program)"
   ]
  },
  {
   "cell_type": "code",
   "execution_count": 65,
   "metadata": {},
   "outputs": [],
   "source": [
    "import ghidra\n",
    "from ghidra.framework.data import DefaultCheckinHandler\n",
    "program.domainFile.checkin(DefaultCheckinHandler('TEST checkin', False, False), True, None)"
   ]
  },
  {
   "cell_type": "code",
   "execution_count": 66,
   "metadata": {},
   "outputs": [
    {
     "data": {
      "text/plain": [
       "True"
      ]
     },
     "execution_count": 66,
     "metadata": {},
     "output_type": "execute_result"
    }
   ],
   "source": [
    "bin_file.versioned"
   ]
  },
  {
   "cell_type": "code",
   "execution_count": 67,
   "metadata": {},
   "outputs": [
    {
     "data": {
      "text/plain": [
       "2"
      ]
     },
     "execution_count": 67,
     "metadata": {},
     "output_type": "execute_result"
    }
   ],
   "source": [
    "bin_file.version"
   ]
  },
  {
   "cell_type": "code",
   "execution_count": 94,
   "metadata": {},
   "outputs": [],
   "source": [
    "bin_file.undoCheckout(False)"
   ]
  },
  {
   "cell_type": "code",
   "execution_count": 68,
   "metadata": {},
   "outputs": [],
   "source": [
    "bin_file.getCheckoutStatus()"
   ]
  },
  {
   "cell_type": "code",
   "execution_count": 69,
   "metadata": {},
   "outputs": [
    {
     "data": {
      "text/plain": [
       "[ghidra.framework.store.Version@5ab3f611,\n",
       " ghidra.framework.store.Version@33425171]"
      ]
     },
     "execution_count": 69,
     "metadata": {},
     "output_type": "execute_result"
    }
   ],
   "source": [
    "list(bin_file.getVersionHistory())"
   ]
  },
  {
   "cell_type": "code",
   "execution_count": 39,
   "metadata": {},
   "outputs": [],
   "source": [
    "\n"
   ]
  },
  {
   "cell_type": "code",
   "execution_count": 45,
   "metadata": {},
   "outputs": [
    {
     "ename": "TypeError",
     "evalue": "No matching overloads found for ghidra.framework.data.GhidraFile.checkin(ghidra.framework.data.DefaultCheckinHandler,ghidra.util.task.ConsoleTaskMonitor), options are:\n\tpublic void ghidra.framework.data.GhidraFile.checkin(ghidra.framework.data.CheckinHandler,boolean,ghidra.util.task.TaskMonitor) throws java.io.IOException,ghidra.util.exception.VersionException,ghidra.util.exception.CancelledException\n",
     "output_type": "error",
     "traceback": [
      "\u001b[0;31m---------------------------------------------------------------------------\u001b[0m",
      "\u001b[0;31mTypeError\u001b[0m                                 Traceback (most recent call last)",
      "Cell \u001b[0;32mIn[45], line 8\u001b[0m\n\u001b[1;32m      4\u001b[0m \u001b[38;5;28;01mfrom\u001b[39;00m \u001b[38;5;21;01mghidra\u001b[39;00m\u001b[38;5;21;01m.\u001b[39;00m\u001b[38;5;21;01mutil\u001b[39;00m\u001b[38;5;21;01m.\u001b[39;00m\u001b[38;5;21;01mtask\u001b[39;00m \u001b[38;5;28;01mimport\u001b[39;00m ConsoleTaskMonitor\n\u001b[1;32m      6\u001b[0m monitor \u001b[38;5;241m=\u001b[39m ConsoleTaskMonitor()\n\u001b[0;32m----> 8\u001b[0m \u001b[43mbin_file\u001b[49m\u001b[38;5;241;43m.\u001b[39;49m\u001b[43mcheckin\u001b[49m\u001b[43m(\u001b[49m\u001b[43mhandler\u001b[49m\u001b[43m,\u001b[49m\u001b[43m \u001b[49m\u001b[43mmonitor\u001b[49m\u001b[43m)\u001b[49m\n",
      "\u001b[0;31mTypeError\u001b[0m: No matching overloads found for ghidra.framework.data.GhidraFile.checkin(ghidra.framework.data.DefaultCheckinHandler,ghidra.util.task.ConsoleTaskMonitor), options are:\n\tpublic void ghidra.framework.data.GhidraFile.checkin(ghidra.framework.data.CheckinHandler,boolean,ghidra.util.task.TaskMonitor) throws java.io.IOException,ghidra.util.exception.VersionException,ghidra.util.exception.CancelledException\n"
     ]
    }
   ],
   "source": [
    "# TODO: we may need to call proj.save(program) first...\n",
    "handler = DefaultCheckinHandler('TEST checkin from python', False, False)\n",
    "#from ghidra.framework.data import CheckinHandler\n",
    "from ghidra.util.task import ConsoleTaskMonitor\n",
    "\n",
    "monitor = ConsoleTaskMonitor()\n",
    "\n",
    "bin_file.checkin(handler, monitor)"
   ]
  },
  {
   "cell_type": "code",
   "execution_count": 93,
   "metadata": {},
   "outputs": [
    {
     "data": {
      "text/plain": [
       "[ghidra.framework.store.ItemCheckoutStatus@6621def8]"
      ]
     },
     "execution_count": 93,
     "metadata": {},
     "output_type": "execute_result"
    }
   ],
   "source": [
    "#co_id = bin_file.getCheckouts()[0].getCheckoutId()\n",
    "list(bin_file.getCheckouts())"
   ]
  },
  {
   "cell_type": "code",
   "execution_count": 60,
   "metadata": {},
   "outputs": [],
   "source": [
    "# terminates a checkout:\n",
    "#bin_file.terminateCheckout(co_id)"
   ]
  },
  {
   "cell_type": "code",
   "execution_count": 54,
   "metadata": {},
   "outputs": [
    {
     "data": {
      "text/plain": [
       "'cls0027'"
      ]
     },
     "execution_count": 54,
     "metadata": {},
     "output_type": "execute_result"
    }
   ],
   "source": [
    "#list(root_folder.getFolder('run1.x64-gcc-O0.astera').getFile('6.fighter').getCheckouts())[0].getUser()"
   ]
  },
  {
   "cell_type": "code",
   "execution_count": 95,
   "metadata": {},
   "outputs": [],
   "source": [
    "proj.__exit__(None, None, None)"
   ]
  }
 ],
 "metadata": {
  "kernelspec": {
   "display_name": "phd",
   "language": "python",
   "name": "python3"
  },
  "language_info": {
   "codemirror_mode": {
    "name": "ipython",
    "version": 3
   },
   "file_extension": ".py",
   "mimetype": "text/x-python",
   "name": "python",
   "nbconvert_exporter": "python",
   "pygments_lexer": "ipython3",
   "version": "3.8.10"
  }
 },
 "nbformat": 4,
 "nbformat_minor": 2
}
