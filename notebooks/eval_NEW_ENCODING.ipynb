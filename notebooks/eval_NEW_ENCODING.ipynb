{
 "cells": [
  {
   "cell_type": "code",
   "execution_count": null,
   "metadata": {},
   "outputs": [],
   "source": [
    "# TODO: implement/test eval functionality for new encoding here, ONE PIECE AT A TIME\n",
    "# (bring pieces over from eval notebook as needed...)\n",
    "\n",
    "# leaf category should be the only output currently...START HERE!!\n",
    "\n",
    "# TODO - use NEW_ENCODING astera dataset and NEW_ENCODING dragom model\n",
    "    # --> will have to recreate the DRAGON model each time I add a new output...\n",
    "# TODO - test BATCHES\n",
    "# TODO - add the rest of the outputs one by one...\n",
    "# TODO - put each individual predicted output in a column (so we can compute individual accuracies)\n",
    "# TODO - once all outputs present, convert to a data type prediction (type_seq string?)\n",
    "#        and evaluate accuracy of the whole prediction\n"
   ]
  }
 ],
 "metadata": {
  "language_info": {
   "name": "python"
  }
 },
 "nbformat": 4,
 "nbformat_minor": 2
}
