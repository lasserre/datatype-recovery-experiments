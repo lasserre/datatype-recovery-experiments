{
 "cells": [
  {
   "cell_type": "code",
   "execution_count": 1,
   "metadata": {},
   "outputs": [],
   "source": [
    "from pathlib import Path\n",
    "import pandas as pd\n",
    "pd.set_option('display.max_colwidth', 20)   # JSON columns make things look weird in notebook without this\n",
    "pd.options.mode.copy_on_write = True        # TESTING THIS..."
   ]
  },
  {
   "cell_type": "code",
   "execution_count": 8,
   "metadata": {},
   "outputs": [
    {
     "name": "stdout",
     "output_type": "stream",
     "text": [
      "x64.O0.base.model-make-prime-list.preds.csv\n"
     ]
    }
   ],
   "source": [
    "!ls ~/dev/TYGR/output.tygr/"
   ]
  },
  {
   "cell_type": "code",
   "execution_count": 28,
   "metadata": {},
   "outputs": [
    {
     "name": "stdout",
     "output_type": "stream",
     "text": [
      "x64.O0.base\n",
      "make-prime-list\n"
     ]
    }
   ],
   "source": [
    "tygr_outfolder = Path.home()/'dev/TYGR/output.tygr'\n",
    "\n",
    "for tygr_csv in tygr_outfolder.glob('*.csv'):\n",
    "    filestem = Path(tygr_csv.stem).stem     # remove .preds.csv\n",
    "    model_name, binary_name = filestem.split('.model-')\n",
    "    print(model_name)\n",
    "    print(binary_name)\n",
    "    tdf = pd.read_csv(tygr_csv)"
   ]
  },
  {
   "cell_type": "code",
   "execution_count": null,
   "metadata": {},
   "outputs": [],
   "source": [
    "# FROM TYGR:\n",
    "\n",
    "# for ty in allType:\n",
    "#     for predRes in result:\n",
    "#       if ty in predRes:\n",
    "#           # actual type & predicted type\n",
    "#           if ty == predRes[0] and ty == predRes[1]:\n",
    "#               tP += 1\n",
    "#           elif ty == predRes[0] and ty != predRes[1]:\n",
    "#               fN += 1\n",
    "#           elif ty != predRes[0] and ty == predRes[1]:\n",
    "#               fP += 1\n",
    "\n"
   ]
  },
  {
   "cell_type": "code",
   "execution_count": 33,
   "metadata": {},
   "outputs": [
    {
     "data": {
      "text/html": [
       "<pre style=\"white-space:pre;overflow-x:auto;line-height:normal;font-family:Menlo,'DejaVu Sans Mono',consolas,'Courier New',monospace\"><span style=\"color: #008000; text-decoration-color: #008000\">PredType metric Metrics Summary</span>\n",
       "</pre>\n"
      ],
      "text/plain": [
       "\u001b[32mPredType metric Metrics Summary\u001b[0m\n"
      ]
     },
     "metadata": {},
     "output_type": "display_data"
    },
    {
     "data": {
      "text/html": [
       "<pre style=\"white-space:pre;overflow-x:auto;line-height:normal;font-family:Menlo,'DejaVu Sans Mono',consolas,'Courier New',monospace\">PredType vs. Type <span style=\"font-weight: bold\">(</span>dataset size = <span style=\"color: #008080; text-decoration-color: #008080; font-weight: bold\">370</span><span style=\"font-weight: bold\">)</span>\n",
       "</pre>\n"
      ],
      "text/plain": [
       "PredType vs. Type \u001b[1m(\u001b[0mdataset size = \u001b[1;36m370\u001b[0m\u001b[1m)\u001b[0m\n"
      ]
     },
     "metadata": {},
     "output_type": "display_data"
    },
    {
     "data": {
      "text/html": [
       "<pre style=\"white-space:pre;overflow-x:auto;line-height:normal;font-family:Menlo,'DejaVu Sans Mono',consolas,'Courier New',monospace\">Accuracy: <span style=\"color: #008080; text-decoration-color: #008080; font-weight: bold\">69.19</span>%\n",
       "</pre>\n"
      ],
      "text/plain": [
       "Accuracy: \u001b[1;36m69.19\u001b[0m%\n"
      ]
     },
     "metadata": {},
     "output_type": "display_data"
    }
   ],
   "source": [
    "from datatype_recovery.eval_dataset import PandasEvalMetrics\n",
    "\n",
    "PandasEvalMetrics(tdf, 'Type','PredType').print_summary()"
   ]
  }
 ],
 "metadata": {
  "kernelspec": {
   "display_name": "phd",
   "language": "python",
   "name": "python3"
  },
  "language_info": {
   "codemirror_mode": {
    "name": "ipython",
    "version": 3
   },
   "file_extension": ".py",
   "mimetype": "text/x-python",
   "name": "python",
   "nbconvert_exporter": "python",
   "pygments_lexer": "ipython3",
   "version": "3.8.10"
  }
 },
 "nbformat": 4,
 "nbformat_minor": 2
}
