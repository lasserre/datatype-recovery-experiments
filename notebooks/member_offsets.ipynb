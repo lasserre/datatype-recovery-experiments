{
 "cells": [
  {
   "cell_type": "code",
   "execution_count": 1,
   "metadata": {},
   "outputs": [],
   "source": [
    "from pathlib import Path\n",
    "\n",
    "funcs_csv = Path('/home/cls0027/exp_builds/astera.exp/rundata/run1/0.fighter/functions.csv')\n",
    "locals_csv = Path('/home/cls0027/exp_builds/astera.exp/rundata/run1/0.fighter/locals.csv')\n",
    "\n",
    "import pandas as pd\n",
    "pd.set_option('display.max_colwidth', 20)   # JSON columns make things look weird in notebook without this\n",
    "\n",
    "\n",
    "funcs_df = pd.read_csv(funcs_csv)\n",
    "locals_df = pd.read_csv(locals_csv)"
   ]
  },
  {
   "cell_type": "code",
   "execution_count": 2,
   "metadata": {},
   "outputs": [],
   "source": [
    "from astlib import StructDatabase\n",
    "#!ls ~/exp_builds/astera.exp/rundata/run1/0.fighter/0.fighter.debug.sdb\n",
    "\n",
    "debug_sdb_file = Path.home()/'exp_builds/astera.exp/rundata/run1/0.fighter/0.fighter.debug.sdb'\n",
    "sdb = StructDatabase.from_json(debug_sdb_file)"
   ]
  },
  {
   "cell_type": "code",
   "execution_count": 3,
   "metadata": {},
   "outputs": [
    {
     "data": {
      "text/plain": [
       "struct r_camera {\n",
       "\t0x0: float[3] position\n",
       "\t0xc: float[2] size\n",
       "\t0x14: float rotation\n",
       "\t0x18: float[4][4] view\n",
       "\t0x58: float[4][4] projection\n",
       "\t0x98: float near\n",
       "\t0x9c: float far\n",
       "}"
      ]
     },
     "execution_count": 3,
     "metadata": {},
     "output_type": "execute_result"
    }
   ],
   "source": [
    "sid = sdb.sids_by_name['r_camera'][0]\n",
    "sdb.structs_by_id[sid]"
   ]
  },
  {
   "cell_type": "code",
   "execution_count": 4,
   "metadata": {},
   "outputs": [
    {
     "data": {
      "text/html": [
       "<div>\n",
       "<style scoped>\n",
       "    .dataframe tbody tr th:only-of-type {\n",
       "        vertical-align: middle;\n",
       "    }\n",
       "\n",
       "    .dataframe tbody tr th {\n",
       "        vertical-align: top;\n",
       "    }\n",
       "\n",
       "    .dataframe thead th {\n",
       "        text-align: right;\n",
       "    }\n",
       "</style>\n",
       "<table border=\"1\" class=\"dataframe\">\n",
       "  <thead>\n",
       "    <tr style=\"text-align: right;\">\n",
       "      <th></th>\n",
       "      <th>FunctionStart</th>\n",
       "      <th>Signature</th>\n",
       "      <th>Name_Strip</th>\n",
       "      <th>Type_Strip</th>\n",
       "      <th>LocType_Strip</th>\n",
       "      <th>LocRegName_Strip</th>\n",
       "      <th>LocOffset_Strip</th>\n",
       "      <th>TypeCategory_Strip</th>\n",
       "      <th>TypeSeq_Strip</th>\n",
       "      <th>Name_Debug</th>\n",
       "      <th>Type_Debug</th>\n",
       "      <th>LocType_Debug</th>\n",
       "      <th>LocRegName_Debug</th>\n",
       "      <th>LocOffset_Debug</th>\n",
       "      <th>TypeCategory_Debug</th>\n",
       "      <th>HasDWARF</th>\n",
       "      <th>TypeJson_Debug</th>\n",
       "      <th>BinaryId</th>\n",
       "    </tr>\n",
       "    <tr>\n",
       "      <th>TypeSeq_Debug</th>\n",
       "      <th></th>\n",
       "      <th></th>\n",
       "      <th></th>\n",
       "      <th></th>\n",
       "      <th></th>\n",
       "      <th></th>\n",
       "      <th></th>\n",
       "      <th></th>\n",
       "      <th></th>\n",
       "      <th></th>\n",
       "      <th></th>\n",
       "      <th></th>\n",
       "      <th></th>\n",
       "      <th></th>\n",
       "      <th></th>\n",
       "      <th></th>\n",
       "      <th></th>\n",
       "      <th></th>\n",
       "    </tr>\n",
       "  </thead>\n",
       "  <tbody>\n",
       "    <tr>\n",
       "      <th>ARR,STRUCT</th>\n",
       "      <td>4</td>\n",
       "      <td>4</td>\n",
       "      <td>4</td>\n",
       "      <td>4</td>\n",
       "      <td>4</td>\n",
       "      <td>0</td>\n",
       "      <td>4</td>\n",
       "      <td>4</td>\n",
       "      <td>4</td>\n",
       "      <td>4</td>\n",
       "      <td>4</td>\n",
       "      <td>4</td>\n",
       "      <td>0</td>\n",
       "      <td>4</td>\n",
       "      <td>4</td>\n",
       "      <td>4</td>\n",
       "      <td>4</td>\n",
       "      <td>4</td>\n",
       "    </tr>\n",
       "    <tr>\n",
       "      <th>PTR,PTR,STRUCT</th>\n",
       "      <td>10</td>\n",
       "      <td>10</td>\n",
       "      <td>10</td>\n",
       "      <td>10</td>\n",
       "      <td>10</td>\n",
       "      <td>4</td>\n",
       "      <td>10</td>\n",
       "      <td>10</td>\n",
       "      <td>10</td>\n",
       "      <td>10</td>\n",
       "      <td>10</td>\n",
       "      <td>10</td>\n",
       "      <td>4</td>\n",
       "      <td>10</td>\n",
       "      <td>10</td>\n",
       "      <td>10</td>\n",
       "      <td>10</td>\n",
       "      <td>10</td>\n",
       "    </tr>\n",
       "    <tr>\n",
       "      <th>PTR,STRUCT</th>\n",
       "      <td>444</td>\n",
       "      <td>444</td>\n",
       "      <td>444</td>\n",
       "      <td>444</td>\n",
       "      <td>444</td>\n",
       "      <td>242</td>\n",
       "      <td>444</td>\n",
       "      <td>444</td>\n",
       "      <td>444</td>\n",
       "      <td>444</td>\n",
       "      <td>444</td>\n",
       "      <td>444</td>\n",
       "      <td>242</td>\n",
       "      <td>444</td>\n",
       "      <td>444</td>\n",
       "      <td>444</td>\n",
       "      <td>444</td>\n",
       "      <td>444</td>\n",
       "    </tr>\n",
       "    <tr>\n",
       "      <th>STRUCT</th>\n",
       "      <td>59</td>\n",
       "      <td>59</td>\n",
       "      <td>59</td>\n",
       "      <td>59</td>\n",
       "      <td>59</td>\n",
       "      <td>0</td>\n",
       "      <td>59</td>\n",
       "      <td>59</td>\n",
       "      <td>59</td>\n",
       "      <td>59</td>\n",
       "      <td>59</td>\n",
       "      <td>59</td>\n",
       "      <td>0</td>\n",
       "      <td>59</td>\n",
       "      <td>59</td>\n",
       "      <td>59</td>\n",
       "      <td>59</td>\n",
       "      <td>59</td>\n",
       "    </tr>\n",
       "  </tbody>\n",
       "</table>\n",
       "</div>"
      ],
      "text/plain": [
       "                FunctionStart  Signature  Name_Strip  Type_Strip   \n",
       "TypeSeq_Debug                                                      \n",
       "ARR,STRUCT                  4          4           4           4  \\\n",
       "PTR,PTR,STRUCT             10         10          10          10   \n",
       "PTR,STRUCT                444        444         444         444   \n",
       "STRUCT                     59         59          59          59   \n",
       "\n",
       "                LocType_Strip  LocRegName_Strip  LocOffset_Strip   \n",
       "TypeSeq_Debug                                                      \n",
       "ARR,STRUCT                  4                 0                4  \\\n",
       "PTR,PTR,STRUCT             10                 4               10   \n",
       "PTR,STRUCT                444               242              444   \n",
       "STRUCT                     59                 0               59   \n",
       "\n",
       "                TypeCategory_Strip  TypeSeq_Strip  Name_Debug  Type_Debug   \n",
       "TypeSeq_Debug                                                               \n",
       "ARR,STRUCT                       4              4           4           4  \\\n",
       "PTR,PTR,STRUCT                  10             10          10          10   \n",
       "PTR,STRUCT                     444            444         444         444   \n",
       "STRUCT                          59             59          59          59   \n",
       "\n",
       "                LocType_Debug  LocRegName_Debug  LocOffset_Debug   \n",
       "TypeSeq_Debug                                                      \n",
       "ARR,STRUCT                  4                 0                4  \\\n",
       "PTR,PTR,STRUCT             10                 4               10   \n",
       "PTR,STRUCT                444               242              444   \n",
       "STRUCT                     59                 0               59   \n",
       "\n",
       "                TypeCategory_Debug  HasDWARF  TypeJson_Debug  BinaryId  \n",
       "TypeSeq_Debug                                                           \n",
       "ARR,STRUCT                       4         4               4         4  \n",
       "PTR,PTR,STRUCT                  10        10              10        10  \n",
       "PTR,STRUCT                     444       444             444       444  \n",
       "STRUCT                          59        59              59        59  "
      ]
     },
     "execution_count": 4,
     "metadata": {},
     "output_type": "execute_result"
    }
   ],
   "source": [
    "locals_df.loc[locals_df.TypeSeq_Debug.apply(lambda x: 'STRUCT' in x)].groupby('TypeSeq_Debug').count()"
   ]
  },
  {
   "cell_type": "code",
   "execution_count": 5,
   "metadata": {},
   "outputs": [
    {
     "data": {
      "text/plain": [
       "FunctionStart                     1325033\n",
       "Signature                        27,64,89\n",
       "Name_Strip                          lVar2\n",
       "Type_Strip                          int64\n",
       "LocType_Strip                    register\n",
       "LocRegName_Strip                      rax\n",
       "LocOffset_Strip                         0\n",
       "TypeCategory_Strip                BUILTIN\n",
       "TypeSeq_Strip                       int64\n",
       "Name_Debug                          asset\n",
       "Type_Debug                       asset_t*\n",
       "LocType_Debug                    register\n",
       "LocRegName_Debug                      rax\n",
       "LocOffset_Debug                       0.0\n",
       "TypeCategory_Debug                    PTR\n",
       "TypeSeq_Debug                  PTR,STRUCT\n",
       "HasDWARF                            False\n",
       "TypeJson_Debug        {\"kind\": \"Pointe...\n",
       "BinaryId                                0\n",
       "Name: 16, dtype: object"
      ]
     },
     "execution_count": 5,
     "metadata": {},
     "output_type": "execute_result"
    }
   ],
   "source": [
    "# start with PTR->STRUCT, this is likely the easiest\n",
    "\n",
    "var_row = locals_df[locals_df.TypeSeq_Debug=='PTR,STRUCT'].iloc[0]\n",
    "var_row"
   ]
  },
  {
   "cell_type": "markdown",
   "metadata": {},
   "source": [
    "Read datatype from JSON, since we have the struct db we have the layout:"
   ]
  },
  {
   "cell_type": "code",
   "execution_count": 19,
   "metadata": {},
   "outputs": [
    {
     "data": {
      "text/plain": [
       "0x0: uint32 uid\n",
       "0x8: uchar* data\n",
       "0x10: uint32 data_length\n",
       "0x18: char* name\n",
       "0x20: int32 chunk_start\n",
       "0x24: int32 chunk_length\n",
       "0x28: uchar fs\n",
       "0x29: uchar filled\n",
       "0x2a: uchar req\n",
       "0x2b: uchar req_free\n",
       "0x2c: uchar chunk"
      ]
     },
     "execution_count": 19,
     "metadata": {},
     "output_type": "execute_result"
    }
   ],
   "source": [
    "import astlib\n",
    "from varlib.datatype import datatype_from_json_str\n",
    "\n",
    "dt = datatype_from_json_str(var_row.TypeJson_Debug, sdb)\n",
    "dt.pointed_to.layout"
   ]
  },
  {
   "cell_type": "markdown",
   "metadata": {},
   "source": [
    "Ok, so let's collect all the member accesses from the Debug AST for this variable"
   ]
  },
  {
   "cell_type": "code",
   "execution_count": 33,
   "metadata": {},
   "outputs": [
    {
     "name": "stdout",
     "output_type": "stream",
     "text": [
      "Binary: 0, func 0x1437e9, local var \"asset\"\n"
     ]
    }
   ],
   "source": [
    "var_name = var_row.Name_Debug\n",
    "func_addr = var_row.FunctionStart\n",
    "bin_id = var_row.BinaryId\n",
    "print(f'Binary: {bin_id}, func {func_addr:#x}, local var \"{var_name}\"end=')"
   ]
  },
  {
   "cell_type": "code",
   "execution_count": 47,
   "metadata": {},
   "outputs": [],
   "source": [
    "debug_ast_jsonfile = funcs_df[funcs_df.FunctionStart==func_addr].iloc[0].AstJson_Debug\n",
    "ast = astlib.read_json(debug_ast_jsonfile, sdb)"
   ]
  },
  {
   "cell_type": "markdown",
   "metadata": {},
   "source": [
    "**pick up here**"
   ]
  },
  {
   "cell_type": "code",
   "execution_count": 73,
   "metadata": {},
   "outputs": [
    {
     "data": {
      "text/plain": [
       "struct asset_t {\n",
       "\t0x0: uint32 uid\n",
       "\t0x8: uchar* data\n",
       "\t0x10: uint32 data_length\n",
       "\t0x18: char* name\n",
       "\t0x20: int32 chunk_start\n",
       "\t0x24: int32 chunk_length\n",
       "\t0x28: uchar fs\n",
       "\t0x29: uchar filled\n",
       "\t0x2a: uchar req\n",
       "\t0x2b: uchar req_free\n",
       "\t0x2c: uchar chunk\n",
       "}"
      ]
     },
     "execution_count": 73,
     "metadata": {},
     "output_type": "execute_result"
    }
   ],
   "source": [
    "# --------------------------------------------------\n",
    "# TODO: pick up here and VISIT the AST to collect all MemberExpr\n",
    "# nodes that involve our target variable\n",
    "# --------------------------------------------------\n",
    "# --> or collect ALL MemberExprs and try to map each of them to StripAST\n",
    "\n",
    "# NOTE: see initial start on implementation in basic_dataset for reference...\n",
    "\n",
    "vdecl = ast.inner[-1].inner[-1].inner[1].inner[0]\n",
    "vdecl.dtype.pointed_to"
   ]
  },
  {
   "cell_type": "code",
   "execution_count": 16,
   "metadata": {},
   "outputs": [
    {
     "name": "stdout",
     "output_type": "stream",
     "text": [
      "/home/cls0027/exp_builds/astera.exp/rundata/run1/0.fighter/0.fighter.debug.sdb\n",
      "/home/cls0027/exp_builds/astera.exp/rundata/run1/0.fighter/0.fighter.sdb\n",
      "/home/cls0027/exp_builds/astera.exp/rundata/run1/0.fighter/fighter.dwarf.sdb\n"
     ]
    }
   ],
   "source": [
    "#!ls ~/exp_builds/astera.exp/rundata/run1/0.fighter/*.sdb"
   ]
  }
 ],
 "metadata": {
  "kernelspec": {
   "display_name": "phd",
   "language": "python",
   "name": "python3"
  },
  "language_info": {
   "codemirror_mode": {
    "name": "ipython",
    "version": 3
   },
   "file_extension": ".py",
   "mimetype": "text/x-python",
   "name": "python",
   "nbconvert_exporter": "python",
   "pygments_lexer": "ipython3",
   "version": "3.8.10"
  }
 },
 "nbformat": 4,
 "nbformat_minor": 2
}
