{
 "cells": [
  {
   "cell_type": "code",
   "execution_count": 1,
   "metadata": {},
   "outputs": [],
   "source": [
    "from pathlib import Path\n",
    "\n",
    "funcs_csv = Path('/home/cls0027/exp_builds/astera.exp/rundata/run1/6.fighter/functions.csv')\n",
    "locals_csv = Path('/home/cls0027/exp_builds/astera.exp/rundata/run1/6.fighter/locals.csv')\n",
    "\n",
    "import pandas as pd\n",
    "pd.set_option('display.max_colwidth', 20)   # JSON columns make things look weird in notebook without this\n",
    "\n",
    "# TODO: TESTING THIS...\n",
    "pd.options.mode.copy_on_write = True\n",
    "\n",
    "# NOTE: once this works, may want to adjust to work with overall csv files (not binary-specific)\n",
    "funcs_df = pd.read_csv(funcs_csv)\n",
    "locals_df = pd.read_csv(locals_csv)"
   ]
  },
  {
   "cell_type": "code",
   "execution_count": 2,
   "metadata": {},
   "outputs": [],
   "source": [
    "from astlib import StructDatabase\n",
    "#!ls ~/exp_builds/astera.exp/rundata/run1/0.fighter/0.fighter.debug.sdb\n",
    "\n",
    "debug_sdb_file = Path.home()/'exp_builds/astera.exp/rundata/run1/6.fighter/6.fighter.debug.sdb'\n",
    "strip_sdb_file = Path.home()/'exp_builds/astera.exp/rundata/run1/6.fighter/6.fighter.sdb'\n",
    "sdb = StructDatabase.from_json(debug_sdb_file)\n",
    "strip_sdb = StructDatabase.from_json(strip_sdb_file)"
   ]
  },
  {
   "cell_type": "code",
   "execution_count": 3,
   "metadata": {},
   "outputs": [
    {
     "data": {
      "text/plain": [
       "struct r_camera {\n",
       "\t0x0: float[3] position\n",
       "\t0xc: float[2] size\n",
       "\t0x14: float rotation\n",
       "\t0x18: float[4][4] view\n",
       "\t0x58: float[4][4] projection\n",
       "\t0x98: float near\n",
       "\t0x9c: float far\n",
       "}"
      ]
     },
     "execution_count": 3,
     "metadata": {},
     "output_type": "execute_result"
    }
   ],
   "source": [
    "sid = sdb.sids_by_name['r_camera'][0]\n",
    "sdb.structs_by_id[sid]"
   ]
  },
  {
   "cell_type": "code",
   "execution_count": 4,
   "metadata": {},
   "outputs": [
    {
     "data": {
      "text/html": [
       "<div>\n",
       "<style scoped>\n",
       "    .dataframe tbody tr th:only-of-type {\n",
       "        vertical-align: middle;\n",
       "    }\n",
       "\n",
       "    .dataframe tbody tr th {\n",
       "        vertical-align: top;\n",
       "    }\n",
       "\n",
       "    .dataframe thead th {\n",
       "        text-align: right;\n",
       "    }\n",
       "</style>\n",
       "<table border=\"1\" class=\"dataframe\">\n",
       "  <thead>\n",
       "    <tr style=\"text-align: right;\">\n",
       "      <th></th>\n",
       "      <th>FunctionStart</th>\n",
       "      <th>Signature</th>\n",
       "      <th>Name_Strip</th>\n",
       "      <th>Type_Strip</th>\n",
       "      <th>LocType_Strip</th>\n",
       "      <th>LocRegName_Strip</th>\n",
       "      <th>LocOffset_Strip</th>\n",
       "      <th>TypeCategory_Strip</th>\n",
       "      <th>TypeSeq_Strip</th>\n",
       "      <th>Name_Debug</th>\n",
       "      <th>Type_Debug</th>\n",
       "      <th>LocType_Debug</th>\n",
       "      <th>LocRegName_Debug</th>\n",
       "      <th>LocOffset_Debug</th>\n",
       "      <th>TypeCategory_Debug</th>\n",
       "      <th>HasDWARF</th>\n",
       "      <th>TypeJson_Debug</th>\n",
       "      <th>BinaryId</th>\n",
       "    </tr>\n",
       "    <tr>\n",
       "      <th>TypeSeq_Debug</th>\n",
       "      <th></th>\n",
       "      <th></th>\n",
       "      <th></th>\n",
       "      <th></th>\n",
       "      <th></th>\n",
       "      <th></th>\n",
       "      <th></th>\n",
       "      <th></th>\n",
       "      <th></th>\n",
       "      <th></th>\n",
       "      <th></th>\n",
       "      <th></th>\n",
       "      <th></th>\n",
       "      <th></th>\n",
       "      <th></th>\n",
       "      <th></th>\n",
       "      <th></th>\n",
       "      <th></th>\n",
       "    </tr>\n",
       "  </thead>\n",
       "  <tbody>\n",
       "    <tr>\n",
       "      <th>ARR,STRUCT</th>\n",
       "      <td>4</td>\n",
       "      <td>4</td>\n",
       "      <td>4</td>\n",
       "      <td>4</td>\n",
       "      <td>4</td>\n",
       "      <td>0</td>\n",
       "      <td>4</td>\n",
       "      <td>4</td>\n",
       "      <td>4</td>\n",
       "      <td>4</td>\n",
       "      <td>4</td>\n",
       "      <td>4</td>\n",
       "      <td>0</td>\n",
       "      <td>4</td>\n",
       "      <td>4</td>\n",
       "      <td>4</td>\n",
       "      <td>4</td>\n",
       "      <td>4</td>\n",
       "    </tr>\n",
       "    <tr>\n",
       "      <th>PTR,PTR,STRUCT</th>\n",
       "      <td>10</td>\n",
       "      <td>10</td>\n",
       "      <td>10</td>\n",
       "      <td>10</td>\n",
       "      <td>10</td>\n",
       "      <td>4</td>\n",
       "      <td>10</td>\n",
       "      <td>10</td>\n",
       "      <td>10</td>\n",
       "      <td>10</td>\n",
       "      <td>10</td>\n",
       "      <td>10</td>\n",
       "      <td>4</td>\n",
       "      <td>10</td>\n",
       "      <td>10</td>\n",
       "      <td>10</td>\n",
       "      <td>10</td>\n",
       "      <td>10</td>\n",
       "    </tr>\n",
       "    <tr>\n",
       "      <th>PTR,STRUCT</th>\n",
       "      <td>444</td>\n",
       "      <td>444</td>\n",
       "      <td>444</td>\n",
       "      <td>444</td>\n",
       "      <td>444</td>\n",
       "      <td>242</td>\n",
       "      <td>444</td>\n",
       "      <td>444</td>\n",
       "      <td>444</td>\n",
       "      <td>444</td>\n",
       "      <td>444</td>\n",
       "      <td>444</td>\n",
       "      <td>242</td>\n",
       "      <td>444</td>\n",
       "      <td>444</td>\n",
       "      <td>444</td>\n",
       "      <td>444</td>\n",
       "      <td>444</td>\n",
       "    </tr>\n",
       "    <tr>\n",
       "      <th>STRUCT</th>\n",
       "      <td>59</td>\n",
       "      <td>59</td>\n",
       "      <td>59</td>\n",
       "      <td>59</td>\n",
       "      <td>59</td>\n",
       "      <td>0</td>\n",
       "      <td>59</td>\n",
       "      <td>59</td>\n",
       "      <td>59</td>\n",
       "      <td>59</td>\n",
       "      <td>59</td>\n",
       "      <td>59</td>\n",
       "      <td>0</td>\n",
       "      <td>59</td>\n",
       "      <td>59</td>\n",
       "      <td>59</td>\n",
       "      <td>59</td>\n",
       "      <td>59</td>\n",
       "    </tr>\n",
       "  </tbody>\n",
       "</table>\n",
       "</div>"
      ],
      "text/plain": [
       "                FunctionStart  Signature  Name_Strip  Type_Strip   \n",
       "TypeSeq_Debug                                                      \n",
       "ARR,STRUCT                  4          4           4           4  \\\n",
       "PTR,PTR,STRUCT             10         10          10          10   \n",
       "PTR,STRUCT                444        444         444         444   \n",
       "STRUCT                     59         59          59          59   \n",
       "\n",
       "                LocType_Strip  LocRegName_Strip  LocOffset_Strip   \n",
       "TypeSeq_Debug                                                      \n",
       "ARR,STRUCT                  4                 0                4  \\\n",
       "PTR,PTR,STRUCT             10                 4               10   \n",
       "PTR,STRUCT                444               242              444   \n",
       "STRUCT                     59                 0               59   \n",
       "\n",
       "                TypeCategory_Strip  TypeSeq_Strip  Name_Debug  Type_Debug   \n",
       "TypeSeq_Debug                                                               \n",
       "ARR,STRUCT                       4              4           4           4  \\\n",
       "PTR,PTR,STRUCT                  10             10          10          10   \n",
       "PTR,STRUCT                     444            444         444         444   \n",
       "STRUCT                          59             59          59          59   \n",
       "\n",
       "                LocType_Debug  LocRegName_Debug  LocOffset_Debug   \n",
       "TypeSeq_Debug                                                      \n",
       "ARR,STRUCT                  4                 0                4  \\\n",
       "PTR,PTR,STRUCT             10                 4               10   \n",
       "PTR,STRUCT                444               242              444   \n",
       "STRUCT                     59                 0               59   \n",
       "\n",
       "                TypeCategory_Debug  HasDWARF  TypeJson_Debug  BinaryId  \n",
       "TypeSeq_Debug                                                           \n",
       "ARR,STRUCT                       4         4               4         4  \n",
       "PTR,PTR,STRUCT                  10        10              10        10  \n",
       "PTR,STRUCT                     444       444             444       444  \n",
       "STRUCT                          59        59              59        59  "
      ]
     },
     "execution_count": 4,
     "metadata": {},
     "output_type": "execute_result"
    }
   ],
   "source": [
    "locals_df.loc[locals_df.TypeSeq_Debug.apply(lambda x: 'STRUCT' in x)].groupby('TypeSeq_Debug').count()"
   ]
  },
  {
   "cell_type": "code",
   "execution_count": 5,
   "metadata": {},
   "outputs": [
    {
     "data": {
      "text/plain": [
       "FunctionStart                     1090825\n",
       "Signature                        27,64,89\n",
       "Name_Strip                          lVar2\n",
       "Type_Strip                          int64\n",
       "LocType_Strip                    register\n",
       "LocRegName_Strip                      rax\n",
       "LocOffset_Strip                         0\n",
       "TypeCategory_Strip                BUILTIN\n",
       "TypeSeq_Strip                       int64\n",
       "Name_Debug                          asset\n",
       "Type_Debug                       asset_t*\n",
       "LocType_Debug                    register\n",
       "LocRegName_Debug                      rax\n",
       "LocOffset_Debug                       0.0\n",
       "TypeCategory_Debug                    PTR\n",
       "TypeSeq_Debug                  PTR,STRUCT\n",
       "HasDWARF                            False\n",
       "TypeJson_Debug        {\"kind\": \"Pointe...\n",
       "BinaryId                                6\n",
       "Name: 15, dtype: object"
      ]
     },
     "execution_count": 5,
     "metadata": {},
     "output_type": "execute_result"
    }
   ],
   "source": [
    "# start with PTR->STRUCT, this is likely the easiest\n",
    "\n",
    "var_row = locals_df[locals_df.TypeSeq_Debug=='PTR,STRUCT'].iloc[0]\n",
    "var_row"
   ]
  },
  {
   "cell_type": "markdown",
   "metadata": {},
   "source": [
    "Read datatype from JSON, since we have the struct db we have the layout:"
   ]
  },
  {
   "cell_type": "code",
   "execution_count": 6,
   "metadata": {},
   "outputs": [
    {
     "data": {
      "text/plain": [
       "0x0: uint32 uid\n",
       "0x8: uchar* data\n",
       "0x10: uint32 data_length\n",
       "0x18: char* name\n",
       "0x20: int32 chunk_start\n",
       "0x24: int32 chunk_length\n",
       "0x28: uchar fs\n",
       "0x29: uchar filled\n",
       "0x2a: uchar req\n",
       "0x2b: uchar req_free\n",
       "0x2c: uchar chunk"
      ]
     },
     "execution_count": 6,
     "metadata": {},
     "output_type": "execute_result"
    }
   ],
   "source": [
    "import astlib\n",
    "from varlib.datatype import datatype_from_json_str\n",
    "\n",
    "dt = datatype_from_json_str(var_row.TypeJson_Debug, sdb)\n",
    "dt.pointed_to.layout"
   ]
  },
  {
   "cell_type": "markdown",
   "metadata": {},
   "source": [
    "Ok, so let's collect all the member accesses from the Debug AST for this variable"
   ]
  },
  {
   "cell_type": "code",
   "execution_count": 7,
   "metadata": {},
   "outputs": [
    {
     "name": "stdout",
     "output_type": "stream",
     "text": [
      "Binary: 6, func 0x10a509, local debug var \"asset\", local strip var  \"lVar2\"\n"
     ]
    }
   ],
   "source": [
    "var_name = var_row.Name_Debug\n",
    "strip_name = var_row.Name_Strip\n",
    "func_addr = var_row.FunctionStart\n",
    "bin_id = var_row.BinaryId\n",
    "print(f'Binary: {bin_id}, func {func_addr:#x}, local debug var \"{var_name}\", local strip var  \"{strip_name}\"')"
   ]
  },
  {
   "cell_type": "code",
   "execution_count": 8,
   "metadata": {},
   "outputs": [],
   "source": [
    "func_row = funcs_df[funcs_df.FunctionStart==func_addr].iloc[0]\n",
    "debug_ast_jsonfile = func_row.AstJson_Debug\n",
    "strip_ast_jsonfile = func_row.AstJson_Strip\n",
    "# print(debug_ast_jsonfile)\n",
    "debug_ast = astlib.read_json(debug_ast_jsonfile, sdb)\n",
    "strip_ast = astlib.read_json(strip_ast_jsonfile, strip_sdb)"
   ]
  },
  {
   "cell_type": "code",
   "execution_count": 9,
   "metadata": {},
   "outputs": [
    {
     "data": {
      "text/plain": [
       "struct asset_t {\n",
       "\t0x0: uint32 uid\n",
       "\t0x8: uchar* data\n",
       "\t0x10: uint32 data_length\n",
       "\t0x18: char* name\n",
       "\t0x20: int32 chunk_start\n",
       "\t0x24: int32 chunk_length\n",
       "\t0x28: uchar fs\n",
       "\t0x29: uchar filled\n",
       "\t0x2a: uchar req\n",
       "\t0x2b: uchar req_free\n",
       "\t0x2c: uchar chunk\n",
       "}"
      ]
     },
     "execution_count": 9,
     "metadata": {},
     "output_type": "execute_result"
    }
   ],
   "source": [
    "# --------------------------------------------------\n",
    "# TODO: pick up here and VISIT the AST to collect all MemberExpr\n",
    "# nodes that involve our target variable\n",
    "# --------------------------------------------------\n",
    "# --> or collect ALL MemberExprs and try to map each of them to StripAST\n",
    "\n",
    "# NOTE: see initial start on implementation in basic_dataset for reference...\n",
    "\n",
    "vdecl = debug_ast.inner[-1].inner[-1].inner[1].inner[0]\n",
    "vdecl.dtype.pointed_to"
   ]
  },
  {
   "cell_type": "code",
   "execution_count": 10,
   "metadata": {},
   "outputs": [
    {
     "data": {
      "text/plain": [
       "[<DeclRef: asset>->data (offset=0x8, sid=72057594037927950),\n",
       " <DeclRef: asset_00>->data (offset=0x8, sid=72057594037927950)]"
      ]
     },
     "execution_count": 10,
     "metadata": {},
     "output_type": "execute_result"
    }
   ],
   "source": [
    "from typing import Any, Callable, List\n",
    "from astlib import *\n",
    "\n",
    "class CollectStructMemberRefs(VisitAllChildrenByDefaultVisitor):\n",
    "    def __init__(self):\n",
    "        '''\n",
    "        ast: The AST to search for MemberExpr nodes\n",
    "        '''\n",
    "        super().__init__()\n",
    "        # self.member_exprs:List[MemberExpr] = []\n",
    "\n",
    "    def visit_MemberExpr(self, memexpr:MemberExpr):\n",
    "        # self.member_exprs.append(memexpr)\n",
    "        return memexpr\n",
    "\n",
    "memberexprs = CollectStructMemberRefs().visit(debug_ast)\n",
    "memberexprs"
   ]
  },
  {
   "cell_type": "code",
   "execution_count": 11,
   "metadata": {},
   "outputs": [
    {
     "name": "stdout",
     "output_type": "stream",
     "text": [
      "<DeclRef: asset>->data (offset=0x8, sid=72057594037927950) 0x10a549\n"
     ]
    }
   ],
   "source": [
    "m:MemberExpr = memberexprs[0]\n",
    "m.parent_struct\n",
    "# m.offset\n",
    "# m.parent_struct.layout.fields_by_offset[m.offset].dtype\n",
    "print(m, hex(m.instr_addr))"
   ]
  },
  {
   "cell_type": "code",
   "execution_count": 12,
   "metadata": {},
   "outputs": [
    {
     "name": "stdout",
     "output_type": "stream",
     "text": [
      "<IntegerLiteral: 8 (dtype=int64)>\n"
     ]
    }
   ],
   "source": [
    "matching_int_literals = [x for x in strip_ast.nodes_at_addr(m.instr_addr) if isinstance(x, IntegerLiteral)]\n",
    "if matching_int_literals:\n",
    "    print(matching_int_literals[0])"
   ]
  },
  {
   "cell_type": "code",
   "execution_count": 13,
   "metadata": {},
   "outputs": [
    {
     "name": "stdout",
     "output_type": "stream",
     "text": [
      "*(uint64*)(lVar2 + 8)\n"
     ]
    },
    {
     "data": {
      "text/plain": [
       "[UnaryOperator *,\n",
       " CStyleCastExpr (uint64*),\n",
       " BinaryOperator +,\n",
       " <DeclRef: lVar2>,\n",
       " <IntegerLiteral: 8 (dtype=int64)>]"
      ]
     },
     "execution_count": 13,
     "metadata": {},
     "output_type": "execute_result"
    }
   ],
   "source": [
    "from astlib.scripts.print_ast import print_ast\n",
    "\n",
    "matches = [x for x in strip_ast.nodes_at_addr(m.instr_addr)]\n",
    "print_ast(matches[0])\n",
    "matches"
   ]
  },
  {
   "cell_type": "markdown",
   "metadata": {},
   "source": [
    "## Pick up here:\n",
    "1. What do we do with >1 IntegerLiteral match?\n",
    "2. What do we do if there are no IntegerLiteral matches? (*this is probably fine, but for now stop and look at why*)\n",
    "3. Are there other \"artifacts\" of member references in the stripped AST besides IntegerLiteral nodes?\n",
    "    > - Look specifically at stack-based structs...I don't anticipate there is anything \"direct\"...we may just have to\n",
    "    **detect non-stack-based structs** first, then \"find\" the stack-based ones via type propagation/decompiler analysis (even if we help Ghidra finish this...)"
   ]
  },
  {
   "cell_type": "markdown",
   "metadata": {},
   "source": [
    "## Can I map `MemberExpr` nodes to **ANY** corresponding node type?\n",
    "> This may **not** be a good idea!\n",
    "\n",
    "But...does it make any sense/is it possible to map MemberExpr nodes to *any* AST node they correspond to in the stripped\n",
    "binary (not just `IntegerLiteral` nodes)?\n",
    "\n",
    "1. Cases like stack variables obviously would fit in this model\n",
    "2. The problem is, while we have a mapping of ground truth, defining the problem sanely from the stripped binary seems difficult if even possible?\n",
    "\n",
    "> Look at cases where it *does not* map to an `IntegerLiteral` node. What does this look like? Could we recover anything useful? Could we even know this is a MemberExpr node?"
   ]
  },
  {
   "cell_type": "code",
   "execution_count": 14,
   "metadata": {},
   "outputs": [
    {
     "data": {
      "text/html": [
       "<div>\n",
       "<style scoped>\n",
       "    .dataframe tbody tr th:only-of-type {\n",
       "        vertical-align: middle;\n",
       "    }\n",
       "\n",
       "    .dataframe tbody tr th {\n",
       "        vertical-align: top;\n",
       "    }\n",
       "\n",
       "    .dataframe thead th {\n",
       "        text-align: right;\n",
       "    }\n",
       "</style>\n",
       "<table border=\"1\" class=\"dataframe\">\n",
       "  <thead>\n",
       "    <tr style=\"text-align: right;\">\n",
       "      <th></th>\n",
       "      <th>FunctionStart</th>\n",
       "      <th>FunctionName_Debug</th>\n",
       "      <th>AstJson_Debug</th>\n",
       "      <th>FunctionName_Strip</th>\n",
       "      <th>AstJson_Strip</th>\n",
       "      <th>FunctionName_DWARF</th>\n",
       "      <th>BinaryId</th>\n",
       "    </tr>\n",
       "  </thead>\n",
       "  <tbody>\n",
       "    <tr>\n",
       "      <th>0</th>\n",
       "      <td>1089449</td>\n",
       "      <td>vec2_add</td>\n",
       "      <td>/home/cls0027/ex...</td>\n",
       "      <td>FUN_00109fa9</td>\n",
       "      <td>/home/cls0027/ex...</td>\n",
       "      <td>vec2_add</td>\n",
       "      <td>6</td>\n",
       "    </tr>\n",
       "    <tr>\n",
       "      <th>1</th>\n",
       "      <td>1089564</td>\n",
       "      <td>vec2_sub</td>\n",
       "      <td>/home/cls0027/ex...</td>\n",
       "      <td>FUN_0010a01c</td>\n",
       "      <td>/home/cls0027/ex...</td>\n",
       "      <td>vec2_sub</td>\n",
       "      <td>6</td>\n",
       "    </tr>\n",
       "    <tr>\n",
       "      <th>2</th>\n",
       "      <td>1089679</td>\n",
       "      <td>vec2_scale</td>\n",
       "      <td>/home/cls0027/ex...</td>\n",
       "      <td>FUN_0010a08f</td>\n",
       "      <td>/home/cls0027/ex...</td>\n",
       "      <td>vec2_scale</td>\n",
       "      <td>6</td>\n",
       "    </tr>\n",
       "    <tr>\n",
       "      <th>3</th>\n",
       "      <td>1089772</td>\n",
       "      <td>vec2_mul_inner</td>\n",
       "      <td>/home/cls0027/ex...</td>\n",
       "      <td>FUN_0010a0ec</td>\n",
       "      <td>/home/cls0027/ex...</td>\n",
       "      <td>vec2_mul_inner</td>\n",
       "      <td>6</td>\n",
       "    </tr>\n",
       "    <tr>\n",
       "      <th>4</th>\n",
       "      <td>1089885</td>\n",
       "      <td>vec2_len</td>\n",
       "      <td>/home/cls0027/ex...</td>\n",
       "      <td>FUN_0010a15d</td>\n",
       "      <td>/home/cls0027/ex...</td>\n",
       "      <td>vec2_len</td>\n",
       "      <td>6</td>\n",
       "    </tr>\n",
       "    <tr>\n",
       "      <th>...</th>\n",
       "      <td>...</td>\n",
       "      <td>...</td>\n",
       "      <td>...</td>\n",
       "      <td>...</td>\n",
       "      <td>...</td>\n",
       "      <td>...</td>\n",
       "      <td>...</td>\n",
       "    </tr>\n",
       "    <tr>\n",
       "      <th>1802</th>\n",
       "      <td>1764501</td>\n",
       "      <td>_glfwInitJoystic...</td>\n",
       "      <td>/home/cls0027/ex...</td>\n",
       "      <td>FUN_001aec95</td>\n",
       "      <td>/home/cls0027/ex...</td>\n",
       "      <td>_glfwInitJoystic...</td>\n",
       "      <td>6</td>\n",
       "    </tr>\n",
       "    <tr>\n",
       "      <th>1803</th>\n",
       "      <td>1765053</td>\n",
       "      <td>_glfwTerminateJo...</td>\n",
       "      <td>/home/cls0027/ex...</td>\n",
       "      <td>FUN_001aeebd</td>\n",
       "      <td>/home/cls0027/ex...</td>\n",
       "      <td>_glfwTerminateJo...</td>\n",
       "      <td>6</td>\n",
       "    </tr>\n",
       "    <tr>\n",
       "      <th>1804</th>\n",
       "      <td>1765287</td>\n",
       "      <td>_glfwDetectJoyst...</td>\n",
       "      <td>/home/cls0027/ex...</td>\n",
       "      <td>FUN_001aefa7</td>\n",
       "      <td>/home/cls0027/ex...</td>\n",
       "      <td>_glfwDetectJoyst...</td>\n",
       "      <td>6</td>\n",
       "    </tr>\n",
       "    <tr>\n",
       "      <th>1805</th>\n",
       "      <td>1765816</td>\n",
       "      <td>_glfwPlatformPol...</td>\n",
       "      <td>/home/cls0027/ex...</td>\n",
       "      <td>FUN_001af1b8</td>\n",
       "      <td>/home/cls0027/ex...</td>\n",
       "      <td>_glfwPlatformPol...</td>\n",
       "      <td>6</td>\n",
       "    </tr>\n",
       "    <tr>\n",
       "      <th>1806</th>\n",
       "      <td>1766138</td>\n",
       "      <td>_glfwPlatformUpd...</td>\n",
       "      <td>/home/cls0027/ex...</td>\n",
       "      <td>FUN_001af2fa</td>\n",
       "      <td>/home/cls0027/ex...</td>\n",
       "      <td>_glfwPlatformUpd...</td>\n",
       "      <td>6</td>\n",
       "    </tr>\n",
       "  </tbody>\n",
       "</table>\n",
       "<p>1807 rows × 7 columns</p>\n",
       "</div>"
      ],
      "text/plain": [
       "      FunctionStart   FunctionName_Debug        AstJson_Debug   \n",
       "0           1089449             vec2_add  /home/cls0027/ex...  \\\n",
       "1           1089564             vec2_sub  /home/cls0027/ex...   \n",
       "2           1089679           vec2_scale  /home/cls0027/ex...   \n",
       "3           1089772       vec2_mul_inner  /home/cls0027/ex...   \n",
       "4           1089885             vec2_len  /home/cls0027/ex...   \n",
       "...             ...                  ...                  ...   \n",
       "1802        1764501  _glfwInitJoystic...  /home/cls0027/ex...   \n",
       "1803        1765053  _glfwTerminateJo...  /home/cls0027/ex...   \n",
       "1804        1765287  _glfwDetectJoyst...  /home/cls0027/ex...   \n",
       "1805        1765816  _glfwPlatformPol...  /home/cls0027/ex...   \n",
       "1806        1766138  _glfwPlatformUpd...  /home/cls0027/ex...   \n",
       "\n",
       "     FunctionName_Strip        AstJson_Strip   FunctionName_DWARF  BinaryId  \n",
       "0          FUN_00109fa9  /home/cls0027/ex...             vec2_add         6  \n",
       "1          FUN_0010a01c  /home/cls0027/ex...             vec2_sub         6  \n",
       "2          FUN_0010a08f  /home/cls0027/ex...           vec2_scale         6  \n",
       "3          FUN_0010a0ec  /home/cls0027/ex...       vec2_mul_inner         6  \n",
       "4          FUN_0010a15d  /home/cls0027/ex...             vec2_len         6  \n",
       "...                 ...                  ...                  ...       ...  \n",
       "1802       FUN_001aec95  /home/cls0027/ex...  _glfwInitJoystic...         6  \n",
       "1803       FUN_001aeebd  /home/cls0027/ex...  _glfwTerminateJo...         6  \n",
       "1804       FUN_001aefa7  /home/cls0027/ex...  _glfwDetectJoyst...         6  \n",
       "1805       FUN_001af1b8  /home/cls0027/ex...  _glfwPlatformPol...         6  \n",
       "1806       FUN_001af2fa  /home/cls0027/ex...  _glfwPlatformUpd...         6  \n",
       "\n",
       "[1807 rows x 7 columns]"
      ]
     },
     "execution_count": 14,
     "metadata": {},
     "output_type": "execute_result"
    }
   ],
   "source": [
    "funcs_df"
   ]
  },
  {
   "cell_type": "markdown",
   "metadata": {},
   "source": [
    "## Build member expression dataset\n",
    "1. Collect all member references from debug ASTs\n",
    "2. Align with stripped AST nodes by instruction address"
   ]
  },
  {
   "cell_type": "code",
   "execution_count": 15,
   "metadata": {},
   "outputs": [],
   "source": [
    "# NOTE: sdb/strip_sdb are already good for this whole binary\n",
    "\n",
    "\n",
    "# the way I did this so far was just CollectStructMemberRefs across an entire function\n",
    "# -> I'm just looking for them in the debug AST, and can get the vars from there\n",
    "#    (no need to find it for a particular variable to build our dataset...just get them all!)\n",
    "\n",
    "data_tuples = []\n",
    "\n",
    "for x in funcs_df.groupby('FunctionStart'):\n",
    "    df = x[1]\n",
    "    func_addr = df.FunctionStart.iloc[0]\n",
    "    debug_ast_jsonfile = df.AstJson_Debug.iloc[0]\n",
    "    strip_ast_jsonfile = df.AstJson_Strip.iloc[0]\n",
    "    debug_ast = astlib.read_json(debug_ast_jsonfile, sdb)\n",
    "    strip_ast = astlib.read_json(strip_ast_jsonfile, strip_sdb)\n",
    "\n",
    "    memberexprs = CollectStructMemberRefs().visit(debug_ast)\n",
    "\n",
    "    for m in memberexprs:\n",
    "        strip_nodes = strip_ast.nodes_at_addr(m.instr_addr)\n",
    "        data_tuples.append((\n",
    "            func_addr,\n",
    "            m,\n",
    "            strip_nodes,\n",
    "            bool(strip_nodes),\n",
    "        ))\n",
    "\n",
    "    # if memberexprs and not list(filter(lambda x: isinstance(x, IntegerLiteral), strip_nodes)):\n",
    "    #     break\n",
    "\n",
    "mdf = pd.DataFrame.from_records(data_tuples, columns=['FunctionStart','MemberExpr','StripNodes','HasStripNodes'])"
   ]
  },
  {
   "cell_type": "code",
   "execution_count": 16,
   "metadata": {},
   "outputs": [
    {
     "data": {
      "text/html": [
       "<div>\n",
       "<style scoped>\n",
       "    .dataframe tbody tr th:only-of-type {\n",
       "        vertical-align: middle;\n",
       "    }\n",
       "\n",
       "    .dataframe tbody tr th {\n",
       "        vertical-align: top;\n",
       "    }\n",
       "\n",
       "    .dataframe thead th {\n",
       "        text-align: right;\n",
       "    }\n",
       "</style>\n",
       "<table border=\"1\" class=\"dataframe\">\n",
       "  <thead>\n",
       "    <tr style=\"text-align: right;\">\n",
       "      <th></th>\n",
       "      <th>FunctionStart</th>\n",
       "      <th>MemberExpr</th>\n",
       "      <th>StripNodes</th>\n",
       "      <th>HasStripNodes</th>\n",
       "      <th>InnerKind</th>\n",
       "      <th>TypeSeq</th>\n",
       "      <th>LocType</th>\n",
       "      <th>Offset</th>\n",
       "    </tr>\n",
       "  </thead>\n",
       "  <tbody>\n",
       "    <tr>\n",
       "      <th>0</th>\n",
       "      <td>1090499</td>\n",
       "      <td>&lt;DeclRef: level&gt;...</td>\n",
       "      <td>[BinaryOperator ...</td>\n",
       "      <td>True</td>\n",
       "      <td>DeclRefExpr</td>\n",
       "      <td>STRUCT</td>\n",
       "      <td>ram</td>\n",
       "      <td>12</td>\n",
       "    </tr>\n",
       "    <tr>\n",
       "      <th>1</th>\n",
       "      <td>1090499</td>\n",
       "      <td>&lt;astlib.ast.Arra...</td>\n",
       "      <td>[UnaryOperator *...</td>\n",
       "      <td>True</td>\n",
       "      <td>ArraySubscriptExpr</td>\n",
       "      <td>ArraySubscriptExpr</td>\n",
       "      <td>UNHANDLED</td>\n",
       "      <td>196</td>\n",
       "    </tr>\n",
       "    <tr>\n",
       "      <th>2</th>\n",
       "      <td>1090499</td>\n",
       "      <td>&lt;DeclRef: level&gt;...</td>\n",
       "      <td>[UnaryOperator *...</td>\n",
       "      <td>True</td>\n",
       "      <td>DeclRefExpr</td>\n",
       "      <td>STRUCT</td>\n",
       "      <td>ram</td>\n",
       "      <td>0</td>\n",
       "    </tr>\n",
       "    <tr>\n",
       "      <th>3</th>\n",
       "      <td>1090499</td>\n",
       "      <td>&lt;astlib.ast.Arra...</td>\n",
       "      <td>[UnaryOperator *...</td>\n",
       "      <td>True</td>\n",
       "      <td>ArraySubscriptExpr</td>\n",
       "      <td>ArraySubscriptExpr</td>\n",
       "      <td>UNHANDLED</td>\n",
       "      <td>236</td>\n",
       "    </tr>\n",
       "    <tr>\n",
       "      <th>4</th>\n",
       "      <td>1090499</td>\n",
       "      <td>&lt;DeclRef: level&gt;...</td>\n",
       "      <td>[UnaryOperator *...</td>\n",
       "      <td>True</td>\n",
       "      <td>DeclRefExpr</td>\n",
       "      <td>STRUCT</td>\n",
       "      <td>ram</td>\n",
       "      <td>0</td>\n",
       "    </tr>\n",
       "    <tr>\n",
       "      <th>...</th>\n",
       "      <td>...</td>\n",
       "      <td>...</td>\n",
       "      <td>...</td>\n",
       "      <td>...</td>\n",
       "      <td>...</td>\n",
       "      <td>...</td>\n",
       "      <td>...</td>\n",
       "      <td>...</td>\n",
       "    </tr>\n",
       "    <tr>\n",
       "      <th>26255</th>\n",
       "      <td>1765816</td>\n",
       "      <td>&lt;DeclRef: e&gt;.typ...</td>\n",
       "      <td>[BinaryOperator ...</td>\n",
       "      <td>True</td>\n",
       "      <td>DeclRefExpr</td>\n",
       "      <td>STRUCT</td>\n",
       "      <td>stack</td>\n",
       "      <td>16</td>\n",
       "    </tr>\n",
       "    <tr>\n",
       "      <th>26257</th>\n",
       "      <td>1765816</td>\n",
       "      <td>&lt;DeclRef: e&gt;.val...</td>\n",
       "      <td>[&lt;DeclRef: FUN_0...</td>\n",
       "      <td>True</td>\n",
       "      <td>DeclRefExpr</td>\n",
       "      <td>STRUCT</td>\n",
       "      <td>stack</td>\n",
       "      <td>20</td>\n",
       "    </tr>\n",
       "    <tr>\n",
       "      <th>26258</th>\n",
       "      <td>1765816</td>\n",
       "      <td>&lt;DeclRef: e&gt;.typ...</td>\n",
       "      <td>[BinaryOperator ...</td>\n",
       "      <td>True</td>\n",
       "      <td>DeclRefExpr</td>\n",
       "      <td>STRUCT</td>\n",
       "      <td>stack</td>\n",
       "      <td>16</td>\n",
       "    </tr>\n",
       "    <tr>\n",
       "      <th>26260</th>\n",
       "      <td>1765816</td>\n",
       "      <td>&lt;DeclRef: e&gt;.val...</td>\n",
       "      <td>[&lt;DeclRef: FUN_0...</td>\n",
       "      <td>True</td>\n",
       "      <td>DeclRefExpr</td>\n",
       "      <td>STRUCT</td>\n",
       "      <td>stack</td>\n",
       "      <td>20</td>\n",
       "    </tr>\n",
       "    <tr>\n",
       "      <th>26261</th>\n",
       "      <td>1765816</td>\n",
       "      <td>&lt;DeclRef: js&gt;-&gt;c...</td>\n",
       "      <td>[UnaryOperator *...</td>\n",
       "      <td>True</td>\n",
       "      <td>DeclRefExpr</td>\n",
       "      <td>PTR,STRUCT</td>\n",
       "      <td>register</td>\n",
       "      <td>4</td>\n",
       "    </tr>\n",
       "  </tbody>\n",
       "</table>\n",
       "<p>25985 rows × 8 columns</p>\n",
       "</div>"
      ],
      "text/plain": [
       "       FunctionStart           MemberExpr           StripNodes  HasStripNodes   \n",
       "0            1090499  <DeclRef: level>...  [BinaryOperator ...           True  \\\n",
       "1            1090499  <astlib.ast.Arra...  [UnaryOperator *...           True   \n",
       "2            1090499  <DeclRef: level>...  [UnaryOperator *...           True   \n",
       "3            1090499  <astlib.ast.Arra...  [UnaryOperator *...           True   \n",
       "4            1090499  <DeclRef: level>...  [UnaryOperator *...           True   \n",
       "...              ...                  ...                  ...            ...   \n",
       "26255        1765816  <DeclRef: e>.typ...  [BinaryOperator ...           True   \n",
       "26257        1765816  <DeclRef: e>.val...  [<DeclRef: FUN_0...           True   \n",
       "26258        1765816  <DeclRef: e>.typ...  [BinaryOperator ...           True   \n",
       "26260        1765816  <DeclRef: e>.val...  [<DeclRef: FUN_0...           True   \n",
       "26261        1765816  <DeclRef: js>->c...  [UnaryOperator *...           True   \n",
       "\n",
       "                InnerKind             TypeSeq    LocType  Offset  \n",
       "0             DeclRefExpr              STRUCT        ram      12  \n",
       "1      ArraySubscriptExpr  ArraySubscriptExpr  UNHANDLED     196  \n",
       "2             DeclRefExpr              STRUCT        ram       0  \n",
       "3      ArraySubscriptExpr  ArraySubscriptExpr  UNHANDLED     236  \n",
       "4             DeclRefExpr              STRUCT        ram       0  \n",
       "...                   ...                 ...        ...     ...  \n",
       "26255         DeclRefExpr              STRUCT      stack      16  \n",
       "26257         DeclRefExpr              STRUCT      stack      20  \n",
       "26258         DeclRefExpr              STRUCT      stack      16  \n",
       "26260         DeclRefExpr              STRUCT      stack      20  \n",
       "26261         DeclRefExpr          PTR,STRUCT   register       4  \n",
       "\n",
       "[25985 rows x 8 columns]"
      ]
     },
     "execution_count": 16,
     "metadata": {},
     "output_type": "execute_result"
    }
   ],
   "source": [
    "# mdf[(mdf.HasMemberExprs)&(mdf.HasStripNodes)]\n",
    "mdf['InnerKind'] = mdf.MemberExpr.apply(lambda x: x.inner[0].kind)\n",
    "mdf['TypeSeq'] = mdf.MemberExpr.apply(lambda x: x.inner[0].referencedDecl.dtype.type_sequence_str if isinstance(x.inner[0], DeclRefExpr) else type(x.inner[0]).__name__)\n",
    "mdf['LocType'] = mdf.MemberExpr.apply(lambda x: x.inner[0].referencedDecl.location.loc_type if isinstance(x.inner[0], DeclRefExpr) else 'UNHANDLED')\n",
    "mdf['Offset'] = mdf.MemberExpr.apply(lambda x: x.offset)\n",
    "mdf[mdf.HasStripNodes]"
   ]
  },
  {
   "cell_type": "markdown",
   "metadata": {},
   "source": [
    "## What kinds of cases don't align?\n",
    "What I'm seeing so far is:\n",
    "1. Blocks of code that are completely missing in the AST (thus no AST nodes align with the debug member expression)\n",
    "2. Missing function parameters (so the argument is not rendered in the stripped AST)"
   ]
  },
  {
   "cell_type": "code",
   "execution_count": 17,
   "metadata": {},
   "outputs": [
    {
     "data": {
      "text/html": [
       "<div>\n",
       "<style scoped>\n",
       "    .dataframe tbody tr th:only-of-type {\n",
       "        vertical-align: middle;\n",
       "    }\n",
       "\n",
       "    .dataframe tbody tr th {\n",
       "        vertical-align: top;\n",
       "    }\n",
       "\n",
       "    .dataframe thead th {\n",
       "        text-align: right;\n",
       "    }\n",
       "</style>\n",
       "<table border=\"1\" class=\"dataframe\">\n",
       "  <thead>\n",
       "    <tr style=\"text-align: right;\">\n",
       "      <th></th>\n",
       "      <th>FunctionStart</th>\n",
       "      <th>MemberExpr</th>\n",
       "      <th>StripNodes</th>\n",
       "      <th>HasStripNodes</th>\n",
       "      <th>InnerKind</th>\n",
       "      <th>TypeSeq</th>\n",
       "      <th>Offset</th>\n",
       "    </tr>\n",
       "    <tr>\n",
       "      <th>LocType</th>\n",
       "      <th></th>\n",
       "      <th></th>\n",
       "      <th></th>\n",
       "      <th></th>\n",
       "      <th></th>\n",
       "      <th></th>\n",
       "      <th></th>\n",
       "    </tr>\n",
       "  </thead>\n",
       "  <tbody>\n",
       "    <tr>\n",
       "      <th>UNHANDLED</th>\n",
       "      <td>41</td>\n",
       "      <td>41</td>\n",
       "      <td>41</td>\n",
       "      <td>41</td>\n",
       "      <td>41</td>\n",
       "      <td>41</td>\n",
       "      <td>41</td>\n",
       "    </tr>\n",
       "    <tr>\n",
       "      <th>join</th>\n",
       "      <td>2</td>\n",
       "      <td>2</td>\n",
       "      <td>2</td>\n",
       "      <td>2</td>\n",
       "      <td>2</td>\n",
       "      <td>2</td>\n",
       "      <td>2</td>\n",
       "    </tr>\n",
       "    <tr>\n",
       "      <th>ram</th>\n",
       "      <td>11</td>\n",
       "      <td>11</td>\n",
       "      <td>11</td>\n",
       "      <td>11</td>\n",
       "      <td>11</td>\n",
       "      <td>11</td>\n",
       "      <td>11</td>\n",
       "    </tr>\n",
       "    <tr>\n",
       "      <th>register</th>\n",
       "      <td>92</td>\n",
       "      <td>92</td>\n",
       "      <td>92</td>\n",
       "      <td>92</td>\n",
       "      <td>92</td>\n",
       "      <td>92</td>\n",
       "      <td>92</td>\n",
       "    </tr>\n",
       "    <tr>\n",
       "      <th>stack</th>\n",
       "      <td>90</td>\n",
       "      <td>90</td>\n",
       "      <td>90</td>\n",
       "      <td>90</td>\n",
       "      <td>90</td>\n",
       "      <td>90</td>\n",
       "      <td>90</td>\n",
       "    </tr>\n",
       "    <tr>\n",
       "      <th>unique</th>\n",
       "      <td>41</td>\n",
       "      <td>41</td>\n",
       "      <td>41</td>\n",
       "      <td>41</td>\n",
       "      <td>41</td>\n",
       "      <td>41</td>\n",
       "      <td>41</td>\n",
       "    </tr>\n",
       "  </tbody>\n",
       "</table>\n",
       "</div>"
      ],
      "text/plain": [
       "           FunctionStart  MemberExpr  StripNodes  HasStripNodes  InnerKind   \n",
       "LocType                                                                      \n",
       "UNHANDLED             41          41          41             41         41  \\\n",
       "join                   2           2           2              2          2   \n",
       "ram                   11          11          11             11         11   \n",
       "register              92          92          92             92         92   \n",
       "stack                 90          90          90             90         90   \n",
       "unique                41          41          41             41         41   \n",
       "\n",
       "           TypeSeq  Offset  \n",
       "LocType                     \n",
       "UNHANDLED       41      41  \n",
       "join             2       2  \n",
       "ram             11      11  \n",
       "register        92      92  \n",
       "stack           90      90  \n",
       "unique          41      41  "
      ]
     },
     "execution_count": 17,
     "metadata": {},
     "output_type": "execute_result"
    }
   ],
   "source": [
    "#len(mdf[~mdf.HasStripNodes])/len(mdf)*100\n",
    "mdf[~mdf.HasStripNodes].groupby('LocType').count()"
   ]
  },
  {
   "cell_type": "code",
   "execution_count": 18,
   "metadata": {},
   "outputs": [
    {
     "data": {
      "text/html": [
       "<div>\n",
       "<style scoped>\n",
       "    .dataframe tbody tr th:only-of-type {\n",
       "        vertical-align: middle;\n",
       "    }\n",
       "\n",
       "    .dataframe tbody tr th {\n",
       "        vertical-align: top;\n",
       "    }\n",
       "\n",
       "    .dataframe thead th {\n",
       "        text-align: right;\n",
       "    }\n",
       "</style>\n",
       "<table border=\"1\" class=\"dataframe\">\n",
       "  <thead>\n",
       "    <tr style=\"text-align: right;\">\n",
       "      <th></th>\n",
       "      <th>MemberExpr</th>\n",
       "      <th>StripNodes</th>\n",
       "      <th>HasStripNodes</th>\n",
       "      <th>InnerKind</th>\n",
       "      <th>TypeSeq</th>\n",
       "      <th>LocType</th>\n",
       "      <th>Offset</th>\n",
       "    </tr>\n",
       "    <tr>\n",
       "      <th>FunctionStart</th>\n",
       "      <th></th>\n",
       "      <th></th>\n",
       "      <th></th>\n",
       "      <th></th>\n",
       "      <th></th>\n",
       "      <th></th>\n",
       "      <th></th>\n",
       "    </tr>\n",
       "  </thead>\n",
       "  <tbody>\n",
       "    <tr>\n",
       "      <th>1095500</th>\n",
       "      <td>6</td>\n",
       "      <td>6</td>\n",
       "      <td>6</td>\n",
       "      <td>6</td>\n",
       "      <td>6</td>\n",
       "      <td>6</td>\n",
       "      <td>6</td>\n",
       "    </tr>\n",
       "    <tr>\n",
       "      <th>1212292</th>\n",
       "      <td>4</td>\n",
       "      <td>4</td>\n",
       "      <td>4</td>\n",
       "      <td>4</td>\n",
       "      <td>4</td>\n",
       "      <td>4</td>\n",
       "      <td>4</td>\n",
       "    </tr>\n",
       "    <tr>\n",
       "      <th>1239728</th>\n",
       "      <td>1</td>\n",
       "      <td>1</td>\n",
       "      <td>1</td>\n",
       "      <td>1</td>\n",
       "      <td>1</td>\n",
       "      <td>1</td>\n",
       "      <td>1</td>\n",
       "    </tr>\n",
       "    <tr>\n",
       "      <th>1256747</th>\n",
       "      <td>2</td>\n",
       "      <td>2</td>\n",
       "      <td>2</td>\n",
       "      <td>2</td>\n",
       "      <td>2</td>\n",
       "      <td>2</td>\n",
       "      <td>2</td>\n",
       "    </tr>\n",
       "    <tr>\n",
       "      <th>1425337</th>\n",
       "      <td>5</td>\n",
       "      <td>5</td>\n",
       "      <td>5</td>\n",
       "      <td>5</td>\n",
       "      <td>5</td>\n",
       "      <td>5</td>\n",
       "      <td>5</td>\n",
       "    </tr>\n",
       "    <tr>\n",
       "      <th>1435770</th>\n",
       "      <td>4</td>\n",
       "      <td>4</td>\n",
       "      <td>4</td>\n",
       "      <td>4</td>\n",
       "      <td>4</td>\n",
       "      <td>4</td>\n",
       "      <td>4</td>\n",
       "    </tr>\n",
       "    <tr>\n",
       "      <th>1439418</th>\n",
       "      <td>3</td>\n",
       "      <td>3</td>\n",
       "      <td>3</td>\n",
       "      <td>3</td>\n",
       "      <td>3</td>\n",
       "      <td>3</td>\n",
       "      <td>3</td>\n",
       "    </tr>\n",
       "    <tr>\n",
       "      <th>1439637</th>\n",
       "      <td>3</td>\n",
       "      <td>3</td>\n",
       "      <td>3</td>\n",
       "      <td>3</td>\n",
       "      <td>3</td>\n",
       "      <td>3</td>\n",
       "      <td>3</td>\n",
       "    </tr>\n",
       "    <tr>\n",
       "      <th>1457322</th>\n",
       "      <td>2</td>\n",
       "      <td>2</td>\n",
       "      <td>2</td>\n",
       "      <td>2</td>\n",
       "      <td>2</td>\n",
       "      <td>2</td>\n",
       "      <td>2</td>\n",
       "    </tr>\n",
       "    <tr>\n",
       "      <th>1471357</th>\n",
       "      <td>1</td>\n",
       "      <td>1</td>\n",
       "      <td>1</td>\n",
       "      <td>1</td>\n",
       "      <td>1</td>\n",
       "      <td>1</td>\n",
       "      <td>1</td>\n",
       "    </tr>\n",
       "    <tr>\n",
       "      <th>1478761</th>\n",
       "      <td>2</td>\n",
       "      <td>2</td>\n",
       "      <td>2</td>\n",
       "      <td>2</td>\n",
       "      <td>2</td>\n",
       "      <td>2</td>\n",
       "      <td>2</td>\n",
       "    </tr>\n",
       "    <tr>\n",
       "      <th>1479669</th>\n",
       "      <td>1</td>\n",
       "      <td>1</td>\n",
       "      <td>1</td>\n",
       "      <td>1</td>\n",
       "      <td>1</td>\n",
       "      <td>1</td>\n",
       "      <td>1</td>\n",
       "    </tr>\n",
       "    <tr>\n",
       "      <th>1481334</th>\n",
       "      <td>20</td>\n",
       "      <td>20</td>\n",
       "      <td>20</td>\n",
       "      <td>20</td>\n",
       "      <td>20</td>\n",
       "      <td>20</td>\n",
       "      <td>20</td>\n",
       "    </tr>\n",
       "    <tr>\n",
       "      <th>1483067</th>\n",
       "      <td>10</td>\n",
       "      <td>10</td>\n",
       "      <td>10</td>\n",
       "      <td>10</td>\n",
       "      <td>10</td>\n",
       "      <td>10</td>\n",
       "      <td>10</td>\n",
       "    </tr>\n",
       "    <tr>\n",
       "      <th>1488090</th>\n",
       "      <td>4</td>\n",
       "      <td>4</td>\n",
       "      <td>4</td>\n",
       "      <td>4</td>\n",
       "      <td>4</td>\n",
       "      <td>4</td>\n",
       "      <td>4</td>\n",
       "    </tr>\n",
       "    <tr>\n",
       "      <th>1491596</th>\n",
       "      <td>3</td>\n",
       "      <td>3</td>\n",
       "      <td>3</td>\n",
       "      <td>3</td>\n",
       "      <td>3</td>\n",
       "      <td>3</td>\n",
       "      <td>3</td>\n",
       "    </tr>\n",
       "    <tr>\n",
       "      <th>1492528</th>\n",
       "      <td>1</td>\n",
       "      <td>1</td>\n",
       "      <td>1</td>\n",
       "      <td>1</td>\n",
       "      <td>1</td>\n",
       "      <td>1</td>\n",
       "      <td>1</td>\n",
       "    </tr>\n",
       "    <tr>\n",
       "      <th>1494287</th>\n",
       "      <td>3</td>\n",
       "      <td>3</td>\n",
       "      <td>3</td>\n",
       "      <td>3</td>\n",
       "      <td>3</td>\n",
       "      <td>3</td>\n",
       "      <td>3</td>\n",
       "    </tr>\n",
       "    <tr>\n",
       "      <th>1513862</th>\n",
       "      <td>2</td>\n",
       "      <td>2</td>\n",
       "      <td>2</td>\n",
       "      <td>2</td>\n",
       "      <td>2</td>\n",
       "      <td>2</td>\n",
       "      <td>2</td>\n",
       "    </tr>\n",
       "    <tr>\n",
       "      <th>1514220</th>\n",
       "      <td>2</td>\n",
       "      <td>2</td>\n",
       "      <td>2</td>\n",
       "      <td>2</td>\n",
       "      <td>2</td>\n",
       "      <td>2</td>\n",
       "      <td>2</td>\n",
       "    </tr>\n",
       "    <tr>\n",
       "      <th>1619444</th>\n",
       "      <td>8</td>\n",
       "      <td>8</td>\n",
       "      <td>8</td>\n",
       "      <td>8</td>\n",
       "      <td>8</td>\n",
       "      <td>8</td>\n",
       "      <td>8</td>\n",
       "    </tr>\n",
       "    <tr>\n",
       "      <th>1630622</th>\n",
       "      <td>1</td>\n",
       "      <td>1</td>\n",
       "      <td>1</td>\n",
       "      <td>1</td>\n",
       "      <td>1</td>\n",
       "      <td>1</td>\n",
       "      <td>1</td>\n",
       "    </tr>\n",
       "    <tr>\n",
       "      <th>1633413</th>\n",
       "      <td>2</td>\n",
       "      <td>2</td>\n",
       "      <td>2</td>\n",
       "      <td>2</td>\n",
       "      <td>2</td>\n",
       "      <td>2</td>\n",
       "      <td>2</td>\n",
       "    </tr>\n",
       "    <tr>\n",
       "      <th>1640455</th>\n",
       "      <td>2</td>\n",
       "      <td>2</td>\n",
       "      <td>2</td>\n",
       "      <td>2</td>\n",
       "      <td>2</td>\n",
       "      <td>2</td>\n",
       "      <td>2</td>\n",
       "    </tr>\n",
       "  </tbody>\n",
       "</table>\n",
       "</div>"
      ],
      "text/plain": [
       "               MemberExpr  StripNodes  HasStripNodes  InnerKind  TypeSeq   \n",
       "FunctionStart                                                              \n",
       "1095500                 6           6              6          6        6  \\\n",
       "1212292                 4           4              4          4        4   \n",
       "1239728                 1           1              1          1        1   \n",
       "1256747                 2           2              2          2        2   \n",
       "1425337                 5           5              5          5        5   \n",
       "1435770                 4           4              4          4        4   \n",
       "1439418                 3           3              3          3        3   \n",
       "1439637                 3           3              3          3        3   \n",
       "1457322                 2           2              2          2        2   \n",
       "1471357                 1           1              1          1        1   \n",
       "1478761                 2           2              2          2        2   \n",
       "1479669                 1           1              1          1        1   \n",
       "1481334                20          20             20         20       20   \n",
       "1483067                10          10             10         10       10   \n",
       "1488090                 4           4              4          4        4   \n",
       "1491596                 3           3              3          3        3   \n",
       "1492528                 1           1              1          1        1   \n",
       "1494287                 3           3              3          3        3   \n",
       "1513862                 2           2              2          2        2   \n",
       "1514220                 2           2              2          2        2   \n",
       "1619444                 8           8              8          8        8   \n",
       "1630622                 1           1              1          1        1   \n",
       "1633413                 2           2              2          2        2   \n",
       "1640455                 2           2              2          2        2   \n",
       "\n",
       "               LocType  Offset  \n",
       "FunctionStart                   \n",
       "1095500              6       6  \n",
       "1212292              4       4  \n",
       "1239728              1       1  \n",
       "1256747              2       2  \n",
       "1425337              5       5  \n",
       "1435770              4       4  \n",
       "1439418              3       3  \n",
       "1439637              3       3  \n",
       "1457322              2       2  \n",
       "1471357              1       1  \n",
       "1478761              2       2  \n",
       "1479669              1       1  \n",
       "1481334             20      20  \n",
       "1483067             10      10  \n",
       "1488090              4       4  \n",
       "1491596              3       3  \n",
       "1492528              1       1  \n",
       "1494287              3       3  \n",
       "1513862              2       2  \n",
       "1514220              2       2  \n",
       "1619444              8       8  \n",
       "1630622              1       1  \n",
       "1633413              2       2  \n",
       "1640455              2       2  "
      ]
     },
     "execution_count": 18,
     "metadata": {},
     "output_type": "execute_result"
    }
   ],
   "source": [
    "mdf[(~mdf.HasStripNodes)&(mdf.LocType=='register')].groupby('FunctionStart').count()"
   ]
  },
  {
   "cell_type": "code",
   "execution_count": 19,
   "metadata": {},
   "outputs": [
    {
     "name": "stdout",
     "output_type": "stream",
     "text": [
      "0x169a76\n",
      "0x18ed2d\n"
     ]
    },
    {
     "data": {
      "text/plain": [
       "<DeclRef: ctx>->distTol (offset=0x229c, sid=72057594037928079)"
      ]
     },
     "execution_count": 19,
     "metadata": {},
     "output_type": "execute_result"
    }
   ],
   "source": [
    "print(hex(1481334))\n",
    "print(hex(mdf[(~mdf.HasStripNodes)&(mdf.LocType=='register')].iloc[-3].MemberExpr.instr_addr))\n",
    "mdf[(~mdf.HasStripNodes)&(mdf.LocType=='register')].iloc[-3].MemberExpr"
   ]
  },
  {
   "cell_type": "markdown",
   "metadata": {},
   "source": [
    "Ok, back to the \"good\" data..."
   ]
  },
  {
   "cell_type": "code",
   "execution_count": 20,
   "metadata": {},
   "outputs": [
    {
     "name": "stdout",
     "output_type": "stream",
     "text": [
      "0x10a509\n"
     ]
    },
    {
     "data": {
      "text/plain": [
       "<DeclRef: asset>"
      ]
     },
     "execution_count": 20,
     "metadata": {},
     "output_type": "execute_result"
    }
   ],
   "source": [
    "m_row = mdf.iloc[11]\n",
    "print(hex(m_row.FunctionStart))\n",
    "dt = m_row.MemberExpr.inner[0].referencedDecl.dtype\n",
    "dt.type_sequence_str\n",
    "m_row.MemberExpr.inner[0]"
   ]
  },
  {
   "cell_type": "code",
   "execution_count": 21,
   "metadata": {},
   "outputs": [
    {
     "data": {
      "text/html": [
       "<div>\n",
       "<style scoped>\n",
       "    .dataframe tbody tr th:only-of-type {\n",
       "        vertical-align: middle;\n",
       "    }\n",
       "\n",
       "    .dataframe tbody tr th {\n",
       "        vertical-align: top;\n",
       "    }\n",
       "\n",
       "    .dataframe thead th {\n",
       "        text-align: right;\n",
       "    }\n",
       "</style>\n",
       "<table border=\"1\" class=\"dataframe\">\n",
       "  <thead>\n",
       "    <tr style=\"text-align: right;\">\n",
       "      <th></th>\n",
       "      <th>FunctionStart</th>\n",
       "      <th>MemberExpr</th>\n",
       "      <th>StripNodes</th>\n",
       "      <th>HasStripNodes</th>\n",
       "      <th>InnerKind</th>\n",
       "      <th>LocType</th>\n",
       "      <th>Offset</th>\n",
       "    </tr>\n",
       "    <tr>\n",
       "      <th>TypeSeq</th>\n",
       "      <th></th>\n",
       "      <th></th>\n",
       "      <th></th>\n",
       "      <th></th>\n",
       "      <th></th>\n",
       "      <th></th>\n",
       "      <th></th>\n",
       "    </tr>\n",
       "  </thead>\n",
       "  <tbody>\n",
       "    <tr>\n",
       "      <th>ARR,char</th>\n",
       "      <td>2</td>\n",
       "      <td>2</td>\n",
       "      <td>2</td>\n",
       "      <td>2</td>\n",
       "      <td>2</td>\n",
       "      <td>2</td>\n",
       "      <td>2</td>\n",
       "    </tr>\n",
       "    <tr>\n",
       "      <th>ARR,uchar</th>\n",
       "      <td>1012</td>\n",
       "      <td>1012</td>\n",
       "      <td>1012</td>\n",
       "      <td>1012</td>\n",
       "      <td>1012</td>\n",
       "      <td>1012</td>\n",
       "      <td>1012</td>\n",
       "    </tr>\n",
       "    <tr>\n",
       "      <th>ArraySubscriptExpr</th>\n",
       "      <td>1813</td>\n",
       "      <td>1813</td>\n",
       "      <td>1813</td>\n",
       "      <td>1813</td>\n",
       "      <td>1813</td>\n",
       "      <td>1813</td>\n",
       "      <td>1813</td>\n",
       "    </tr>\n",
       "    <tr>\n",
       "      <th>MemberExpr</th>\n",
       "      <td>5461</td>\n",
       "      <td>5461</td>\n",
       "      <td>5461</td>\n",
       "      <td>5461</td>\n",
       "      <td>5461</td>\n",
       "      <td>5461</td>\n",
       "      <td>5461</td>\n",
       "    </tr>\n",
       "    <tr>\n",
       "      <th>PTR,STRUCT</th>\n",
       "      <td>10329</td>\n",
       "      <td>10329</td>\n",
       "      <td>10329</td>\n",
       "      <td>10329</td>\n",
       "      <td>10329</td>\n",
       "      <td>10329</td>\n",
       "      <td>10329</td>\n",
       "    </tr>\n",
       "    <tr>\n",
       "      <th>PTR,UNION</th>\n",
       "      <td>134</td>\n",
       "      <td>134</td>\n",
       "      <td>134</td>\n",
       "      <td>134</td>\n",
       "      <td>134</td>\n",
       "      <td>134</td>\n",
       "      <td>134</td>\n",
       "    </tr>\n",
       "    <tr>\n",
       "      <th>STRUCT</th>\n",
       "      <td>7206</td>\n",
       "      <td>7206</td>\n",
       "      <td>7206</td>\n",
       "      <td>7206</td>\n",
       "      <td>7206</td>\n",
       "      <td>7206</td>\n",
       "      <td>7206</td>\n",
       "    </tr>\n",
       "    <tr>\n",
       "      <th>UNION</th>\n",
       "      <td>78</td>\n",
       "      <td>78</td>\n",
       "      <td>78</td>\n",
       "      <td>78</td>\n",
       "      <td>78</td>\n",
       "      <td>78</td>\n",
       "      <td>78</td>\n",
       "    </tr>\n",
       "    <tr>\n",
       "      <th>uint64</th>\n",
       "      <td>227</td>\n",
       "      <td>227</td>\n",
       "      <td>227</td>\n",
       "      <td>227</td>\n",
       "      <td>227</td>\n",
       "      <td>227</td>\n",
       "      <td>227</td>\n",
       "    </tr>\n",
       "  </tbody>\n",
       "</table>\n",
       "</div>"
      ],
      "text/plain": [
       "                    FunctionStart  MemberExpr  StripNodes  HasStripNodes   \n",
       "TypeSeq                                                                    \n",
       "ARR,char                        2           2           2              2  \\\n",
       "ARR,uchar                    1012        1012        1012           1012   \n",
       "ArraySubscriptExpr           1813        1813        1813           1813   \n",
       "MemberExpr                   5461        5461        5461           5461   \n",
       "PTR,STRUCT                  10329       10329       10329          10329   \n",
       "PTR,UNION                     134         134         134            134   \n",
       "STRUCT                       7206        7206        7206           7206   \n",
       "UNION                          78          78          78             78   \n",
       "uint64                        227         227         227            227   \n",
       "\n",
       "                    InnerKind  LocType  Offset  \n",
       "TypeSeq                                         \n",
       "ARR,char                    2        2       2  \n",
       "ARR,uchar                1012     1012    1012  \n",
       "ArraySubscriptExpr       1813     1813    1813  \n",
       "MemberExpr               5461     5461    5461  \n",
       "PTR,STRUCT              10329    10329   10329  \n",
       "PTR,UNION                 134      134     134  \n",
       "STRUCT                   7206     7206    7206  \n",
       "UNION                      78       78      78  \n",
       "uint64                    227      227     227  "
      ]
     },
     "execution_count": 21,
     "metadata": {},
     "output_type": "execute_result"
    }
   ],
   "source": [
    "decl = mdf[mdf.InnerKind=='DeclRefExpr'].MemberExpr.apply(lambda x: x.inner[0].referencedDecl).iloc[0]\n",
    "# locals_df[locals_df.FunctionStart==1090499]\n",
    "# mdf[mdf.InnerKind=='DeclRefExpr'].iloc[0].FunctionStart\n",
    "decl.dtype.type_sequence_str\n",
    "decl.location.loc_type\n",
    "mdf.groupby('TypeSeq').count()"
   ]
  },
  {
   "cell_type": "code",
   "execution_count": 22,
   "metadata": {},
   "outputs": [
    {
     "data": {
      "text/plain": [
       "<Axes: xlabel='TypeSeq'>"
      ]
     },
     "execution_count": 22,
     "metadata": {},
     "output_type": "execute_result"
    },
    {
     "data": {
      "image/png": "[encoded data removed]",
      "text/plain": [
       "<Figure size 640x480 with 1 Axes>"
      ]
     },
     "metadata": {},
     "output_type": "display_data"
    }
   ],
   "source": [
    "mdf.groupby('TypeSeq').count().FunctionStart.plot(kind='bar',rot=35)"
   ]
  },
  {
   "cell_type": "markdown",
   "metadata": {},
   "source": [
    "Looks like the distribution doesn't change whether or not we only include aligned data points:"
   ]
  },
  {
   "cell_type": "code",
   "execution_count": 23,
   "metadata": {},
   "outputs": [
    {
     "data": {
      "text/plain": [
       "<Axes: title={'center': 'HasStripNodes=True'}, xlabel='TypeSeq'>"
      ]
     },
     "execution_count": 23,
     "metadata": {},
     "output_type": "execute_result"
    },
    {
     "data": {
      "image/png": "[encoded data removed]",
      "text/plain": [
       "<Figure size 640x480 with 1 Axes>"
      ]
     },
     "metadata": {},
     "output_type": "display_data"
    }
   ],
   "source": [
    "#mdf.groupby('TypeSeq').count().FunctionStart.plot(kind='bar',rot=35)\n",
    "mdf[mdf.HasStripNodes].groupby('TypeSeq').count().FunctionStart.plot(kind='bar',rot=50,title='HasStripNodes=True')"
   ]
  },
  {
   "cell_type": "code",
   "execution_count": 24,
   "metadata": {},
   "outputs": [
    {
     "name": "stdout",
     "output_type": "stream",
     "text": [
      "98.95% of the member expressions align with nodes from the stripped AST\n"
     ]
    }
   ],
   "source": [
    "percent_aligned = len(mdf[mdf.HasStripNodes])/len(mdf)*100\n",
    "print(f'{percent_aligned:.2f}% of the member expressions align with nodes from the stripped AST')"
   ]
  },
  {
   "cell_type": "markdown",
   "metadata": {},
   "source": [
    "## uint64 cases\n",
    "This appears to be Ghidra's \"fake structure\" syntax:\n",
    "`var._X_Y_`"
   ]
  },
  {
   "cell_type": "code",
   "execution_count": 25,
   "metadata": {},
   "outputs": [
    {
     "name": "stdout",
     "output_type": "stream",
     "text": [
      "local_d8._1_1_\n"
     ]
    },
    {
     "data": {
      "text/plain": [
       "uint64 local_d8 @ Stack[-0xd8]"
      ]
     },
     "execution_count": 25,
     "metadata": {},
     "output_type": "execute_result"
    }
   ],
   "source": [
    "mexpr = mdf[mdf.TypeSeq=='uint64'].iloc[0].MemberExpr\n",
    "dref = mexpr.inner[0]\n",
    "print_ast(mexpr)\n",
    "dref.referencedDecl"
   ]
  },
  {
   "cell_type": "markdown",
   "metadata": {},
   "source": [
    "## ARR,char cases\n",
    "This appears to be Ghidra's \"fake structure\" syntax:\n",
    "`array_var._X_Y_`"
   ]
  },
  {
   "cell_type": "code",
   "execution_count": 26,
   "metadata": {},
   "outputs": [
    {
     "name": "stdout",
     "output_type": "stream",
     "text": [
      "description._32_8_\n"
     ]
    },
    {
     "data": {
      "text/plain": [
       "char[1024] description @ Stack[-0x4c8]"
      ]
     },
     "execution_count": 26,
     "metadata": {},
     "output_type": "execute_result"
    }
   ],
   "source": [
    "mexpr = mdf[mdf.TypeSeq=='ARR,char'].iloc[0].MemberExpr\n",
    "dref = mexpr.inner[0]\n",
    "print_ast(mexpr)\n",
    "dref.referencedDecl"
   ]
  },
  {
   "cell_type": "code",
   "execution_count": 27,
   "metadata": {},
   "outputs": [
    {
     "data": {
      "text/plain": [
       "<Axes: xlabel='InnerKind'>"
      ]
     },
     "execution_count": 27,
     "metadata": {},
     "output_type": "execute_result"
    },
    {
     "data": {
      "image/png": "[encoded data removed]",
      "text/plain": [
       "<Figure size 640x480 with 1 Axes>"
      ]
     },
     "metadata": {},
     "output_type": "display_data"
    }
   ],
   "source": [
    "mdf.groupby('InnerKind').count().FunctionStart.plot(kind='bar')"
   ]
  },
  {
   "cell_type": "markdown",
   "metadata": {},
   "source": [
    "## STRUCT cases\n",
    "I think this should be our local stack variable cases... (maybe globals are here too)"
   ]
  },
  {
   "cell_type": "code",
   "execution_count": 28,
   "metadata": {},
   "outputs": [
    {
     "data": {
      "text/html": [
       "<div>\n",
       "<style scoped>\n",
       "    .dataframe tbody tr th:only-of-type {\n",
       "        vertical-align: middle;\n",
       "    }\n",
       "\n",
       "    .dataframe tbody tr th {\n",
       "        vertical-align: top;\n",
       "    }\n",
       "\n",
       "    .dataframe thead th {\n",
       "        text-align: right;\n",
       "    }\n",
       "</style>\n",
       "<table border=\"1\" class=\"dataframe\">\n",
       "  <thead>\n",
       "    <tr style=\"text-align: right;\">\n",
       "      <th></th>\n",
       "      <th>FunctionStart</th>\n",
       "      <th>MemberExpr</th>\n",
       "      <th>StripNodes</th>\n",
       "      <th>HasStripNodes</th>\n",
       "      <th>InnerKind</th>\n",
       "      <th>TypeSeq</th>\n",
       "      <th>Offset</th>\n",
       "    </tr>\n",
       "    <tr>\n",
       "      <th>LocType</th>\n",
       "      <th></th>\n",
       "      <th></th>\n",
       "      <th></th>\n",
       "      <th></th>\n",
       "      <th></th>\n",
       "      <th></th>\n",
       "      <th></th>\n",
       "    </tr>\n",
       "  </thead>\n",
       "  <tbody>\n",
       "    <tr>\n",
       "      <th>join</th>\n",
       "      <td>19</td>\n",
       "      <td>19</td>\n",
       "      <td>19</td>\n",
       "      <td>19</td>\n",
       "      <td>19</td>\n",
       "      <td>19</td>\n",
       "      <td>19</td>\n",
       "    </tr>\n",
       "    <tr>\n",
       "      <th>ram</th>\n",
       "      <td>3481</td>\n",
       "      <td>3481</td>\n",
       "      <td>3481</td>\n",
       "      <td>3481</td>\n",
       "      <td>3481</td>\n",
       "      <td>3481</td>\n",
       "      <td>3481</td>\n",
       "    </tr>\n",
       "    <tr>\n",
       "      <th>stack</th>\n",
       "      <td>2918</td>\n",
       "      <td>2918</td>\n",
       "      <td>2918</td>\n",
       "      <td>2918</td>\n",
       "      <td>2918</td>\n",
       "      <td>2918</td>\n",
       "      <td>2918</td>\n",
       "    </tr>\n",
       "    <tr>\n",
       "      <th>unique</th>\n",
       "      <td>788</td>\n",
       "      <td>788</td>\n",
       "      <td>788</td>\n",
       "      <td>788</td>\n",
       "      <td>788</td>\n",
       "      <td>788</td>\n",
       "      <td>788</td>\n",
       "    </tr>\n",
       "  </tbody>\n",
       "</table>\n",
       "</div>"
      ],
      "text/plain": [
       "         FunctionStart  MemberExpr  StripNodes  HasStripNodes  InnerKind   \n",
       "LocType                                                                    \n",
       "join                19          19          19             19         19  \\\n",
       "ram               3481        3481        3481           3481       3481   \n",
       "stack             2918        2918        2918           2918       2918   \n",
       "unique             788         788         788            788        788   \n",
       "\n",
       "         TypeSeq  Offset  \n",
       "LocType                   \n",
       "join          19      19  \n",
       "ram         3481    3481  \n",
       "stack       2918    2918  \n",
       "unique       788     788  "
      ]
     },
     "execution_count": 28,
     "metadata": {},
     "output_type": "execute_result"
    }
   ],
   "source": [
    "mdf[mdf.TypeSeq=='STRUCT'].groupby('LocType').count()"
   ]
  },
  {
   "cell_type": "code",
   "execution_count": 29,
   "metadata": {},
   "outputs": [
    {
     "data": {
      "text/plain": [
       "<Axes: xlabel='LocType'>"
      ]
     },
     "execution_count": 29,
     "metadata": {},
     "output_type": "execute_result"
    },
    {
     "data": {
      "image/png": "[encoded data removed]",
      "text/plain": [
       "<Figure size 640x480 with 1 Axes>"
      ]
     },
     "metadata": {},
     "output_type": "display_data"
    }
   ],
   "source": [
    "mdf[mdf.TypeSeq=='STRUCT'].groupby('LocType').count().FunctionStart.plot(kind='bar')"
   ]
  },
  {
   "cell_type": "code",
   "execution_count": 30,
   "metadata": {},
   "outputs": [],
   "source": [
    "# mdf[mdf.TypeSeq=='']"
   ]
  },
  {
   "cell_type": "code",
   "execution_count": 31,
   "metadata": {},
   "outputs": [
    {
     "data": {
      "text/html": [
       "<div>\n",
       "<style scoped>\n",
       "    .dataframe tbody tr th:only-of-type {\n",
       "        vertical-align: middle;\n",
       "    }\n",
       "\n",
       "    .dataframe tbody tr th {\n",
       "        vertical-align: top;\n",
       "    }\n",
       "\n",
       "    .dataframe thead th {\n",
       "        text-align: right;\n",
       "    }\n",
       "</style>\n",
       "<table border=\"1\" class=\"dataframe\">\n",
       "  <thead>\n",
       "    <tr style=\"text-align: right;\">\n",
       "      <th></th>\n",
       "      <th>FunctionStart</th>\n",
       "      <th>MemberExpr</th>\n",
       "      <th>StripNodes</th>\n",
       "      <th>HasStripNodes</th>\n",
       "      <th>InnerKind</th>\n",
       "      <th>TypeSeq</th>\n",
       "      <th>LocType</th>\n",
       "      <th>Offset</th>\n",
       "    </tr>\n",
       "  </thead>\n",
       "  <tbody>\n",
       "    <tr>\n",
       "      <th>16</th>\n",
       "      <td>1090936</td>\n",
       "      <td>&lt;DeclRef: sheet&gt;...</td>\n",
       "      <td>[BinaryOperator ...</td>\n",
       "      <td>True</td>\n",
       "      <td>DeclRefExpr</td>\n",
       "      <td>STRUCT</td>\n",
       "      <td>stack</td>\n",
       "      <td>0</td>\n",
       "    </tr>\n",
       "    <tr>\n",
       "      <th>18</th>\n",
       "      <td>1090936</td>\n",
       "      <td>&lt;DeclRef: sheet&gt;...</td>\n",
       "      <td>[BinaryOperator ...</td>\n",
       "      <td>True</td>\n",
       "      <td>DeclRefExpr</td>\n",
       "      <td>STRUCT</td>\n",
       "      <td>stack</td>\n",
       "      <td>4</td>\n",
       "    </tr>\n",
       "    <tr>\n",
       "      <th>20</th>\n",
       "      <td>1090936</td>\n",
       "      <td>&lt;DeclRef: sheet&gt;...</td>\n",
       "      <td>[BinaryOperator ...</td>\n",
       "      <td>True</td>\n",
       "      <td>DeclRefExpr</td>\n",
       "      <td>STRUCT</td>\n",
       "      <td>stack</td>\n",
       "      <td>8</td>\n",
       "    </tr>\n",
       "    <tr>\n",
       "      <th>22</th>\n",
       "      <td>1090936</td>\n",
       "      <td>&lt;DeclRef: sheet&gt;...</td>\n",
       "      <td>[BinaryOperator ...</td>\n",
       "      <td>True</td>\n",
       "      <td>DeclRefExpr</td>\n",
       "      <td>STRUCT</td>\n",
       "      <td>stack</td>\n",
       "      <td>12</td>\n",
       "    </tr>\n",
       "    <tr>\n",
       "      <th>24</th>\n",
       "      <td>1090936</td>\n",
       "      <td>&lt;DeclRef: sheet&gt;...</td>\n",
       "      <td>[BinaryOperator ...</td>\n",
       "      <td>True</td>\n",
       "      <td>DeclRefExpr</td>\n",
       "      <td>STRUCT</td>\n",
       "      <td>stack</td>\n",
       "      <td>16</td>\n",
       "    </tr>\n",
       "    <tr>\n",
       "      <th>...</th>\n",
       "      <td>...</td>\n",
       "      <td>...</td>\n",
       "      <td>...</td>\n",
       "      <td>...</td>\n",
       "      <td>...</td>\n",
       "      <td>...</td>\n",
       "      <td>...</td>\n",
       "      <td>...</td>\n",
       "    </tr>\n",
       "    <tr>\n",
       "      <th>26256</th>\n",
       "      <td>1765816</td>\n",
       "      <td>&lt;DeclRef: e&gt;.cod...</td>\n",
       "      <td>[]</td>\n",
       "      <td>False</td>\n",
       "      <td>DeclRefExpr</td>\n",
       "      <td>STRUCT</td>\n",
       "      <td>stack</td>\n",
       "      <td>18</td>\n",
       "    </tr>\n",
       "    <tr>\n",
       "      <th>26257</th>\n",
       "      <td>1765816</td>\n",
       "      <td>&lt;DeclRef: e&gt;.val...</td>\n",
       "      <td>[&lt;DeclRef: FUN_0...</td>\n",
       "      <td>True</td>\n",
       "      <td>DeclRefExpr</td>\n",
       "      <td>STRUCT</td>\n",
       "      <td>stack</td>\n",
       "      <td>20</td>\n",
       "    </tr>\n",
       "    <tr>\n",
       "      <th>26258</th>\n",
       "      <td>1765816</td>\n",
       "      <td>&lt;DeclRef: e&gt;.typ...</td>\n",
       "      <td>[BinaryOperator ...</td>\n",
       "      <td>True</td>\n",
       "      <td>DeclRefExpr</td>\n",
       "      <td>STRUCT</td>\n",
       "      <td>stack</td>\n",
       "      <td>16</td>\n",
       "    </tr>\n",
       "    <tr>\n",
       "      <th>26259</th>\n",
       "      <td>1765816</td>\n",
       "      <td>&lt;DeclRef: e&gt;.cod...</td>\n",
       "      <td>[]</td>\n",
       "      <td>False</td>\n",
       "      <td>DeclRefExpr</td>\n",
       "      <td>STRUCT</td>\n",
       "      <td>stack</td>\n",
       "      <td>18</td>\n",
       "    </tr>\n",
       "    <tr>\n",
       "      <th>26260</th>\n",
       "      <td>1765816</td>\n",
       "      <td>&lt;DeclRef: e&gt;.val...</td>\n",
       "      <td>[&lt;DeclRef: FUN_0...</td>\n",
       "      <td>True</td>\n",
       "      <td>DeclRefExpr</td>\n",
       "      <td>STRUCT</td>\n",
       "      <td>stack</td>\n",
       "      <td>20</td>\n",
       "    </tr>\n",
       "  </tbody>\n",
       "</table>\n",
       "<p>2918 rows × 8 columns</p>\n",
       "</div>"
      ],
      "text/plain": [
       "       FunctionStart           MemberExpr           StripNodes  HasStripNodes   \n",
       "16           1090936  <DeclRef: sheet>...  [BinaryOperator ...           True  \\\n",
       "18           1090936  <DeclRef: sheet>...  [BinaryOperator ...           True   \n",
       "20           1090936  <DeclRef: sheet>...  [BinaryOperator ...           True   \n",
       "22           1090936  <DeclRef: sheet>...  [BinaryOperator ...           True   \n",
       "24           1090936  <DeclRef: sheet>...  [BinaryOperator ...           True   \n",
       "...              ...                  ...                  ...            ...   \n",
       "26256        1765816  <DeclRef: e>.cod...                   []          False   \n",
       "26257        1765816  <DeclRef: e>.val...  [<DeclRef: FUN_0...           True   \n",
       "26258        1765816  <DeclRef: e>.typ...  [BinaryOperator ...           True   \n",
       "26259        1765816  <DeclRef: e>.cod...                   []          False   \n",
       "26260        1765816  <DeclRef: e>.val...  [<DeclRef: FUN_0...           True   \n",
       "\n",
       "         InnerKind TypeSeq LocType  Offset  \n",
       "16     DeclRefExpr  STRUCT   stack       0  \n",
       "18     DeclRefExpr  STRUCT   stack       4  \n",
       "20     DeclRefExpr  STRUCT   stack       8  \n",
       "22     DeclRefExpr  STRUCT   stack      12  \n",
       "24     DeclRefExpr  STRUCT   stack      16  \n",
       "...            ...     ...     ...     ...  \n",
       "26256  DeclRefExpr  STRUCT   stack      18  \n",
       "26257  DeclRefExpr  STRUCT   stack      20  \n",
       "26258  DeclRefExpr  STRUCT   stack      16  \n",
       "26259  DeclRefExpr  STRUCT   stack      18  \n",
       "26260  DeclRefExpr  STRUCT   stack      20  \n",
       "\n",
       "[2918 rows x 8 columns]"
      ]
     },
     "execution_count": 31,
     "metadata": {},
     "output_type": "execute_result"
    }
   ],
   "source": [
    "subset = mdf[(mdf.TypeSeq=='STRUCT')&(mdf.LocType=='stack')]\n",
    "subset"
   ]
  },
  {
   "cell_type": "code",
   "execution_count": 32,
   "metadata": {},
   "outputs": [
    {
     "name": "stdout",
     "output_type": "stream",
     "text": [
      "0x10a60c\n",
      "sheet.subtexs\n"
     ]
    },
    {
     "data": {
      "text/plain": [
       "[BinaryOperator =,\n",
       " <astlib.ast.ArraySubscriptExpr at 0x7fc3f0368850>,\n",
       " <DeclRef: param_1>,\n",
       " <IntegerLiteral: 2 (dtype=int64)>,\n",
       " <DeclRef: local_28>]"
      ]
     },
     "execution_count": 32,
     "metadata": {},
     "output_type": "execute_result"
    }
   ],
   "source": [
    "ex_row = subset.iloc[4]\n",
    "mexpr = ex_row.MemberExpr\n",
    "dref = mexpr.inner[0]\n",
    "print(f'{mexpr.instr_addr:#x}')\n",
    "print_ast(mexpr)\n",
    "dref.referencedDecl\n",
    "ex_row.StripNodes"
   ]
  },
  {
   "cell_type": "markdown",
   "metadata": {},
   "source": [
    "## PTR,STRUCT Cases\n",
    "\n",
    "> Can we build a dataset starting with only these variables?\n",
    "\n",
    "We probably will start by recovering these structures first, then come back for the stack-based/memory-based structs"
   ]
  },
  {
   "cell_type": "code",
   "execution_count": 33,
   "metadata": {},
   "outputs": [
    {
     "name": "stdout",
     "output_type": "stream",
     "text": [
      "PTR,STRUCT (non-unique) accounts for 38.09% of the total data\n"
     ]
    }
   ],
   "source": [
    "subset = mdf.loc[(mdf.TypeSeq=='PTR,STRUCT')&(mdf.LocType!='unique'),:]\n",
    "percent_total = len(subset)/len(mdf)*100\n",
    "print(f'PTR,STRUCT (non-unique) accounts for {percent_total:.2f}% of the total data')"
   ]
  },
  {
   "cell_type": "code",
   "execution_count": 34,
   "metadata": {},
   "outputs": [
    {
     "data": {
      "text/plain": [
       "<Axes: title={'center': 'PTR,STRUCT Alignment with Stripped AST'}, xlabel='HasStripNodes', ylabel='Percentage (%)'>"
      ]
     },
     "execution_count": 34,
     "metadata": {},
     "output_type": "execute_result"
    },
    {
     "data": {
      "image/png": "[encoded data removed]",
      "text/plain": [
       "<Figure size 640x480 with 1 Axes>"
      ]
     },
     "metadata": {},
     "output_type": "display_data"
    }
   ],
   "source": [
    "(subset.groupby('HasStripNodes').count()/len(subset)*100).FunctionStart.plot(kind='bar', rot=0, title='PTR,STRUCT Alignment with Stripped AST',\n",
    "    ylabel='Percentage (%)')"
   ]
  },
  {
   "cell_type": "code",
   "execution_count": 35,
   "metadata": {},
   "outputs": [
    {
     "data": {
      "text/plain": [
       "<Axes: title={'center': 'PTR,STRUCT Storage Locations'}, xlabel='LocType', ylabel='Percentage (%)'>"
      ]
     },
     "execution_count": 35,
     "metadata": {},
     "output_type": "execute_result"
    },
    {
     "data": {
      "image/png": "[encoded data removed]",
      "text/plain": [
       "<Figure size 640x480 with 1 Axes>"
      ]
     },
     "metadata": {},
     "output_type": "display_data"
    }
   ],
   "source": [
    "(subset.groupby('LocType').count()/len(subset)*100).FunctionStart.plot(kind='bar',rot=0, title='PTR,STRUCT Storage Locations', ylabel='Percentage (%)')"
   ]
  },
  {
   "cell_type": "markdown",
   "metadata": {},
   "source": [
    "Remember, OSPREY would be unable to deal with any of these register variables!"
   ]
  },
  {
   "cell_type": "code",
   "execution_count": 36,
   "metadata": {},
   "outputs": [
    {
     "name": "stdout",
     "output_type": "stream",
     "text": [
      "8,577 PTR,STRUCT vars stored in registers (85.75% of PTR,STRUCT vars)\n"
     ]
    }
   ],
   "source": [
    "num_reg_locs = len(subset[subset.LocType=='register'])\n",
    "print(f'{num_reg_locs:,} PTR,STRUCT vars stored in registers ({num_reg_locs/len(subset)*100:.2f}% of PTR,STRUCT vars)')"
   ]
  },
  {
   "cell_type": "code",
   "execution_count": 37,
   "metadata": {},
   "outputs": [
    {
     "name": "stdout",
     "output_type": "stream",
     "text": [
      "<DeclRef: asset>->data (offset=0x8, sid=72057594037927950)\n"
     ]
    },
    {
     "data": {
      "text/plain": [
       "[UnaryOperator *,\n",
       " CStyleCastExpr (uint64*),\n",
       " BinaryOperator +,\n",
       " <DeclRef: lVar2>,\n",
       " <IntegerLiteral: 8 (dtype=int64)>]"
      ]
     },
     "execution_count": 37,
     "metadata": {},
     "output_type": "execute_result"
    }
   ],
   "source": [
    "# print_ast()\n",
    "m = subset.iloc[0].MemberExpr\n",
    "strip_nodes = subset.iloc[0].StripNodes\n",
    "\n",
    "print(m)\n",
    "strip_nodes"
   ]
  },
  {
   "cell_type": "markdown",
   "metadata": {},
   "source": [
    "Here is the member offset and it's parent struct:"
   ]
  },
  {
   "cell_type": "code",
   "execution_count": 38,
   "metadata": {},
   "outputs": [
    {
     "name": "stdout",
     "output_type": "stream",
     "text": [
      "Offset: 8\n"
     ]
    },
    {
     "data": {
      "text/plain": [
       "struct asset_t {\n",
       "\t0x0: uint32 uid\n",
       "\t0x8: uchar* data\n",
       "\t0x10: uint32 data_length\n",
       "\t0x18: char* name\n",
       "\t0x20: int32 chunk_start\n",
       "\t0x24: int32 chunk_length\n",
       "\t0x28: uchar fs\n",
       "\t0x29: uchar filled\n",
       "\t0x2a: uchar req\n",
       "\t0x2b: uchar req_free\n",
       "\t0x2c: uchar chunk\n",
       "}"
      ]
     },
     "execution_count": 38,
     "metadata": {},
     "output_type": "execute_result"
    }
   ],
   "source": [
    "print(f'Offset: {m.offset}')\n",
    "m.parent_struct"
   ]
  },
  {
   "cell_type": "markdown",
   "metadata": {},
   "source": [
    "Can we find a matching IntegerLiteral?"
   ]
  },
  {
   "cell_type": "code",
   "execution_count": 39,
   "metadata": {},
   "outputs": [],
   "source": [
    "def get_int_literals(strip_nodes:List[ASTNode]) -> List[IntegerLiteral]:\n",
    "    return [n for n in strip_nodes if isinstance(n, IntegerLiteral)]\n",
    "\n",
    "def matching_int_literals(int_literals:List[ASTNode], offset:int) -> List[IntegerLiteral]:\n",
    "    return [x for x in int_literals if x.value == offset]\n",
    "\n",
    "def collect_int_literals(strip_nodes:List[ASTNode], offset:int):\n",
    "    int_literals = get_int_literals(strip_nodes)\n",
    "    if int_literals:\n",
    "        matches = matching_int_literals(int_literals, offset)\n",
    "        if matches:\n",
    "            if len(matches) == 1:\n",
    "                return 'MATCH'\n",
    "            return 'MULTIPLE'\n",
    "        return 'NO_MATCHES'\n",
    "    return 'NO_LITERALS'\n",
    "\n",
    "# int_literals = [n for n in strip_nodes if isinstance(n, IntegerLiteral)]\n",
    "# if not int_literals:\n",
    "#     print(f'No integer literals at this address')\n",
    "# else:\n",
    "#     offset_matches = [x for x in int_literals if x.value == m.offset]\n",
    "#     if not offset_matches:\n",
    "#         print(f'No integer literals match offset of {m.offset}')\n",
    "#     elif len(offset_matches) > 1:\n",
    "#         print(f'Multiple literals match offset of {m.offset}')\n",
    "#     else:\n",
    "#         print(f'Found match! {offset_matches[0]}')\n"
   ]
  },
  {
   "cell_type": "code",
   "execution_count": 40,
   "metadata": {},
   "outputs": [],
   "source": [
    "# subset.loc[:,'IntLitMatches'] = subset.apply(lambda x: collect_int_literals(x.StripNodes, x.MemberExpr.offset), axis=1)\n",
    "# subset.loc[:,'test'] = subset.apply(lambda x: collect_int_literals(x.StripNodes, x.MemberExpr.offset), axis=1)\n",
    "subset['IntLitMatches'] = subset.apply(lambda x: collect_int_literals(x.StripNodes, x.MemberExpr.offset), axis=1)"
   ]
  },
  {
   "cell_type": "markdown",
   "metadata": {},
   "source": [
    "Let's filter out the unaligned cases from here on out:"
   ]
  },
  {
   "cell_type": "code",
   "execution_count": 41,
   "metadata": {},
   "outputs": [
    {
     "data": {
      "text/html": [
       "<div>\n",
       "<style scoped>\n",
       "    .dataframe tbody tr th:only-of-type {\n",
       "        vertical-align: middle;\n",
       "    }\n",
       "\n",
       "    .dataframe tbody tr th {\n",
       "        vertical-align: top;\n",
       "    }\n",
       "\n",
       "    .dataframe thead th {\n",
       "        text-align: right;\n",
       "    }\n",
       "</style>\n",
       "<table border=\"1\" class=\"dataframe\">\n",
       "  <thead>\n",
       "    <tr style=\"text-align: right;\">\n",
       "      <th></th>\n",
       "      <th>FunctionStart</th>\n",
       "      <th>MemberExpr</th>\n",
       "      <th>StripNodes</th>\n",
       "      <th>HasStripNodes</th>\n",
       "      <th>InnerKind</th>\n",
       "      <th>TypeSeq</th>\n",
       "      <th>LocType</th>\n",
       "      <th>Offset</th>\n",
       "      <th>IntLitMatches</th>\n",
       "    </tr>\n",
       "  </thead>\n",
       "  <tbody>\n",
       "    <tr>\n",
       "      <th>11</th>\n",
       "      <td>1090825</td>\n",
       "      <td>&lt;DeclRef: asset&gt;...</td>\n",
       "      <td>[UnaryOperator *...</td>\n",
       "      <td>True</td>\n",
       "      <td>DeclRefExpr</td>\n",
       "      <td>PTR,STRUCT</td>\n",
       "      <td>register</td>\n",
       "      <td>8</td>\n",
       "      <td>MATCH</td>\n",
       "    </tr>\n",
       "    <tr>\n",
       "      <th>12</th>\n",
       "      <td>1090825</td>\n",
       "      <td>&lt;DeclRef: asset_...</td>\n",
       "      <td>[UnaryOperator *...</td>\n",
       "      <td>True</td>\n",
       "      <td>DeclRefExpr</td>\n",
       "      <td>PTR,STRUCT</td>\n",
       "      <td>register</td>\n",
       "      <td>8</td>\n",
       "      <td>MATCH</td>\n",
       "    </tr>\n",
       "    <tr>\n",
       "      <th>13</th>\n",
       "      <td>1090936</td>\n",
       "      <td>&lt;DeclRef: asset&gt;...</td>\n",
       "      <td>[UnaryOperator *...</td>\n",
       "      <td>True</td>\n",
       "      <td>DeclRefExpr</td>\n",
       "      <td>PTR,STRUCT</td>\n",
       "      <td>register</td>\n",
       "      <td>8</td>\n",
       "      <td>MATCH</td>\n",
       "    </tr>\n",
       "    <tr>\n",
       "      <th>14</th>\n",
       "      <td>1090936</td>\n",
       "      <td>&lt;DeclRef: asset&gt;...</td>\n",
       "      <td>[UnaryOperator *...</td>\n",
       "      <td>True</td>\n",
       "      <td>DeclRefExpr</td>\n",
       "      <td>PTR,STRUCT</td>\n",
       "      <td>register</td>\n",
       "      <td>16</td>\n",
       "      <td>MATCH</td>\n",
       "    </tr>\n",
       "    <tr>\n",
       "      <th>15</th>\n",
       "      <td>1090936</td>\n",
       "      <td>&lt;DeclRef: __retu...</td>\n",
       "      <td>[BinaryOperator ...</td>\n",
       "      <td>True</td>\n",
       "      <td>DeclRefExpr</td>\n",
       "      <td>PTR,STRUCT</td>\n",
       "      <td>register</td>\n",
       "      <td>0</td>\n",
       "      <td>NO_LITERALS</td>\n",
       "    </tr>\n",
       "    <tr>\n",
       "      <th>...</th>\n",
       "      <td>...</td>\n",
       "      <td>...</td>\n",
       "      <td>...</td>\n",
       "      <td>...</td>\n",
       "      <td>...</td>\n",
       "      <td>...</td>\n",
       "      <td>...</td>\n",
       "      <td>...</td>\n",
       "      <td>...</td>\n",
       "    </tr>\n",
       "    <tr>\n",
       "      <th>26195</th>\n",
       "      <td>1764366</td>\n",
       "      <td>&lt;DeclRef: js&gt;-&gt;l...</td>\n",
       "      <td>[UnaryOperator *...</td>\n",
       "      <td>True</td>\n",
       "      <td>DeclRefExpr</td>\n",
       "      <td>PTR,STRUCT</td>\n",
       "      <td>register</td>\n",
       "      <td>240</td>\n",
       "      <td>MATCH</td>\n",
       "    </tr>\n",
       "    <tr>\n",
       "      <th>26212</th>\n",
       "      <td>1764501</td>\n",
       "      <td>&lt;DeclRef: pdVar4...</td>\n",
       "      <td>[&lt;DeclRef: pdVar...</td>\n",
       "      <td>True</td>\n",
       "      <td>DeclRefExpr</td>\n",
       "      <td>PTR,STRUCT</td>\n",
       "      <td>register</td>\n",
       "      <td>19</td>\n",
       "      <td>NO_LITERALS</td>\n",
       "    </tr>\n",
       "    <tr>\n",
       "      <th>26213</th>\n",
       "      <td>1764501</td>\n",
       "      <td>&lt;DeclRef: pdVar4...</td>\n",
       "      <td>[&lt;DeclRef: pdVar...</td>\n",
       "      <td>True</td>\n",
       "      <td>DeclRefExpr</td>\n",
       "      <td>PTR,STRUCT</td>\n",
       "      <td>register</td>\n",
       "      <td>19</td>\n",
       "      <td>NO_LITERALS</td>\n",
       "    </tr>\n",
       "    <tr>\n",
       "      <th>26245</th>\n",
       "      <td>1765816</td>\n",
       "      <td>&lt;DeclRef: js&gt;-&gt;l...</td>\n",
       "      <td>[UnaryOperator *...</td>\n",
       "      <td>True</td>\n",
       "      <td>DeclRefExpr</td>\n",
       "      <td>PTR,STRUCT</td>\n",
       "      <td>register</td>\n",
       "      <td>240</td>\n",
       "      <td>MATCH</td>\n",
       "    </tr>\n",
       "    <tr>\n",
       "      <th>26261</th>\n",
       "      <td>1765816</td>\n",
       "      <td>&lt;DeclRef: js&gt;-&gt;c...</td>\n",
       "      <td>[UnaryOperator *...</td>\n",
       "      <td>True</td>\n",
       "      <td>DeclRefExpr</td>\n",
       "      <td>PTR,STRUCT</td>\n",
       "      <td>register</td>\n",
       "      <td>4</td>\n",
       "      <td>MATCH</td>\n",
       "    </tr>\n",
       "  </tbody>\n",
       "</table>\n",
       "<p>9893 rows × 9 columns</p>\n",
       "</div>"
      ],
      "text/plain": [
       "       FunctionStart           MemberExpr           StripNodes  HasStripNodes   \n",
       "11           1090825  <DeclRef: asset>...  [UnaryOperator *...           True  \\\n",
       "12           1090825  <DeclRef: asset_...  [UnaryOperator *...           True   \n",
       "13           1090936  <DeclRef: asset>...  [UnaryOperator *...           True   \n",
       "14           1090936  <DeclRef: asset>...  [UnaryOperator *...           True   \n",
       "15           1090936  <DeclRef: __retu...  [BinaryOperator ...           True   \n",
       "...              ...                  ...                  ...            ...   \n",
       "26195        1764366  <DeclRef: js>->l...  [UnaryOperator *...           True   \n",
       "26212        1764501  <DeclRef: pdVar4...  [<DeclRef: pdVar...           True   \n",
       "26213        1764501  <DeclRef: pdVar4...  [<DeclRef: pdVar...           True   \n",
       "26245        1765816  <DeclRef: js>->l...  [UnaryOperator *...           True   \n",
       "26261        1765816  <DeclRef: js>->c...  [UnaryOperator *...           True   \n",
       "\n",
       "         InnerKind     TypeSeq   LocType  Offset IntLitMatches  \n",
       "11     DeclRefExpr  PTR,STRUCT  register       8         MATCH  \n",
       "12     DeclRefExpr  PTR,STRUCT  register       8         MATCH  \n",
       "13     DeclRefExpr  PTR,STRUCT  register       8         MATCH  \n",
       "14     DeclRefExpr  PTR,STRUCT  register      16         MATCH  \n",
       "15     DeclRefExpr  PTR,STRUCT  register       0   NO_LITERALS  \n",
       "...            ...         ...       ...     ...           ...  \n",
       "26195  DeclRefExpr  PTR,STRUCT  register     240         MATCH  \n",
       "26212  DeclRefExpr  PTR,STRUCT  register      19   NO_LITERALS  \n",
       "26213  DeclRefExpr  PTR,STRUCT  register      19   NO_LITERALS  \n",
       "26245  DeclRefExpr  PTR,STRUCT  register     240         MATCH  \n",
       "26261  DeclRefExpr  PTR,STRUCT  register       4         MATCH  \n",
       "\n",
       "[9893 rows x 9 columns]"
      ]
     },
     "execution_count": 41,
     "metadata": {},
     "output_type": "execute_result"
    }
   ],
   "source": [
    "subset = subset.loc[subset.HasStripNodes,:]\n",
    "subset"
   ]
  },
  {
   "cell_type": "code",
   "execution_count": 42,
   "metadata": {},
   "outputs": [
    {
     "data": {
      "text/html": [
       "<div>\n",
       "<style scoped>\n",
       "    .dataframe tbody tr th:only-of-type {\n",
       "        vertical-align: middle;\n",
       "    }\n",
       "\n",
       "    .dataframe tbody tr th {\n",
       "        vertical-align: top;\n",
       "    }\n",
       "\n",
       "    .dataframe thead th {\n",
       "        text-align: right;\n",
       "    }\n",
       "</style>\n",
       "<table border=\"1\" class=\"dataframe\">\n",
       "  <thead>\n",
       "    <tr style=\"text-align: right;\">\n",
       "      <th></th>\n",
       "      <th>FunctionStart</th>\n",
       "      <th>MemberExpr</th>\n",
       "      <th>StripNodes</th>\n",
       "      <th>HasStripNodes</th>\n",
       "      <th>InnerKind</th>\n",
       "      <th>TypeSeq</th>\n",
       "      <th>LocType</th>\n",
       "      <th>Offset</th>\n",
       "    </tr>\n",
       "    <tr>\n",
       "      <th>IntLitMatches</th>\n",
       "      <th></th>\n",
       "      <th></th>\n",
       "      <th></th>\n",
       "      <th></th>\n",
       "      <th></th>\n",
       "      <th></th>\n",
       "      <th></th>\n",
       "      <th></th>\n",
       "    </tr>\n",
       "  </thead>\n",
       "  <tbody>\n",
       "    <tr>\n",
       "      <th>MATCH</th>\n",
       "      <td>4431</td>\n",
       "      <td>4431</td>\n",
       "      <td>4431</td>\n",
       "      <td>4431</td>\n",
       "      <td>4431</td>\n",
       "      <td>4431</td>\n",
       "      <td>4431</td>\n",
       "      <td>4431</td>\n",
       "    </tr>\n",
       "    <tr>\n",
       "      <th>MULTIPLE</th>\n",
       "      <td>64</td>\n",
       "      <td>64</td>\n",
       "      <td>64</td>\n",
       "      <td>64</td>\n",
       "      <td>64</td>\n",
       "      <td>64</td>\n",
       "      <td>64</td>\n",
       "      <td>64</td>\n",
       "    </tr>\n",
       "    <tr>\n",
       "      <th>NO_LITERALS</th>\n",
       "      <td>1003</td>\n",
       "      <td>1003</td>\n",
       "      <td>1003</td>\n",
       "      <td>1003</td>\n",
       "      <td>1003</td>\n",
       "      <td>1003</td>\n",
       "      <td>1003</td>\n",
       "      <td>1003</td>\n",
       "    </tr>\n",
       "    <tr>\n",
       "      <th>NO_MATCHES</th>\n",
       "      <td>4395</td>\n",
       "      <td>4395</td>\n",
       "      <td>4395</td>\n",
       "      <td>4395</td>\n",
       "      <td>4395</td>\n",
       "      <td>4395</td>\n",
       "      <td>4395</td>\n",
       "      <td>4395</td>\n",
       "    </tr>\n",
       "  </tbody>\n",
       "</table>\n",
       "</div>"
      ],
      "text/plain": [
       "               FunctionStart  MemberExpr  StripNodes  HasStripNodes   \n",
       "IntLitMatches                                                         \n",
       "MATCH                   4431        4431        4431           4431  \\\n",
       "MULTIPLE                  64          64          64             64   \n",
       "NO_LITERALS             1003        1003        1003           1003   \n",
       "NO_MATCHES              4395        4395        4395           4395   \n",
       "\n",
       "               InnerKind  TypeSeq  LocType  Offset  \n",
       "IntLitMatches                                       \n",
       "MATCH               4431     4431     4431    4431  \n",
       "MULTIPLE              64       64       64      64  \n",
       "NO_LITERALS         1003     1003     1003    1003  \n",
       "NO_MATCHES          4395     4395     4395    4395  "
      ]
     },
     "execution_count": 42,
     "metadata": {},
     "output_type": "execute_result"
    }
   ],
   "source": [
    "subset.groupby('IntLitMatches').count()"
   ]
  },
  {
   "cell_type": "markdown",
   "metadata": {},
   "source": [
    "## NO_LITERALS Cases\n",
    "Ah! Remember that the first member (at offset `0`) is special...we won't see an offset! :)"
   ]
  },
  {
   "cell_type": "code",
   "execution_count": 43,
   "metadata": {},
   "outputs": [
    {
     "data": {
      "text/plain": [
       "<DeclRef: __return_storage_ptr__>->id (offset=0x0, sid=72057594037927968)"
      ]
     },
     "execution_count": 43,
     "metadata": {},
     "output_type": "execute_result"
    }
   ],
   "source": [
    "subset[subset.IntLitMatches=='NO_LITERALS'].iloc[0].MemberExpr"
   ]
  },
  {
   "cell_type": "code",
   "execution_count": 44,
   "metadata": {},
   "outputs": [
    {
     "data": {
      "text/html": [
       "<div>\n",
       "<style scoped>\n",
       "    .dataframe tbody tr th:only-of-type {\n",
       "        vertical-align: middle;\n",
       "    }\n",
       "\n",
       "    .dataframe tbody tr th {\n",
       "        vertical-align: top;\n",
       "    }\n",
       "\n",
       "    .dataframe thead th {\n",
       "        text-align: right;\n",
       "    }\n",
       "</style>\n",
       "<table border=\"1\" class=\"dataframe\">\n",
       "  <thead>\n",
       "    <tr style=\"text-align: right;\">\n",
       "      <th></th>\n",
       "      <th>FunctionStart</th>\n",
       "    </tr>\n",
       "    <tr>\n",
       "      <th>LocType</th>\n",
       "      <th></th>\n",
       "    </tr>\n",
       "  </thead>\n",
       "  <tbody>\n",
       "    <tr>\n",
       "      <th>register</th>\n",
       "      <td>46</td>\n",
       "    </tr>\n",
       "    <tr>\n",
       "      <th>stack</th>\n",
       "      <td>2</td>\n",
       "    </tr>\n",
       "  </tbody>\n",
       "</table>\n",
       "</div>"
      ],
      "text/plain": [
       "          FunctionStart\n",
       "LocType                \n",
       "register             46\n",
       "stack                 2"
      ]
     },
     "execution_count": 44,
     "metadata": {},
     "output_type": "execute_result"
    }
   ],
   "source": [
    "subset[(subset.IntLitMatches=='NO_LITERALS')&(subset.Offset>0)].groupby('LocType')[['FunctionStart']].count()"
   ]
  },
  {
   "cell_type": "markdown",
   "metadata": {},
   "source": [
    "Most cases (~85% here) of the NO_LITERALS category are for member offsets of 0 (the first member)"
   ]
  },
  {
   "cell_type": "code",
   "execution_count": 45,
   "metadata": {},
   "outputs": [
    {
     "data": {
      "text/plain": [
       "Offset\n",
       "0       955\n",
       "2         4\n",
       "4        32\n",
       "6         1\n",
       "8         2\n",
       "19        2\n",
       "56        1\n",
       "161       1\n",
       "221       1\n",
       "500       2\n",
       "6728      2\n",
       "Name: FunctionStart, dtype: int64"
      ]
     },
     "execution_count": 45,
     "metadata": {},
     "output_type": "execute_result"
    },
    {
     "data": {
      "image/png": "[encoded data removed]",
      "text/plain": [
       "<Figure size 640x480 with 1 Axes>"
      ]
     },
     "metadata": {},
     "output_type": "display_data"
    }
   ],
   "source": [
    "subset[subset.IntLitMatches=='NO_LITERALS'].groupby('Offset')['FunctionStart'].count().plot(kind='bar')\n",
    "subset[subset.IntLitMatches=='NO_LITERALS'].groupby('Offset')['FunctionStart'].count()"
   ]
  },
  {
   "cell_type": "code",
   "execution_count": 46,
   "metadata": {},
   "outputs": [],
   "source": [
    "#subset[(subset.IntLitMatches=='NO_LITERALS')&(subset.Offset>0)]"
   ]
  },
  {
   "cell_type": "markdown",
   "metadata": {},
   "source": [
    "Oh...but only 48 of these are \"real\" cases (not unique variables)"
   ]
  },
  {
   "cell_type": "code",
   "execution_count": 47,
   "metadata": {},
   "outputs": [
    {
     "data": {
      "text/plain": [
       "48"
      ]
     },
     "execution_count": 47,
     "metadata": {},
     "output_type": "execute_result"
    }
   ],
   "source": [
    "len(subset[(subset.IntLitMatches=='NO_LITERALS')&(subset.Offset>0)&(subset.LocType!='unique')])"
   ]
  },
  {
   "cell_type": "markdown",
   "metadata": {},
   "source": [
    "### \"Data move\" instructions moving multiple members\n",
    "This situation results in no explicit access to the member offset, because a larger instruction\n",
    "is moving the data for both smaller members at once"
   ]
  },
  {
   "cell_type": "code",
   "execution_count": 48,
   "metadata": {},
   "outputs": [
    {
     "name": "stdout",
     "output_type": "stream",
     "text": [
      "0x10a578\n",
      "__return_storage_ptr__->width = sheet.width\n"
     ]
    },
    {
     "data": {
      "text/plain": [
       "<DeclRef: __return_storage_ptr__>->width (offset=0x4, sid=72057594037927968)"
      ]
     },
     "execution_count": 48,
     "metadata": {},
     "output_type": "execute_result"
    }
   ],
   "source": [
    "print(hex(1090936))\n",
    "print_ast(subset[(subset.IntLitMatches=='NO_LITERALS')&(subset.Offset>0)].iloc[0].MemberExpr.parent)\n",
    "subset[(subset.IntLitMatches=='NO_LITERALS')&(subset.Offset>0)].iloc[0].MemberExpr"
   ]
  },
  {
   "cell_type": "code",
   "execution_count": 49,
   "metadata": {},
   "outputs": [
    {
     "data": {
      "text/plain": [
       "'0x10a5fd'"
      ]
     },
     "execution_count": 49,
     "metadata": {},
     "output_type": "execute_result"
    }
   ],
   "source": [
    "hex(subset[(subset.IntLitMatches=='NO_LITERALS')&(subset.Offset>0)].iloc[0].MemberExpr.instr_addr)"
   ]
  },
  {
   "cell_type": "code",
   "execution_count": 50,
   "metadata": {},
   "outputs": [
    {
     "name": "stdout",
     "output_type": "stream",
     "text": [
      "Function: 0x11f82a\n",
      "Instruction: 0x11f8b7\n",
      "Member: <DeclRef: f>->mode_config (offset=0x1f4, sid=360287970189639724)\n",
      "Offset: 500 (0x1f4)\n",
      "f->mode_config + mode\n",
      "Stripped AST nodes:\n",
      "\tBinaryOperator +\n"
     ]
    }
   ],
   "source": [
    "row = subset[(subset.IntLitMatches=='NO_LITERALS')&(subset.Offset>0)].iloc[2]\n",
    "\n",
    "def show_row(row):\n",
    "    print(f'Function: {row.FunctionStart:#x}')\n",
    "    print(f'Instruction: {row.MemberExpr.instr_addr:#x}')\n",
    "    print(f'Member: {row.MemberExpr}')\n",
    "    print(f'Offset: {row.MemberExpr.offset} ({row.MemberExpr.offset:#x})')\n",
    "    print_ast(row.MemberExpr.parent)\n",
    "    print(f'Stripped AST nodes:')\n",
    "    for n in row.StripNodes:\n",
    "        print(f'\\t{n}')\n",
    "\n",
    "show_row(row)"
   ]
  },
  {
   "cell_type": "code",
   "execution_count": 51,
   "metadata": {},
   "outputs": [
    {
     "data": {
      "text/plain": [
       "1172044"
      ]
     },
     "execution_count": 51,
     "metadata": {},
     "output_type": "execute_result"
    }
   ],
   "source": [
    "subset[(subset.IntLitMatches=='NO_LITERALS')&(subset.Offset>0)].iloc[1].MemberExpr.instr_addr"
   ]
  },
  {
   "cell_type": "code",
   "execution_count": 52,
   "metadata": {},
   "outputs": [
    {
     "data": {
      "text/html": [
       "<div>\n",
       "<style scoped>\n",
       "    .dataframe tbody tr th:only-of-type {\n",
       "        vertical-align: middle;\n",
       "    }\n",
       "\n",
       "    .dataframe tbody tr th {\n",
       "        vertical-align: top;\n",
       "    }\n",
       "\n",
       "    .dataframe thead th {\n",
       "        text-align: right;\n",
       "    }\n",
       "</style>\n",
       "<table border=\"1\" class=\"dataframe\">\n",
       "  <thead>\n",
       "    <tr style=\"text-align: right;\">\n",
       "      <th></th>\n",
       "      <th>FunctionStart</th>\n",
       "      <th>MemberExpr</th>\n",
       "      <th>StripNodes</th>\n",
       "      <th>HasStripNodes</th>\n",
       "      <th>InnerKind</th>\n",
       "      <th>TypeSeq</th>\n",
       "      <th>LocType</th>\n",
       "      <th>Offset</th>\n",
       "    </tr>\n",
       "    <tr>\n",
       "      <th>IntLitMatches</th>\n",
       "      <th></th>\n",
       "      <th></th>\n",
       "      <th></th>\n",
       "      <th></th>\n",
       "      <th></th>\n",
       "      <th></th>\n",
       "      <th></th>\n",
       "      <th></th>\n",
       "    </tr>\n",
       "  </thead>\n",
       "  <tbody>\n",
       "    <tr>\n",
       "      <th>MATCH</th>\n",
       "      <td>4431</td>\n",
       "      <td>4431</td>\n",
       "      <td>4431</td>\n",
       "      <td>4431</td>\n",
       "      <td>4431</td>\n",
       "      <td>4431</td>\n",
       "      <td>4431</td>\n",
       "      <td>4431</td>\n",
       "    </tr>\n",
       "    <tr>\n",
       "      <th>MULTIPLE</th>\n",
       "      <td>64</td>\n",
       "      <td>64</td>\n",
       "      <td>64</td>\n",
       "      <td>64</td>\n",
       "      <td>64</td>\n",
       "      <td>64</td>\n",
       "      <td>64</td>\n",
       "      <td>64</td>\n",
       "    </tr>\n",
       "    <tr>\n",
       "      <th>NO_LITERALS</th>\n",
       "      <td>1003</td>\n",
       "      <td>1003</td>\n",
       "      <td>1003</td>\n",
       "      <td>1003</td>\n",
       "      <td>1003</td>\n",
       "      <td>1003</td>\n",
       "      <td>1003</td>\n",
       "      <td>1003</td>\n",
       "    </tr>\n",
       "    <tr>\n",
       "      <th>NO_MATCHES</th>\n",
       "      <td>4395</td>\n",
       "      <td>4395</td>\n",
       "      <td>4395</td>\n",
       "      <td>4395</td>\n",
       "      <td>4395</td>\n",
       "      <td>4395</td>\n",
       "      <td>4395</td>\n",
       "      <td>4395</td>\n",
       "    </tr>\n",
       "  </tbody>\n",
       "</table>\n",
       "</div>"
      ],
      "text/plain": [
       "               FunctionStart  MemberExpr  StripNodes  HasStripNodes   \n",
       "IntLitMatches                                                         \n",
       "MATCH                   4431        4431        4431           4431  \\\n",
       "MULTIPLE                  64          64          64             64   \n",
       "NO_LITERALS             1003        1003        1003           1003   \n",
       "NO_MATCHES              4395        4395        4395           4395   \n",
       "\n",
       "               InnerKind  TypeSeq  LocType  Offset  \n",
       "IntLitMatches                                       \n",
       "MATCH               4431     4431     4431    4431  \n",
       "MULTIPLE              64       64       64      64  \n",
       "NO_LITERALS         1003     1003     1003    1003  \n",
       "NO_MATCHES          4395     4395     4395    4395  "
      ]
     },
     "execution_count": 52,
     "metadata": {},
     "output_type": "execute_result"
    }
   ],
   "source": [
    "subset.groupby('IntLitMatches').count()"
   ]
  },
  {
   "cell_type": "markdown",
   "metadata": {},
   "source": [
    "## NO_MATCHES Cases"
   ]
  },
  {
   "cell_type": "code",
   "execution_count": 53,
   "metadata": {},
   "outputs": [
    {
     "data": {
      "text/plain": [
       "<Axes: title={'center': 'NO_MATCHES'}, xlabel='LocType'>"
      ]
     },
     "execution_count": 53,
     "metadata": {},
     "output_type": "execute_result"
    },
    {
     "data": {
      "image/png": "[encoded data removed]",
      "text/plain": [
       "<Figure size 640x480 with 1 Axes>"
      ]
     },
     "metadata": {},
     "output_type": "display_data"
    }
   ],
   "source": [
    "subset[subset.IntLitMatches=='NO_MATCHES'].groupby('LocType').count().FunctionStart.plot(kind='bar', rot=0, title='NO_MATCHES')\n",
    "#.iloc[0].MemberExpr"
   ]
  },
  {
   "cell_type": "code",
   "execution_count": 54,
   "metadata": {},
   "outputs": [
    {
     "name": "stdout",
     "output_type": "stream",
     "text": [
      "Function: 0x10a803\n",
      "Instruction: 0x10a85d\n",
      "Member: <DeclRef: particle>->frame (offset=0x30, sid=72057594037927978)\n",
      "Offset: 48 (0x30)\n",
      "particle->frame = uVar1\n",
      "Stripped AST nodes:\n",
      "\tBinaryOperator =\n",
      "\t<astlib.ast.ArraySubscriptExpr object at 0x7fc3f03cd610>\n",
      "\t<DeclRef: param_2>\n",
      "\t<IntegerLiteral: 12 (dtype=int64)>\n",
      "\t<DeclRef: fVar1>\n"
     ]
    },
    {
     "data": {
      "text/plain": [
       "struct r_particle {\n",
       "\t0x0: float life\n",
       "\t0x4: float last\n",
       "\t0x8: float rotation\n",
       "\t0xc: float[2] position\n",
       "\t0x14: float[2] size\n",
       "\t0x1c: float[2] velocity\n",
       "\t0x24: float[2] direction\n",
       "\t0x2c: uchar layer\n",
       "\t0x30: uint32 frame\n",
       "\t0x34: float[4] color\n",
       "}"
      ]
     },
     "execution_count": 54,
     "metadata": {},
     "output_type": "execute_result"
    }
   ],
   "source": [
    "row = subset[subset.IntLitMatches=='NO_MATCHES'].iloc[8]\n",
    "show_row(row)\n",
    "# row.StripNodes\n",
    "# collect_int_literals(row.StripNodes, row.MemberExpr.offset)\n",
    "row.MemberExpr.parent_struct"
   ]
  },
  {
   "cell_type": "markdown",
   "metadata": {},
   "source": [
    "# Stack variables\n",
    "Before dismissing this completely...*is there any chance we could recover **stack-based** `PTR->STRUCT` cases?*"
   ]
  },
  {
   "cell_type": "code",
   "execution_count": 55,
   "metadata": {},
   "outputs": [
    {
     "data": {
      "text/html": [
       "<div>\n",
       "<style scoped>\n",
       "    .dataframe tbody tr th:only-of-type {\n",
       "        vertical-align: middle;\n",
       "    }\n",
       "\n",
       "    .dataframe tbody tr th {\n",
       "        vertical-align: top;\n",
       "    }\n",
       "\n",
       "    .dataframe thead th {\n",
       "        text-align: right;\n",
       "    }\n",
       "</style>\n",
       "<table border=\"1\" class=\"dataframe\">\n",
       "  <thead>\n",
       "    <tr style=\"text-align: right;\">\n",
       "      <th></th>\n",
       "      <th>FunctionStart</th>\n",
       "      <th>MemberExpr</th>\n",
       "      <th>StripNodes</th>\n",
       "      <th>HasStripNodes</th>\n",
       "      <th>InnerKind</th>\n",
       "      <th>TypeSeq</th>\n",
       "      <th>LocType</th>\n",
       "      <th>Offset</th>\n",
       "      <th>IntLitMatches</th>\n",
       "    </tr>\n",
       "  </thead>\n",
       "  <tbody>\n",
       "    <tr>\n",
       "      <th>82</th>\n",
       "      <td>1091960</td>\n",
       "      <td>&lt;DeclRef: en&gt;-&gt;e...</td>\n",
       "      <td>[BinaryOperator ...</td>\n",
       "      <td>True</td>\n",
       "      <td>DeclRefExpr</td>\n",
       "      <td>PTR,STRUCT</td>\n",
       "      <td>stack</td>\n",
       "      <td>188</td>\n",
       "      <td>MATCH</td>\n",
       "    </tr>\n",
       "    <tr>\n",
       "      <th>83</th>\n",
       "      <td>1091960</td>\n",
       "      <td>&lt;DeclRef: en&gt;-&gt;e...</td>\n",
       "      <td>[BinaryOperator ...</td>\n",
       "      <td>True</td>\n",
       "      <td>DeclRefExpr</td>\n",
       "      <td>PTR,STRUCT</td>\n",
       "      <td>stack</td>\n",
       "      <td>188</td>\n",
       "      <td>NO_MATCHES</td>\n",
       "    </tr>\n",
       "    <tr>\n",
       "      <th>84</th>\n",
       "      <td>1091960</td>\n",
       "      <td>&lt;DeclRef: en&gt;-&gt;e...</td>\n",
       "      <td>[BinaryOperator ...</td>\n",
       "      <td>True</td>\n",
       "      <td>DeclRefExpr</td>\n",
       "      <td>PTR,STRUCT</td>\n",
       "      <td>stack</td>\n",
       "      <td>188</td>\n",
       "      <td>MATCH</td>\n",
       "    </tr>\n",
       "    <tr>\n",
       "      <th>85</th>\n",
       "      <td>1091960</td>\n",
       "      <td>&lt;DeclRef: en&gt;-&gt;e...</td>\n",
       "      <td>[BinaryOperator ...</td>\n",
       "      <td>True</td>\n",
       "      <td>DeclRefExpr</td>\n",
       "      <td>PTR,STRUCT</td>\n",
       "      <td>stack</td>\n",
       "      <td>188</td>\n",
       "      <td>NO_MATCHES</td>\n",
       "    </tr>\n",
       "    <tr>\n",
       "      <th>86</th>\n",
       "      <td>1091960</td>\n",
       "      <td>&lt;DeclRef: en&gt;-&gt;e...</td>\n",
       "      <td>[BinaryOperator ...</td>\n",
       "      <td>True</td>\n",
       "      <td>DeclRefExpr</td>\n",
       "      <td>PTR,STRUCT</td>\n",
       "      <td>stack</td>\n",
       "      <td>188</td>\n",
       "      <td>MATCH</td>\n",
       "    </tr>\n",
       "    <tr>\n",
       "      <th>...</th>\n",
       "      <td>...</td>\n",
       "      <td>...</td>\n",
       "      <td>...</td>\n",
       "      <td>...</td>\n",
       "      <td>...</td>\n",
       "      <td>...</td>\n",
       "      <td>...</td>\n",
       "      <td>...</td>\n",
       "      <td>...</td>\n",
       "    </tr>\n",
       "    <tr>\n",
       "      <th>25610</th>\n",
       "      <td>1750673</td>\n",
       "      <td>&lt;DeclRef: u&gt;-&gt;do...</td>\n",
       "      <td>[BinaryOperator ...</td>\n",
       "      <td>True</td>\n",
       "      <td>DeclRefExpr</td>\n",
       "      <td>PTR,STRUCT</td>\n",
       "      <td>stack</td>\n",
       "      <td>56</td>\n",
       "      <td>NO_MATCHES</td>\n",
       "    </tr>\n",
       "    <tr>\n",
       "      <th>25612</th>\n",
       "      <td>1750673</td>\n",
       "      <td>&lt;DeclRef: u&gt;-&gt;ha...</td>\n",
       "      <td>[BinaryOperator ...</td>\n",
       "      <td>True</td>\n",
       "      <td>DeclRefExpr</td>\n",
       "      <td>PTR,STRUCT</td>\n",
       "      <td>stack</td>\n",
       "      <td>64</td>\n",
       "      <td>NO_MATCHES</td>\n",
       "    </tr>\n",
       "    <tr>\n",
       "      <th>25615</th>\n",
       "      <td>1750673</td>\n",
       "      <td>&lt;DeclRef: closes...</td>\n",
       "      <td>[UnaryOperator *...</td>\n",
       "      <td>True</td>\n",
       "      <td>DeclRefExpr</td>\n",
       "      <td>PTR,STRUCT</td>\n",
       "      <td>stack</td>\n",
       "      <td>64</td>\n",
       "      <td>MATCH</td>\n",
       "    </tr>\n",
       "    <tr>\n",
       "      <th>25955</th>\n",
       "      <td>1757369</td>\n",
       "      <td>&lt;DeclRef: result...</td>\n",
       "      <td>[UnaryOperator *...</td>\n",
       "      <td>True</td>\n",
       "      <td>DeclRefExpr</td>\n",
       "      <td>PTR,STRUCT</td>\n",
       "      <td>stack</td>\n",
       "      <td>0</td>\n",
       "      <td>NO_LITERALS</td>\n",
       "    </tr>\n",
       "    <tr>\n",
       "      <th>25956</th>\n",
       "      <td>1757369</td>\n",
       "      <td>&lt;DeclRef: result...</td>\n",
       "      <td>[UnaryOperator *...</td>\n",
       "      <td>True</td>\n",
       "      <td>DeclRefExpr</td>\n",
       "      <td>PTR,STRUCT</td>\n",
       "      <td>stack</td>\n",
       "      <td>20</td>\n",
       "      <td>MATCH</td>\n",
       "    </tr>\n",
       "  </tbody>\n",
       "</table>\n",
       "<p>1401 rows × 9 columns</p>\n",
       "</div>"
      ],
      "text/plain": [
       "       FunctionStart           MemberExpr           StripNodes  HasStripNodes   \n",
       "82           1091960  <DeclRef: en>->e...  [BinaryOperator ...           True  \\\n",
       "83           1091960  <DeclRef: en>->e...  [BinaryOperator ...           True   \n",
       "84           1091960  <DeclRef: en>->e...  [BinaryOperator ...           True   \n",
       "85           1091960  <DeclRef: en>->e...  [BinaryOperator ...           True   \n",
       "86           1091960  <DeclRef: en>->e...  [BinaryOperator ...           True   \n",
       "...              ...                  ...                  ...            ...   \n",
       "25610        1750673  <DeclRef: u>->do...  [BinaryOperator ...           True   \n",
       "25612        1750673  <DeclRef: u>->ha...  [BinaryOperator ...           True   \n",
       "25615        1750673  <DeclRef: closes...  [UnaryOperator *...           True   \n",
       "25955        1757369  <DeclRef: result...  [UnaryOperator *...           True   \n",
       "25956        1757369  <DeclRef: result...  [UnaryOperator *...           True   \n",
       "\n",
       "         InnerKind     TypeSeq LocType  Offset IntLitMatches  \n",
       "82     DeclRefExpr  PTR,STRUCT   stack     188         MATCH  \n",
       "83     DeclRefExpr  PTR,STRUCT   stack     188    NO_MATCHES  \n",
       "84     DeclRefExpr  PTR,STRUCT   stack     188         MATCH  \n",
       "85     DeclRefExpr  PTR,STRUCT   stack     188    NO_MATCHES  \n",
       "86     DeclRefExpr  PTR,STRUCT   stack     188         MATCH  \n",
       "...            ...         ...     ...     ...           ...  \n",
       "25610  DeclRefExpr  PTR,STRUCT   stack      56    NO_MATCHES  \n",
       "25612  DeclRefExpr  PTR,STRUCT   stack      64    NO_MATCHES  \n",
       "25615  DeclRefExpr  PTR,STRUCT   stack      64         MATCH  \n",
       "25955  DeclRefExpr  PTR,STRUCT   stack       0   NO_LITERALS  \n",
       "25956  DeclRefExpr  PTR,STRUCT   stack      20         MATCH  \n",
       "\n",
       "[1401 rows x 9 columns]"
      ]
     },
     "execution_count": 55,
     "metadata": {},
     "output_type": "execute_result"
    }
   ],
   "source": [
    "stack_sptrs = mdf[(mdf.LocType=='stack')&(mdf.TypeSeq=='PTR,STRUCT')]\n",
    "stack_sptrs['IntLitMatches'] = stack_sptrs.apply(lambda x: collect_int_literals(x.StripNodes, x.MemberExpr.offset), axis=1)\n",
    "stack_sptrs"
   ]
  },
  {
   "cell_type": "code",
   "execution_count": 56,
   "metadata": {},
   "outputs": [
    {
     "data": {
      "text/html": [
       "<div>\n",
       "<style scoped>\n",
       "    .dataframe tbody tr th:only-of-type {\n",
       "        vertical-align: middle;\n",
       "    }\n",
       "\n",
       "    .dataframe tbody tr th {\n",
       "        vertical-align: top;\n",
       "    }\n",
       "\n",
       "    .dataframe thead th {\n",
       "        text-align: right;\n",
       "    }\n",
       "</style>\n",
       "<table border=\"1\" class=\"dataframe\">\n",
       "  <thead>\n",
       "    <tr style=\"text-align: right;\">\n",
       "      <th></th>\n",
       "      <th>FunctionStart</th>\n",
       "      <th>MemberExpr</th>\n",
       "      <th>StripNodes</th>\n",
       "      <th>HasStripNodes</th>\n",
       "      <th>InnerKind</th>\n",
       "      <th>TypeSeq</th>\n",
       "      <th>LocType</th>\n",
       "      <th>Offset</th>\n",
       "    </tr>\n",
       "    <tr>\n",
       "      <th>IntLitMatches</th>\n",
       "      <th></th>\n",
       "      <th></th>\n",
       "      <th></th>\n",
       "      <th></th>\n",
       "      <th></th>\n",
       "      <th></th>\n",
       "      <th></th>\n",
       "      <th></th>\n",
       "    </tr>\n",
       "  </thead>\n",
       "  <tbody>\n",
       "    <tr>\n",
       "      <th>MULTIPLE</th>\n",
       "      <td>2</td>\n",
       "      <td>2</td>\n",
       "      <td>2</td>\n",
       "      <td>2</td>\n",
       "      <td>2</td>\n",
       "      <td>2</td>\n",
       "      <td>2</td>\n",
       "      <td>2</td>\n",
       "    </tr>\n",
       "    <tr>\n",
       "      <th>NO_LITERALS</th>\n",
       "      <td>19</td>\n",
       "      <td>19</td>\n",
       "      <td>19</td>\n",
       "      <td>19</td>\n",
       "      <td>19</td>\n",
       "      <td>19</td>\n",
       "      <td>19</td>\n",
       "      <td>19</td>\n",
       "    </tr>\n",
       "    <tr>\n",
       "      <th>NO_MATCHES</th>\n",
       "      <td>777</td>\n",
       "      <td>777</td>\n",
       "      <td>777</td>\n",
       "      <td>777</td>\n",
       "      <td>777</td>\n",
       "      <td>777</td>\n",
       "      <td>777</td>\n",
       "      <td>777</td>\n",
       "    </tr>\n",
       "  </tbody>\n",
       "</table>\n",
       "</div>"
      ],
      "text/plain": [
       "               FunctionStart  MemberExpr  StripNodes  HasStripNodes   \n",
       "IntLitMatches                                                         \n",
       "MULTIPLE                   2           2           2              2  \\\n",
       "NO_LITERALS               19          19          19             19   \n",
       "NO_MATCHES               777         777         777            777   \n",
       "\n",
       "               InnerKind  TypeSeq  LocType  Offset  \n",
       "IntLitMatches                                       \n",
       "MULTIPLE               2        2        2       2  \n",
       "NO_LITERALS           19       19       19      19  \n",
       "NO_MATCHES           777      777      777     777  "
      ]
     },
     "execution_count": 56,
     "metadata": {},
     "output_type": "execute_result"
    }
   ],
   "source": [
    "stack_sptrs[(stack_sptrs.IntLitMatches!='MATCH')&(stack_sptrs.Offset>0)].groupby('IntLitMatches').count()"
   ]
  },
  {
   "cell_type": "markdown",
   "metadata": {},
   "source": [
    "> 1. Do stack-based PTR->STRUCT types have the same form? Always? \n",
    "    > - What about optimized code?\n",
    "> 2. Is the form for PTR->STRUCT **always** `*(TYPE)(var + OFFSET)`?\n",
    "    > - If so, then just harvest this programmatically (check accuracy)\n",
    "    > - If not (or if optimization changes this) then there is **value** in a model that can learn the mapping(s)"
   ]
  },
  {
   "cell_type": "code",
   "execution_count": 57,
   "metadata": {},
   "outputs": [
    {
     "name": "stdout",
     "output_type": "stream",
     "text": [
      "Function: 0x10a978\n",
      "Instruction: 0x10ac79\n",
      "Member: <DeclRef: en>->sprite (offset=0x0, sid=72057594037927994)\n",
      "Offset: 0 (0x0)\n",
      "en->sprite.size\n",
      "Stripped AST nodes:\n",
      "\tBinaryOperator =\n",
      "\t<astlib.ast.ArraySubscriptExpr object at 0x7fc3f0679cd0>\n",
      "\t<DeclRef: puVar1>\n",
      "\t<IntegerLiteral: 1 (dtype=int64)>\n",
      "\t<DeclRef: local_130>\n",
      "en->sprite.size\n"
     ]
    },
    {
     "data": {
      "text/plain": [
       "uint64* puVar1 @ LocType=unique,Reg=,Off=268437023"
      ]
     },
     "execution_count": 57,
     "metadata": {},
     "output_type": "execute_result"
    }
   ],
   "source": [
    "row = stack_sptrs[stack_sptrs.IntLitMatches=='NO_MATCHES'].iloc[4]\n",
    "show_row(row)\n",
    "\n",
    "row.MemberExpr.parent_struct\n",
    "\n",
    "print_ast(row.MemberExpr.parent)\n",
    "row.MemberExpr.parent\n",
    "\n",
    "# print_ast(row.StripNodes[-1].parent.parent.parent)\n",
    "tudecl = row.StripNodes[-1].find_root_node()\n",
    "# FindAllVarRefs()\n",
    "# refs = FindAllVarRefs(row.StripNodes[-2].referencedDecl.name).visit(tudecl)\n",
    "\n",
    "# print_ast(refs[5].parent.parent.parent.parent.parent)\n",
    "\n",
    "# refs[5].parent.parent.parent.render()\n",
    "\n",
    "# [r for r in FindAllVarRefs('local_60').visit(tudecl) if r.instr_addr == 0x10abff][0].parent.parent.parent.render()\n",
    "FindAllVarRefs('puVar1').visit(tudecl)\n",
    "# tudecl.inner[-1].inner[0].inner[0].inner\n",
    "row.StripNodes[-3].referencedDecl"
   ]
  },
  {
   "cell_type": "markdown",
   "metadata": {},
   "source": [
    "### Ok...but what about *other* pointer hierarchies?\n",
    "This is very promising for PTR,STRUCT...but what about others?\n",
    "\n",
    "- ARR,STRUCT\n",
    "- ARR,PTR,STRUCT\n",
    "- PTR,PTR,STRUCT\n",
    "- PTR,ARR,STRUCT\n",
    "- ..."
   ]
  },
  {
   "cell_type": "code",
   "execution_count": 61,
   "metadata": {},
   "outputs": [
    {
     "data": {
      "text/html": [
       "<div>\n",
       "<style scoped>\n",
       "    .dataframe tbody tr th:only-of-type {\n",
       "        vertical-align: middle;\n",
       "    }\n",
       "\n",
       "    .dataframe tbody tr th {\n",
       "        vertical-align: top;\n",
       "    }\n",
       "\n",
       "    .dataframe thead th {\n",
       "        text-align: right;\n",
       "    }\n",
       "</style>\n",
       "<table border=\"1\" class=\"dataframe\">\n",
       "  <thead>\n",
       "    <tr style=\"text-align: right;\">\n",
       "      <th></th>\n",
       "      <th>FunctionStart</th>\n",
       "      <th>MemberExpr</th>\n",
       "      <th>StripNodes</th>\n",
       "      <th>HasStripNodes</th>\n",
       "      <th>InnerKind</th>\n",
       "      <th>LocType</th>\n",
       "      <th>Offset</th>\n",
       "    </tr>\n",
       "    <tr>\n",
       "      <th>TypeSeq</th>\n",
       "      <th></th>\n",
       "      <th></th>\n",
       "      <th></th>\n",
       "      <th></th>\n",
       "      <th></th>\n",
       "      <th></th>\n",
       "      <th></th>\n",
       "    </tr>\n",
       "  </thead>\n",
       "  <tbody>\n",
       "    <tr>\n",
       "      <th>ARR,char</th>\n",
       "      <td>2</td>\n",
       "      <td>2</td>\n",
       "      <td>2</td>\n",
       "      <td>2</td>\n",
       "      <td>2</td>\n",
       "      <td>2</td>\n",
       "      <td>2</td>\n",
       "    </tr>\n",
       "    <tr>\n",
       "      <th>ARR,uchar</th>\n",
       "      <td>1012</td>\n",
       "      <td>1012</td>\n",
       "      <td>1012</td>\n",
       "      <td>1012</td>\n",
       "      <td>1012</td>\n",
       "      <td>1012</td>\n",
       "      <td>1012</td>\n",
       "    </tr>\n",
       "    <tr>\n",
       "      <th>ArraySubscriptExpr</th>\n",
       "      <td>1813</td>\n",
       "      <td>1813</td>\n",
       "      <td>1813</td>\n",
       "      <td>1813</td>\n",
       "      <td>1813</td>\n",
       "      <td>1813</td>\n",
       "      <td>1813</td>\n",
       "    </tr>\n",
       "    <tr>\n",
       "      <th>MemberExpr</th>\n",
       "      <td>5461</td>\n",
       "      <td>5461</td>\n",
       "      <td>5461</td>\n",
       "      <td>5461</td>\n",
       "      <td>5461</td>\n",
       "      <td>5461</td>\n",
       "      <td>5461</td>\n",
       "    </tr>\n",
       "    <tr>\n",
       "      <th>PTR,STRUCT</th>\n",
       "      <td>10329</td>\n",
       "      <td>10329</td>\n",
       "      <td>10329</td>\n",
       "      <td>10329</td>\n",
       "      <td>10329</td>\n",
       "      <td>10329</td>\n",
       "      <td>10329</td>\n",
       "    </tr>\n",
       "    <tr>\n",
       "      <th>PTR,UNION</th>\n",
       "      <td>134</td>\n",
       "      <td>134</td>\n",
       "      <td>134</td>\n",
       "      <td>134</td>\n",
       "      <td>134</td>\n",
       "      <td>134</td>\n",
       "      <td>134</td>\n",
       "    </tr>\n",
       "    <tr>\n",
       "      <th>STRUCT</th>\n",
       "      <td>7206</td>\n",
       "      <td>7206</td>\n",
       "      <td>7206</td>\n",
       "      <td>7206</td>\n",
       "      <td>7206</td>\n",
       "      <td>7206</td>\n",
       "      <td>7206</td>\n",
       "    </tr>\n",
       "    <tr>\n",
       "      <th>UNION</th>\n",
       "      <td>78</td>\n",
       "      <td>78</td>\n",
       "      <td>78</td>\n",
       "      <td>78</td>\n",
       "      <td>78</td>\n",
       "      <td>78</td>\n",
       "      <td>78</td>\n",
       "    </tr>\n",
       "    <tr>\n",
       "      <th>uint64</th>\n",
       "      <td>227</td>\n",
       "      <td>227</td>\n",
       "      <td>227</td>\n",
       "      <td>227</td>\n",
       "      <td>227</td>\n",
       "      <td>227</td>\n",
       "      <td>227</td>\n",
       "    </tr>\n",
       "  </tbody>\n",
       "</table>\n",
       "</div>"
      ],
      "text/plain": [
       "                    FunctionStart  MemberExpr  StripNodes  HasStripNodes   \n",
       "TypeSeq                                                                    \n",
       "ARR,char                        2           2           2              2  \\\n",
       "ARR,uchar                    1012        1012        1012           1012   \n",
       "ArraySubscriptExpr           1813        1813        1813           1813   \n",
       "MemberExpr                   5461        5461        5461           5461   \n",
       "PTR,STRUCT                  10329       10329       10329          10329   \n",
       "PTR,UNION                     134         134         134            134   \n",
       "STRUCT                       7206        7206        7206           7206   \n",
       "UNION                          78          78          78             78   \n",
       "uint64                        227         227         227            227   \n",
       "\n",
       "                    InnerKind  LocType  Offset  \n",
       "TypeSeq                                         \n",
       "ARR,char                    2        2       2  \n",
       "ARR,uchar                1012     1012    1012  \n",
       "ArraySubscriptExpr       1813     1813    1813  \n",
       "MemberExpr               5461     5461    5461  \n",
       "PTR,STRUCT              10329    10329   10329  \n",
       "PTR,UNION                 134      134     134  \n",
       "STRUCT                   7206     7206    7206  \n",
       "UNION                      78       78      78  \n",
       "uint64                    227      227     227  "
      ]
     },
     "execution_count": 61,
     "metadata": {},
     "output_type": "execute_result"
    }
   ],
   "source": [
    "mdf.groupby('TypeSeq').count()"
   ]
  },
  {
   "cell_type": "markdown",
   "metadata": {},
   "source": [
    "**TODO: - look at `MemberExpr` rows...these are probably nested member accesses**"
   ]
  },
  {
   "cell_type": "code",
   "execution_count": 101,
   "metadata": {},
   "outputs": [
    {
     "name": "stdout",
     "output_type": "stream",
     "text": [
      "peVar4[i_3].damage_timer\n",
      "Function: 0x113173\n",
      "Instruction: 0x113f74\n",
      "Member: <astlib.ast.ArraySubscriptExpr object at 0x7fc3ef396850>.damage_timer (offset=0xe0, sid=72057594037927994)\n",
      "Offset: 224 (0xe0)\n",
      "peVar4[i_3].damage_timer = 750.0\n",
      "Stripped AST nodes:\n",
      "\tBinaryOperator =\n",
      "\tUnaryOperator *\n",
      "\tCStyleCastExpr (uint32*)\n",
      "\tBinaryOperator +\n",
      "\t<DeclRef: lVar6>\n",
      "\t<IntegerLiteral: 224 (dtype=int64)>\n",
      "\t<IntegerLiteral: 1144750080 (dtype=uint32)>\n"
     ]
    },
    {
     "data": {
      "text/plain": [
       "enemy_t* peVar4 @ LocType=register,Reg=rax,Off=0"
      ]
     },
     "execution_count": 101,
     "metadata": {},
     "output_type": "execute_result"
    }
   ],
   "source": [
    "row = mdf[mdf.TypeSeq=='ArraySubscriptExpr'].iloc[80]\n",
    "print_ast(row.MemberExpr)\n",
    "\n",
    "show_row(row)\n",
    "row.MemberExpr.parent_struct\n",
    "row.StripNodes[-1].parent.render()\n",
    "row.MemberExpr.inner[0].inner[0].referencedDecl"
   ]
  },
  {
   "cell_type": "code",
   "execution_count": 59,
   "metadata": {},
   "outputs": [
    {
     "data": {
      "text/plain": [
       "[]"
      ]
     },
     "execution_count": 59,
     "metadata": {},
     "output_type": "execute_result"
    }
   ],
   "source": [
    "memberexprs\n",
    "\n",
    "# print_ast(memberexprs[1])\n",
    "# m = memberexprs[1]\n",
    "# print(f'member expr @ {m.instr_addr:#x}')\n",
    "# # m.inner[0].referencedDecl"
   ]
  },
  {
   "cell_type": "code",
   "execution_count": 60,
   "metadata": {},
   "outputs": [
    {
     "data": {
      "text/plain": [
       "struct asset_t {\n",
       "\t0x0: uint32 uid\n",
       "\t0x8: uchar* data\n",
       "\t0x10: uint32 data_length\n",
       "\t0x18: char* name\n",
       "\t0x20: int32 chunk_start\n",
       "\t0x24: int32 chunk_length\n",
       "\t0x28: uchar fs\n",
       "\t0x29: uchar filled\n",
       "\t0x2a: uchar req\n",
       "\t0x2b: uchar req_free\n",
       "\t0x2c: uchar chunk\n",
       "}"
      ]
     },
     "execution_count": 60,
     "metadata": {},
     "output_type": "execute_result"
    }
   ],
   "source": [
    "m.parent_struct"
   ]
  }
 ],
 "metadata": {
  "kernelspec": {
   "display_name": "phd",
   "language": "python",
   "name": "python3"
  },
  "language_info": {
   "codemirror_mode": {
    "name": "ipython",
    "version": 3
   },
   "file_extension": ".py",
   "mimetype": "text/x-python",
   "name": "python",
   "nbconvert_exporter": "python",
   "pygments_lexer": "ipython3",
   "version": "3.8.10"
  }
 },
 "nbformat": 4,
 "nbformat_minor": 2
}
