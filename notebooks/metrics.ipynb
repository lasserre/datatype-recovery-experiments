{
 "cells": [
  {
   "cell_type": "code",
   "execution_count": 1,
   "metadata": {},
   "outputs": [],
   "source": [
    "from pathlib import Path\n",
    "import torch\n",
    "from datatype_recovery.models.dataset import load_dataset_from_path\n",
    "\n",
    "\n",
    "model_path = Path.home()/'trained_models/structural_4out_4hops_comp.pt'\n",
    "dataset_path = Path.home()/'trainset_astera_5hops_nocomp'\n",
    "dataset = load_dataset_from_path(dataset_path)\n",
    "\n",
    "model = torch.load(model_path)"
   ]
  },
  {
   "cell_type": "code",
   "execution_count": 2,
   "metadata": {},
   "outputs": [
    {
     "name": "stdout",
     "output_type": "stream",
     "text": [
      "['PTR', 'STRUCT']\n"
     ]
    },
    {
     "data": {
      "text/plain": [
       "torch.Size([1, 22, 2])"
      ]
     },
     "execution_count": 2,
     "metadata": {},
     "output_type": "execute_result"
    }
   ],
   "source": [
    "from torch_geometric.loader import DataLoader\n",
    "import torch_geometric.transforms as T\n",
    "from datatype_recovery.models.dataset.encoding import *\n",
    "\n",
    "transform = T.Compose([ToBatchTensors()])#, ToFixedLengthTypeSeq(fixed_len=4)])\n",
    "dataset.transform = transform\n",
    "\n",
    "print(decode_typeseq(dataset[12].y))\n",
    "dataset[12].y.shape"
   ]
  },
  {
   "cell_type": "code",
   "execution_count": 3,
   "metadata": {},
   "outputs": [
    {
     "name": "stdout",
     "output_type": "stream",
     "text": [
      "torch.Size([22, 2])\n",
      "['ARR', 'uchar']\n",
      "['ARR', 'uchar']\n"
     ]
    },
    {
     "data": {
      "text/plain": [
       "tensor([[0., 0.],\n",
       "        [0., 0.],\n",
       "        [0., 0.],\n",
       "        [0., 0.],\n",
       "        [0., 0.],\n",
       "        [0., 0.],\n",
       "        [0., 0.],\n",
       "        [0., 0.],\n",
       "        [0., 1.],\n",
       "        [0., 0.],\n",
       "        [0., 0.],\n",
       "        [0., 0.],\n",
       "        [0., 0.],\n",
       "        [0., 0.],\n",
       "        [0., 0.],\n",
       "        [1., 0.],\n",
       "        [0., 0.],\n",
       "        [0., 0.],\n",
       "        [0., 0.],\n",
       "        [0., 0.],\n",
       "        [0., 0.],\n",
       "        [0., 0.]])"
      ]
     },
     "execution_count": 3,
     "metadata": {},
     "output_type": "execute_result"
    }
   ],
   "source": [
    "model.eval()\n",
    "\n",
    "loader = DataLoader(dataset, batch_size=1)\n",
    "\n",
    "iterable = loader.__iter__()\n",
    "data = next(iterable)\n",
    "\n",
    "print(data.y[0].shape)\n",
    "print(decode_typeseq(data.y[0]))\n",
    "\n",
    "decode_typeseq(data.y[0][None,:,:])\n",
    "data.y[0].argmax(dim=data.y[0].dim()-2)\n",
    "\n",
    "for yy in data.y:\n",
    "    print(decode_typeseq(yy))\n",
    "data.y[0]"
   ]
  },
  {
   "cell_type": "code",
   "execution_count": 4,
   "metadata": {},
   "outputs": [
    {
     "name": "stdout",
     "output_type": "stream",
     "text": [
      "torch.Size([1, 22, 4])\n",
      "tensor([12, 16, 16, 16])\n",
      "['uint128', 'STRUCT', 'STRUCT', 'STRUCT']\n"
     ]
    },
    {
     "data": {
      "text/plain": [
       "tensor([[-0.0572, -0.0158, -0.0904,  0.0697],\n",
       "        [-0.0031,  0.0420,  0.0409, -0.0602],\n",
       "        [-0.0453,  0.0579,  0.0026, -0.0612],\n",
       "        [ 0.0658, -0.0566, -0.0207,  0.0261],\n",
       "        [ 0.0212,  0.0070,  0.0036,  0.0525],\n",
       "        [ 0.0640, -0.0095, -0.0410,  0.0605],\n",
       "        [-0.0456,  0.0476,  0.0548, -0.0082],\n",
       "        [-0.0230,  0.0271,  0.0400, -0.0312],\n",
       "        [-0.0829,  0.0594,  0.0160, -0.0709],\n",
       "        [ 0.0545, -0.0064, -0.0474,  0.0629],\n",
       "        [-0.0919, -0.1007, -0.0173, -0.0193],\n",
       "        [-0.0032,  0.0198, -0.0029, -0.0310],\n",
       "        [ 0.0822, -0.0373, -0.0696,  0.0583],\n",
       "        [ 0.0337, -0.0559,  0.0562,  0.0350],\n",
       "        [ 0.0223, -0.0642,  0.0329, -0.0584],\n",
       "        [-0.0308,  0.0056, -0.0787, -0.0398],\n",
       "        [-0.0585,  0.0931,  0.0767,  0.0841],\n",
       "        [-0.0352, -0.0783, -0.0459, -0.0302],\n",
       "        [ 0.0491, -0.0007, -0.0167,  0.0202],\n",
       "        [-0.0506, -0.0323, -0.0780, -0.0264],\n",
       "        [-0.0840,  0.0506, -0.0590, -0.0418],\n",
       "        [-0.0400,  0.0498, -0.0184,  0.0236]], grad_fn=<SelectBackward0>)"
      ]
     },
     "execution_count": 4,
     "metadata": {},
     "output_type": "execute_result"
    }
   ],
   "source": [
    "out = model(data.x, data.edge_index, data.batch)\n",
    "\n",
    "print(out.shape)\n",
    "for pred in out.argmax(dim=1):\n",
    "    print(pred)\n",
    "    print([model_type_elem_names[i] for i in pred])\n",
    "\n",
    "out.argmax(dim=1)\n",
    "out.max(dim=1).values\n",
    "out[0]"
   ]
  },
  {
   "cell_type": "markdown",
   "metadata": {},
   "source": [
    "# Confusion Matrix\n",
    "Let's build this first, then calculate F1/precision/recall"
   ]
  },
  {
   "cell_type": "code",
   "execution_count": 5,
   "metadata": {},
   "outputs": [
    {
     "data": {
      "text/plain": [
       "[PosixPath('/home/cls0027/trainset_astera_5hops_nocomp/processed/vars-1000_22.pt'),\n",
       " PosixPath('/home/cls0027/trainset_astera_5hops_nocomp/processed/vars-1000_19.pt'),\n",
       " PosixPath('/home/cls0027/trainset_astera_5hops_nocomp/processed/IN_MEMORY_COPY.pt'),\n",
       " PosixPath('/home/cls0027/trainset_astera_5hops_nocomp/processed/vars-1000_17.pt'),\n",
       " PosixPath('/home/cls0027/trainset_astera_5hops_nocomp/processed/vars-1000_0.pt'),\n",
       " PosixPath('/home/cls0027/trainset_astera_5hops_nocomp/processed/vars-1000_18.pt'),\n",
       " PosixPath('/home/cls0027/trainset_astera_5hops_nocomp/processed/vars-1000_13.pt'),\n",
       " PosixPath('/home/cls0027/trainset_astera_5hops_nocomp/processed/vars-1000_5.pt'),\n",
       " PosixPath('/home/cls0027/trainset_astera_5hops_nocomp/processed/vars-1000_16.pt'),\n",
       " PosixPath('/home/cls0027/trainset_astera_5hops_nocomp/processed/vars-1000_20.pt'),\n",
       " PosixPath('/home/cls0027/trainset_astera_5hops_nocomp/processed/vars-1000_15.pt'),\n",
       " PosixPath('/home/cls0027/trainset_astera_5hops_nocomp/processed/vars-1000_4.pt'),\n",
       " PosixPath('/home/cls0027/trainset_astera_5hops_nocomp/processed/vars-1000_10.pt'),\n",
       " PosixPath('/home/cls0027/trainset_astera_5hops_nocomp/processed/vars-1000_24.pt'),\n",
       " PosixPath('/home/cls0027/trainset_astera_5hops_nocomp/processed/processing_finished'),\n",
       " PosixPath('/home/cls0027/trainset_astera_5hops_nocomp/processed/vars-1000_23.pt'),\n",
       " PosixPath('/home/cls0027/trainset_astera_5hops_nocomp/processed/vars-1000_2.pt'),\n",
       " PosixPath('/home/cls0027/trainset_astera_5hops_nocomp/processed/vars-1000_21.pt'),\n",
       " PosixPath('/home/cls0027/trainset_astera_5hops_nocomp/processed/vars-1000_7.pt'),\n",
       " PosixPath('/home/cls0027/trainset_astera_5hops_nocomp/processed/vars-1000_3.pt'),\n",
       " PosixPath('/home/cls0027/trainset_astera_5hops_nocomp/processed/vars-1000_6.pt'),\n",
       " PosixPath('/home/cls0027/trainset_astera_5hops_nocomp/processed/vars-1000_14.pt'),\n",
       " PosixPath('/home/cls0027/trainset_astera_5hops_nocomp/processed/pre_transform.pt'),\n",
       " PosixPath('/home/cls0027/trainset_astera_5hops_nocomp/processed/vars-1000_11.pt'),\n",
       " PosixPath('/home/cls0027/trainset_astera_5hops_nocomp/processed/pre_filter.pt'),\n",
       " PosixPath('/home/cls0027/trainset_astera_5hops_nocomp/processed/vars-1000_8.pt'),\n",
       " PosixPath('/home/cls0027/trainset_astera_5hops_nocomp/processed/vars-1000_9.pt'),\n",
       " PosixPath('/home/cls0027/trainset_astera_5hops_nocomp/processed/vars-1000_12.pt'),\n",
       " PosixPath('/home/cls0027/trainset_astera_5hops_nocomp/processed/vars-1000_1.pt')]"
      ]
     },
     "execution_count": 5,
     "metadata": {},
     "output_type": "execute_result"
    }
   ],
   "source": [
    "list((dataset_path/'processed').iterdir())"
   ]
  },
  {
   "cell_type": "code",
   "execution_count": 7,
   "metadata": {},
   "outputs": [
    {
     "data": {
      "text/plain": [
       "Compose([\n",
       "  ToBatchTensors()\n",
       "])"
      ]
     },
     "execution_count": 7,
     "metadata": {},
     "output_type": "execute_result"
    }
   ],
   "source": [
    "dataset.transform"
   ]
  },
  {
   "cell_type": "code",
   "execution_count": 19,
   "metadata": {},
   "outputs": [
    {
     "data": {
      "text/plain": [
       "4"
      ]
     },
     "execution_count": 19,
     "metadata": {},
     "output_type": "execute_result"
    }
   ],
   "source": [
    "\n",
    "# NOTE use this approach when doing eval\n",
    "\n",
    "# self.max_true_seq_len = max_typesequence_len_in_dataset(dataset_path)\n",
    "\n",
    "# if self.calc_true_acc_separately:\n",
    "#     print(f'Calculating true data type accuracy with separate loader, max_seq_len={self.max_true_seq_len}')\n",
    "#     ds = load_dataset_from_path(dataset_path)\n",
    "#     ds.transform = T.Compose([ToBatchTensors(), ToFixedLengthTypeSeq(self.max_true_seq_len)])\n",
    "#     self.truetypes_loader = DataLoader(ds, batch_size=64)\n",
    "\n",
    "# max_typesequence_len_in_dataset(dataset_path)"
   ]
  },
  {
   "cell_type": "code",
   "execution_count": 24,
   "metadata": {},
   "outputs": [
    {
     "data": {
      "text/plain": [
       "4"
      ]
     },
     "execution_count": 24,
     "metadata": {},
     "output_type": "execute_result"
    }
   ],
   "source": [
    "FIXED_LEN = max(model.max_seq_len, max_len)\n",
    "FIXED_LEN"
   ]
  },
  {
   "cell_type": "code",
   "execution_count": 9,
   "metadata": {},
   "outputs": [
    {
     "name": "stderr",
     "output_type": "stream",
     "text": [
      "  0%|          | 0/24691 [00:00<?, ?it/s]"
     ]
    },
    {
     "name": "stderr",
     "output_type": "stream",
     "text": [
      " 49%|████▉     | 12198/24691 [02:00<02:03, 101.20it/s]\n"
     ]
    },
    {
     "ename": "KeyboardInterrupt",
     "evalue": "",
     "output_type": "error",
     "traceback": [
      "\u001b[0;31m---------------------------------------------------------------------------\u001b[0m",
      "\u001b[0;31mKeyboardInterrupt\u001b[0m                         Traceback (most recent call last)",
      "Cell \u001b[0;32mIn[9], line 52\u001b[0m\n\u001b[1;32m     49\u001b[0m \u001b[38;5;66;03m# model.to()\u001b[39;00m\n\u001b[1;32m     51\u001b[0m \u001b[38;5;28;01mfor\u001b[39;00m data \u001b[38;5;129;01min\u001b[39;00m get_data:\n\u001b[0;32m---> 52\u001b[0m     out \u001b[38;5;241m=\u001b[39m \u001b[43mmodel\u001b[49m\u001b[43m(\u001b[49m\u001b[43mdata\u001b[49m\u001b[38;5;241;43m.\u001b[39;49m\u001b[43mx\u001b[49m\u001b[38;5;241;43m.\u001b[39;49m\u001b[43mto\u001b[49m\u001b[43m(\u001b[49m\u001b[43mDEVICE\u001b[49m\u001b[43m)\u001b[49m\u001b[43m,\u001b[49m\u001b[43m \u001b[49m\u001b[43mdata\u001b[49m\u001b[38;5;241;43m.\u001b[39;49m\u001b[43medge_index\u001b[49m\u001b[38;5;241;43m.\u001b[39;49m\u001b[43mto\u001b[49m\u001b[43m(\u001b[49m\u001b[43mDEVICE\u001b[49m\u001b[43m)\u001b[49m\u001b[43m,\u001b[49m\u001b[43m \u001b[49m\u001b[43mdata\u001b[49m\u001b[38;5;241;43m.\u001b[39;49m\u001b[43mbatch\u001b[49m\u001b[38;5;241;43m.\u001b[39;49m\u001b[43mto\u001b[49m\u001b[43m(\u001b[49m\u001b[43mDEVICE\u001b[49m\u001b[43m)\u001b[49m\u001b[43m)\u001b[49m\n\u001b[1;32m     53\u001b[0m     \u001b[38;5;28;01mfor\u001b[39;00m i, y \u001b[38;5;129;01min\u001b[39;00m \u001b[38;5;28menumerate\u001b[39m(data\u001b[38;5;241m.\u001b[39my):\n\u001b[1;32m     54\u001b[0m         y_class \u001b[38;5;241m=\u001b[39m \u001b[38;5;124m'\u001b[39m\u001b[38;5;124m,\u001b[39m\u001b[38;5;124m'\u001b[39m\u001b[38;5;241m.\u001b[39mjoin(decode_typeseq(y, \u001b[38;5;28;01mTrue\u001b[39;00m))\n",
      "File \u001b[0;32m~/envs/phd/lib/python3.8/site-packages/torch/nn/modules/module.py:1518\u001b[0m, in \u001b[0;36mModule._wrapped_call_impl\u001b[0;34m(self, *args, **kwargs)\u001b[0m\n\u001b[1;32m   1516\u001b[0m     \u001b[38;5;28;01mreturn\u001b[39;00m \u001b[38;5;28mself\u001b[39m\u001b[38;5;241m.\u001b[39m_compiled_call_impl(\u001b[38;5;241m*\u001b[39margs, \u001b[38;5;241m*\u001b[39m\u001b[38;5;241m*\u001b[39mkwargs)  \u001b[38;5;66;03m# type: ignore[misc]\u001b[39;00m\n\u001b[1;32m   1517\u001b[0m \u001b[38;5;28;01melse\u001b[39;00m:\n\u001b[0;32m-> 1518\u001b[0m     \u001b[38;5;28;01mreturn\u001b[39;00m \u001b[38;5;28;43mself\u001b[39;49m\u001b[38;5;241;43m.\u001b[39;49m\u001b[43m_call_impl\u001b[49m\u001b[43m(\u001b[49m\u001b[38;5;241;43m*\u001b[39;49m\u001b[43margs\u001b[49m\u001b[43m,\u001b[49m\u001b[43m \u001b[49m\u001b[38;5;241;43m*\u001b[39;49m\u001b[38;5;241;43m*\u001b[39;49m\u001b[43mkwargs\u001b[49m\u001b[43m)\u001b[49m\n",
      "File \u001b[0;32m~/envs/phd/lib/python3.8/site-packages/torch/nn/modules/module.py:1527\u001b[0m, in \u001b[0;36mModule._call_impl\u001b[0;34m(self, *args, **kwargs)\u001b[0m\n\u001b[1;32m   1522\u001b[0m \u001b[38;5;66;03m# If we don't have any hooks, we want to skip the rest of the logic in\u001b[39;00m\n\u001b[1;32m   1523\u001b[0m \u001b[38;5;66;03m# this function, and just call forward.\u001b[39;00m\n\u001b[1;32m   1524\u001b[0m \u001b[38;5;28;01mif\u001b[39;00m \u001b[38;5;129;01mnot\u001b[39;00m (\u001b[38;5;28mself\u001b[39m\u001b[38;5;241m.\u001b[39m_backward_hooks \u001b[38;5;129;01mor\u001b[39;00m \u001b[38;5;28mself\u001b[39m\u001b[38;5;241m.\u001b[39m_backward_pre_hooks \u001b[38;5;129;01mor\u001b[39;00m \u001b[38;5;28mself\u001b[39m\u001b[38;5;241m.\u001b[39m_forward_hooks \u001b[38;5;129;01mor\u001b[39;00m \u001b[38;5;28mself\u001b[39m\u001b[38;5;241m.\u001b[39m_forward_pre_hooks\n\u001b[1;32m   1525\u001b[0m         \u001b[38;5;129;01mor\u001b[39;00m _global_backward_pre_hooks \u001b[38;5;129;01mor\u001b[39;00m _global_backward_hooks\n\u001b[1;32m   1526\u001b[0m         \u001b[38;5;129;01mor\u001b[39;00m _global_forward_hooks \u001b[38;5;129;01mor\u001b[39;00m _global_forward_pre_hooks):\n\u001b[0;32m-> 1527\u001b[0m     \u001b[38;5;28;01mreturn\u001b[39;00m \u001b[43mforward_call\u001b[49m\u001b[43m(\u001b[49m\u001b[38;5;241;43m*\u001b[39;49m\u001b[43margs\u001b[49m\u001b[43m,\u001b[49m\u001b[43m \u001b[49m\u001b[38;5;241;43m*\u001b[39;49m\u001b[38;5;241;43m*\u001b[39;49m\u001b[43mkwargs\u001b[49m\u001b[43m)\u001b[49m\n\u001b[1;32m   1529\u001b[0m \u001b[38;5;28;01mtry\u001b[39;00m:\n\u001b[1;32m   1530\u001b[0m     result \u001b[38;5;241m=\u001b[39m \u001b[38;5;28;01mNone\u001b[39;00m\n",
      "File \u001b[0;32m~/dev/datatype-recovery-experiments/datatype_recovery/models/structural_model.py:71\u001b[0m, in \u001b[0;36mStructuralTypeSeqModel.forward\u001b[0;34m(self, x, edge_index, batch)\u001b[0m\n\u001b[1;32m     68\u001b[0m final_gat_idx \u001b[38;5;241m=\u001b[39m \u001b[38;5;28mlen\u001b[39m(\u001b[38;5;28mself\u001b[39m\u001b[38;5;241m.\u001b[39mgat_layers) \u001b[38;5;241m-\u001b[39m \u001b[38;5;241m1\u001b[39m\n\u001b[1;32m     70\u001b[0m \u001b[38;5;28;01mfor\u001b[39;00m i, gat \u001b[38;5;129;01min\u001b[39;00m \u001b[38;5;28menumerate\u001b[39m(\u001b[38;5;28mself\u001b[39m\u001b[38;5;241m.\u001b[39mgat_layers):\n\u001b[0;32m---> 71\u001b[0m     x \u001b[38;5;241m=\u001b[39m \u001b[43mgat\u001b[49m\u001b[43m(\u001b[49m\u001b[43mx\u001b[49m\u001b[43m,\u001b[49m\u001b[43m \u001b[49m\u001b[43medge_index\u001b[49m\u001b[43m)\u001b[49m\n\u001b[1;32m     73\u001b[0m     \u001b[38;5;66;03m# don't compute relu after final GAT layer\u001b[39;00m\n\u001b[1;32m     74\u001b[0m     \u001b[38;5;28;01mif\u001b[39;00m i \u001b[38;5;241m<\u001b[39m final_gat_idx:\n",
      "File \u001b[0;32m~/envs/phd/lib/python3.8/site-packages/torch/nn/modules/module.py:1518\u001b[0m, in \u001b[0;36mModule._wrapped_call_impl\u001b[0;34m(self, *args, **kwargs)\u001b[0m\n\u001b[1;32m   1516\u001b[0m     \u001b[38;5;28;01mreturn\u001b[39;00m \u001b[38;5;28mself\u001b[39m\u001b[38;5;241m.\u001b[39m_compiled_call_impl(\u001b[38;5;241m*\u001b[39margs, \u001b[38;5;241m*\u001b[39m\u001b[38;5;241m*\u001b[39mkwargs)  \u001b[38;5;66;03m# type: ignore[misc]\u001b[39;00m\n\u001b[1;32m   1517\u001b[0m \u001b[38;5;28;01melse\u001b[39;00m:\n\u001b[0;32m-> 1518\u001b[0m     \u001b[38;5;28;01mreturn\u001b[39;00m \u001b[38;5;28;43mself\u001b[39;49m\u001b[38;5;241;43m.\u001b[39;49m\u001b[43m_call_impl\u001b[49m\u001b[43m(\u001b[49m\u001b[38;5;241;43m*\u001b[39;49m\u001b[43margs\u001b[49m\u001b[43m,\u001b[49m\u001b[43m \u001b[49m\u001b[38;5;241;43m*\u001b[39;49m\u001b[38;5;241;43m*\u001b[39;49m\u001b[43mkwargs\u001b[49m\u001b[43m)\u001b[49m\n",
      "File \u001b[0;32m~/envs/phd/lib/python3.8/site-packages/torch/nn/modules/module.py:1527\u001b[0m, in \u001b[0;36mModule._call_impl\u001b[0;34m(self, *args, **kwargs)\u001b[0m\n\u001b[1;32m   1522\u001b[0m \u001b[38;5;66;03m# If we don't have any hooks, we want to skip the rest of the logic in\u001b[39;00m\n\u001b[1;32m   1523\u001b[0m \u001b[38;5;66;03m# this function, and just call forward.\u001b[39;00m\n\u001b[1;32m   1524\u001b[0m \u001b[38;5;28;01mif\u001b[39;00m \u001b[38;5;129;01mnot\u001b[39;00m (\u001b[38;5;28mself\u001b[39m\u001b[38;5;241m.\u001b[39m_backward_hooks \u001b[38;5;129;01mor\u001b[39;00m \u001b[38;5;28mself\u001b[39m\u001b[38;5;241m.\u001b[39m_backward_pre_hooks \u001b[38;5;129;01mor\u001b[39;00m \u001b[38;5;28mself\u001b[39m\u001b[38;5;241m.\u001b[39m_forward_hooks \u001b[38;5;129;01mor\u001b[39;00m \u001b[38;5;28mself\u001b[39m\u001b[38;5;241m.\u001b[39m_forward_pre_hooks\n\u001b[1;32m   1525\u001b[0m         \u001b[38;5;129;01mor\u001b[39;00m _global_backward_pre_hooks \u001b[38;5;129;01mor\u001b[39;00m _global_backward_hooks\n\u001b[1;32m   1526\u001b[0m         \u001b[38;5;129;01mor\u001b[39;00m _global_forward_hooks \u001b[38;5;129;01mor\u001b[39;00m _global_forward_pre_hooks):\n\u001b[0;32m-> 1527\u001b[0m     \u001b[38;5;28;01mreturn\u001b[39;00m \u001b[43mforward_call\u001b[49m\u001b[43m(\u001b[49m\u001b[38;5;241;43m*\u001b[39;49m\u001b[43margs\u001b[49m\u001b[43m,\u001b[49m\u001b[43m \u001b[49m\u001b[38;5;241;43m*\u001b[39;49m\u001b[38;5;241;43m*\u001b[39;49m\u001b[43mkwargs\u001b[49m\u001b[43m)\u001b[49m\n\u001b[1;32m   1529\u001b[0m \u001b[38;5;28;01mtry\u001b[39;00m:\n\u001b[1;32m   1530\u001b[0m     result \u001b[38;5;241m=\u001b[39m \u001b[38;5;28;01mNone\u001b[39;00m\n",
      "File \u001b[0;32m~/envs/phd/lib/python3.8/site-packages/torch_geometric/nn/conv/gat_conv.py:255\u001b[0m, in \u001b[0;36mGATConv.forward\u001b[0;34m(self, x, edge_index, edge_attr, size, return_attention_weights)\u001b[0m\n\u001b[1;32m    252\u001b[0m alpha \u001b[38;5;241m=\u001b[39m \u001b[38;5;28mself\u001b[39m\u001b[38;5;241m.\u001b[39medge_updater(edge_index, alpha\u001b[38;5;241m=\u001b[39malpha, edge_attr\u001b[38;5;241m=\u001b[39medge_attr)\n\u001b[1;32m    254\u001b[0m \u001b[38;5;66;03m# propagate_type: (x: OptPairTensor, alpha: Tensor)\u001b[39;00m\n\u001b[0;32m--> 255\u001b[0m out \u001b[38;5;241m=\u001b[39m \u001b[38;5;28;43mself\u001b[39;49m\u001b[38;5;241;43m.\u001b[39;49m\u001b[43mpropagate\u001b[49m\u001b[43m(\u001b[49m\u001b[43medge_index\u001b[49m\u001b[43m,\u001b[49m\u001b[43m \u001b[49m\u001b[43mx\u001b[49m\u001b[38;5;241;43m=\u001b[39;49m\u001b[43mx\u001b[49m\u001b[43m,\u001b[49m\u001b[43m \u001b[49m\u001b[43malpha\u001b[49m\u001b[38;5;241;43m=\u001b[39;49m\u001b[43malpha\u001b[49m\u001b[43m,\u001b[49m\u001b[43m \u001b[49m\u001b[43msize\u001b[49m\u001b[38;5;241;43m=\u001b[39;49m\u001b[43msize\u001b[49m\u001b[43m)\u001b[49m\n\u001b[1;32m    257\u001b[0m \u001b[38;5;28;01mif\u001b[39;00m \u001b[38;5;28mself\u001b[39m\u001b[38;5;241m.\u001b[39mconcat:\n\u001b[1;32m    258\u001b[0m     out \u001b[38;5;241m=\u001b[39m out\u001b[38;5;241m.\u001b[39mview(\u001b[38;5;241m-\u001b[39m\u001b[38;5;241m1\u001b[39m, \u001b[38;5;28mself\u001b[39m\u001b[38;5;241m.\u001b[39mheads \u001b[38;5;241m*\u001b[39m \u001b[38;5;28mself\u001b[39m\u001b[38;5;241m.\u001b[39mout_channels)\n",
      "File \u001b[0;32m~/envs/phd/lib/python3.8/site-packages/torch_geometric/nn/conv/message_passing.py:480\u001b[0m, in \u001b[0;36mMessagePassing.propagate\u001b[0;34m(self, edge_index, size, **kwargs)\u001b[0m\n\u001b[1;32m    477\u001b[0m     \u001b[38;5;28;01mif\u001b[39;00m res \u001b[38;5;129;01mis\u001b[39;00m \u001b[38;5;129;01mnot\u001b[39;00m \u001b[38;5;28;01mNone\u001b[39;00m:\n\u001b[1;32m    478\u001b[0m         aggr_kwargs \u001b[38;5;241m=\u001b[39m res[\u001b[38;5;241m0\u001b[39m] \u001b[38;5;28;01mif\u001b[39;00m \u001b[38;5;28misinstance\u001b[39m(res, \u001b[38;5;28mtuple\u001b[39m) \u001b[38;5;28;01melse\u001b[39;00m res\n\u001b[0;32m--> 480\u001b[0m out \u001b[38;5;241m=\u001b[39m \u001b[38;5;28;43mself\u001b[39;49m\u001b[38;5;241;43m.\u001b[39;49m\u001b[43maggregate\u001b[49m\u001b[43m(\u001b[49m\u001b[43mout\u001b[49m\u001b[43m,\u001b[49m\u001b[43m \u001b[49m\u001b[38;5;241;43m*\u001b[39;49m\u001b[38;5;241;43m*\u001b[39;49m\u001b[43maggr_kwargs\u001b[49m\u001b[43m)\u001b[49m\n\u001b[1;32m    482\u001b[0m \u001b[38;5;28;01mfor\u001b[39;00m hook \u001b[38;5;129;01min\u001b[39;00m \u001b[38;5;28mself\u001b[39m\u001b[38;5;241m.\u001b[39m_aggregate_forward_hooks\u001b[38;5;241m.\u001b[39mvalues():\n\u001b[1;32m    483\u001b[0m     res \u001b[38;5;241m=\u001b[39m hook(\u001b[38;5;28mself\u001b[39m, (aggr_kwargs, ), out)\n",
      "File \u001b[0;32m~/envs/phd/lib/python3.8/site-packages/torch_geometric/nn/conv/message_passing.py:604\u001b[0m, in \u001b[0;36mMessagePassing.aggregate\u001b[0;34m(self, inputs, index, ptr, dim_size)\u001b[0m\n\u001b[1;32m    591\u001b[0m \u001b[38;5;28;01mdef\u001b[39;00m \u001b[38;5;21maggregate\u001b[39m(\u001b[38;5;28mself\u001b[39m, inputs: Tensor, index: Tensor,\n\u001b[1;32m    592\u001b[0m               ptr: Optional[Tensor] \u001b[38;5;241m=\u001b[39m \u001b[38;5;28;01mNone\u001b[39;00m,\n\u001b[1;32m    593\u001b[0m               dim_size: Optional[\u001b[38;5;28mint\u001b[39m] \u001b[38;5;241m=\u001b[39m \u001b[38;5;28;01mNone\u001b[39;00m) \u001b[38;5;241m-\u001b[39m\u001b[38;5;241m>\u001b[39m Tensor:\n\u001b[1;32m    594\u001b[0m \u001b[38;5;250m    \u001b[39m\u001b[38;5;124mr\u001b[39m\u001b[38;5;124;03m\"\"\"Aggregates messages from neighbors as\u001b[39;00m\n\u001b[1;32m    595\u001b[0m \u001b[38;5;124;03m    :math:`\\bigoplus_{j \\in \\mathcal{N}(i)}`.\u001b[39;00m\n\u001b[1;32m    596\u001b[0m \n\u001b[0;32m   (...)\u001b[0m\n\u001b[1;32m    602\u001b[0m \u001b[38;5;124;03m    as specified in :meth:`__init__` by the :obj:`aggr` argument.\u001b[39;00m\n\u001b[1;32m    603\u001b[0m \u001b[38;5;124;03m    \"\"\"\u001b[39;00m\n\u001b[0;32m--> 604\u001b[0m     \u001b[38;5;28;01mreturn\u001b[39;00m \u001b[38;5;28;43mself\u001b[39;49m\u001b[38;5;241;43m.\u001b[39;49m\u001b[43maggr_module\u001b[49m\u001b[43m(\u001b[49m\u001b[43minputs\u001b[49m\u001b[43m,\u001b[49m\u001b[43m \u001b[49m\u001b[43mindex\u001b[49m\u001b[43m,\u001b[49m\u001b[43m \u001b[49m\u001b[43mptr\u001b[49m\u001b[38;5;241;43m=\u001b[39;49m\u001b[43mptr\u001b[49m\u001b[43m,\u001b[49m\u001b[43m \u001b[49m\u001b[43mdim_size\u001b[49m\u001b[38;5;241;43m=\u001b[39;49m\u001b[43mdim_size\u001b[49m\u001b[43m,\u001b[49m\n\u001b[1;32m    605\u001b[0m \u001b[43m                            \u001b[49m\u001b[43mdim\u001b[49m\u001b[38;5;241;43m=\u001b[39;49m\u001b[38;5;28;43mself\u001b[39;49m\u001b[38;5;241;43m.\u001b[39;49m\u001b[43mnode_dim\u001b[49m\u001b[43m)\u001b[49m\n",
      "File \u001b[0;32m~/envs/phd/lib/python3.8/site-packages/torch_geometric/experimental.py:115\u001b[0m, in \u001b[0;36mdisable_dynamic_shapes.<locals>.decorator.<locals>.wrapper\u001b[0;34m(*args, **kwargs)\u001b[0m\n\u001b[1;32m    112\u001b[0m \u001b[38;5;129m@functools\u001b[39m\u001b[38;5;241m.\u001b[39mwraps(func)\n\u001b[1;32m    113\u001b[0m \u001b[38;5;28;01mdef\u001b[39;00m \u001b[38;5;21mwrapper\u001b[39m(\u001b[38;5;241m*\u001b[39margs, \u001b[38;5;241m*\u001b[39m\u001b[38;5;241m*\u001b[39mkwargs):\n\u001b[1;32m    114\u001b[0m     \u001b[38;5;28;01mif\u001b[39;00m \u001b[38;5;129;01mnot\u001b[39;00m is_experimental_mode_enabled(\u001b[38;5;124m'\u001b[39m\u001b[38;5;124mdisable_dynamic_shapes\u001b[39m\u001b[38;5;124m'\u001b[39m):\n\u001b[0;32m--> 115\u001b[0m         \u001b[38;5;28;01mreturn\u001b[39;00m \u001b[43mfunc\u001b[49m\u001b[43m(\u001b[49m\u001b[38;5;241;43m*\u001b[39;49m\u001b[43margs\u001b[49m\u001b[43m,\u001b[49m\u001b[43m \u001b[49m\u001b[38;5;241;43m*\u001b[39;49m\u001b[38;5;241;43m*\u001b[39;49m\u001b[43mkwargs\u001b[49m\u001b[43m)\u001b[49m\n\u001b[1;32m    117\u001b[0m     \u001b[38;5;28;01mfor\u001b[39;00m required_arg \u001b[38;5;129;01min\u001b[39;00m required_args:\n\u001b[1;32m    118\u001b[0m         index \u001b[38;5;241m=\u001b[39m required_args_pos[required_arg]\n",
      "File \u001b[0;32m~/envs/phd/lib/python3.8/site-packages/torch_geometric/nn/aggr/base.py:125\u001b[0m, in \u001b[0;36mAggregation.__call__\u001b[0;34m(self, x, index, ptr, dim_size, dim, **kwargs)\u001b[0m\n\u001b[1;32m    122\u001b[0m     dim_size \u001b[38;5;241m=\u001b[39m \u001b[38;5;28mint\u001b[39m(index\u001b[38;5;241m.\u001b[39mmax()) \u001b[38;5;241m+\u001b[39m \u001b[38;5;241m1\u001b[39m \u001b[38;5;28;01mif\u001b[39;00m index\u001b[38;5;241m.\u001b[39mnumel() \u001b[38;5;241m>\u001b[39m \u001b[38;5;241m0\u001b[39m \u001b[38;5;28;01melse\u001b[39;00m \u001b[38;5;241m0\u001b[39m\n\u001b[1;32m    124\u001b[0m \u001b[38;5;28;01mtry\u001b[39;00m:\n\u001b[0;32m--> 125\u001b[0m     \u001b[38;5;28;01mreturn\u001b[39;00m \u001b[38;5;28;43msuper\u001b[39;49m\u001b[43m(\u001b[49m\u001b[43m)\u001b[49m\u001b[38;5;241;43m.\u001b[39;49m\u001b[38;5;21;43m__call__\u001b[39;49m\u001b[43m(\u001b[49m\u001b[43mx\u001b[49m\u001b[43m,\u001b[49m\u001b[43m \u001b[49m\u001b[43mindex\u001b[49m\u001b[38;5;241;43m=\u001b[39;49m\u001b[43mindex\u001b[49m\u001b[43m,\u001b[49m\u001b[43m \u001b[49m\u001b[43mptr\u001b[49m\u001b[38;5;241;43m=\u001b[39;49m\u001b[43mptr\u001b[49m\u001b[43m,\u001b[49m\u001b[43m \u001b[49m\u001b[43mdim_size\u001b[49m\u001b[38;5;241;43m=\u001b[39;49m\u001b[43mdim_size\u001b[49m\u001b[43m,\u001b[49m\n\u001b[1;32m    126\u001b[0m \u001b[43m                            \u001b[49m\u001b[43mdim\u001b[49m\u001b[38;5;241;43m=\u001b[39;49m\u001b[43mdim\u001b[49m\u001b[43m,\u001b[49m\u001b[43m \u001b[49m\u001b[38;5;241;43m*\u001b[39;49m\u001b[38;5;241;43m*\u001b[39;49m\u001b[43mkwargs\u001b[49m\u001b[43m)\u001b[49m\n\u001b[1;32m    127\u001b[0m \u001b[38;5;28;01mexcept\u001b[39;00m (\u001b[38;5;167;01mIndexError\u001b[39;00m, \u001b[38;5;167;01mRuntimeError\u001b[39;00m) \u001b[38;5;28;01mas\u001b[39;00m e:\n\u001b[1;32m    128\u001b[0m     \u001b[38;5;28;01mif\u001b[39;00m index \u001b[38;5;129;01mis\u001b[39;00m \u001b[38;5;129;01mnot\u001b[39;00m \u001b[38;5;28;01mNone\u001b[39;00m:\n",
      "File \u001b[0;32m~/envs/phd/lib/python3.8/site-packages/torch/nn/modules/module.py:1518\u001b[0m, in \u001b[0;36mModule._wrapped_call_impl\u001b[0;34m(self, *args, **kwargs)\u001b[0m\n\u001b[1;32m   1516\u001b[0m     \u001b[38;5;28;01mreturn\u001b[39;00m \u001b[38;5;28mself\u001b[39m\u001b[38;5;241m.\u001b[39m_compiled_call_impl(\u001b[38;5;241m*\u001b[39margs, \u001b[38;5;241m*\u001b[39m\u001b[38;5;241m*\u001b[39mkwargs)  \u001b[38;5;66;03m# type: ignore[misc]\u001b[39;00m\n\u001b[1;32m   1517\u001b[0m \u001b[38;5;28;01melse\u001b[39;00m:\n\u001b[0;32m-> 1518\u001b[0m     \u001b[38;5;28;01mreturn\u001b[39;00m \u001b[38;5;28;43mself\u001b[39;49m\u001b[38;5;241;43m.\u001b[39;49m\u001b[43m_call_impl\u001b[49m\u001b[43m(\u001b[49m\u001b[38;5;241;43m*\u001b[39;49m\u001b[43margs\u001b[49m\u001b[43m,\u001b[49m\u001b[43m \u001b[49m\u001b[38;5;241;43m*\u001b[39;49m\u001b[38;5;241;43m*\u001b[39;49m\u001b[43mkwargs\u001b[49m\u001b[43m)\u001b[49m\n",
      "File \u001b[0;32m~/envs/phd/lib/python3.8/site-packages/torch/nn/modules/module.py:1527\u001b[0m, in \u001b[0;36mModule._call_impl\u001b[0;34m(self, *args, **kwargs)\u001b[0m\n\u001b[1;32m   1522\u001b[0m \u001b[38;5;66;03m# If we don't have any hooks, we want to skip the rest of the logic in\u001b[39;00m\n\u001b[1;32m   1523\u001b[0m \u001b[38;5;66;03m# this function, and just call forward.\u001b[39;00m\n\u001b[1;32m   1524\u001b[0m \u001b[38;5;28;01mif\u001b[39;00m \u001b[38;5;129;01mnot\u001b[39;00m (\u001b[38;5;28mself\u001b[39m\u001b[38;5;241m.\u001b[39m_backward_hooks \u001b[38;5;129;01mor\u001b[39;00m \u001b[38;5;28mself\u001b[39m\u001b[38;5;241m.\u001b[39m_backward_pre_hooks \u001b[38;5;129;01mor\u001b[39;00m \u001b[38;5;28mself\u001b[39m\u001b[38;5;241m.\u001b[39m_forward_hooks \u001b[38;5;129;01mor\u001b[39;00m \u001b[38;5;28mself\u001b[39m\u001b[38;5;241m.\u001b[39m_forward_pre_hooks\n\u001b[1;32m   1525\u001b[0m         \u001b[38;5;129;01mor\u001b[39;00m _global_backward_pre_hooks \u001b[38;5;129;01mor\u001b[39;00m _global_backward_hooks\n\u001b[1;32m   1526\u001b[0m         \u001b[38;5;129;01mor\u001b[39;00m _global_forward_hooks \u001b[38;5;129;01mor\u001b[39;00m _global_forward_pre_hooks):\n\u001b[0;32m-> 1527\u001b[0m     \u001b[38;5;28;01mreturn\u001b[39;00m \u001b[43mforward_call\u001b[49m\u001b[43m(\u001b[49m\u001b[38;5;241;43m*\u001b[39;49m\u001b[43margs\u001b[49m\u001b[43m,\u001b[49m\u001b[43m \u001b[49m\u001b[38;5;241;43m*\u001b[39;49m\u001b[38;5;241;43m*\u001b[39;49m\u001b[43mkwargs\u001b[49m\u001b[43m)\u001b[49m\n\u001b[1;32m   1529\u001b[0m \u001b[38;5;28;01mtry\u001b[39;00m:\n\u001b[1;32m   1530\u001b[0m     result \u001b[38;5;241m=\u001b[39m \u001b[38;5;28;01mNone\u001b[39;00m\n",
      "File \u001b[0;32m~/envs/phd/lib/python3.8/site-packages/torch_geometric/nn/aggr/basic.py:22\u001b[0m, in \u001b[0;36mSumAggregation.forward\u001b[0;34m(self, x, index, ptr, dim_size, dim)\u001b[0m\n\u001b[1;32m     19\u001b[0m \u001b[38;5;28;01mdef\u001b[39;00m \u001b[38;5;21mforward\u001b[39m(\u001b[38;5;28mself\u001b[39m, x: Tensor, index: Optional[Tensor] \u001b[38;5;241m=\u001b[39m \u001b[38;5;28;01mNone\u001b[39;00m,\n\u001b[1;32m     20\u001b[0m             ptr: Optional[Tensor] \u001b[38;5;241m=\u001b[39m \u001b[38;5;28;01mNone\u001b[39;00m, dim_size: Optional[\u001b[38;5;28mint\u001b[39m] \u001b[38;5;241m=\u001b[39m \u001b[38;5;28;01mNone\u001b[39;00m,\n\u001b[1;32m     21\u001b[0m             dim: \u001b[38;5;28mint\u001b[39m \u001b[38;5;241m=\u001b[39m \u001b[38;5;241m-\u001b[39m\u001b[38;5;241m2\u001b[39m) \u001b[38;5;241m-\u001b[39m\u001b[38;5;241m>\u001b[39m Tensor:\n\u001b[0;32m---> 22\u001b[0m     \u001b[38;5;28;01mreturn\u001b[39;00m \u001b[38;5;28;43mself\u001b[39;49m\u001b[38;5;241;43m.\u001b[39;49m\u001b[43mreduce\u001b[49m\u001b[43m(\u001b[49m\u001b[43mx\u001b[49m\u001b[43m,\u001b[49m\u001b[43m \u001b[49m\u001b[43mindex\u001b[49m\u001b[43m,\u001b[49m\u001b[43m \u001b[49m\u001b[43mptr\u001b[49m\u001b[43m,\u001b[49m\u001b[43m \u001b[49m\u001b[43mdim_size\u001b[49m\u001b[43m,\u001b[49m\u001b[43m \u001b[49m\u001b[43mdim\u001b[49m\u001b[43m,\u001b[49m\u001b[43m \u001b[49m\u001b[43mreduce\u001b[49m\u001b[38;5;241;43m=\u001b[39;49m\u001b[38;5;124;43m'\u001b[39;49m\u001b[38;5;124;43msum\u001b[39;49m\u001b[38;5;124;43m'\u001b[39;49m\u001b[43m)\u001b[49m\n",
      "File \u001b[0;32m~/envs/phd/lib/python3.8/site-packages/torch_geometric/nn/aggr/base.py:176\u001b[0m, in \u001b[0;36mAggregation.reduce\u001b[0;34m(self, x, index, ptr, dim_size, dim, reduce)\u001b[0m\n\u001b[1;32m    173\u001b[0m     \u001b[38;5;28;01mreturn\u001b[39;00m segment(x, ptr, reduce\u001b[38;5;241m=\u001b[39mreduce)\n\u001b[1;32m    175\u001b[0m \u001b[38;5;28;01massert\u001b[39;00m index \u001b[38;5;129;01mis\u001b[39;00m \u001b[38;5;129;01mnot\u001b[39;00m \u001b[38;5;28;01mNone\u001b[39;00m\n\u001b[0;32m--> 176\u001b[0m \u001b[38;5;28;01mreturn\u001b[39;00m \u001b[43mscatter\u001b[49m\u001b[43m(\u001b[49m\u001b[43mx\u001b[49m\u001b[43m,\u001b[49m\u001b[43m \u001b[49m\u001b[43mindex\u001b[49m\u001b[43m,\u001b[49m\u001b[43m \u001b[49m\u001b[43mdim\u001b[49m\u001b[43m,\u001b[49m\u001b[43m \u001b[49m\u001b[43mdim_size\u001b[49m\u001b[43m,\u001b[49m\u001b[43m \u001b[49m\u001b[43mreduce\u001b[49m\u001b[43m)\u001b[49m\n",
      "File \u001b[0;32m~/envs/phd/lib/python3.8/site-packages/torch_geometric/utils/scatter.py:70\u001b[0m, in \u001b[0;36mscatter\u001b[0;34m(src, index, dim, dim_size, reduce)\u001b[0m\n\u001b[1;32m     68\u001b[0m \u001b[38;5;28;01mif\u001b[39;00m reduce \u001b[38;5;241m==\u001b[39m \u001b[38;5;124m'\u001b[39m\u001b[38;5;124msum\u001b[39m\u001b[38;5;124m'\u001b[39m \u001b[38;5;129;01mor\u001b[39;00m reduce \u001b[38;5;241m==\u001b[39m \u001b[38;5;124m'\u001b[39m\u001b[38;5;124madd\u001b[39m\u001b[38;5;124m'\u001b[39m:\n\u001b[1;32m     69\u001b[0m     index \u001b[38;5;241m=\u001b[39m broadcast(index, src, dim)\n\u001b[0;32m---> 70\u001b[0m     \u001b[38;5;28;01mreturn\u001b[39;00m \u001b[43msrc\u001b[49m\u001b[38;5;241;43m.\u001b[39;49m\u001b[43mnew_zeros\u001b[49m\u001b[43m(\u001b[49m\u001b[43msize\u001b[49m\u001b[43m)\u001b[49m\u001b[38;5;241;43m.\u001b[39;49m\u001b[43mscatter_add_\u001b[49m\u001b[43m(\u001b[49m\u001b[43mdim\u001b[49m\u001b[43m,\u001b[49m\u001b[43m \u001b[49m\u001b[43mindex\u001b[49m\u001b[43m,\u001b[49m\u001b[43m \u001b[49m\u001b[43msrc\u001b[49m\u001b[43m)\u001b[49m\n\u001b[1;32m     72\u001b[0m \u001b[38;5;28;01mif\u001b[39;00m reduce \u001b[38;5;241m==\u001b[39m \u001b[38;5;124m'\u001b[39m\u001b[38;5;124mmean\u001b[39m\u001b[38;5;124m'\u001b[39m:\n\u001b[1;32m     73\u001b[0m     count \u001b[38;5;241m=\u001b[39m src\u001b[38;5;241m.\u001b[39mnew_zeros(dim_size)\n",
      "\u001b[0;31mKeyboardInterrupt\u001b[0m: "
     ]
    }
   ],
   "source": [
    "# each row is a TRUTH class, each column is a PREDICTED class\n",
    "\n",
    "# TODO - to build this, we need to sum the count of predictions based on\n",
    "#        their true/predicted classes\n",
    "\n",
    "# use a string key like this to ID classes and make the lookup a bit easier\n",
    "\n",
    "# we need to know which class was true/predicted, so go ahead and convert both\n",
    "# to its typeseq list form, then to a STRING KEY\n",
    "\n",
    "valid_classes = [','.join(x) for x in TypeSequence().valid_type_sequences_for_len(4)]\n",
    "\n",
    "\n",
    "predictions = {}    # pred_class: { true_class: COUNT }\n",
    "\n",
    "# init confusion matrix\n",
    "for pc in valid_classes:\n",
    "    predictions[pc] = {}\n",
    "    for tc in valid_classes:\n",
    "        predictions[pc][f'{tc}'] = 0\n",
    "\n",
    "invalid_pred_classes = {}   # invalid class: count\n",
    "\n",
    "# TODO - loop through entire loader\n",
    "loader = DataLoader(dataset, batch_size=1)\n",
    "\n",
    "from datatype_recovery.models.training import partition_dataset\n",
    "\n",
    "# train_loader, test_loader = partition_dataset(dataset, model.max_seq_len, 0.7, 64)\n",
    "\n",
    "ctr = 0\n",
    "\n",
    "from tqdm import tqdm\n",
    "from datatype_recovery.models.metrics import accuracy, accuracy_weighted\n",
    "\n",
    "\n",
    "DEVICE = 'cpu'\n",
    "\n",
    "model.to(DEVICE)\n",
    "model.eval()\n",
    "\n",
    "USE_TQDM = True\n",
    "LOADER = loader\n",
    "get_data = tqdm(LOADER, total=len(LOADER)) if USE_TQDM else LOADER\n",
    "\n",
    "correct = 0\n",
    "tmp = 0\n",
    "\n",
    "# model.to()\n",
    "\n",
    "# HAVE TO USE A BATCH SIZE OF 1 TO EVALUATE AGAINST VAR-LENGTH SEQUENCES\n",
    "# (if truth is longer than max)\n",
    "\n",
    "for data in get_data:\n",
    "    out = model(data.x.to(DEVICE), data.edge_index.to(DEVICE), data.batch.to(DEVICE))\n",
    "    for i, y in enumerate(data.y):\n",
    "        y_class = ','.join(decode_typeseq(y, True))\n",
    "        pred_class = ','.join(decode_typeseq(out[i], force_valid_seq=True))\n",
    "        predictions[pred_class][y_class] += 1\n",
    "\n",
    "    # print(f'True class: {y_class}')\n",
    "    # print(f'Predicted class: {pred_class}')\n",
    "    # print(f'Raw prediction: {decode_typeseq(out)}')\n",
    "\n",
    "    # ctr += 1\n",
    "    # if ctr == 20:\n",
    "    #     break\n",
    "\n",
    "import pandas as pd\n",
    "\n",
    "# pd.DataFrame(predictions).sum(axis=1)\n",
    "df = pd.DataFrame(predictions)\n",
    "df"
   ]
  },
  {
   "cell_type": "code",
   "execution_count": null,
   "metadata": {},
   "outputs": [
    {
     "data": {
      "text/plain": [
       "['int32', '<EMPTY>', '<EMPTY>', '<EMPTY>']"
      ]
     },
     "execution_count": 9,
     "metadata": {},
     "output_type": "execute_result"
    }
   ],
   "source": [
    "decode_typeseq(data.y[0])"
   ]
  },
  {
   "cell_type": "code",
   "execution_count": null,
   "metadata": {},
   "outputs": [
    {
     "data": {
      "text/plain": [
       "['PTR', 'char']"
      ]
     },
     "execution_count": 83,
     "metadata": {},
     "output_type": "execute_result"
    }
   ],
   "source": [
    "pred = out\n",
    "truth = data.y\n",
    "pred_idxs = pred.argmax(dim=pred.dim()-2)\n",
    "truth_idxs = truth.argmax(dim=truth.dim()-2)\n",
    "pred_idxs\n",
    "truth_idxs\n",
    "decode_typeseq(truth_idxs)\n",
    "decode_typeseq(out)\n",
    "decode_typeseq(out, force_valid_seq=True)\n",
    "decode_typeseq(data.y, force_valid_seq=True)"
   ]
  },
  {
   "cell_type": "code",
   "execution_count": null,
   "metadata": {},
   "outputs": [
    {
     "data": {
      "text/plain": [
       "tensor([-0.0496, -0.0294, -0.0833,  0.0642,  0.0024,  0.0366,  0.0400, -0.0542,\n",
       "        -0.0417,  0.0714,  0.0092, -0.0548,  0.0613, -0.0456, -0.0270,  0.0412,\n",
       "         0.0239,  0.0151,  0.0005,  0.0640,  0.0635, -0.0230, -0.0300,  0.0668,\n",
       "        -0.0525,  0.0443,  0.0381,  0.0031, -0.0242,  0.0342,  0.0454, -0.0263,\n",
       "        -0.0868,  0.0498, -0.0010, -0.0765,  0.0518,  0.0143, -0.0400,  0.0667,\n",
       "        -0.0853, -0.0952, -0.0223, -0.0085, -0.0202,  0.0230, -0.0141, -0.0275,\n",
       "         0.0728, -0.0474, -0.0813,  0.0596,  0.0411, -0.0552,  0.0512,  0.0329,\n",
       "         0.0230, -0.0766,  0.0284, -0.0666, -0.0227,  0.0029, -0.0756, -0.0456,\n",
       "        -0.0868,  0.0846,  0.0668,  0.0915, -0.0409, -0.0930, -0.0418, -0.0408,\n",
       "         0.0446,  0.0024, -0.0053,  0.0332, -0.0517, -0.0367, -0.0819, -0.0377,\n",
       "        -0.0899,  0.0535, -0.0626, -0.0381, -0.0272,  0.0438, -0.0234,  0.0252,\n",
       "        -0.0548, -0.0306, -0.0923,  0.0597, -0.0036,  0.0362,  0.0399, -0.0508,\n",
       "        -0.0499,  0.0728,  0.0124, -0.0504,  0.0619, -0.0418, -0.0246,  0.0400,\n",
       "         0.0230,  0.0167,  0.0024,  0.0660,  0.0751, -0.0206, -0.0271,  0.0666,\n",
       "        -0.0599,  0.0404,  0.0387, -0.0003, -0.0240,  0.0319,  0.0471, -0.0219,\n",
       "        -0.0882,  0.0513, -0.0010, -0.0716,  0.0605,  0.0133, -0.0340,  0.0742,\n",
       "        -0.0795, -0.1000, -0.0242, -0.0130, -0.0205,  0.0237, -0.0104, -0.0295,\n",
       "         0.0763, -0.0488, -0.0807,  0.0597,  0.0419, -0.0609,  0.0504,  0.0306,\n",
       "         0.0184, -0.0796,  0.0264, -0.0687, -0.0216,  0.0037, -0.0716, -0.0493,\n",
       "        -0.0844,  0.0856,  0.0643,  0.0917, -0.0403, -0.0922, -0.0404, -0.0394,\n",
       "         0.0442,  0.0036, -0.0124,  0.0346, -0.0529, -0.0377, -0.0842, -0.0349,\n",
       "        -0.0939,  0.0538, -0.0598, -0.0342, -0.0275,  0.0399, -0.0204,  0.0240,\n",
       "        -0.0548, -0.0306, -0.0922,  0.0597, -0.0035,  0.0361,  0.0398, -0.0508,\n",
       "        -0.0499,  0.0728,  0.0124, -0.0504,  0.0619, -0.0418, -0.0246,  0.0400,\n",
       "         0.0230,  0.0167,  0.0024,  0.0661,  0.0750, -0.0207, -0.0271,  0.0666,\n",
       "        -0.0599,  0.0405,  0.0387, -0.0003, -0.0240,  0.0319,  0.0471, -0.0219,\n",
       "        -0.0882,  0.0513, -0.0010, -0.0717,  0.0604,  0.0133, -0.0340,  0.0742,\n",
       "        -0.0796, -0.0999, -0.0241, -0.0130, -0.0206,  0.0237, -0.0105, -0.0295,\n",
       "         0.0763, -0.0489, -0.0808,  0.0597,  0.0419, -0.0609,  0.0504,  0.0306,\n",
       "         0.0184, -0.0796,  0.0264, -0.0688, -0.0216,  0.0037, -0.0717, -0.0493,\n",
       "        -0.0845,  0.0856,  0.0643,  0.0918, -0.0403, -0.0922, -0.0403, -0.0394,\n",
       "         0.0442,  0.0036, -0.0124,  0.0346, -0.0530, -0.0377, -0.0842, -0.0349,\n",
       "        -0.0939,  0.0539, -0.0598, -0.0342, -0.0274,  0.0398, -0.0204,  0.0241],\n",
       "       grad_fn=<ViewBackward0>)"
      ]
     },
     "execution_count": 109,
     "metadata": {},
     "output_type": "execute_result"
    }
   ],
   "source": [
    "from datatype_recovery.models.metrics import accuracy\n",
    "\n",
    "#(data.y.argmax(dim=data.y.dim()-2) == out.argmax(dim=out.dim()-2)).all(dim=data.y.dim()-2).to(float)\n",
    "accuracy(data.y, out)\n",
    "test = out.flatten()\n",
    "test"
   ]
  },
  {
   "cell_type": "code",
   "execution_count": null,
   "metadata": {},
   "outputs": [
    {
     "name": "stdout",
     "output_type": "stream",
     "text": [
      "2.81 µs ± 1.16 µs per loop (mean ± std. dev. of 7 runs, 100,000 loops each)\n"
     ]
    }
   ],
   "source": [
    "%timeit test.view((3, 22, 4))"
   ]
  },
  {
   "cell_type": "code",
   "execution_count": null,
   "metadata": {},
   "outputs": [
    {
     "name": "stdout",
     "output_type": "stream",
     "text": [
      "2.86 µs ± 226 ns per loop (mean ± std. dev. of 7 runs, 1,000,000 loops each)\n"
     ]
    }
   ],
   "source": [
    "%timeit test.reshape((3,22,4))"
   ]
  },
  {
   "cell_type": "code",
   "execution_count": null,
   "metadata": {},
   "outputs": [
    {
     "data": {
      "text/plain": [
       "7576"
      ]
     },
     "execution_count": 55,
     "metadata": {},
     "output_type": "execute_result"
    }
   ],
   "source": [
    "# df.loc[TRUE, PRED]\n",
    "df.loc['ARR,uchar','uint128']\n",
    "df['uint128'].max()"
   ]
  },
  {
   "cell_type": "code",
   "execution_count": null,
   "metadata": {},
   "outputs": [
    {
     "data": {
      "text/plain": [
       "tensor([0.], dtype=torch.float64)"
      ]
     },
     "execution_count": 6,
     "metadata": {},
     "output_type": "execute_result"
    }
   ],
   "source": [
    "# index_seq = typeseq_probabilities.argmax(dim=typeseq_probabilities.dim()-2)\n",
    "# out.argmax(dim=1)\n",
    "\n",
    "pred = out\n",
    "# truth = data.y[0]\n",
    "truth = data.y\n",
    "\n",
    "from datatype_recovery.models.metrics import accuracy, accuracy_weighted\n",
    "\n",
    "accuracy(truth, pred)\n",
    "accuracy_weighted(truth, pred)"
   ]
  },
  {
   "cell_type": "code",
   "execution_count": null,
   "metadata": {},
   "outputs": [],
   "source": [
    "tseq = TypeSequence()\n",
    "terminals = tseq.terminals\n",
    "non_primitives = tseq.non_primitives\n",
    "primitives = tseq.primitives\n",
    "aggregates = tseq.aggregates\n",
    "nonterminals = tseq.nonterminals\n",
    "special = tseq.special\n",
    "all_names = tseq.type_element_names"
   ]
  },
  {
   "cell_type": "code",
   "execution_count": null,
   "metadata": {},
   "outputs": [
    {
     "data": {
      "text/plain": [
       "['float',\n",
       " 'double',\n",
       " 'long double',\n",
       " 'char',\n",
       " 'short',\n",
       " 'int32',\n",
       " 'int64',\n",
       " 'int128',\n",
       " 'uchar',\n",
       " 'ushort',\n",
       " 'uint32',\n",
       " 'uint64',\n",
       " 'uint128',\n",
       " 'void',\n",
       " 'STRUCT',\n",
       " 'UNION',\n",
       " 'ENUM',\n",
       " 'FUNC']"
      ]
     },
     "execution_count": 8,
     "metadata": {},
     "output_type": "execute_result"
    }
   ],
   "source": [
    "\n",
    "terminals"
   ]
  },
  {
   "cell_type": "code",
   "execution_count": null,
   "metadata": {},
   "outputs": [
    {
     "data": {
      "text/plain": [
       "['ARR', 'PTR']"
      ]
     },
     "execution_count": 9,
     "metadata": {},
     "output_type": "execute_result"
    }
   ],
   "source": [
    "nonterminals"
   ]
  },
  {
   "cell_type": "code",
   "execution_count": null,
   "metadata": {},
   "outputs": [
    {
     "data": {
      "text/plain": [
       "['STRUCT', 'UNION', 'FUNC', 'ARR', 'PTR', 'ARR', 'PTR']"
      ]
     },
     "execution_count": 10,
     "metadata": {},
     "output_type": "execute_result"
    }
   ],
   "source": [
    "non_primitives"
   ]
  },
  {
   "cell_type": "code",
   "execution_count": null,
   "metadata": {},
   "outputs": [
    {
     "data": {
      "text/plain": [
       "['STRUCT', 'UNION', 'FUNC', 'ARR', 'PTR']"
      ]
     },
     "execution_count": 11,
     "metadata": {},
     "output_type": "execute_result"
    }
   ],
   "source": [
    "aggregates"
   ]
  },
  {
   "cell_type": "code",
   "execution_count": null,
   "metadata": {},
   "outputs": [
    {
     "data": {
      "text/plain": [
       "[]"
      ]
     },
     "execution_count": 12,
     "metadata": {},
     "output_type": "execute_result"
    }
   ],
   "source": [
    "special"
   ]
  },
  {
   "cell_type": "code",
   "execution_count": null,
   "metadata": {},
   "outputs": [
    {
     "data": {
      "text/plain": [
       "['float',\n",
       " 'double',\n",
       " 'long double',\n",
       " 'char',\n",
       " 'short',\n",
       " 'int32',\n",
       " 'int64',\n",
       " 'int128',\n",
       " 'uchar',\n",
       " 'ushort',\n",
       " 'uint32',\n",
       " 'uint64',\n",
       " 'uint128',\n",
       " 'void',\n",
       " 'STRUCT',\n",
       " 'UNION',\n",
       " 'ENUM',\n",
       " 'FUNC']"
      ]
     },
     "execution_count": 13,
     "metadata": {},
     "output_type": "execute_result"
    }
   ],
   "source": [
    "terminals"
   ]
  },
  {
   "cell_type": "code",
   "execution_count": null,
   "metadata": {},
   "outputs": [
    {
     "data": {
      "text/plain": [
       "20"
      ]
     },
     "execution_count": 14,
     "metadata": {},
     "output_type": "execute_result"
    }
   ],
   "source": [
    "# 1-level\n",
    "nonterminals\n",
    "single_level_count = len(terminals) + len(nonterminals)\n",
    "single_level_count\n",
    "len(all_names)"
   ]
  },
  {
   "cell_type": "code",
   "execution_count": null,
   "metadata": {},
   "outputs": [
    {
     "name": "stdout",
     "output_type": "stream",
     "text": [
      "19 possible (valid) classes for 1-element type sequences\n",
      "58 possible (valid) classes for 2-element type sequences\n",
      "136 possible (valid) classes for 3-element type sequences\n",
      "292 possible (valid) classes for 4-element type sequences\n"
     ]
    }
   ],
   "source": [
    "\n",
    "\n",
    "for i in range(1, 5):\n",
    "    print(f'{len(tseq.valid_type_sequences_for_len(i)):,} possible (valid) classes for {i}-element type sequences')"
   ]
  },
  {
   "cell_type": "code",
   "execution_count": null,
   "metadata": {},
   "outputs": [
    {
     "data": {
      "text/plain": [
       "['float',\n",
       " 'double',\n",
       " 'long double',\n",
       " 'char',\n",
       " 'short',\n",
       " 'int32',\n",
       " 'int64',\n",
       " 'int128',\n",
       " 'uchar',\n",
       " 'ushort',\n",
       " 'uint32',\n",
       " 'uint64',\n",
       " 'uint128',\n",
       " 'void',\n",
       " 'PTR',\n",
       " 'ARR',\n",
       " 'STRUCT',\n",
       " 'UNION',\n",
       " 'ENUM',\n",
       " 'PTR,float',\n",
       " 'PTR,double',\n",
       " 'PTR,long double',\n",
       " 'PTR,char',\n",
       " 'PTR,short',\n",
       " 'PTR,int32',\n",
       " 'PTR,int64',\n",
       " 'PTR,int128',\n",
       " 'PTR,uchar',\n",
       " 'PTR,ushort',\n",
       " 'PTR,uint32',\n",
       " 'PTR,uint64',\n",
       " 'PTR,uint128',\n",
       " 'PTR,void',\n",
       " 'PTR,PTR',\n",
       " 'PTR,ARR',\n",
       " 'PTR,STRUCT',\n",
       " 'PTR,UNION',\n",
       " 'PTR,ENUM',\n",
       " 'PTR,FUNC',\n",
       " 'ARR,float',\n",
       " 'ARR,double',\n",
       " 'ARR,long double',\n",
       " 'ARR,char',\n",
       " 'ARR,short',\n",
       " 'ARR,int32',\n",
       " 'ARR,int64',\n",
       " 'ARR,int128',\n",
       " 'ARR,uchar',\n",
       " 'ARR,ushort',\n",
       " 'ARR,uint32',\n",
       " 'ARR,uint64',\n",
       " 'ARR,uint128',\n",
       " 'ARR,void',\n",
       " 'ARR,PTR',\n",
       " 'ARR,ARR',\n",
       " 'ARR,STRUCT',\n",
       " 'ARR,UNION',\n",
       " 'ARR,ENUM']"
      ]
     },
     "execution_count": 16,
     "metadata": {},
     "output_type": "execute_result"
    }
   ],
   "source": [
    "[','.join(x) for x in tseq.valid_type_sequences_for_len(2)]"
   ]
  },
  {
   "cell_type": "code",
   "execution_count": null,
   "metadata": {},
   "outputs": [
    {
     "name": "stdout",
     "output_type": "stream",
     "text": [
      "void*[]\n",
      "STRUCT\n"
     ]
    }
   ],
   "source": [
    "from varlib.datatype import *\n",
    "\n",
    "print(ArrayType(PointerType(BuiltinType.create_void_type(), pointer_size=4), None))\n",
    "[','.join(x) for x in tseq.valid_type_sequences_for_len(1)]\n",
    "print(StructType(db=None,name='STRUCT'))"
   ]
  },
  {
   "cell_type": "code",
   "execution_count": null,
   "metadata": {},
   "outputs": [
    {
     "name": "stdout",
     "output_type": "stream",
     "text": [
      "(FUNC)()\n"
     ]
    }
   ],
   "source": [
    "print(FunctionType(None, [], name=DataTypeCategories.Function))"
   ]
  },
  {
   "cell_type": "code",
   "execution_count": null,
   "metadata": {},
   "outputs": [],
   "source": []
  },
  {
   "cell_type": "code",
   "execution_count": null,
   "metadata": {},
   "outputs": [
    {
     "name": "stdout",
     "output_type": "stream",
     "text": [
      "PTR,FUNC\t(*FUNC)()\n",
      "PTR,PTR,FUNC\t(**FUNC)()\n",
      "ARR,PTR,FUNC\t(*FUNC)()[]\n",
      "PTR,PTR,PTR,FUNC\t(***FUNC)()\n",
      "PTR,ARR,PTR,FUNC\t(*FUNC)()[]*\n",
      "ARR,PTR,PTR,FUNC\t(**FUNC)()[]\n",
      "ARR,ARR,PTR,FUNC\t(*FUNC)()[][]\n"
     ]
    }
   ],
   "source": [
    "csv_list = [(','.join(x), str(TypeSequence.seq_to_datatype(x))) for x in tseq.valid_type_sequences_for_len(4)]\n",
    "func_types = []\n",
    "for entry in csv_list:\n",
    "    if 'FUNC' in entry[0]:\n",
    "        func_types.append(entry)\n",
    "        print('\\t'.join(entry))\n"
   ]
  },
  {
   "cell_type": "code",
   "execution_count": null,
   "metadata": {},
   "outputs": [
    {
     "name": "stdout",
     "output_type": "stream",
     "text": [
      "float\tfloat\n",
      "double\tdouble\n",
      "long double\tlong double\n",
      "char\tchar\n",
      "short\tshort\n",
      "int32\tint32\n",
      "int64\tint64\n",
      "int128\tint128\n",
      "uchar\tuchar\n",
      "ushort\tushort\n",
      "uint32\tuint32\n",
      "uint64\tuint64\n",
      "uint128\tuint128\n",
      "void\tvoid\n",
      "PTR\t*\n",
      "ARR\t[]\n",
      "STRUCT\tSTRUCT\n",
      "UNION\tUNION\n",
      "ENUM\tENUM\n",
      "PTR,float\tfloat*\n",
      "PTR,double\tdouble*\n",
      "PTR,long double\tlong double*\n",
      "PTR,char\tchar*\n",
      "PTR,short\tshort*\n",
      "PTR,int32\tint32*\n",
      "PTR,int64\tint64*\n",
      "PTR,int128\tint128*\n",
      "PTR,uchar\tuchar*\n",
      "PTR,ushort\tushort*\n",
      "PTR,uint32\tuint32*\n",
      "PTR,uint64\tuint64*\n",
      "PTR,uint128\tuint128*\n",
      "PTR,void\tvoid*\n",
      "PTR,PTR\t**\n",
      "PTR,ARR\t[]*\n",
      "PTR,STRUCT\tSTRUCT*\n",
      "PTR,UNION\tUNION*\n",
      "PTR,ENUM\tENUM*\n",
      "PTR,FUNC\t(*FUNC)()\n",
      "ARR,float\tfloat[]\n",
      "ARR,double\tdouble[]\n",
      "ARR,long double\tlong double[]\n",
      "ARR,char\tchar[]\n",
      "ARR,short\tshort[]\n",
      "ARR,int32\tint32[]\n",
      "ARR,int64\tint64[]\n",
      "ARR,int128\tint128[]\n",
      "ARR,uchar\tuchar[]\n",
      "ARR,ushort\tushort[]\n",
      "ARR,uint32\tuint32[]\n",
      "ARR,uint64\tuint64[]\n",
      "ARR,uint128\tuint128[]\n",
      "ARR,void\tvoid[]\n",
      "ARR,PTR\t*[]\n",
      "ARR,ARR\t[][]\n",
      "ARR,STRUCT\tSTRUCT[]\n",
      "ARR,UNION\tUNION[]\n",
      "ARR,ENUM\tENUM[]\n",
      "PTR,PTR,float\tfloat**\n",
      "PTR,PTR,double\tdouble**\n",
      "PTR,PTR,long double\tlong double**\n",
      "PTR,PTR,char\tchar**\n",
      "PTR,PTR,short\tshort**\n",
      "PTR,PTR,int32\tint32**\n",
      "PTR,PTR,int64\tint64**\n",
      "PTR,PTR,int128\tint128**\n",
      "PTR,PTR,uchar\tuchar**\n",
      "PTR,PTR,ushort\tushort**\n",
      "PTR,PTR,uint32\tuint32**\n",
      "PTR,PTR,uint64\tuint64**\n",
      "PTR,PTR,uint128\tuint128**\n",
      "PTR,PTR,void\tvoid**\n",
      "PTR,PTR,PTR\t***\n",
      "PTR,PTR,ARR\t[]**\n",
      "PTR,PTR,STRUCT\tSTRUCT**\n",
      "PTR,PTR,UNION\tUNION**\n",
      "PTR,PTR,ENUM\tENUM**\n",
      "PTR,PTR,FUNC\t(**FUNC)()\n",
      "PTR,ARR,float\tfloat[]*\n",
      "PTR,ARR,double\tdouble[]*\n",
      "PTR,ARR,long double\tlong double[]*\n",
      "PTR,ARR,char\tchar[]*\n",
      "PTR,ARR,short\tshort[]*\n",
      "PTR,ARR,int32\tint32[]*\n",
      "PTR,ARR,int64\tint64[]*\n",
      "PTR,ARR,int128\tint128[]*\n",
      "PTR,ARR,uchar\tuchar[]*\n",
      "PTR,ARR,ushort\tushort[]*\n",
      "PTR,ARR,uint32\tuint32[]*\n",
      "PTR,ARR,uint64\tuint64[]*\n",
      "PTR,ARR,uint128\tuint128[]*\n",
      "PTR,ARR,void\tvoid[]*\n",
      "PTR,ARR,PTR\t*[]*\n",
      "PTR,ARR,ARR\t[][]*\n",
      "PTR,ARR,STRUCT\tSTRUCT[]*\n",
      "PTR,ARR,UNION\tUNION[]*\n",
      "PTR,ARR,ENUM\tENUM[]*\n",
      "ARR,PTR,float\tfloat*[]\n",
      "ARR,PTR,double\tdouble*[]\n",
      "ARR,PTR,long double\tlong double*[]\n",
      "ARR,PTR,char\tchar*[]\n",
      "ARR,PTR,short\tshort*[]\n",
      "ARR,PTR,int32\tint32*[]\n",
      "ARR,PTR,int64\tint64*[]\n",
      "ARR,PTR,int128\tint128*[]\n",
      "ARR,PTR,uchar\tuchar*[]\n",
      "ARR,PTR,ushort\tushort*[]\n",
      "ARR,PTR,uint32\tuint32*[]\n",
      "ARR,PTR,uint64\tuint64*[]\n",
      "ARR,PTR,uint128\tuint128*[]\n",
      "ARR,PTR,void\tvoid*[]\n",
      "ARR,PTR,PTR\t**[]\n",
      "ARR,PTR,ARR\t[]*[]\n",
      "ARR,PTR,STRUCT\tSTRUCT*[]\n",
      "ARR,PTR,UNION\tUNION*[]\n",
      "ARR,PTR,ENUM\tENUM*[]\n",
      "ARR,PTR,FUNC\t(*FUNC)()[]\n",
      "ARR,ARR,float\tfloat[][]\n",
      "ARR,ARR,double\tdouble[][]\n",
      "ARR,ARR,long double\tlong double[][]\n",
      "ARR,ARR,char\tchar[][]\n",
      "ARR,ARR,short\tshort[][]\n",
      "ARR,ARR,int32\tint32[][]\n",
      "ARR,ARR,int64\tint64[][]\n",
      "ARR,ARR,int128\tint128[][]\n",
      "ARR,ARR,uchar\tuchar[][]\n",
      "ARR,ARR,ushort\tushort[][]\n",
      "ARR,ARR,uint32\tuint32[][]\n",
      "ARR,ARR,uint64\tuint64[][]\n",
      "ARR,ARR,uint128\tuint128[][]\n",
      "ARR,ARR,void\tvoid[][]\n",
      "ARR,ARR,PTR\t*[][]\n",
      "ARR,ARR,ARR\t[][][]\n",
      "ARR,ARR,STRUCT\tSTRUCT[][]\n",
      "ARR,ARR,UNION\tUNION[][]\n",
      "ARR,ARR,ENUM\tENUM[][]\n",
      "PTR,PTR,PTR,float\tfloat***\n",
      "PTR,PTR,PTR,double\tdouble***\n",
      "PTR,PTR,PTR,long double\tlong double***\n",
      "PTR,PTR,PTR,char\tchar***\n",
      "PTR,PTR,PTR,short\tshort***\n",
      "PTR,PTR,PTR,int32\tint32***\n",
      "PTR,PTR,PTR,int64\tint64***\n",
      "PTR,PTR,PTR,int128\tint128***\n",
      "PTR,PTR,PTR,uchar\tuchar***\n",
      "PTR,PTR,PTR,ushort\tushort***\n",
      "PTR,PTR,PTR,uint32\tuint32***\n",
      "PTR,PTR,PTR,uint64\tuint64***\n",
      "PTR,PTR,PTR,uint128\tuint128***\n",
      "PTR,PTR,PTR,void\tvoid***\n",
      "PTR,PTR,PTR,PTR\t****\n",
      "PTR,PTR,PTR,ARR\t[]***\n",
      "PTR,PTR,PTR,STRUCT\tSTRUCT***\n",
      "PTR,PTR,PTR,UNION\tUNION***\n",
      "PTR,PTR,PTR,ENUM\tENUM***\n",
      "PTR,PTR,PTR,FUNC\t(***FUNC)()\n",
      "PTR,PTR,ARR,float\tfloat[]**\n",
      "PTR,PTR,ARR,double\tdouble[]**\n",
      "PTR,PTR,ARR,long double\tlong double[]**\n",
      "PTR,PTR,ARR,char\tchar[]**\n",
      "PTR,PTR,ARR,short\tshort[]**\n",
      "PTR,PTR,ARR,int32\tint32[]**\n",
      "PTR,PTR,ARR,int64\tint64[]**\n",
      "PTR,PTR,ARR,int128\tint128[]**\n",
      "PTR,PTR,ARR,uchar\tuchar[]**\n",
      "PTR,PTR,ARR,ushort\tushort[]**\n",
      "PTR,PTR,ARR,uint32\tuint32[]**\n",
      "PTR,PTR,ARR,uint64\tuint64[]**\n",
      "PTR,PTR,ARR,uint128\tuint128[]**\n",
      "PTR,PTR,ARR,void\tvoid[]**\n",
      "PTR,PTR,ARR,PTR\t*[]**\n",
      "PTR,PTR,ARR,ARR\t[][]**\n",
      "PTR,PTR,ARR,STRUCT\tSTRUCT[]**\n",
      "PTR,PTR,ARR,UNION\tUNION[]**\n",
      "PTR,PTR,ARR,ENUM\tENUM[]**\n",
      "PTR,ARR,PTR,float\tfloat*[]*\n",
      "PTR,ARR,PTR,double\tdouble*[]*\n",
      "PTR,ARR,PTR,long double\tlong double*[]*\n",
      "PTR,ARR,PTR,char\tchar*[]*\n",
      "PTR,ARR,PTR,short\tshort*[]*\n",
      "PTR,ARR,PTR,int32\tint32*[]*\n",
      "PTR,ARR,PTR,int64\tint64*[]*\n",
      "PTR,ARR,PTR,int128\tint128*[]*\n",
      "PTR,ARR,PTR,uchar\tuchar*[]*\n",
      "PTR,ARR,PTR,ushort\tushort*[]*\n",
      "PTR,ARR,PTR,uint32\tuint32*[]*\n",
      "PTR,ARR,PTR,uint64\tuint64*[]*\n",
      "PTR,ARR,PTR,uint128\tuint128*[]*\n",
      "PTR,ARR,PTR,void\tvoid*[]*\n",
      "PTR,ARR,PTR,PTR\t**[]*\n",
      "PTR,ARR,PTR,ARR\t[]*[]*\n",
      "PTR,ARR,PTR,STRUCT\tSTRUCT*[]*\n",
      "PTR,ARR,PTR,UNION\tUNION*[]*\n",
      "PTR,ARR,PTR,ENUM\tENUM*[]*\n",
      "PTR,ARR,PTR,FUNC\t(*FUNC)()[]*\n",
      "PTR,ARR,ARR,float\tfloat[][]*\n",
      "PTR,ARR,ARR,double\tdouble[][]*\n",
      "PTR,ARR,ARR,long double\tlong double[][]*\n",
      "PTR,ARR,ARR,char\tchar[][]*\n",
      "PTR,ARR,ARR,short\tshort[][]*\n",
      "PTR,ARR,ARR,int32\tint32[][]*\n",
      "PTR,ARR,ARR,int64\tint64[][]*\n",
      "PTR,ARR,ARR,int128\tint128[][]*\n",
      "PTR,ARR,ARR,uchar\tuchar[][]*\n",
      "PTR,ARR,ARR,ushort\tushort[][]*\n",
      "PTR,ARR,ARR,uint32\tuint32[][]*\n",
      "PTR,ARR,ARR,uint64\tuint64[][]*\n",
      "PTR,ARR,ARR,uint128\tuint128[][]*\n",
      "PTR,ARR,ARR,void\tvoid[][]*\n",
      "PTR,ARR,ARR,PTR\t*[][]*\n",
      "PTR,ARR,ARR,ARR\t[][][]*\n",
      "PTR,ARR,ARR,STRUCT\tSTRUCT[][]*\n",
      "PTR,ARR,ARR,UNION\tUNION[][]*\n",
      "PTR,ARR,ARR,ENUM\tENUM[][]*\n",
      "ARR,PTR,PTR,float\tfloat**[]\n",
      "ARR,PTR,PTR,double\tdouble**[]\n",
      "ARR,PTR,PTR,long double\tlong double**[]\n",
      "ARR,PTR,PTR,char\tchar**[]\n",
      "ARR,PTR,PTR,short\tshort**[]\n",
      "ARR,PTR,PTR,int32\tint32**[]\n",
      "ARR,PTR,PTR,int64\tint64**[]\n",
      "ARR,PTR,PTR,int128\tint128**[]\n",
      "ARR,PTR,PTR,uchar\tuchar**[]\n",
      "ARR,PTR,PTR,ushort\tushort**[]\n",
      "ARR,PTR,PTR,uint32\tuint32**[]\n",
      "ARR,PTR,PTR,uint64\tuint64**[]\n",
      "ARR,PTR,PTR,uint128\tuint128**[]\n",
      "ARR,PTR,PTR,void\tvoid**[]\n",
      "ARR,PTR,PTR,PTR\t***[]\n",
      "ARR,PTR,PTR,ARR\t[]**[]\n",
      "ARR,PTR,PTR,STRUCT\tSTRUCT**[]\n",
      "ARR,PTR,PTR,UNION\tUNION**[]\n",
      "ARR,PTR,PTR,ENUM\tENUM**[]\n",
      "ARR,PTR,PTR,FUNC\t(**FUNC)()[]\n",
      "ARR,PTR,ARR,float\tfloat[]*[]\n",
      "ARR,PTR,ARR,double\tdouble[]*[]\n",
      "ARR,PTR,ARR,long double\tlong double[]*[]\n",
      "ARR,PTR,ARR,char\tchar[]*[]\n",
      "ARR,PTR,ARR,short\tshort[]*[]\n",
      "ARR,PTR,ARR,int32\tint32[]*[]\n",
      "ARR,PTR,ARR,int64\tint64[]*[]\n",
      "ARR,PTR,ARR,int128\tint128[]*[]\n",
      "ARR,PTR,ARR,uchar\tuchar[]*[]\n",
      "ARR,PTR,ARR,ushort\tushort[]*[]\n",
      "ARR,PTR,ARR,uint32\tuint32[]*[]\n",
      "ARR,PTR,ARR,uint64\tuint64[]*[]\n",
      "ARR,PTR,ARR,uint128\tuint128[]*[]\n",
      "ARR,PTR,ARR,void\tvoid[]*[]\n",
      "ARR,PTR,ARR,PTR\t*[]*[]\n",
      "ARR,PTR,ARR,ARR\t[][]*[]\n",
      "ARR,PTR,ARR,STRUCT\tSTRUCT[]*[]\n",
      "ARR,PTR,ARR,UNION\tUNION[]*[]\n",
      "ARR,PTR,ARR,ENUM\tENUM[]*[]\n",
      "ARR,ARR,PTR,float\tfloat*[][]\n",
      "ARR,ARR,PTR,double\tdouble*[][]\n",
      "ARR,ARR,PTR,long double\tlong double*[][]\n",
      "ARR,ARR,PTR,char\tchar*[][]\n",
      "ARR,ARR,PTR,short\tshort*[][]\n",
      "ARR,ARR,PTR,int32\tint32*[][]\n",
      "ARR,ARR,PTR,int64\tint64*[][]\n",
      "ARR,ARR,PTR,int128\tint128*[][]\n",
      "ARR,ARR,PTR,uchar\tuchar*[][]\n",
      "ARR,ARR,PTR,ushort\tushort*[][]\n",
      "ARR,ARR,PTR,uint32\tuint32*[][]\n",
      "ARR,ARR,PTR,uint64\tuint64*[][]\n",
      "ARR,ARR,PTR,uint128\tuint128*[][]\n",
      "ARR,ARR,PTR,void\tvoid*[][]\n",
      "ARR,ARR,PTR,PTR\t**[][]\n",
      "ARR,ARR,PTR,ARR\t[]*[][]\n",
      "ARR,ARR,PTR,STRUCT\tSTRUCT*[][]\n",
      "ARR,ARR,PTR,UNION\tUNION*[][]\n",
      "ARR,ARR,PTR,ENUM\tENUM*[][]\n",
      "ARR,ARR,PTR,FUNC\t(*FUNC)()[][]\n",
      "ARR,ARR,ARR,float\tfloat[][][]\n",
      "ARR,ARR,ARR,double\tdouble[][][]\n",
      "ARR,ARR,ARR,long double\tlong double[][][]\n",
      "ARR,ARR,ARR,char\tchar[][][]\n",
      "ARR,ARR,ARR,short\tshort[][][]\n",
      "ARR,ARR,ARR,int32\tint32[][][]\n",
      "ARR,ARR,ARR,int64\tint64[][][]\n",
      "ARR,ARR,ARR,int128\tint128[][][]\n",
      "ARR,ARR,ARR,uchar\tuchar[][][]\n",
      "ARR,ARR,ARR,ushort\tushort[][][]\n",
      "ARR,ARR,ARR,uint32\tuint32[][][]\n",
      "ARR,ARR,ARR,uint64\tuint64[][][]\n",
      "ARR,ARR,ARR,uint128\tuint128[][][]\n",
      "ARR,ARR,ARR,void\tvoid[][][]\n",
      "ARR,ARR,ARR,PTR\t*[][][]\n",
      "ARR,ARR,ARR,ARR\t[][][][]\n",
      "ARR,ARR,ARR,STRUCT\tSTRUCT[][][]\n",
      "ARR,ARR,ARR,UNION\tUNION[][][]\n",
      "ARR,ARR,ARR,ENUM\tENUM[][][]\n"
     ]
    }
   ],
   "source": [
    "for entry in csv_list:\n",
    "    print('\\t'.join(entry))"
   ]
  },
  {
   "cell_type": "code",
   "execution_count": null,
   "metadata": {},
   "outputs": [
    {
     "ename": "NameError",
     "evalue": "name 'dt_list' is not defined",
     "output_type": "error",
     "traceback": [
      "\u001b[0;31m---------------------------------------------------------------------------\u001b[0m",
      "\u001b[0;31mNameError\u001b[0m                                 Traceback (most recent call last)",
      "Cell \u001b[0;32mIn[21], line 1\u001b[0m\n\u001b[0;32m----> 1\u001b[0m \u001b[43mdt_list\u001b[49m[\u001b[38;5;241m-\u001b[39m\u001b[38;5;241m5\u001b[39m]\n",
      "\u001b[0;31mNameError\u001b[0m: name 'dt_list' is not defined"
     ]
    }
   ],
   "source": [
    "dt_list[-5]"
   ]
  },
  {
   "cell_type": "code",
   "execution_count": null,
   "metadata": {},
   "outputs": [
    {
     "name": "stdout",
     "output_type": "stream",
     "text": [
      "float\n",
      "double\n",
      "long double\n",
      "char\n",
      "short\n",
      "int32\n",
      "int64\n",
      "int128\n",
      "uchar\n",
      "ushort\n",
      "uint32\n",
      "uint64\n",
      "uint128\n",
      "void\n",
      "*\n",
      "[]\n",
      "STRUCT\n",
      "UNION\n",
      "ENUM\n",
      "(*FUNC)()\n"
     ]
    }
   ],
   "source": [
    "for x in dt_list:\n",
    "    print(x)"
   ]
  },
  {
   "cell_type": "code",
   "execution_count": null,
   "metadata": {},
   "outputs": [
    {
     "name": "stdout",
     "output_type": "stream",
     "text": [
      "<class 'int'>\n",
      "<class 'int'>\n",
      "<class 'int'>\n"
     ]
    }
   ],
   "source": [
    "for i in range(3):\n",
    "    print(type(i))"
   ]
  },
  {
   "cell_type": "code",
   "execution_count": null,
   "metadata": {},
   "outputs": [
    {
     "data": {
      "text/plain": [
       "[['float'],\n",
       " ['double'],\n",
       " ['long double'],\n",
       " ['char'],\n",
       " ['short'],\n",
       " ['int32'],\n",
       " ['int64'],\n",
       " ['int128'],\n",
       " ['uchar'],\n",
       " ['ushort'],\n",
       " ['uint32'],\n",
       " ['uint64'],\n",
       " ['uint128'],\n",
       " ['void'],\n",
       " ['STRUCT'],\n",
       " ['UNION'],\n",
       " ['ENUM'],\n",
       " ['FUNC']]"
      ]
     },
     "execution_count": 30,
     "metadata": {},
     "output_type": "execute_result"
    }
   ],
   "source": [
    "all_classes"
   ]
  },
  {
   "cell_type": "code",
   "execution_count": null,
   "metadata": {},
   "outputs": [
    {
     "data": {
      "text/plain": [
       "[['ARR', 'float'],\n",
       " ['ARR', 'double'],\n",
       " ['ARR', 'long double'],\n",
       " ['ARR', 'char'],\n",
       " ['ARR', 'short'],\n",
       " ['ARR', 'int32'],\n",
       " ['ARR', 'int64'],\n",
       " ['ARR', 'int128'],\n",
       " ['ARR', 'uchar'],\n",
       " ['ARR', 'ushort'],\n",
       " ['ARR', 'uint32'],\n",
       " ['ARR', 'uint64'],\n",
       " ['ARR', 'uint128'],\n",
       " ['ARR', 'void'],\n",
       " ['ARR', 'PTR'],\n",
       " ['ARR', 'ARR'],\n",
       " ['ARR', 'STRUCT'],\n",
       " ['ARR', 'UNION'],\n",
       " ['ARR', 'ENUM'],\n",
       " ['ARR', 'FUNC'],\n",
       " ['PTR', 'float'],\n",
       " ['PTR', 'double'],\n",
       " ['PTR', 'long double'],\n",
       " ['PTR', 'char'],\n",
       " ['PTR', 'short'],\n",
       " ['PTR', 'int32'],\n",
       " ['PTR', 'int64'],\n",
       " ['PTR', 'int128'],\n",
       " ['PTR', 'uchar'],\n",
       " ['PTR', 'ushort'],\n",
       " ['PTR', 'uint32'],\n",
       " ['PTR', 'uint64'],\n",
       " ['PTR', 'uint128'],\n",
       " ['PTR', 'void'],\n",
       " ['PTR', 'PTR'],\n",
       " ['PTR', 'ARR'],\n",
       " ['PTR', 'STRUCT'],\n",
       " ['PTR', 'UNION'],\n",
       " ['PTR', 'ENUM'],\n",
       " ['PTR', 'FUNC']]"
      ]
     },
     "execution_count": 14,
     "metadata": {},
     "output_type": "execute_result"
    }
   ],
   "source": [
    "second_level_classes = []\n",
    "for x in nonterminals:\n",
    "    for y in all_names:\n",
    "        second_level_classes.append([x, y])\n",
    "second_level_classes"
   ]
  },
  {
   "cell_type": "code",
   "execution_count": null,
   "metadata": {},
   "outputs": [
    {
     "data": {
      "text/plain": [
       "[['ARR', 'PTR'], ['ARR', 'ARR'], ['PTR', 'PTR'], ['PTR', 'ARR']]"
      ]
     },
     "execution_count": 15,
     "metadata": {},
     "output_type": "execute_result"
    }
   ],
   "source": [
    "second_level_nonterminals = [x for x in second_level_classes if x[-1] not in terminals]\n",
    "second_level_nonterminals"
   ]
  },
  {
   "cell_type": "code",
   "execution_count": null,
   "metadata": {},
   "outputs": [
    {
     "data": {
      "text/plain": [
       "[['ARR', 'PTR', 'float'],\n",
       " ['ARR', 'PTR', 'double'],\n",
       " ['ARR', 'PTR', 'long double'],\n",
       " ['ARR', 'PTR', 'char'],\n",
       " ['ARR', 'PTR', 'short'],\n",
       " ['ARR', 'PTR', 'int32'],\n",
       " ['ARR', 'PTR', 'int64'],\n",
       " ['ARR', 'PTR', 'int128'],\n",
       " ['ARR', 'PTR', 'uchar'],\n",
       " ['ARR', 'PTR', 'ushort'],\n",
       " ['ARR', 'PTR', 'uint32'],\n",
       " ['ARR', 'PTR', 'uint64'],\n",
       " ['ARR', 'PTR', 'uint128'],\n",
       " ['ARR', 'PTR', 'void'],\n",
       " ['ARR', 'PTR', 'PTR'],\n",
       " ['ARR', 'PTR', 'ARR'],\n",
       " ['ARR', 'PTR', 'STRUCT'],\n",
       " ['ARR', 'PTR', 'UNION'],\n",
       " ['ARR', 'PTR', 'ENUM'],\n",
       " ['ARR', 'PTR', 'FUNC'],\n",
       " ['ARR', 'ARR', 'float'],\n",
       " ['ARR', 'ARR', 'double'],\n",
       " ['ARR', 'ARR', 'long double'],\n",
       " ['ARR', 'ARR', 'char'],\n",
       " ['ARR', 'ARR', 'short'],\n",
       " ['ARR', 'ARR', 'int32'],\n",
       " ['ARR', 'ARR', 'int64'],\n",
       " ['ARR', 'ARR', 'int128'],\n",
       " ['ARR', 'ARR', 'uchar'],\n",
       " ['ARR', 'ARR', 'ushort'],\n",
       " ['ARR', 'ARR', 'uint32'],\n",
       " ['ARR', 'ARR', 'uint64'],\n",
       " ['ARR', 'ARR', 'uint128'],\n",
       " ['ARR', 'ARR', 'void'],\n",
       " ['ARR', 'ARR', 'PTR'],\n",
       " ['ARR', 'ARR', 'ARR'],\n",
       " ['ARR', 'ARR', 'STRUCT'],\n",
       " ['ARR', 'ARR', 'UNION'],\n",
       " ['ARR', 'ARR', 'ENUM'],\n",
       " ['ARR', 'ARR', 'FUNC'],\n",
       " ['PTR', 'PTR', 'float'],\n",
       " ['PTR', 'PTR', 'double'],\n",
       " ['PTR', 'PTR', 'long double'],\n",
       " ['PTR', 'PTR', 'char'],\n",
       " ['PTR', 'PTR', 'short'],\n",
       " ['PTR', 'PTR', 'int32'],\n",
       " ['PTR', 'PTR', 'int64'],\n",
       " ['PTR', 'PTR', 'int128'],\n",
       " ['PTR', 'PTR', 'uchar'],\n",
       " ['PTR', 'PTR', 'ushort'],\n",
       " ['PTR', 'PTR', 'uint32'],\n",
       " ['PTR', 'PTR', 'uint64'],\n",
       " ['PTR', 'PTR', 'uint128'],\n",
       " ['PTR', 'PTR', 'void'],\n",
       " ['PTR', 'PTR', 'PTR'],\n",
       " ['PTR', 'PTR', 'ARR'],\n",
       " ['PTR', 'PTR', 'STRUCT'],\n",
       " ['PTR', 'PTR', 'UNION'],\n",
       " ['PTR', 'PTR', 'ENUM'],\n",
       " ['PTR', 'PTR', 'FUNC'],\n",
       " ['PTR', 'ARR', 'float'],\n",
       " ['PTR', 'ARR', 'double'],\n",
       " ['PTR', 'ARR', 'long double'],\n",
       " ['PTR', 'ARR', 'char'],\n",
       " ['PTR', 'ARR', 'short'],\n",
       " ['PTR', 'ARR', 'int32'],\n",
       " ['PTR', 'ARR', 'int64'],\n",
       " ['PTR', 'ARR', 'int128'],\n",
       " ['PTR', 'ARR', 'uchar'],\n",
       " ['PTR', 'ARR', 'ushort'],\n",
       " ['PTR', 'ARR', 'uint32'],\n",
       " ['PTR', 'ARR', 'uint64'],\n",
       " ['PTR', 'ARR', 'uint128'],\n",
       " ['PTR', 'ARR', 'void'],\n",
       " ['PTR', 'ARR', 'PTR'],\n",
       " ['PTR', 'ARR', 'ARR'],\n",
       " ['PTR', 'ARR', 'STRUCT'],\n",
       " ['PTR', 'ARR', 'UNION'],\n",
       " ['PTR', 'ARR', 'ENUM'],\n",
       " ['PTR', 'ARR', 'FUNC']]"
      ]
     },
     "execution_count": 16,
     "metadata": {},
     "output_type": "execute_result"
    }
   ],
   "source": [
    "third_level_classes = []\n",
    "for sln in second_level_nonterminals:\n",
    "    for x in all_names:\n",
    "        third_level_classes.append([*sln, x])\n",
    "third_level_classes"
   ]
  },
  {
   "cell_type": "code",
   "execution_count": null,
   "metadata": {},
   "outputs": [
    {
     "data": {
      "text/plain": [
       "[['ARR', 'PTR', 'PTR'],\n",
       " ['ARR', 'PTR', 'ARR'],\n",
       " ['ARR', 'ARR', 'PTR'],\n",
       " ['ARR', 'ARR', 'ARR'],\n",
       " ['PTR', 'PTR', 'PTR'],\n",
       " ['PTR', 'PTR', 'ARR'],\n",
       " ['PTR', 'ARR', 'PTR'],\n",
       " ['PTR', 'ARR', 'ARR']]"
      ]
     },
     "execution_count": 20,
     "metadata": {},
     "output_type": "execute_result"
    }
   ],
   "source": [
    "[x for x in third_level_classes if x[-1] not in terminals]"
   ]
  },
  {
   "cell_type": "code",
   "execution_count": null,
   "metadata": {},
   "outputs": [
    {
     "data": {
      "text/plain": [
       "20"
      ]
     },
     "execution_count": 17,
     "metadata": {},
     "output_type": "execute_result"
    }
   ],
   "source": [
    "len(all_names)"
   ]
  },
  {
   "cell_type": "code",
   "execution_count": null,
   "metadata": {},
   "outputs": [
    {
     "data": {
      "text/plain": [
       "40"
      ]
     },
     "execution_count": 18,
     "metadata": {},
     "output_type": "execute_result"
    }
   ],
   "source": [
    "len(second_level_classes)"
   ]
  },
  {
   "cell_type": "code",
   "execution_count": null,
   "metadata": {},
   "outputs": [
    {
     "data": {
      "text/plain": [
       "80"
      ]
     },
     "execution_count": 19,
     "metadata": {},
     "output_type": "execute_result"
    }
   ],
   "source": [
    "len(third_level_classes)"
   ]
  }
 ],
 "metadata": {
  "kernelspec": {
   "display_name": "phd",
   "language": "python",
   "name": "python3"
  },
  "language_info": {
   "codemirror_mode": {
    "name": "ipython",
    "version": 3
   },
   "file_extension": ".py",
   "mimetype": "text/x-python",
   "name": "python",
   "nbconvert_exporter": "python",
   "pygments_lexer": "ipython3",
   "version": "3.8.10"
  }
 },
 "nbformat": 4,
 "nbformat_minor": 2
}
