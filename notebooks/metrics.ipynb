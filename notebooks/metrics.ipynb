{
 "cells": [
  {
   "cell_type": "code",
   "execution_count": 1,
   "metadata": {},
   "outputs": [],
   "source": [
    "from pathlib import Path\n",
    "import torch\n",
    "from datatype_recovery.models.dataset import load_dataset_from_path\n",
    "\n",
    "\n",
    "model_path = Path.home()/'trained_models/structural_4out_4hops_comp.pt'\n",
    "dataset_path = Path.home()/'trainset_astera_5hops_nocomp'\n",
    "dataset = load_dataset_from_path(dataset_path)\n",
    "\n",
    "model = torch.load(model_path)"
   ]
  },
  {
   "cell_type": "code",
   "execution_count": 2,
   "metadata": {},
   "outputs": [
    {
     "name": "stdout",
     "output_type": "stream",
     "text": [
      "['PTR', 'STRUCT', '<EMPTY>', '<EMPTY>']\n"
     ]
    },
    {
     "data": {
      "text/plain": [
       "torch.Size([1, 22, 4])"
      ]
     },
     "execution_count": 2,
     "metadata": {},
     "output_type": "execute_result"
    }
   ],
   "source": [
    "from torch_geometric.loader import DataLoader\n",
    "from datatype_recovery.models.dataset.encoding import *\n",
    "\n",
    "transform = ToFixedLengthTypeSeq(fixed_len=4)\n",
    "dataset.transform = transform\n",
    "\n",
    "# encode_typeseq(['<EMPTY>']*num_empty_slots)\n",
    "# extended = torch.cat((dataset[1].y, encode_typeseq(['<EMPTY>']*num_empty_slots)), dim=2)\n",
    "# decode_typeseq(dataset[1].y)\n",
    "# decode_typeseq(extended)\n",
    "print(decode_typeseq(dataset[12].y))\n",
    "# dataset.transform = None\n",
    "\n",
    "decode_typeseq(dataset[1].y)\n",
    "dataset[1].y.shape"
   ]
  },
  {
   "cell_type": "code",
   "execution_count": 3,
   "metadata": {},
   "outputs": [
    {
     "name": "stdout",
     "output_type": "stream",
     "text": [
      "torch.Size([22, 4])\n",
      "['ARR', 'uchar', '<EMPTY>', '<EMPTY>']\n",
      "['ARR', 'uchar', '<EMPTY>', '<EMPTY>']\n",
      "['int32', '<EMPTY>', '<EMPTY>', '<EMPTY>']\n"
     ]
    }
   ],
   "source": [
    "model.eval()\n",
    "\n",
    "loader = DataLoader(dataset, batch_size=2)\n",
    "\n",
    "iterable = loader.__iter__()\n",
    "# iterable = iter(loader)\n",
    "data = next(iterable)\n",
    "# data.y.argmax(dim=1)\n",
    "# data = next(iterable)\n",
    "# data = next(iterable)\n",
    "# data = next(iterable)\n",
    "# data = next(iterable)\n",
    "# data.y.T.argmax(dim=0)\n",
    "# data.y.T.argmax(dim=0)\n",
    "# data.y.T[None,:,:]\n",
    "\n",
    "# decode_typeseq(encode_typeseq(decode_typeseq(data.y)))\n",
    "print(data.y[0].shape)\n",
    "print(decode_typeseq(data.y[0]))\n",
    "# torch.cat(x for x in data.y)\n",
    "decode_typeseq(data.y[0][None,:,:])\n",
    "data.y[0].argmax(dim=data.y[0].dim()-2)\n",
    "# decode_typeseq(data.y)\n",
    "for yy in data.y:\n",
    "    print(decode_typeseq(yy))"
   ]
  },
  {
   "cell_type": "code",
   "execution_count": 4,
   "metadata": {},
   "outputs": [
    {
     "name": "stdout",
     "output_type": "stream",
     "text": [
      "torch.Size([2, 22, 4])\n",
      "tensor([12, 16, 16, 16])\n",
      "['uint128', 'STRUCT', 'STRUCT', 'STRUCT']\n",
      "tensor([12, 16, 16, 16])\n",
      "['uint128', 'STRUCT', 'STRUCT', 'STRUCT']\n"
     ]
    },
    {
     "data": {
      "text/plain": [
       "tensor([[-0.0572, -0.0158, -0.0904,  0.0697],\n",
       "        [-0.0031,  0.0420,  0.0409, -0.0602],\n",
       "        [-0.0453,  0.0579,  0.0026, -0.0612],\n",
       "        [ 0.0658, -0.0566, -0.0207,  0.0261],\n",
       "        [ 0.0212,  0.0070,  0.0036,  0.0525],\n",
       "        [ 0.0640, -0.0095, -0.0410,  0.0605],\n",
       "        [-0.0456,  0.0476,  0.0548, -0.0082],\n",
       "        [-0.0230,  0.0271,  0.0400, -0.0312],\n",
       "        [-0.0829,  0.0594,  0.0160, -0.0709],\n",
       "        [ 0.0545, -0.0064, -0.0474,  0.0629],\n",
       "        [-0.0919, -0.1007, -0.0173, -0.0193],\n",
       "        [-0.0032,  0.0198, -0.0029, -0.0310],\n",
       "        [ 0.0822, -0.0373, -0.0696,  0.0583],\n",
       "        [ 0.0337, -0.0559,  0.0562,  0.0350],\n",
       "        [ 0.0223, -0.0642,  0.0329, -0.0584],\n",
       "        [-0.0308,  0.0056, -0.0787, -0.0398],\n",
       "        [-0.0585,  0.0931,  0.0767,  0.0841],\n",
       "        [-0.0352, -0.0783, -0.0459, -0.0302],\n",
       "        [ 0.0491, -0.0007, -0.0167,  0.0202],\n",
       "        [-0.0506, -0.0323, -0.0780, -0.0264],\n",
       "        [-0.0840,  0.0506, -0.0590, -0.0418],\n",
       "        [-0.0400,  0.0498, -0.0184,  0.0236]], grad_fn=<SelectBackward0>)"
      ]
     },
     "execution_count": 4,
     "metadata": {},
     "output_type": "execute_result"
    }
   ],
   "source": [
    "\n",
    "\n",
    "out = model(data.x, data.edge_index, data.batch)\n",
    "\n",
    "\n",
    "print(out.shape)\n",
    "for pred in out.argmax(dim=1):\n",
    "    print(pred)\n",
    "    print([type_seq_names[i] for i in pred])\n",
    "\n",
    "out.argmax(dim=1)\n",
    "out.max(dim=1).values\n",
    "out[0]"
   ]
  },
  {
   "cell_type": "code",
   "execution_count": 5,
   "metadata": {},
   "outputs": [],
   "source": [
    "# Link: https://pytorch.org/docs/stable/generated/torch.nn.CrossEntropyLoss.html\n",
    "# TODO: I think per link above we need to return a 3d tensor from our model\n",
    "# of shape: (batch_size, num_classes, [max_]seq_len)\n",
    "#\n",
    "# - while it seems to be working as-is (and the math probably works out since I'm\n",
    "#   doing things consistently \"wrong\" lol), it would be better to just use the\n",
    "#   expected dimensionality. Not only for CrossEntropy itself, but downstream functions\n",
    "#   now do NOT need to know the max_seq_len - just take the final dimension (# cols)\n",
    "\n",
    "# TODO: change the model to return this instead\n",
    "# --> also update the decode funcs etc...\n",
    "# return logits.view((batch_size, self.num_classes, self.max_seq_len))"
   ]
  },
  {
   "cell_type": "code",
   "execution_count": 6,
   "metadata": {},
   "outputs": [],
   "source": [
    "# TODO: - all this logic needs to end up in encoding.py\n",
    "all_names = type_seq_names.copy()\n",
    "\n",
    "nonterminals = ['ARR','PTR']    # <EMPTY>?\n",
    "\n",
    "INCLUDE_COMP = False\n",
    "INCLUDE_EMPTY = False\n",
    "\n",
    "special = []\n",
    "if INCLUDE_EMPTY:\n",
    "    special.append('<EMPTY>')\n",
    "else:\n",
    "    all_names.remove('<EMPTY>')\n",
    "\n",
    "if INCLUDE_COMP:\n",
    "    special.append('COMP')\n",
    "else:\n",
    "    all_names.remove('COMP')\n",
    "\n",
    "aggregates = ['STRUCT', 'UNION', 'FUNC', *nonterminals]\n",
    "\n",
    "non_primitives = [*aggregates, *special, *nonterminals]\n",
    "primitives = [x for x in all_names if x not in non_primitives]\n",
    "terminals = [x for x in all_names if x not in nonterminals]"
   ]
  },
  {
   "cell_type": "code",
   "execution_count": 7,
   "metadata": {},
   "outputs": [
    {
     "data": {
      "text/plain": [
       "['float',\n",
       " 'double',\n",
       " 'long double',\n",
       " 'char',\n",
       " 'short',\n",
       " 'int32',\n",
       " 'int64',\n",
       " 'int128',\n",
       " 'uchar',\n",
       " 'ushort',\n",
       " 'uint32',\n",
       " 'uint64',\n",
       " 'uint128',\n",
       " 'void',\n",
       " 'STRUCT',\n",
       " 'UNION',\n",
       " 'ENUM',\n",
       " 'FUNC']"
      ]
     },
     "execution_count": 7,
     "metadata": {},
     "output_type": "execute_result"
    }
   ],
   "source": [
    "\n",
    "terminals"
   ]
  },
  {
   "cell_type": "code",
   "execution_count": 8,
   "metadata": {},
   "outputs": [
    {
     "data": {
      "text/plain": [
       "['ARR', 'PTR']"
      ]
     },
     "execution_count": 8,
     "metadata": {},
     "output_type": "execute_result"
    }
   ],
   "source": [
    "nonterminals"
   ]
  },
  {
   "cell_type": "code",
   "execution_count": 9,
   "metadata": {},
   "outputs": [
    {
     "data": {
      "text/plain": [
       "['STRUCT', 'UNION', 'FUNC', 'ARR', 'PTR', 'ARR', 'PTR']"
      ]
     },
     "execution_count": 9,
     "metadata": {},
     "output_type": "execute_result"
    }
   ],
   "source": [
    "non_primitives"
   ]
  },
  {
   "cell_type": "code",
   "execution_count": 10,
   "metadata": {},
   "outputs": [
    {
     "data": {
      "text/plain": [
       "['STRUCT', 'UNION', 'FUNC', 'ARR', 'PTR']"
      ]
     },
     "execution_count": 10,
     "metadata": {},
     "output_type": "execute_result"
    }
   ],
   "source": [
    "aggregates"
   ]
  },
  {
   "cell_type": "code",
   "execution_count": 11,
   "metadata": {},
   "outputs": [
    {
     "data": {
      "text/plain": [
       "[]"
      ]
     },
     "execution_count": 11,
     "metadata": {},
     "output_type": "execute_result"
    }
   ],
   "source": [
    "special"
   ]
  },
  {
   "cell_type": "code",
   "execution_count": 12,
   "metadata": {},
   "outputs": [
    {
     "data": {
      "text/plain": [
       "['float',\n",
       " 'double',\n",
       " 'long double',\n",
       " 'char',\n",
       " 'short',\n",
       " 'int32',\n",
       " 'int64',\n",
       " 'int128',\n",
       " 'uchar',\n",
       " 'ushort',\n",
       " 'uint32',\n",
       " 'uint64',\n",
       " 'uint128',\n",
       " 'void',\n",
       " 'STRUCT',\n",
       " 'UNION',\n",
       " 'ENUM',\n",
       " 'FUNC']"
      ]
     },
     "execution_count": 12,
     "metadata": {},
     "output_type": "execute_result"
    }
   ],
   "source": [
    "terminals"
   ]
  },
  {
   "cell_type": "code",
   "execution_count": 13,
   "metadata": {},
   "outputs": [
    {
     "data": {
      "text/plain": [
       "20"
      ]
     },
     "execution_count": 13,
     "metadata": {},
     "output_type": "execute_result"
    }
   ],
   "source": [
    "# 1-level\n",
    "nonterminals\n",
    "single_level_count = len(terminals) + len(nonterminals)\n",
    "single_level_count\n",
    "len(all_names)"
   ]
  },
  {
   "cell_type": "code",
   "execution_count": 14,
   "metadata": {},
   "outputs": [
    {
     "name": "stdout",
     "output_type": "stream",
     "text": [
      "19 possible (valid) classes for 1-element type sequences\n",
      "58 possible (valid) classes for 2-element type sequences\n",
      "136 possible (valid) classes for 3-element type sequences\n",
      "292 possible (valid) classes for 4-element type sequences\n"
     ]
    }
   ],
   "source": [
    "def get_all_possible_classes_for_seq_len(seq_len:int) -> List[List[str]]:\n",
    "    all_classes = []\n",
    "    prev_nts = []\n",
    "\n",
    "    for level_idx in range(seq_len):\n",
    "        current_level = [[x] for x in all_names]\n",
    "        if prev_nts:\n",
    "            for pnt in prev_nts:\n",
    "                # add this level to nonterminals from prev level\n",
    "                all_classes.extend([[*pnt, *x] for x in current_level])\n",
    "        else:\n",
    "            all_classes = current_level\n",
    "\n",
    "        current_nts = []\n",
    "        for x in all_classes:\n",
    "            if x[-1] in nonterminals and len(x) == level_idx+1:\n",
    "                current_nts.append(x.copy())\n",
    "        prev_nts = current_nts\n",
    "\n",
    "    # filter out invalid FUNC combos\n",
    "    filtered_classes = []\n",
    "    for x in all_classes:\n",
    "        if 'FUNC' in x:\n",
    "            fidx = x.index('FUNC')\n",
    "            # don't allow FUNC to appear first\n",
    "            if fidx > 0:\n",
    "                # only allow FUNC to follow PTR\n",
    "                if x[fidx - 1] == 'PTR':\n",
    "                    filtered_classes.append(x)\n",
    "        else:\n",
    "            filtered_classes.append(x)\n",
    "\n",
    "    return filtered_classes\n",
    "\n",
    "for i in range(1, 5):\n",
    "    print(f'{len(get_all_possible_classes_for_seq_len(i)):,} possible (valid) classes for {i}-element type sequences')"
   ]
  },
  {
   "cell_type": "code",
   "execution_count": 15,
   "metadata": {},
   "outputs": [
    {
     "data": {
      "text/plain": [
       "['float',\n",
       " 'double',\n",
       " 'long double',\n",
       " 'char',\n",
       " 'short',\n",
       " 'int32',\n",
       " 'int64',\n",
       " 'int128',\n",
       " 'uchar',\n",
       " 'ushort',\n",
       " 'uint32',\n",
       " 'uint64',\n",
       " 'uint128',\n",
       " 'void',\n",
       " 'PTR',\n",
       " 'ARR',\n",
       " 'STRUCT',\n",
       " 'UNION',\n",
       " 'ENUM',\n",
       " 'PTR,float',\n",
       " 'PTR,double',\n",
       " 'PTR,long double',\n",
       " 'PTR,char',\n",
       " 'PTR,short',\n",
       " 'PTR,int32',\n",
       " 'PTR,int64',\n",
       " 'PTR,int128',\n",
       " 'PTR,uchar',\n",
       " 'PTR,ushort',\n",
       " 'PTR,uint32',\n",
       " 'PTR,uint64',\n",
       " 'PTR,uint128',\n",
       " 'PTR,void',\n",
       " 'PTR,PTR',\n",
       " 'PTR,ARR',\n",
       " 'PTR,STRUCT',\n",
       " 'PTR,UNION',\n",
       " 'PTR,ENUM',\n",
       " 'PTR,FUNC',\n",
       " 'ARR,float',\n",
       " 'ARR,double',\n",
       " 'ARR,long double',\n",
       " 'ARR,char',\n",
       " 'ARR,short',\n",
       " 'ARR,int32',\n",
       " 'ARR,int64',\n",
       " 'ARR,int128',\n",
       " 'ARR,uchar',\n",
       " 'ARR,ushort',\n",
       " 'ARR,uint32',\n",
       " 'ARR,uint64',\n",
       " 'ARR,uint128',\n",
       " 'ARR,void',\n",
       " 'ARR,PTR',\n",
       " 'ARR,ARR',\n",
       " 'ARR,STRUCT',\n",
       " 'ARR,UNION',\n",
       " 'ARR,ENUM']"
      ]
     },
     "execution_count": 15,
     "metadata": {},
     "output_type": "execute_result"
    }
   ],
   "source": [
    "[','.join(x) for x in get_all_possible_classes_for_seq_len(2)]"
   ]
  },
  {
   "cell_type": "code",
   "execution_count": 16,
   "metadata": {},
   "outputs": [
    {
     "name": "stdout",
     "output_type": "stream",
     "text": [
      "void*[]\n",
      "STRUCT\n"
     ]
    }
   ],
   "source": [
    "from varlib.datatype import *\n",
    "\n",
    "print(ArrayType(PointerType(BuiltinType.create_void_type(), pointer_size=4), None))\n",
    "[','.join(x) for x in get_all_possible_classes_for_seq_len(1)]\n",
    "print(StructType(db=None,name='STRUCT'))"
   ]
  },
  {
   "cell_type": "code",
   "execution_count": 17,
   "metadata": {},
   "outputs": [
    {
     "name": "stdout",
     "output_type": "stream",
     "text": [
      "(FUNC)()\n"
     ]
    }
   ],
   "source": [
    "print(FunctionType(None, [], name=DataTypeCategories.Function))"
   ]
  },
  {
   "cell_type": "code",
   "execution_count": 18,
   "metadata": {},
   "outputs": [],
   "source": [
    "std_names = BuiltinType.get_std_names()\n",
    "\n",
    "# NOTE: I just realized, I think I can also just use this\n",
    "# for applying the \"corrections\" at the output :)\n",
    "\n",
    "def datatype_from_typeseq(typeseq:List[str]) -> DataType:\n",
    "    return datatype_from_type_element(typeseq[0], typeseq[1:])\n",
    "\n",
    "def datatype_from_type_element(type_element:str, remaining_seq:List[str]) -> DataType:\n",
    "    if type_element in std_names:\n",
    "        return BuiltinType.from_standard_name(type_element)\n",
    "    elif type_element == DataTypeCategories.Enum:\n",
    "        return EnumType(DataTypeCategories.Enum)\n",
    "    elif type_element == DataTypeCategories.Function:\n",
    "        return FunctionType(None, [], name=DataTypeCategories.Function)\n",
    "    elif type_element == DataTypeCategories.Struct:\n",
    "        return StructType(db=None, name=DataTypeCategories.Struct)\n",
    "    elif type_element == DataTypeCategories.Union:\n",
    "        return UnionType(db=None, name=DataTypeCategories.Union)\n",
    "    elif type_element == DataTypeCategories.Pointer:\n",
    "        pointed_to = None\n",
    "        if remaining_seq:\n",
    "            pointed_to = datatype_from_type_element(remaining_seq[0], remaining_seq[1:])\n",
    "        return PointerType(pointed_to, pointer_size=8)      # pointer size doesn't matter for this, just defaulting to 8B\n",
    "    elif type_element == DataTypeCategories.Array:\n",
    "        element_type = None\n",
    "        if remaining_seq:\n",
    "            element_type = datatype_from_type_element(remaining_seq[0], remaining_seq[1:])\n",
    "        return ArrayType(element_type, num_elements=None)  # we don't have access to array dimension sizes here\n"
   ]
  },
  {
   "cell_type": "code",
   "execution_count": 19,
   "metadata": {},
   "outputs": [
    {
     "name": "stdout",
     "output_type": "stream",
     "text": [
      "PTR,FUNC\t(*FUNC)()\n",
      "PTR,PTR,FUNC\t(**FUNC)()\n",
      "ARR,PTR,FUNC\t(*FUNC)()[]\n",
      "PTR,PTR,PTR,FUNC\t(***FUNC)()\n",
      "PTR,ARR,PTR,FUNC\t(*FUNC)()[]*\n",
      "ARR,PTR,PTR,FUNC\t(**FUNC)()[]\n",
      "ARR,ARR,PTR,FUNC\t(*FUNC)()[][]\n"
     ]
    }
   ],
   "source": [
    "csv_list = [(','.join(x), str(datatype_from_typeseq(x))) for x in get_all_possible_classes_for_seq_len(4)]\n",
    "func_types = []\n",
    "for entry in csv_list:\n",
    "    if 'FUNC' in entry[0]:\n",
    "        func_types.append(entry)\n",
    "        print('\\t'.join(entry))\n"
   ]
  },
  {
   "cell_type": "code",
   "execution_count": 21,
   "metadata": {},
   "outputs": [
    {
     "name": "stdout",
     "output_type": "stream",
     "text": [
      "float\tfloat\n",
      "double\tdouble\n",
      "long double\tlong double\n",
      "char\tchar\n",
      "short\tshort\n",
      "int32\tint32\n",
      "int64\tint64\n",
      "int128\tint128\n",
      "uchar\tuchar\n",
      "ushort\tushort\n",
      "uint32\tuint32\n",
      "uint64\tuint64\n",
      "uint128\tuint128\n",
      "void\tvoid\n",
      "PTR\t*\n",
      "ARR\t[]\n",
      "STRUCT\tSTRUCT\n",
      "UNION\tUNION\n",
      "ENUM\tENUM\n",
      "PTR,float\tfloat*\n",
      "PTR,double\tdouble*\n",
      "PTR,long double\tlong double*\n",
      "PTR,char\tchar*\n",
      "PTR,short\tshort*\n",
      "PTR,int32\tint32*\n",
      "PTR,int64\tint64*\n",
      "PTR,int128\tint128*\n",
      "PTR,uchar\tuchar*\n",
      "PTR,ushort\tushort*\n",
      "PTR,uint32\tuint32*\n",
      "PTR,uint64\tuint64*\n",
      "PTR,uint128\tuint128*\n",
      "PTR,void\tvoid*\n",
      "PTR,PTR\t**\n",
      "PTR,ARR\t[]*\n",
      "PTR,STRUCT\tSTRUCT*\n",
      "PTR,UNION\tUNION*\n",
      "PTR,ENUM\tENUM*\n",
      "PTR,FUNC\t(*FUNC)()\n",
      "ARR,float\tfloat[]\n",
      "ARR,double\tdouble[]\n",
      "ARR,long double\tlong double[]\n",
      "ARR,char\tchar[]\n",
      "ARR,short\tshort[]\n",
      "ARR,int32\tint32[]\n",
      "ARR,int64\tint64[]\n",
      "ARR,int128\tint128[]\n",
      "ARR,uchar\tuchar[]\n",
      "ARR,ushort\tushort[]\n",
      "ARR,uint32\tuint32[]\n",
      "ARR,uint64\tuint64[]\n",
      "ARR,uint128\tuint128[]\n",
      "ARR,void\tvoid[]\n",
      "ARR,PTR\t*[]\n",
      "ARR,ARR\t[][]\n",
      "ARR,STRUCT\tSTRUCT[]\n",
      "ARR,UNION\tUNION[]\n",
      "ARR,ENUM\tENUM[]\n",
      "PTR,PTR,float\tfloat**\n",
      "PTR,PTR,double\tdouble**\n",
      "PTR,PTR,long double\tlong double**\n",
      "PTR,PTR,char\tchar**\n",
      "PTR,PTR,short\tshort**\n",
      "PTR,PTR,int32\tint32**\n",
      "PTR,PTR,int64\tint64**\n",
      "PTR,PTR,int128\tint128**\n",
      "PTR,PTR,uchar\tuchar**\n",
      "PTR,PTR,ushort\tushort**\n",
      "PTR,PTR,uint32\tuint32**\n",
      "PTR,PTR,uint64\tuint64**\n",
      "PTR,PTR,uint128\tuint128**\n",
      "PTR,PTR,void\tvoid**\n",
      "PTR,PTR,PTR\t***\n",
      "PTR,PTR,ARR\t[]**\n",
      "PTR,PTR,STRUCT\tSTRUCT**\n",
      "PTR,PTR,UNION\tUNION**\n",
      "PTR,PTR,ENUM\tENUM**\n",
      "PTR,PTR,FUNC\t(**FUNC)()\n",
      "PTR,ARR,float\tfloat[]*\n",
      "PTR,ARR,double\tdouble[]*\n",
      "PTR,ARR,long double\tlong double[]*\n",
      "PTR,ARR,char\tchar[]*\n",
      "PTR,ARR,short\tshort[]*\n",
      "PTR,ARR,int32\tint32[]*\n",
      "PTR,ARR,int64\tint64[]*\n",
      "PTR,ARR,int128\tint128[]*\n",
      "PTR,ARR,uchar\tuchar[]*\n",
      "PTR,ARR,ushort\tushort[]*\n",
      "PTR,ARR,uint32\tuint32[]*\n",
      "PTR,ARR,uint64\tuint64[]*\n",
      "PTR,ARR,uint128\tuint128[]*\n",
      "PTR,ARR,void\tvoid[]*\n",
      "PTR,ARR,PTR\t*[]*\n",
      "PTR,ARR,ARR\t[][]*\n",
      "PTR,ARR,STRUCT\tSTRUCT[]*\n",
      "PTR,ARR,UNION\tUNION[]*\n",
      "PTR,ARR,ENUM\tENUM[]*\n",
      "ARR,PTR,float\tfloat*[]\n",
      "ARR,PTR,double\tdouble*[]\n",
      "ARR,PTR,long double\tlong double*[]\n",
      "ARR,PTR,char\tchar*[]\n",
      "ARR,PTR,short\tshort*[]\n",
      "ARR,PTR,int32\tint32*[]\n",
      "ARR,PTR,int64\tint64*[]\n",
      "ARR,PTR,int128\tint128*[]\n",
      "ARR,PTR,uchar\tuchar*[]\n",
      "ARR,PTR,ushort\tushort*[]\n",
      "ARR,PTR,uint32\tuint32*[]\n",
      "ARR,PTR,uint64\tuint64*[]\n",
      "ARR,PTR,uint128\tuint128*[]\n",
      "ARR,PTR,void\tvoid*[]\n",
      "ARR,PTR,PTR\t**[]\n",
      "ARR,PTR,ARR\t[]*[]\n",
      "ARR,PTR,STRUCT\tSTRUCT*[]\n",
      "ARR,PTR,UNION\tUNION*[]\n",
      "ARR,PTR,ENUM\tENUM*[]\n",
      "ARR,PTR,FUNC\t(*FUNC)()[]\n",
      "ARR,ARR,float\tfloat[][]\n",
      "ARR,ARR,double\tdouble[][]\n",
      "ARR,ARR,long double\tlong double[][]\n",
      "ARR,ARR,char\tchar[][]\n",
      "ARR,ARR,short\tshort[][]\n",
      "ARR,ARR,int32\tint32[][]\n",
      "ARR,ARR,int64\tint64[][]\n",
      "ARR,ARR,int128\tint128[][]\n",
      "ARR,ARR,uchar\tuchar[][]\n",
      "ARR,ARR,ushort\tushort[][]\n",
      "ARR,ARR,uint32\tuint32[][]\n",
      "ARR,ARR,uint64\tuint64[][]\n",
      "ARR,ARR,uint128\tuint128[][]\n",
      "ARR,ARR,void\tvoid[][]\n",
      "ARR,ARR,PTR\t*[][]\n",
      "ARR,ARR,ARR\t[][][]\n",
      "ARR,ARR,STRUCT\tSTRUCT[][]\n",
      "ARR,ARR,UNION\tUNION[][]\n",
      "ARR,ARR,ENUM\tENUM[][]\n",
      "PTR,PTR,PTR,float\tfloat***\n",
      "PTR,PTR,PTR,double\tdouble***\n",
      "PTR,PTR,PTR,long double\tlong double***\n",
      "PTR,PTR,PTR,char\tchar***\n",
      "PTR,PTR,PTR,short\tshort***\n",
      "PTR,PTR,PTR,int32\tint32***\n",
      "PTR,PTR,PTR,int64\tint64***\n",
      "PTR,PTR,PTR,int128\tint128***\n",
      "PTR,PTR,PTR,uchar\tuchar***\n",
      "PTR,PTR,PTR,ushort\tushort***\n",
      "PTR,PTR,PTR,uint32\tuint32***\n",
      "PTR,PTR,PTR,uint64\tuint64***\n",
      "PTR,PTR,PTR,uint128\tuint128***\n",
      "PTR,PTR,PTR,void\tvoid***\n",
      "PTR,PTR,PTR,PTR\t****\n",
      "PTR,PTR,PTR,ARR\t[]***\n",
      "PTR,PTR,PTR,STRUCT\tSTRUCT***\n",
      "PTR,PTR,PTR,UNION\tUNION***\n",
      "PTR,PTR,PTR,ENUM\tENUM***\n",
      "PTR,PTR,PTR,FUNC\t(***FUNC)()\n",
      "PTR,PTR,ARR,float\tfloat[]**\n",
      "PTR,PTR,ARR,double\tdouble[]**\n",
      "PTR,PTR,ARR,long double\tlong double[]**\n",
      "PTR,PTR,ARR,char\tchar[]**\n",
      "PTR,PTR,ARR,short\tshort[]**\n",
      "PTR,PTR,ARR,int32\tint32[]**\n",
      "PTR,PTR,ARR,int64\tint64[]**\n",
      "PTR,PTR,ARR,int128\tint128[]**\n",
      "PTR,PTR,ARR,uchar\tuchar[]**\n",
      "PTR,PTR,ARR,ushort\tushort[]**\n",
      "PTR,PTR,ARR,uint32\tuint32[]**\n",
      "PTR,PTR,ARR,uint64\tuint64[]**\n",
      "PTR,PTR,ARR,uint128\tuint128[]**\n",
      "PTR,PTR,ARR,void\tvoid[]**\n",
      "PTR,PTR,ARR,PTR\t*[]**\n",
      "PTR,PTR,ARR,ARR\t[][]**\n",
      "PTR,PTR,ARR,STRUCT\tSTRUCT[]**\n",
      "PTR,PTR,ARR,UNION\tUNION[]**\n",
      "PTR,PTR,ARR,ENUM\tENUM[]**\n",
      "PTR,ARR,PTR,float\tfloat*[]*\n",
      "PTR,ARR,PTR,double\tdouble*[]*\n",
      "PTR,ARR,PTR,long double\tlong double*[]*\n",
      "PTR,ARR,PTR,char\tchar*[]*\n",
      "PTR,ARR,PTR,short\tshort*[]*\n",
      "PTR,ARR,PTR,int32\tint32*[]*\n",
      "PTR,ARR,PTR,int64\tint64*[]*\n",
      "PTR,ARR,PTR,int128\tint128*[]*\n",
      "PTR,ARR,PTR,uchar\tuchar*[]*\n",
      "PTR,ARR,PTR,ushort\tushort*[]*\n",
      "PTR,ARR,PTR,uint32\tuint32*[]*\n",
      "PTR,ARR,PTR,uint64\tuint64*[]*\n",
      "PTR,ARR,PTR,uint128\tuint128*[]*\n",
      "PTR,ARR,PTR,void\tvoid*[]*\n",
      "PTR,ARR,PTR,PTR\t**[]*\n",
      "PTR,ARR,PTR,ARR\t[]*[]*\n",
      "PTR,ARR,PTR,STRUCT\tSTRUCT*[]*\n",
      "PTR,ARR,PTR,UNION\tUNION*[]*\n",
      "PTR,ARR,PTR,ENUM\tENUM*[]*\n",
      "PTR,ARR,PTR,FUNC\t(*FUNC)()[]*\n",
      "PTR,ARR,ARR,float\tfloat[][]*\n",
      "PTR,ARR,ARR,double\tdouble[][]*\n",
      "PTR,ARR,ARR,long double\tlong double[][]*\n",
      "PTR,ARR,ARR,char\tchar[][]*\n",
      "PTR,ARR,ARR,short\tshort[][]*\n",
      "PTR,ARR,ARR,int32\tint32[][]*\n",
      "PTR,ARR,ARR,int64\tint64[][]*\n",
      "PTR,ARR,ARR,int128\tint128[][]*\n",
      "PTR,ARR,ARR,uchar\tuchar[][]*\n",
      "PTR,ARR,ARR,ushort\tushort[][]*\n",
      "PTR,ARR,ARR,uint32\tuint32[][]*\n",
      "PTR,ARR,ARR,uint64\tuint64[][]*\n",
      "PTR,ARR,ARR,uint128\tuint128[][]*\n",
      "PTR,ARR,ARR,void\tvoid[][]*\n",
      "PTR,ARR,ARR,PTR\t*[][]*\n",
      "PTR,ARR,ARR,ARR\t[][][]*\n",
      "PTR,ARR,ARR,STRUCT\tSTRUCT[][]*\n",
      "PTR,ARR,ARR,UNION\tUNION[][]*\n",
      "PTR,ARR,ARR,ENUM\tENUM[][]*\n",
      "ARR,PTR,PTR,float\tfloat**[]\n",
      "ARR,PTR,PTR,double\tdouble**[]\n",
      "ARR,PTR,PTR,long double\tlong double**[]\n",
      "ARR,PTR,PTR,char\tchar**[]\n",
      "ARR,PTR,PTR,short\tshort**[]\n",
      "ARR,PTR,PTR,int32\tint32**[]\n",
      "ARR,PTR,PTR,int64\tint64**[]\n",
      "ARR,PTR,PTR,int128\tint128**[]\n",
      "ARR,PTR,PTR,uchar\tuchar**[]\n",
      "ARR,PTR,PTR,ushort\tushort**[]\n",
      "ARR,PTR,PTR,uint32\tuint32**[]\n",
      "ARR,PTR,PTR,uint64\tuint64**[]\n",
      "ARR,PTR,PTR,uint128\tuint128**[]\n",
      "ARR,PTR,PTR,void\tvoid**[]\n",
      "ARR,PTR,PTR,PTR\t***[]\n",
      "ARR,PTR,PTR,ARR\t[]**[]\n",
      "ARR,PTR,PTR,STRUCT\tSTRUCT**[]\n",
      "ARR,PTR,PTR,UNION\tUNION**[]\n",
      "ARR,PTR,PTR,ENUM\tENUM**[]\n",
      "ARR,PTR,PTR,FUNC\t(**FUNC)()[]\n",
      "ARR,PTR,ARR,float\tfloat[]*[]\n",
      "ARR,PTR,ARR,double\tdouble[]*[]\n",
      "ARR,PTR,ARR,long double\tlong double[]*[]\n",
      "ARR,PTR,ARR,char\tchar[]*[]\n",
      "ARR,PTR,ARR,short\tshort[]*[]\n",
      "ARR,PTR,ARR,int32\tint32[]*[]\n",
      "ARR,PTR,ARR,int64\tint64[]*[]\n",
      "ARR,PTR,ARR,int128\tint128[]*[]\n",
      "ARR,PTR,ARR,uchar\tuchar[]*[]\n",
      "ARR,PTR,ARR,ushort\tushort[]*[]\n",
      "ARR,PTR,ARR,uint32\tuint32[]*[]\n",
      "ARR,PTR,ARR,uint64\tuint64[]*[]\n",
      "ARR,PTR,ARR,uint128\tuint128[]*[]\n",
      "ARR,PTR,ARR,void\tvoid[]*[]\n",
      "ARR,PTR,ARR,PTR\t*[]*[]\n",
      "ARR,PTR,ARR,ARR\t[][]*[]\n",
      "ARR,PTR,ARR,STRUCT\tSTRUCT[]*[]\n",
      "ARR,PTR,ARR,UNION\tUNION[]*[]\n",
      "ARR,PTR,ARR,ENUM\tENUM[]*[]\n",
      "ARR,ARR,PTR,float\tfloat*[][]\n",
      "ARR,ARR,PTR,double\tdouble*[][]\n",
      "ARR,ARR,PTR,long double\tlong double*[][]\n",
      "ARR,ARR,PTR,char\tchar*[][]\n",
      "ARR,ARR,PTR,short\tshort*[][]\n",
      "ARR,ARR,PTR,int32\tint32*[][]\n",
      "ARR,ARR,PTR,int64\tint64*[][]\n",
      "ARR,ARR,PTR,int128\tint128*[][]\n",
      "ARR,ARR,PTR,uchar\tuchar*[][]\n",
      "ARR,ARR,PTR,ushort\tushort*[][]\n",
      "ARR,ARR,PTR,uint32\tuint32*[][]\n",
      "ARR,ARR,PTR,uint64\tuint64*[][]\n",
      "ARR,ARR,PTR,uint128\tuint128*[][]\n",
      "ARR,ARR,PTR,void\tvoid*[][]\n",
      "ARR,ARR,PTR,PTR\t**[][]\n",
      "ARR,ARR,PTR,ARR\t[]*[][]\n",
      "ARR,ARR,PTR,STRUCT\tSTRUCT*[][]\n",
      "ARR,ARR,PTR,UNION\tUNION*[][]\n",
      "ARR,ARR,PTR,ENUM\tENUM*[][]\n",
      "ARR,ARR,PTR,FUNC\t(*FUNC)()[][]\n",
      "ARR,ARR,ARR,float\tfloat[][][]\n",
      "ARR,ARR,ARR,double\tdouble[][][]\n",
      "ARR,ARR,ARR,long double\tlong double[][][]\n",
      "ARR,ARR,ARR,char\tchar[][][]\n",
      "ARR,ARR,ARR,short\tshort[][][]\n",
      "ARR,ARR,ARR,int32\tint32[][][]\n",
      "ARR,ARR,ARR,int64\tint64[][][]\n",
      "ARR,ARR,ARR,int128\tint128[][][]\n",
      "ARR,ARR,ARR,uchar\tuchar[][][]\n",
      "ARR,ARR,ARR,ushort\tushort[][][]\n",
      "ARR,ARR,ARR,uint32\tuint32[][][]\n",
      "ARR,ARR,ARR,uint64\tuint64[][][]\n",
      "ARR,ARR,ARR,uint128\tuint128[][][]\n",
      "ARR,ARR,ARR,void\tvoid[][][]\n",
      "ARR,ARR,ARR,PTR\t*[][][]\n",
      "ARR,ARR,ARR,ARR\t[][][][]\n",
      "ARR,ARR,ARR,STRUCT\tSTRUCT[][][]\n",
      "ARR,ARR,ARR,UNION\tUNION[][][]\n",
      "ARR,ARR,ARR,ENUM\tENUM[][][]\n"
     ]
    }
   ],
   "source": [
    "for entry in csv_list:\n",
    "    print('\\t'.join(entry))"
   ]
  },
  {
   "cell_type": "code",
   "execution_count": 20,
   "metadata": {},
   "outputs": [
    {
     "data": {
      "text/plain": [
       "[][]"
      ]
     },
     "execution_count": 20,
     "metadata": {},
     "output_type": "execute_result"
    }
   ],
   "source": [
    "dt_list[-5]"
   ]
  },
  {
   "cell_type": "code",
   "execution_count": 20,
   "metadata": {},
   "outputs": [
    {
     "name": "stdout",
     "output_type": "stream",
     "text": [
      "float\n",
      "double\n",
      "long double\n",
      "char\n",
      "short\n",
      "int32\n",
      "int64\n",
      "int128\n",
      "uchar\n",
      "ushort\n",
      "uint32\n",
      "uint64\n",
      "uint128\n",
      "void\n",
      "*\n",
      "[]\n",
      "STRUCT\n",
      "UNION\n",
      "ENUM\n",
      "(*FUNC)()\n"
     ]
    }
   ],
   "source": [
    "for x in dt_list:\n",
    "    print(x)"
   ]
  },
  {
   "cell_type": "code",
   "execution_count": 36,
   "metadata": {},
   "outputs": [
    {
     "name": "stdout",
     "output_type": "stream",
     "text": [
      "<class 'int'>\n",
      "<class 'int'>\n",
      "<class 'int'>\n"
     ]
    }
   ],
   "source": [
    "for i in range(3):\n",
    "    print(type(i))"
   ]
  },
  {
   "cell_type": "code",
   "execution_count": 30,
   "metadata": {},
   "outputs": [
    {
     "data": {
      "text/plain": [
       "[['float'],\n",
       " ['double'],\n",
       " ['long double'],\n",
       " ['char'],\n",
       " ['short'],\n",
       " ['int32'],\n",
       " ['int64'],\n",
       " ['int128'],\n",
       " ['uchar'],\n",
       " ['ushort'],\n",
       " ['uint32'],\n",
       " ['uint64'],\n",
       " ['uint128'],\n",
       " ['void'],\n",
       " ['STRUCT'],\n",
       " ['UNION'],\n",
       " ['ENUM'],\n",
       " ['FUNC']]"
      ]
     },
     "execution_count": 30,
     "metadata": {},
     "output_type": "execute_result"
    }
   ],
   "source": [
    "all_classes"
   ]
  },
  {
   "cell_type": "code",
   "execution_count": 14,
   "metadata": {},
   "outputs": [
    {
     "data": {
      "text/plain": [
       "[['ARR', 'float'],\n",
       " ['ARR', 'double'],\n",
       " ['ARR', 'long double'],\n",
       " ['ARR', 'char'],\n",
       " ['ARR', 'short'],\n",
       " ['ARR', 'int32'],\n",
       " ['ARR', 'int64'],\n",
       " ['ARR', 'int128'],\n",
       " ['ARR', 'uchar'],\n",
       " ['ARR', 'ushort'],\n",
       " ['ARR', 'uint32'],\n",
       " ['ARR', 'uint64'],\n",
       " ['ARR', 'uint128'],\n",
       " ['ARR', 'void'],\n",
       " ['ARR', 'PTR'],\n",
       " ['ARR', 'ARR'],\n",
       " ['ARR', 'STRUCT'],\n",
       " ['ARR', 'UNION'],\n",
       " ['ARR', 'ENUM'],\n",
       " ['ARR', 'FUNC'],\n",
       " ['PTR', 'float'],\n",
       " ['PTR', 'double'],\n",
       " ['PTR', 'long double'],\n",
       " ['PTR', 'char'],\n",
       " ['PTR', 'short'],\n",
       " ['PTR', 'int32'],\n",
       " ['PTR', 'int64'],\n",
       " ['PTR', 'int128'],\n",
       " ['PTR', 'uchar'],\n",
       " ['PTR', 'ushort'],\n",
       " ['PTR', 'uint32'],\n",
       " ['PTR', 'uint64'],\n",
       " ['PTR', 'uint128'],\n",
       " ['PTR', 'void'],\n",
       " ['PTR', 'PTR'],\n",
       " ['PTR', 'ARR'],\n",
       " ['PTR', 'STRUCT'],\n",
       " ['PTR', 'UNION'],\n",
       " ['PTR', 'ENUM'],\n",
       " ['PTR', 'FUNC']]"
      ]
     },
     "execution_count": 14,
     "metadata": {},
     "output_type": "execute_result"
    }
   ],
   "source": [
    "second_level_classes = []\n",
    "for x in nonterminals:\n",
    "    for y in all_names:\n",
    "        second_level_classes.append([x, y])\n",
    "second_level_classes"
   ]
  },
  {
   "cell_type": "code",
   "execution_count": 15,
   "metadata": {},
   "outputs": [
    {
     "data": {
      "text/plain": [
       "[['ARR', 'PTR'], ['ARR', 'ARR'], ['PTR', 'PTR'], ['PTR', 'ARR']]"
      ]
     },
     "execution_count": 15,
     "metadata": {},
     "output_type": "execute_result"
    }
   ],
   "source": [
    "second_level_nonterminals = [x for x in second_level_classes if x[-1] not in terminals]\n",
    "second_level_nonterminals"
   ]
  },
  {
   "cell_type": "code",
   "execution_count": 16,
   "metadata": {},
   "outputs": [
    {
     "data": {
      "text/plain": [
       "[['ARR', 'PTR', 'float'],\n",
       " ['ARR', 'PTR', 'double'],\n",
       " ['ARR', 'PTR', 'long double'],\n",
       " ['ARR', 'PTR', 'char'],\n",
       " ['ARR', 'PTR', 'short'],\n",
       " ['ARR', 'PTR', 'int32'],\n",
       " ['ARR', 'PTR', 'int64'],\n",
       " ['ARR', 'PTR', 'int128'],\n",
       " ['ARR', 'PTR', 'uchar'],\n",
       " ['ARR', 'PTR', 'ushort'],\n",
       " ['ARR', 'PTR', 'uint32'],\n",
       " ['ARR', 'PTR', 'uint64'],\n",
       " ['ARR', 'PTR', 'uint128'],\n",
       " ['ARR', 'PTR', 'void'],\n",
       " ['ARR', 'PTR', 'PTR'],\n",
       " ['ARR', 'PTR', 'ARR'],\n",
       " ['ARR', 'PTR', 'STRUCT'],\n",
       " ['ARR', 'PTR', 'UNION'],\n",
       " ['ARR', 'PTR', 'ENUM'],\n",
       " ['ARR', 'PTR', 'FUNC'],\n",
       " ['ARR', 'ARR', 'float'],\n",
       " ['ARR', 'ARR', 'double'],\n",
       " ['ARR', 'ARR', 'long double'],\n",
       " ['ARR', 'ARR', 'char'],\n",
       " ['ARR', 'ARR', 'short'],\n",
       " ['ARR', 'ARR', 'int32'],\n",
       " ['ARR', 'ARR', 'int64'],\n",
       " ['ARR', 'ARR', 'int128'],\n",
       " ['ARR', 'ARR', 'uchar'],\n",
       " ['ARR', 'ARR', 'ushort'],\n",
       " ['ARR', 'ARR', 'uint32'],\n",
       " ['ARR', 'ARR', 'uint64'],\n",
       " ['ARR', 'ARR', 'uint128'],\n",
       " ['ARR', 'ARR', 'void'],\n",
       " ['ARR', 'ARR', 'PTR'],\n",
       " ['ARR', 'ARR', 'ARR'],\n",
       " ['ARR', 'ARR', 'STRUCT'],\n",
       " ['ARR', 'ARR', 'UNION'],\n",
       " ['ARR', 'ARR', 'ENUM'],\n",
       " ['ARR', 'ARR', 'FUNC'],\n",
       " ['PTR', 'PTR', 'float'],\n",
       " ['PTR', 'PTR', 'double'],\n",
       " ['PTR', 'PTR', 'long double'],\n",
       " ['PTR', 'PTR', 'char'],\n",
       " ['PTR', 'PTR', 'short'],\n",
       " ['PTR', 'PTR', 'int32'],\n",
       " ['PTR', 'PTR', 'int64'],\n",
       " ['PTR', 'PTR', 'int128'],\n",
       " ['PTR', 'PTR', 'uchar'],\n",
       " ['PTR', 'PTR', 'ushort'],\n",
       " ['PTR', 'PTR', 'uint32'],\n",
       " ['PTR', 'PTR', 'uint64'],\n",
       " ['PTR', 'PTR', 'uint128'],\n",
       " ['PTR', 'PTR', 'void'],\n",
       " ['PTR', 'PTR', 'PTR'],\n",
       " ['PTR', 'PTR', 'ARR'],\n",
       " ['PTR', 'PTR', 'STRUCT'],\n",
       " ['PTR', 'PTR', 'UNION'],\n",
       " ['PTR', 'PTR', 'ENUM'],\n",
       " ['PTR', 'PTR', 'FUNC'],\n",
       " ['PTR', 'ARR', 'float'],\n",
       " ['PTR', 'ARR', 'double'],\n",
       " ['PTR', 'ARR', 'long double'],\n",
       " ['PTR', 'ARR', 'char'],\n",
       " ['PTR', 'ARR', 'short'],\n",
       " ['PTR', 'ARR', 'int32'],\n",
       " ['PTR', 'ARR', 'int64'],\n",
       " ['PTR', 'ARR', 'int128'],\n",
       " ['PTR', 'ARR', 'uchar'],\n",
       " ['PTR', 'ARR', 'ushort'],\n",
       " ['PTR', 'ARR', 'uint32'],\n",
       " ['PTR', 'ARR', 'uint64'],\n",
       " ['PTR', 'ARR', 'uint128'],\n",
       " ['PTR', 'ARR', 'void'],\n",
       " ['PTR', 'ARR', 'PTR'],\n",
       " ['PTR', 'ARR', 'ARR'],\n",
       " ['PTR', 'ARR', 'STRUCT'],\n",
       " ['PTR', 'ARR', 'UNION'],\n",
       " ['PTR', 'ARR', 'ENUM'],\n",
       " ['PTR', 'ARR', 'FUNC']]"
      ]
     },
     "execution_count": 16,
     "metadata": {},
     "output_type": "execute_result"
    }
   ],
   "source": [
    "third_level_classes = []\n",
    "for sln in second_level_nonterminals:\n",
    "    for x in all_names:\n",
    "        third_level_classes.append([*sln, x])\n",
    "third_level_classes"
   ]
  },
  {
   "cell_type": "code",
   "execution_count": 20,
   "metadata": {},
   "outputs": [
    {
     "data": {
      "text/plain": [
       "[['ARR', 'PTR', 'PTR'],\n",
       " ['ARR', 'PTR', 'ARR'],\n",
       " ['ARR', 'ARR', 'PTR'],\n",
       " ['ARR', 'ARR', 'ARR'],\n",
       " ['PTR', 'PTR', 'PTR'],\n",
       " ['PTR', 'PTR', 'ARR'],\n",
       " ['PTR', 'ARR', 'PTR'],\n",
       " ['PTR', 'ARR', 'ARR']]"
      ]
     },
     "execution_count": 20,
     "metadata": {},
     "output_type": "execute_result"
    }
   ],
   "source": [
    "[x for x in third_level_classes if x[-1] not in terminals]"
   ]
  },
  {
   "cell_type": "code",
   "execution_count": 17,
   "metadata": {},
   "outputs": [
    {
     "data": {
      "text/plain": [
       "20"
      ]
     },
     "execution_count": 17,
     "metadata": {},
     "output_type": "execute_result"
    }
   ],
   "source": [
    "len(all_names)"
   ]
  },
  {
   "cell_type": "code",
   "execution_count": 18,
   "metadata": {},
   "outputs": [
    {
     "data": {
      "text/plain": [
       "40"
      ]
     },
     "execution_count": 18,
     "metadata": {},
     "output_type": "execute_result"
    }
   ],
   "source": [
    "len(second_level_classes)"
   ]
  },
  {
   "cell_type": "code",
   "execution_count": 19,
   "metadata": {},
   "outputs": [
    {
     "data": {
      "text/plain": [
       "80"
      ]
     },
     "execution_count": 19,
     "metadata": {},
     "output_type": "execute_result"
    }
   ],
   "source": [
    "len(third_level_classes)"
   ]
  }
 ],
 "metadata": {
  "kernelspec": {
   "display_name": "phd",
   "language": "python",
   "name": "python3"
  },
  "language_info": {
   "codemirror_mode": {
    "name": "ipython",
    "version": 3
   },
   "file_extension": ".py",
   "mimetype": "text/x-python",
   "name": "python",
   "nbconvert_exporter": "python",
   "pygments_lexer": "ipython3",
   "version": "3.8.10"
  }
 },
 "nbformat": 4,
 "nbformat_minor": 2
}
