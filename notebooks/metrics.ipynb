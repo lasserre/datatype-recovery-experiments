{
 "cells": [
  {
   "cell_type": "code",
   "execution_count": 1,
   "metadata": {},
   "outputs": [],
   "source": [
    "from pathlib import Path\n",
    "import torch\n",
    "from datatype_recovery.models.dataset import load_dataset_from_path\n",
    "\n",
    "\n",
    "model_path = Path.home()/'trained_models/structural_4out_4hops_comp.pt'\n",
    "dataset_path = Path.home()/'trainset_astera_5hops_nocomp'\n",
    "dataset = load_dataset_from_path(dataset_path)\n",
    "\n",
    "model = torch.load(model_path)"
   ]
  },
  {
   "cell_type": "code",
   "execution_count": 2,
   "metadata": {},
   "outputs": [
    {
     "name": "stdout",
     "output_type": "stream",
     "text": [
      "['PTR', 'STRUCT', '<EMPTY>', '<EMPTY>']\n"
     ]
    },
    {
     "data": {
      "text/plain": [
       "torch.Size([1, 22, 4])"
      ]
     },
     "execution_count": 2,
     "metadata": {},
     "output_type": "execute_result"
    }
   ],
   "source": [
    "from torch_geometric.loader import DataLoader\n",
    "from datatype_recovery.models.dataset.encoding import *\n",
    "\n",
    "transform = ToFixedLengthTypeSeq(fixed_len=4)\n",
    "dataset.transform = transform\n",
    "\n",
    "# encode_typeseq(['<EMPTY>']*num_empty_slots)\n",
    "# extended = torch.cat((dataset[1].y, encode_typeseq(['<EMPTY>']*num_empty_slots)), dim=2)\n",
    "# decode_typeseq(dataset[1].y)\n",
    "# decode_typeseq(extended)\n",
    "print(decode_typeseq(dataset[12].y))\n",
    "# dataset.transform = None\n",
    "\n",
    "decode_typeseq(dataset[1].y)\n",
    "dataset[1].y.shape"
   ]
  },
  {
   "cell_type": "code",
   "execution_count": 3,
   "metadata": {},
   "outputs": [
    {
     "name": "stdout",
     "output_type": "stream",
     "text": [
      "torch.Size([22, 4])\n",
      "['ARR', 'uchar', '<EMPTY>', '<EMPTY>']\n",
      "['ARR', 'uchar', '<EMPTY>', '<EMPTY>']\n",
      "['int32', '<EMPTY>', '<EMPTY>', '<EMPTY>']\n"
     ]
    }
   ],
   "source": [
    "model.eval()\n",
    "\n",
    "loader = DataLoader(dataset, batch_size=2)\n",
    "\n",
    "iterable = loader.__iter__()\n",
    "# iterable = iter(loader)\n",
    "data = next(iterable)\n",
    "# data.y.argmax(dim=1)\n",
    "# data = next(iterable)\n",
    "# data = next(iterable)\n",
    "# data = next(iterable)\n",
    "# data = next(iterable)\n",
    "# data.y.T.argmax(dim=0)\n",
    "# data.y.T.argmax(dim=0)\n",
    "# data.y.T[None,:,:]\n",
    "\n",
    "# decode_typeseq(encode_typeseq(decode_typeseq(data.y)))\n",
    "print(data.y[0].shape)\n",
    "print(decode_typeseq(data.y[0]))\n",
    "# torch.cat(x for x in data.y)\n",
    "decode_typeseq(data.y[0][None,:,:])\n",
    "data.y[0].argmax(dim=data.y[0].dim()-2)\n",
    "# decode_typeseq(data.y)\n",
    "for yy in data.y:\n",
    "    print(decode_typeseq(yy))"
   ]
  },
  {
   "cell_type": "code",
   "execution_count": 4,
   "metadata": {},
   "outputs": [
    {
     "name": "stdout",
     "output_type": "stream",
     "text": [
      "torch.Size([2, 22, 4])\n",
      "tensor([12, 16, 16, 16])\n",
      "['uint128', 'STRUCT', 'STRUCT', 'STRUCT']\n",
      "tensor([12, 16, 16, 16])\n",
      "['uint128', 'STRUCT', 'STRUCT', 'STRUCT']\n"
     ]
    },
    {
     "data": {
      "text/plain": [
       "tensor([[-0.0572, -0.0158, -0.0904,  0.0697],\n",
       "        [-0.0031,  0.0420,  0.0409, -0.0602],\n",
       "        [-0.0453,  0.0579,  0.0026, -0.0612],\n",
       "        [ 0.0658, -0.0566, -0.0207,  0.0261],\n",
       "        [ 0.0212,  0.0070,  0.0036,  0.0525],\n",
       "        [ 0.0640, -0.0095, -0.0410,  0.0605],\n",
       "        [-0.0456,  0.0476,  0.0548, -0.0082],\n",
       "        [-0.0230,  0.0271,  0.0400, -0.0312],\n",
       "        [-0.0829,  0.0594,  0.0160, -0.0709],\n",
       "        [ 0.0545, -0.0064, -0.0474,  0.0629],\n",
       "        [-0.0919, -0.1007, -0.0173, -0.0193],\n",
       "        [-0.0032,  0.0198, -0.0029, -0.0310],\n",
       "        [ 0.0822, -0.0373, -0.0696,  0.0583],\n",
       "        [ 0.0337, -0.0559,  0.0562,  0.0350],\n",
       "        [ 0.0223, -0.0642,  0.0329, -0.0584],\n",
       "        [-0.0308,  0.0056, -0.0787, -0.0398],\n",
       "        [-0.0585,  0.0931,  0.0767,  0.0841],\n",
       "        [-0.0352, -0.0783, -0.0459, -0.0302],\n",
       "        [ 0.0491, -0.0007, -0.0167,  0.0202],\n",
       "        [-0.0506, -0.0323, -0.0780, -0.0264],\n",
       "        [-0.0840,  0.0506, -0.0590, -0.0418],\n",
       "        [-0.0400,  0.0498, -0.0184,  0.0236]], grad_fn=<SelectBackward0>)"
      ]
     },
     "execution_count": 4,
     "metadata": {},
     "output_type": "execute_result"
    }
   ],
   "source": [
    "\n",
    "\n",
    "out = model(data.x, data.edge_index, data.batch)\n",
    "\n",
    "\n",
    "print(out.shape)\n",
    "for pred in out.argmax(dim=1):\n",
    "    print(pred)\n",
    "    print([type_seq_names[i] for i in pred])\n",
    "\n",
    "out.argmax(dim=1)\n",
    "out.max(dim=1).values\n",
    "out[0]"
   ]
  },
  {
   "cell_type": "code",
   "execution_count": 5,
   "metadata": {},
   "outputs": [],
   "source": [
    "# Link: https://pytorch.org/docs/stable/generated/torch.nn.CrossEntropyLoss.html\n",
    "# TODO: I think per link above we need to return a 3d tensor from our model\n",
    "# of shape: (batch_size, num_classes, [max_]seq_len)\n",
    "#\n",
    "# - while it seems to be working as-is (and the math probably works out since I'm\n",
    "#   doing things consistently \"wrong\" lol), it would be better to just use the\n",
    "#   expected dimensionality. Not only for CrossEntropy itself, but downstream functions\n",
    "#   now do NOT need to know the max_seq_len - just take the final dimension (# cols)\n",
    "\n",
    "# TODO: change the model to return this instead\n",
    "# --> also update the decode funcs etc...\n",
    "# return logits.view((batch_size, self.num_classes, self.max_seq_len))"
   ]
  },
  {
   "cell_type": "code",
   "execution_count": 6,
   "metadata": {},
   "outputs": [],
   "source": [
    "# TODO: - all this logic needs to end up in encoding.py\n",
    "all_names = type_seq_names.copy()\n",
    "\n",
    "nonterminals = ['ARR','PTR']    # <EMPTY>?\n",
    "\n",
    "INCLUDE_COMP = False\n",
    "INCLUDE_EMPTY = False\n",
    "\n",
    "special = []\n",
    "if INCLUDE_EMPTY:\n",
    "    special.append('<EMPTY>')\n",
    "else:\n",
    "    all_names.remove('<EMPTY>')\n",
    "\n",
    "if INCLUDE_COMP:\n",
    "    special.append('COMP')\n",
    "else:\n",
    "    all_names.remove('COMP')\n",
    "\n",
    "aggregates = ['STRUCT', 'UNION', 'FUNC', *nonterminals]\n",
    "\n",
    "non_primitives = [*aggregates, *special, *nonterminals]\n",
    "primitives = [x for x in all_names if x not in non_primitives]\n",
    "terminals = [x for x in all_names if x not in nonterminals]"
   ]
  },
  {
   "cell_type": "code",
   "execution_count": 7,
   "metadata": {},
   "outputs": [
    {
     "data": {
      "text/plain": [
       "['float',\n",
       " 'double',\n",
       " 'long double',\n",
       " 'char',\n",
       " 'short',\n",
       " 'int32',\n",
       " 'int64',\n",
       " 'int128',\n",
       " 'uchar',\n",
       " 'ushort',\n",
       " 'uint32',\n",
       " 'uint64',\n",
       " 'uint128',\n",
       " 'void',\n",
       " 'STRUCT',\n",
       " 'UNION',\n",
       " 'ENUM',\n",
       " 'FUNC']"
      ]
     },
     "execution_count": 7,
     "metadata": {},
     "output_type": "execute_result"
    }
   ],
   "source": [
    "\n",
    "terminals"
   ]
  },
  {
   "cell_type": "code",
   "execution_count": 8,
   "metadata": {},
   "outputs": [
    {
     "data": {
      "text/plain": [
       "['ARR', 'PTR']"
      ]
     },
     "execution_count": 8,
     "metadata": {},
     "output_type": "execute_result"
    }
   ],
   "source": [
    "nonterminals"
   ]
  },
  {
   "cell_type": "code",
   "execution_count": 9,
   "metadata": {},
   "outputs": [
    {
     "data": {
      "text/plain": [
       "['STRUCT', 'UNION', 'FUNC', 'ARR', 'PTR', 'ARR', 'PTR']"
      ]
     },
     "execution_count": 9,
     "metadata": {},
     "output_type": "execute_result"
    }
   ],
   "source": [
    "non_primitives"
   ]
  },
  {
   "cell_type": "code",
   "execution_count": 10,
   "metadata": {},
   "outputs": [
    {
     "data": {
      "text/plain": [
       "['STRUCT', 'UNION', 'FUNC', 'ARR', 'PTR']"
      ]
     },
     "execution_count": 10,
     "metadata": {},
     "output_type": "execute_result"
    }
   ],
   "source": [
    "aggregates"
   ]
  },
  {
   "cell_type": "code",
   "execution_count": 11,
   "metadata": {},
   "outputs": [
    {
     "data": {
      "text/plain": [
       "[]"
      ]
     },
     "execution_count": 11,
     "metadata": {},
     "output_type": "execute_result"
    }
   ],
   "source": [
    "special"
   ]
  },
  {
   "cell_type": "code",
   "execution_count": 12,
   "metadata": {},
   "outputs": [
    {
     "data": {
      "text/plain": [
       "['float',\n",
       " 'double',\n",
       " 'long double',\n",
       " 'char',\n",
       " 'short',\n",
       " 'int32',\n",
       " 'int64',\n",
       " 'int128',\n",
       " 'uchar',\n",
       " 'ushort',\n",
       " 'uint32',\n",
       " 'uint64',\n",
       " 'uint128',\n",
       " 'void',\n",
       " 'STRUCT',\n",
       " 'UNION',\n",
       " 'ENUM',\n",
       " 'FUNC']"
      ]
     },
     "execution_count": 12,
     "metadata": {},
     "output_type": "execute_result"
    }
   ],
   "source": [
    "terminals"
   ]
  },
  {
   "cell_type": "code",
   "execution_count": 13,
   "metadata": {},
   "outputs": [
    {
     "data": {
      "text/plain": [
       "20"
      ]
     },
     "execution_count": 13,
     "metadata": {},
     "output_type": "execute_result"
    }
   ],
   "source": [
    "# 1-level\n",
    "nonterminals\n",
    "single_level_count = len(terminals) + len(nonterminals)\n",
    "single_level_count\n",
    "len(all_names)"
   ]
  },
  {
   "cell_type": "code",
   "execution_count": 49,
   "metadata": {},
   "outputs": [
    {
     "ename": "TypeError",
     "evalue": "object of type 'NoneType' has no len()",
     "output_type": "error",
     "traceback": [
      "\u001b[0;31m---------------------------------------------------------------------------\u001b[0m",
      "\u001b[0;31mTypeError\u001b[0m                                 Traceback (most recent call last)",
      "Cell \u001b[0;32mIn[49], line 22\u001b[0m\n\u001b[1;32m     19\u001b[0m                 current_nts\u001b[38;5;241m.\u001b[39mappend(x\u001b[38;5;241m.\u001b[39mcopy())\n\u001b[1;32m     20\u001b[0m         prev_nts \u001b[38;5;241m=\u001b[39m current_nts\n\u001b[0;32m---> 22\u001b[0m \u001b[38;5;28;43mlen\u001b[39;49m\u001b[43m(\u001b[49m\u001b[43mget_all_possible_classes_for_seq_len\u001b[49m\u001b[43m(\u001b[49m\u001b[38;5;241;43m1\u001b[39;49m\u001b[43m)\u001b[49m\u001b[43m)\u001b[49m\n",
      "\u001b[0;31mTypeError\u001b[0m: object of type 'NoneType' has no len()"
     ]
    }
   ],
   "source": [
    "def get_all_possible_classes_for_seq_len(seq_len:int) -> List[List[str]]:\n",
    "    all_classes = []\n",
    "    prev_nts = []\n",
    "\n",
    "    for level_idx in range(seq_len):\n",
    "        current_level = [[x] for x in all_names]\n",
    "        if prev_nts:\n",
    "            for pnt in prev_nts:\n",
    "                # add this level to nonterminals from prev level\n",
    "                all_classes.extend([[*pnt, *x] for x in current_level])\n",
    "        else:\n",
    "            all_classes = current_level\n",
    "\n",
    "        # current_nts = [x for x in all_classes if x[-1] in nonterminals and len(x) == level_idx+1]\n",
    "        # current_nts = list(filter(lambda x: x[-1] in nonterminals and len(x) == level_idx+1, all_classes))\n",
    "        current_nts = []\n",
    "        for x in all_classes:\n",
    "            if x[-1] in nonterminals and len(x) == level_idx+1:\n",
    "                current_nts.append(x.copy())\n",
    "        prev_nts = current_nts\n",
    "\n",
    "    return all_classes\n",
    "\n",
    "len(get_all_possible_classes_for_seq_len(1))"
   ]
  },
  {
   "cell_type": "code",
   "execution_count": 36,
   "metadata": {},
   "outputs": [
    {
     "name": "stdout",
     "output_type": "stream",
     "text": [
      "<class 'int'>\n",
      "<class 'int'>\n",
      "<class 'int'>\n"
     ]
    }
   ],
   "source": [
    "for i in range(3):\n",
    "    print(type(i))"
   ]
  },
  {
   "cell_type": "code",
   "execution_count": 30,
   "metadata": {},
   "outputs": [
    {
     "data": {
      "text/plain": [
       "[['float'],\n",
       " ['double'],\n",
       " ['long double'],\n",
       " ['char'],\n",
       " ['short'],\n",
       " ['int32'],\n",
       " ['int64'],\n",
       " ['int128'],\n",
       " ['uchar'],\n",
       " ['ushort'],\n",
       " ['uint32'],\n",
       " ['uint64'],\n",
       " ['uint128'],\n",
       " ['void'],\n",
       " ['STRUCT'],\n",
       " ['UNION'],\n",
       " ['ENUM'],\n",
       " ['FUNC']]"
      ]
     },
     "execution_count": 30,
     "metadata": {},
     "output_type": "execute_result"
    }
   ],
   "source": [
    "all_classes"
   ]
  },
  {
   "cell_type": "code",
   "execution_count": 14,
   "metadata": {},
   "outputs": [
    {
     "data": {
      "text/plain": [
       "[['ARR', 'float'],\n",
       " ['ARR', 'double'],\n",
       " ['ARR', 'long double'],\n",
       " ['ARR', 'char'],\n",
       " ['ARR', 'short'],\n",
       " ['ARR', 'int32'],\n",
       " ['ARR', 'int64'],\n",
       " ['ARR', 'int128'],\n",
       " ['ARR', 'uchar'],\n",
       " ['ARR', 'ushort'],\n",
       " ['ARR', 'uint32'],\n",
       " ['ARR', 'uint64'],\n",
       " ['ARR', 'uint128'],\n",
       " ['ARR', 'void'],\n",
       " ['ARR', 'PTR'],\n",
       " ['ARR', 'ARR'],\n",
       " ['ARR', 'STRUCT'],\n",
       " ['ARR', 'UNION'],\n",
       " ['ARR', 'ENUM'],\n",
       " ['ARR', 'FUNC'],\n",
       " ['PTR', 'float'],\n",
       " ['PTR', 'double'],\n",
       " ['PTR', 'long double'],\n",
       " ['PTR', 'char'],\n",
       " ['PTR', 'short'],\n",
       " ['PTR', 'int32'],\n",
       " ['PTR', 'int64'],\n",
       " ['PTR', 'int128'],\n",
       " ['PTR', 'uchar'],\n",
       " ['PTR', 'ushort'],\n",
       " ['PTR', 'uint32'],\n",
       " ['PTR', 'uint64'],\n",
       " ['PTR', 'uint128'],\n",
       " ['PTR', 'void'],\n",
       " ['PTR', 'PTR'],\n",
       " ['PTR', 'ARR'],\n",
       " ['PTR', 'STRUCT'],\n",
       " ['PTR', 'UNION'],\n",
       " ['PTR', 'ENUM'],\n",
       " ['PTR', 'FUNC']]"
      ]
     },
     "execution_count": 14,
     "metadata": {},
     "output_type": "execute_result"
    }
   ],
   "source": [
    "second_level_classes = []\n",
    "for x in nonterminals:\n",
    "    for y in all_names:\n",
    "        second_level_classes.append([x, y])\n",
    "second_level_classes"
   ]
  },
  {
   "cell_type": "code",
   "execution_count": 15,
   "metadata": {},
   "outputs": [
    {
     "data": {
      "text/plain": [
       "[['ARR', 'PTR'], ['ARR', 'ARR'], ['PTR', 'PTR'], ['PTR', 'ARR']]"
      ]
     },
     "execution_count": 15,
     "metadata": {},
     "output_type": "execute_result"
    }
   ],
   "source": [
    "second_level_nonterminals = [x for x in second_level_classes if x[-1] not in terminals]\n",
    "second_level_nonterminals"
   ]
  },
  {
   "cell_type": "code",
   "execution_count": 16,
   "metadata": {},
   "outputs": [
    {
     "data": {
      "text/plain": [
       "[['ARR', 'PTR', 'float'],\n",
       " ['ARR', 'PTR', 'double'],\n",
       " ['ARR', 'PTR', 'long double'],\n",
       " ['ARR', 'PTR', 'char'],\n",
       " ['ARR', 'PTR', 'short'],\n",
       " ['ARR', 'PTR', 'int32'],\n",
       " ['ARR', 'PTR', 'int64'],\n",
       " ['ARR', 'PTR', 'int128'],\n",
       " ['ARR', 'PTR', 'uchar'],\n",
       " ['ARR', 'PTR', 'ushort'],\n",
       " ['ARR', 'PTR', 'uint32'],\n",
       " ['ARR', 'PTR', 'uint64'],\n",
       " ['ARR', 'PTR', 'uint128'],\n",
       " ['ARR', 'PTR', 'void'],\n",
       " ['ARR', 'PTR', 'PTR'],\n",
       " ['ARR', 'PTR', 'ARR'],\n",
       " ['ARR', 'PTR', 'STRUCT'],\n",
       " ['ARR', 'PTR', 'UNION'],\n",
       " ['ARR', 'PTR', 'ENUM'],\n",
       " ['ARR', 'PTR', 'FUNC'],\n",
       " ['ARR', 'ARR', 'float'],\n",
       " ['ARR', 'ARR', 'double'],\n",
       " ['ARR', 'ARR', 'long double'],\n",
       " ['ARR', 'ARR', 'char'],\n",
       " ['ARR', 'ARR', 'short'],\n",
       " ['ARR', 'ARR', 'int32'],\n",
       " ['ARR', 'ARR', 'int64'],\n",
       " ['ARR', 'ARR', 'int128'],\n",
       " ['ARR', 'ARR', 'uchar'],\n",
       " ['ARR', 'ARR', 'ushort'],\n",
       " ['ARR', 'ARR', 'uint32'],\n",
       " ['ARR', 'ARR', 'uint64'],\n",
       " ['ARR', 'ARR', 'uint128'],\n",
       " ['ARR', 'ARR', 'void'],\n",
       " ['ARR', 'ARR', 'PTR'],\n",
       " ['ARR', 'ARR', 'ARR'],\n",
       " ['ARR', 'ARR', 'STRUCT'],\n",
       " ['ARR', 'ARR', 'UNION'],\n",
       " ['ARR', 'ARR', 'ENUM'],\n",
       " ['ARR', 'ARR', 'FUNC'],\n",
       " ['PTR', 'PTR', 'float'],\n",
       " ['PTR', 'PTR', 'double'],\n",
       " ['PTR', 'PTR', 'long double'],\n",
       " ['PTR', 'PTR', 'char'],\n",
       " ['PTR', 'PTR', 'short'],\n",
       " ['PTR', 'PTR', 'int32'],\n",
       " ['PTR', 'PTR', 'int64'],\n",
       " ['PTR', 'PTR', 'int128'],\n",
       " ['PTR', 'PTR', 'uchar'],\n",
       " ['PTR', 'PTR', 'ushort'],\n",
       " ['PTR', 'PTR', 'uint32'],\n",
       " ['PTR', 'PTR', 'uint64'],\n",
       " ['PTR', 'PTR', 'uint128'],\n",
       " ['PTR', 'PTR', 'void'],\n",
       " ['PTR', 'PTR', 'PTR'],\n",
       " ['PTR', 'PTR', 'ARR'],\n",
       " ['PTR', 'PTR', 'STRUCT'],\n",
       " ['PTR', 'PTR', 'UNION'],\n",
       " ['PTR', 'PTR', 'ENUM'],\n",
       " ['PTR', 'PTR', 'FUNC'],\n",
       " ['PTR', 'ARR', 'float'],\n",
       " ['PTR', 'ARR', 'double'],\n",
       " ['PTR', 'ARR', 'long double'],\n",
       " ['PTR', 'ARR', 'char'],\n",
       " ['PTR', 'ARR', 'short'],\n",
       " ['PTR', 'ARR', 'int32'],\n",
       " ['PTR', 'ARR', 'int64'],\n",
       " ['PTR', 'ARR', 'int128'],\n",
       " ['PTR', 'ARR', 'uchar'],\n",
       " ['PTR', 'ARR', 'ushort'],\n",
       " ['PTR', 'ARR', 'uint32'],\n",
       " ['PTR', 'ARR', 'uint64'],\n",
       " ['PTR', 'ARR', 'uint128'],\n",
       " ['PTR', 'ARR', 'void'],\n",
       " ['PTR', 'ARR', 'PTR'],\n",
       " ['PTR', 'ARR', 'ARR'],\n",
       " ['PTR', 'ARR', 'STRUCT'],\n",
       " ['PTR', 'ARR', 'UNION'],\n",
       " ['PTR', 'ARR', 'ENUM'],\n",
       " ['PTR', 'ARR', 'FUNC']]"
      ]
     },
     "execution_count": 16,
     "metadata": {},
     "output_type": "execute_result"
    }
   ],
   "source": [
    "third_level_classes = []\n",
    "for sln in second_level_nonterminals:\n",
    "    for x in all_names:\n",
    "        third_level_classes.append([*sln, x])\n",
    "third_level_classes"
   ]
  },
  {
   "cell_type": "code",
   "execution_count": 20,
   "metadata": {},
   "outputs": [
    {
     "data": {
      "text/plain": [
       "[['ARR', 'PTR', 'PTR'],\n",
       " ['ARR', 'PTR', 'ARR'],\n",
       " ['ARR', 'ARR', 'PTR'],\n",
       " ['ARR', 'ARR', 'ARR'],\n",
       " ['PTR', 'PTR', 'PTR'],\n",
       " ['PTR', 'PTR', 'ARR'],\n",
       " ['PTR', 'ARR', 'PTR'],\n",
       " ['PTR', 'ARR', 'ARR']]"
      ]
     },
     "execution_count": 20,
     "metadata": {},
     "output_type": "execute_result"
    }
   ],
   "source": [
    "[x for x in third_level_classes if x[-1] not in terminals]"
   ]
  },
  {
   "cell_type": "code",
   "execution_count": 17,
   "metadata": {},
   "outputs": [
    {
     "data": {
      "text/plain": [
       "20"
      ]
     },
     "execution_count": 17,
     "metadata": {},
     "output_type": "execute_result"
    }
   ],
   "source": [
    "len(all_names)"
   ]
  },
  {
   "cell_type": "code",
   "execution_count": 18,
   "metadata": {},
   "outputs": [
    {
     "data": {
      "text/plain": [
       "40"
      ]
     },
     "execution_count": 18,
     "metadata": {},
     "output_type": "execute_result"
    }
   ],
   "source": [
    "len(second_level_classes)"
   ]
  },
  {
   "cell_type": "code",
   "execution_count": 19,
   "metadata": {},
   "outputs": [
    {
     "data": {
      "text/plain": [
       "80"
      ]
     },
     "execution_count": 19,
     "metadata": {},
     "output_type": "execute_result"
    }
   ],
   "source": [
    "len(third_level_classes)"
   ]
  }
 ],
 "metadata": {
  "kernelspec": {
   "display_name": "phd",
   "language": "python",
   "name": "python3"
  },
  "language_info": {
   "codemirror_mode": {
    "name": "ipython",
    "version": 3
   },
   "file_extension": ".py",
   "mimetype": "text/x-python",
   "name": "python",
   "nbconvert_exporter": "python",
   "pygments_lexer": "ipython3",
   "version": "3.8.10"
  }
 },
 "nbformat": 4,
 "nbformat_minor": 2
}
