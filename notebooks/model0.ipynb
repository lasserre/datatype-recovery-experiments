{
 "cells": [
  {
   "cell_type": "markdown",
   "metadata": {},
   "source": [
    "# TODO\n",
    "> PICK UP HERE: **implement model end-to-end ASAP using Dataset, saving model state every N epochs, etc.**\n",
    "- See todo list in OneNote\n",
    "- Once working, make the saving model state logic generic so I can use with any model"
   ]
  },
  {
   "cell_type": "code",
   "execution_count": 1,
   "metadata": {},
   "outputs": [
    {
     "name": "stdout",
     "output_type": "stream",
     "text": [
      "Warning: input_params dict supplied but saved .json file also found\n",
      "input_params will be IGNORED in favor of saved .json file (model0_dataset/raw/input_params.json)\n"
     ]
    },
    {
     "data": {
      "text/plain": [
       "44021"
      ]
     },
     "execution_count": 1,
     "metadata": {},
     "output_type": "execute_result"
    }
   ],
   "source": [
    "from datatype_recovery.models.dataset import TypeSequenceDataset\n",
    "\n",
    "data_params = {\n",
    "    'experiment_runs': [\n",
    "        '/home/cls0027/test_builds/astera.exp/rundata/run1',\n",
    "        '/home/cls0027/test_builds/coreutils.exp/rundata/run1',\n",
    "    ],\n",
    "    'copy_data': False,\n",
    "}\n",
    "dataset = TypeSequenceDataset('model0_dataset', data_params, max_hops=3)\n",
    "len(dataset)"
   ]
  },
  {
   "cell_type": "code",
   "execution_count": 6,
   "metadata": {},
   "outputs": [
    {
     "name": "stdout",
     "output_type": "stream",
     "text": [
      "total 24M\n",
      "drwxrwxr-x  5 cls0027 cls0027 4.0K Jan  7 18:11 .\n",
      "drwxrwxr-x  6 cls0027 cls0027 4.0K Sep 27 09:13 ..\n",
      "-rw-rw-r--  1 cls0027 cls0027  49K Dec 27 21:25 ast_sandbox.ipynb\n",
      "-rw-rw-r--  1 cls0027 cls0027 278K Oct  5 08:28 characterize_dataset.html\n",
      "-rw-rw-r--  1 cls0027 cls0027  41K Dec 20 19:39 characterize_dataset.ipynb\n",
      "-rw-rw-r--  1 cls0027 cls0027  38K Oct 24 08:44 characterize_dataset.pdf\n",
      "-rw-rw-r--  1 cls0027 cls0027 9.4K Dec 27 20:41 data_0.pt\n",
      "-rw-rw-r--  1 cls0027 cls0027  42K Dec 27 15:43 data_group_0.pt\n",
      "-rw-rw-r--  1 cls0027 cls0027  44K Dec 21 18:20 graph_classification_model.pt\n",
      "drwxrwxr-x  4 cls0027 cls0027 4.0K Jan  3 17:52 model0_dataset\n",
      "-rw-rw-r--  1 cls0027 cls0027  16M Jan  7 18:11 model0_dataset.tar.gz\n",
      "-rw-rw-r--  1 cls0027 cls0027  50K Jan  3 22:20 model0.ipynb\n",
      "-rw-rw-r--  1 cls0027 cls0027  11K Dec 21 10:45 __old_pyg_sandbox.ipynb\n",
      "-rw-rw-r--  1 cls0027 cls0027 7.1M Dec 21 18:34 paths_and_labels.tsv\n",
      "-rw-rw-r--  1 cls0027 cls0027  46K Dec 21 20:46 pyg_dataset_sandbox.ipynb\n",
      "-rw-rw-r--  1 cls0027 cls0027  85K Sep 27 09:13 test.ipynb\n",
      "drwxrwxr-x  4 cls0027 cls0027 4.0K Dec 27 20:53 typeseq_data\n",
      "-rw-rw-r--  1 cls0027 cls0027 178K Jan  4 00:39 type_seq_model.pt\n",
      "drwxrwxr-x 14 cls0027 cls0027 4.0K Jan  3 21:51 wandb\n"
     ]
    }
   ],
   "source": [
    "# !tar cvzf model0_dataset.tar.gz model0_dataset\n",
    "!ls -ahl"
   ]
  },
  {
   "cell_type": "code",
   "execution_count": 32,
   "metadata": {},
   "outputs": [
    {
     "data": {
      "text/plain": [
       "count    11585.000000\n",
       "mean         1.397497\n",
       "std          0.534427\n",
       "min          1.000000\n",
       "25%          1.000000\n",
       "50%          1.000000\n",
       "75%          2.000000\n",
       "max          4.000000\n",
       "Name: TypeSeqLen_Debug, dtype: float64"
      ]
     },
     "execution_count": 32,
     "metadata": {},
     "output_type": "execute_result"
    }
   ],
   "source": [
    "import pandas as pd\n",
    "df = pd.read_csv('/home/cls0027/test_builds/coreutils.exp/rundata/run1/locals.csv')\n",
    "df.loc[:,'TypeSeqLen_Debug'] = [len(x.split(',')) for x in df.TypeSeq_Debug]\n",
    "df.TypeSeqLen_Debug.describe()"
   ]
  },
  {
   "cell_type": "code",
   "execution_count": 33,
   "metadata": {},
   "outputs": [
    {
     "data": {
      "text/plain": [
       "<Axes: xlabel='TypeSeqLen_Debug'>"
      ]
     },
     "execution_count": 33,
     "metadata": {},
     "output_type": "execute_result"
    },
    {
     "data": {
      "image/png": "[encoded data removed]",
      "text/plain": [
       "<Figure size 640x480 with 1 Axes>"
      ]
     },
     "metadata": {},
     "output_type": "display_data"
    }
   ],
   "source": [
    "df.groupby('TypeSeqLen_Debug').count().TypeSeq_Debug.plot(kind='bar')"
   ]
  },
  {
   "cell_type": "code",
   "execution_count": 35,
   "metadata": {},
   "outputs": [
    {
     "data": {
      "text/html": [
       "<div>\n",
       "<style scoped>\n",
       "    .dataframe tbody tr th:only-of-type {\n",
       "        vertical-align: middle;\n",
       "    }\n",
       "\n",
       "    .dataframe tbody tr th {\n",
       "        vertical-align: top;\n",
       "    }\n",
       "\n",
       "    .dataframe thead th {\n",
       "        text-align: right;\n",
       "    }\n",
       "</style>\n",
       "<table border=\"1\" class=\"dataframe\">\n",
       "  <thead>\n",
       "    <tr style=\"text-align: right;\">\n",
       "      <th></th>\n",
       "      <th>FunctionStart</th>\n",
       "      <th>Name_Debug</th>\n",
       "      <th>Signature</th>\n",
       "      <th>Type_Debug</th>\n",
       "      <th>LocType_Debug</th>\n",
       "      <th>LocRegName_Debug</th>\n",
       "      <th>LocOffset_Debug</th>\n",
       "      <th>TypeCategory_Debug</th>\n",
       "      <th>TypeSeq_Debug</th>\n",
       "      <th>Name_Strip</th>\n",
       "      <th>Type_Strip</th>\n",
       "      <th>LocType_Strip</th>\n",
       "      <th>LocRegName_Strip</th>\n",
       "      <th>LocOffset_Strip</th>\n",
       "      <th>TypeCategory_Strip</th>\n",
       "      <th>TypeSeq_Strip</th>\n",
       "      <th>BinaryId</th>\n",
       "      <th>TypeSeqLen_Debug</th>\n",
       "    </tr>\n",
       "  </thead>\n",
       "  <tbody>\n",
       "    <tr>\n",
       "      <th>1262</th>\n",
       "      <td>1069103</td>\n",
       "      <td>all_line</td>\n",
       "      <td>268,752,1798,1937,2018,2103,2166</td>\n",
       "      <td>linebuffer*[4][2]</td>\n",
       "      <td>stack</td>\n",
       "      <td>NaN</td>\n",
       "      <td>-408</td>\n",
       "      <td>ARRAY</td>\n",
       "      <td>ARR,ARR,PTR,STRUCT</td>\n",
       "      <td>alStack_198</td>\n",
       "      <td>int64_t[8]</td>\n",
       "      <td>stack</td>\n",
       "      <td>NaN</td>\n",
       "      <td>-408</td>\n",
       "      <td>ARRAY</td>\n",
       "      <td>ARR,int64_t</td>\n",
       "      <td>18</td>\n",
       "      <td>4</td>\n",
       "    </tr>\n",
       "  </tbody>\n",
       "</table>\n",
       "</div>"
      ],
      "text/plain": [
       "      FunctionStart Name_Debug                         Signature   \n",
       "1262        1069103   all_line  268,752,1798,1937,2018,2103,2166  \\\n",
       "\n",
       "             Type_Debug LocType_Debug  LocRegName_Debug  LocOffset_Debug   \n",
       "1262  linebuffer*[4][2]         stack               NaN             -408  \\\n",
       "\n",
       "     TypeCategory_Debug       TypeSeq_Debug   Name_Strip  Type_Strip   \n",
       "1262              ARRAY  ARR,ARR,PTR,STRUCT  alStack_198  int64_t[8]  \\\n",
       "\n",
       "     LocType_Strip LocRegName_Strip  LocOffset_Strip TypeCategory_Strip   \n",
       "1262         stack              NaN             -408              ARRAY  \\\n",
       "\n",
       "     TypeSeq_Strip  BinaryId  TypeSeqLen_Debug  \n",
       "1262   ARR,int64_t        18                 4  "
      ]
     },
     "execution_count": 35,
     "metadata": {},
     "output_type": "execute_result"
    }
   ],
   "source": [
    "df[df.TypeSeqLen_Debug==4]"
   ]
  },
  {
   "cell_type": "markdown",
   "metadata": {},
   "source": [
    "# Poor man's LSTM?\n",
    "I think we can do LSTM just fine, but going back to the original question I had...\n",
    "\n",
    "> How long is the max type sequence in our dataset?\n",
    "> What is the average size?\n",
    "\n",
    "And based on those answers...\n",
    "\n",
    "> **What if we (at least start with) implement a fixed-length output vector representing the sequence?**\n",
    "`[t1 vec | t2 vec | t3 vec ... tN vec]`\n",
    "\n",
    "- It avoids the LSTM complication (which isn't too bad, but what if it doesn't perform well? Then we open\n",
    "the can of worms into attention, Transformer, etc.).\n",
    "- **Sequence decoder is totally fine if/when we need it!** But what if we only *ever* have up to 3 levels? Maybe overkill?"
   ]
  },
  {
   "cell_type": "markdown",
   "metadata": {},
   "source": [
    "# TODO LIST\n",
    "1. Dataset: make the tensor's floats that needed to be floats\n",
    "2. Pandas: what is the max/min/avg type sequence length?\n",
    "    - Coreutils?\n",
    "    - Astera?\n",
    "    - Others?\n",
    "3. (Based on that answer) **Is it worth trying a fixed-length output vector or not?**"
   ]
  },
  {
   "cell_type": "code",
   "execution_count": 2,
   "metadata": {},
   "outputs": [
    {
     "name": "stdout",
     "output_type": "stream",
     "text": [
      "Train set: 704 samples (68.75%)\n",
      "Test set: 320 samples (31.25%)\n",
      "Batch size: 64\n",
      "Total usable dataset size (batch-aligned): 1,024\n",
      "Loss due to batch alignment: 0 (0.00%)\n"
     ]
    }
   ],
   "source": [
    "# TODO: split test/train on BINARY boundary to prevent functions/vars from crossing\n",
    "# -> I have varid tuples, so I can get (rungid, binid) from that and use it to split\n",
    "#   - extract (idx, rungid, binid) for each data point and put into a dataframe\n",
    "#   - groupby/count dataframe by (rungid/binid) and come up with split that is close to target %\n",
    "#   - collect indices for each data point within each subset (test/train/valid)\n",
    "#   - quick/simple validate that all (rungid/binid) combos are unique to a subset\n",
    "#\n",
    "# [(i, x.varid[0], x.varid[1]) for i, x in enumerate(dataset[10000:10100])][:5]\n",
    "\n",
    "# trainset_indices = list(range(12))\n",
    "# testset_indices = list(range(100,112))\n",
    "# train_set = Subset(dataset, trainset_indices)\n",
    "# test_set = Subset(dataset, testset_indices)\n",
    "\n",
    "import torch\n",
    "from torch_geometric.loader import DataLoader\n",
    "from torch.utils.data import Subset\n",
    "\n",
    "# model\n",
    "HIDDEN_CHANNELS = 128\n",
    "\n",
    "# training\n",
    "BATCH_SIZE = 64\n",
    "TRAIN_SPLIT = 0.7\n",
    "NUM_EPOCHS = 1500\n",
    "SHUFFLE = True\n",
    "PIN_MEMORY=False\n",
    "\n",
    "# optimizer\n",
    "LEARN_RATE = 0.001\n",
    "\n",
    "torch.manual_seed(33)   # deterministic hopefully? lol\n",
    "\n",
    "dataset = dataset[:1024]    # TEMP: take small subset\n",
    "\n",
    "# divide into train/test sets\n",
    "train_size = int(len(dataset)*TRAIN_SPLIT)\n",
    "train_size -= train_size%BATCH_SIZE     # align to batch size\n",
    "\n",
    "test_size = len(dataset) - train_size   # take the rest of the dataset...\n",
    "test_size -= test_size % BATCH_SIZE     # align to batch size\n",
    "\n",
    "train_set = Subset(dataset, range(0, 0+train_size))\n",
    "test_set = Subset(dataset, range(len(train_set), len(train_set)+test_size))\n",
    "\n",
    "train_loader = DataLoader(train_set, batch_size=BATCH_SIZE, shuffle=SHUFFLE, pin_memory=PIN_MEMORY)\n",
    "test_loader = DataLoader(test_set, batch_size=BATCH_SIZE, shuffle=SHUFFLE, pin_memory=PIN_MEMORY)\n",
    "\n",
    "# EXAMPLE: the shuffled slice changes each time, but dataset[0] stays consistent\n",
    "# print(dataset[:10].shuffle()[0].varid)\n",
    "# print(dataset[0].varid)\n",
    "total_usable = len(train_set)+len(test_set)\n",
    "non_batch_aligned = len(dataset)-total_usable\n",
    "print(f'Train set: {len(train_set):,} samples ({len(train_set)/len(dataset)*100:.2f}%)')\n",
    "print(f'Test set: {len(test_set):,} samples ({len(test_set)/len(dataset)*100:.2f}%)')\n",
    "print(f'Batch size: {BATCH_SIZE}')\n",
    "print(f'Total usable dataset size (batch-aligned): {total_usable:,}')\n",
    "print(f'Loss due to batch alignment: {non_batch_aligned:,} ({non_batch_aligned/len(dataset)*100:.2f}%)')"
   ]
  },
  {
   "cell_type": "code",
   "execution_count": 3,
   "metadata": {},
   "outputs": [
    {
     "data": {
      "text/html": [
       "<div>\n",
       "<style scoped>\n",
       "    .dataframe tbody tr th:only-of-type {\n",
       "        vertical-align: middle;\n",
       "    }\n",
       "\n",
       "    .dataframe tbody tr th {\n",
       "        vertical-align: top;\n",
       "    }\n",
       "\n",
       "    .dataframe thead th {\n",
       "        text-align: right;\n",
       "    }\n",
       "</style>\n",
       "<table border=\"1\" class=\"dataframe\">\n",
       "  <thead>\n",
       "    <tr style=\"text-align: right;\">\n",
       "      <th></th>\n",
       "      <th>Train</th>\n",
       "      <th>Test</th>\n",
       "      <th>TrainPcnt</th>\n",
       "      <th>TestPcnt</th>\n",
       "    </tr>\n",
       "    <tr>\n",
       "      <th>Label</th>\n",
       "      <th></th>\n",
       "      <th></th>\n",
       "      <th></th>\n",
       "      <th></th>\n",
       "    </tr>\n",
       "  </thead>\n",
       "  <tbody>\n",
       "    <tr>\n",
       "      <th>ARR</th>\n",
       "      <td>46</td>\n",
       "      <td>13</td>\n",
       "      <td>6.534091</td>\n",
       "      <td>4.0625</td>\n",
       "    </tr>\n",
       "    <tr>\n",
       "      <th>ENUM</th>\n",
       "      <td>1</td>\n",
       "      <td>1</td>\n",
       "      <td>0.142045</td>\n",
       "      <td>0.3125</td>\n",
       "    </tr>\n",
       "    <tr>\n",
       "      <th>PTR</th>\n",
       "      <td>151</td>\n",
       "      <td>77</td>\n",
       "      <td>21.448864</td>\n",
       "      <td>24.0625</td>\n",
       "    </tr>\n",
       "    <tr>\n",
       "      <th>STRUCT</th>\n",
       "      <td>16</td>\n",
       "      <td>6</td>\n",
       "      <td>2.272727</td>\n",
       "      <td>1.8750</td>\n",
       "    </tr>\n",
       "    <tr>\n",
       "      <th>UNION</th>\n",
       "      <td>4</td>\n",
       "      <td>3</td>\n",
       "      <td>0.568182</td>\n",
       "      <td>0.9375</td>\n",
       "    </tr>\n",
       "    <tr>\n",
       "      <th>double</th>\n",
       "      <td>11</td>\n",
       "      <td>8</td>\n",
       "      <td>1.562500</td>\n",
       "      <td>2.5000</td>\n",
       "    </tr>\n",
       "    <tr>\n",
       "      <th>float</th>\n",
       "      <td>25</td>\n",
       "      <td>12</td>\n",
       "      <td>3.551136</td>\n",
       "      <td>3.7500</td>\n",
       "    </tr>\n",
       "    <tr>\n",
       "      <th>int32_t</th>\n",
       "      <td>321</td>\n",
       "      <td>142</td>\n",
       "      <td>45.596591</td>\n",
       "      <td>44.3750</td>\n",
       "    </tr>\n",
       "    <tr>\n",
       "      <th>int64_t</th>\n",
       "      <td>10</td>\n",
       "      <td>4</td>\n",
       "      <td>1.420455</td>\n",
       "      <td>1.2500</td>\n",
       "    </tr>\n",
       "    <tr>\n",
       "      <th>int8_t</th>\n",
       "      <td>9</td>\n",
       "      <td>3</td>\n",
       "      <td>1.278409</td>\n",
       "      <td>0.9375</td>\n",
       "    </tr>\n",
       "    <tr>\n",
       "      <th>uint16_t</th>\n",
       "      <td>2</td>\n",
       "      <td>0</td>\n",
       "      <td>0.284091</td>\n",
       "      <td>0.0000</td>\n",
       "    </tr>\n",
       "    <tr>\n",
       "      <th>uint32_t</th>\n",
       "      <td>62</td>\n",
       "      <td>18</td>\n",
       "      <td>8.806818</td>\n",
       "      <td>5.6250</td>\n",
       "    </tr>\n",
       "    <tr>\n",
       "      <th>uint64_t</th>\n",
       "      <td>40</td>\n",
       "      <td>33</td>\n",
       "      <td>5.681818</td>\n",
       "      <td>10.3125</td>\n",
       "    </tr>\n",
       "    <tr>\n",
       "      <th>uint8_t</th>\n",
       "      <td>6</td>\n",
       "      <td>0</td>\n",
       "      <td>0.852273</td>\n",
       "      <td>0.0000</td>\n",
       "    </tr>\n",
       "  </tbody>\n",
       "</table>\n",
       "</div>"
      ],
      "text/plain": [
       "          Train  Test  TrainPcnt  TestPcnt\n",
       "Label                                     \n",
       "ARR          46    13   6.534091    4.0625\n",
       "ENUM          1     1   0.142045    0.3125\n",
       "PTR         151    77  21.448864   24.0625\n",
       "STRUCT       16     6   2.272727    1.8750\n",
       "UNION         4     3   0.568182    0.9375\n",
       "double       11     8   1.562500    2.5000\n",
       "float        25    12   3.551136    3.7500\n",
       "int32_t     321   142  45.596591   44.3750\n",
       "int64_t      10     4   1.420455    1.2500\n",
       "int8_t        9     3   1.278409    0.9375\n",
       "uint16_t      2     0   0.284091    0.0000\n",
       "uint32_t     62    18   8.806818    5.6250\n",
       "uint64_t     40    33   5.681818   10.3125\n",
       "uint8_t       6     0   0.852273    0.0000"
      ]
     },
     "execution_count": 3,
     "metadata": {},
     "output_type": "execute_result"
    },
    {
     "data": {
      "image/png": "[encoded data removed]",
      "text/plain": [
       "<Figure size 640x480 with 1 Axes>"
      ]
     },
     "metadata": {},
     "output_type": "display_data"
    }
   ],
   "source": [
    "from datatype_recovery.models.dataset.encoding import decode_typeseq\n",
    "import pandas as pd\n",
    "\n",
    "train_df = pd.DataFrame({\n",
    "    'Label': [decode_typeseq(sample.y)[0] for sample in train_set],\n",
    "    'Varid': [sample.varid for sample in train_set],\n",
    "    'Split': ['Train']*len(train_set),\n",
    "    'Train': [True]*len(train_set),\n",
    "})\n",
    "\n",
    "test_df = pd.DataFrame({\n",
    "    'Label': [decode_typeseq(sample.y)[0] for sample in test_set],\n",
    "    'Varid': [sample.varid for sample in test_set],\n",
    "    'Split': ['Test']*len(test_set),\n",
    "    'Test': [True]*len(test_set),\n",
    "})\n",
    "\n",
    "df = pd.concat([train_df, test_df])\n",
    "# gdf = train_df.groupby('Label').count().sort_values('Varid')\n",
    "# gdf.loc[:,'Percent'] = gdf.Varid/len(train_df)*100\n",
    "# gdf\n",
    "\n",
    "df.groupby(['Label'])[['Train','Test']].count().sort_values('Train') \\\n",
    "    .plot(kind='barh')\n",
    "\n",
    "dataset_classes = df.groupby(['Label'])[['Train','Test']].count()\n",
    "dataset_classes.loc[:,'TrainPcnt'] = dataset_classes.Train/dataset_classes.Train.sum()*100\n",
    "dataset_classes.loc[:,'TestPcnt'] = dataset_classes.Test/dataset_classes.Test.sum()*100\n",
    "# dataset_classes.sum()\n",
    "dataset_classes"
   ]
  },
  {
   "cell_type": "markdown",
   "metadata": {},
   "source": [
    "# Model Definition"
   ]
  },
  {
   "cell_type": "code",
   "execution_count": 4,
   "metadata": {},
   "outputs": [],
   "source": [
    "import torch\n",
    "from torch.nn import functional as F\n",
    "from torch_geometric.data import Dataset\n",
    "from torch_geometric.nn import GATConv, Linear\n",
    "from typing import List\n",
    "\n",
    "def split_node_index_by_graph(batch:torch.tensor, batch_size:int) -> List[torch.tensor]:\n",
    "    '''\n",
    "    Returns the node_index for each individual graph within the batch as a list of tensors.\n",
    "\n",
    "    Each list entry (node_index) is a tensor of node indices for an individual graph within the\n",
    "    batch, where each of the node indices will index into the containing DataBatch.x.\n",
    "    '''\n",
    "    return [(batch==i).nonzero(as_tuple=True) for i in range(batch_size)]\n",
    "\n",
    "def get_node0_indices(batch:torch.tensor) -> List[int]:\n",
    "    '''\n",
    "    Returns the indices of all \"node 0\" nodes in the batch\n",
    "    '''\n",
    "    batch_size = batch.max().item()+1\n",
    "    node_index_by_graph = split_node_index_by_graph(batch, batch_size)\n",
    "    return [x[0][0].item() for x in node_index_by_graph]\n",
    "\n",
    "\n",
    "class TypeSeqModel(torch.nn.Module):\n",
    "    def __init__(self, dataset:Dataset, hidden_channels:int):\n",
    "        super(TypeSeqModel, self).__init__()\n",
    "\n",
    "        # if we go with fewer layers than the # hops in our dataset\n",
    "        # that may be fine for experimenting, but eventually we are wasting\n",
    "        # time/space and can cut our dataset down to match (# hops = # layers)\n",
    "        self.gat1 = GATConv(dataset.num_node_features, hidden_channels)\n",
    "        self.gat2 = GATConv(hidden_channels, hidden_channels)\n",
    "        self.gat3 = GATConv(hidden_channels, hidden_channels)\n",
    "\n",
    "        # TODO - later on, add sequential layer(s) here\n",
    "\n",
    "        self.pred_head = Linear(hidden_channels, dataset.num_classes)\n",
    "\n",
    "    def forward(self, x, edge_index, batch):\n",
    "        node0_indices = get_node0_indices(batch)\n",
    "\n",
    "        # FIXME: if we need floats in the dataset, go back and save the data\n",
    "        # this way in our Dataset class\n",
    "        x = x.to(torch.float32)\n",
    "\n",
    "        # GNN layers\n",
    "        # ----------\n",
    "        # NOTE: it's tempting to downselect to node0 indices here, but I think\n",
    "        # that may be incorrect - we would not be passing ALL NODES through the\n",
    "        # network, just node 0.\n",
    "\n",
    "        # I think we WANT to compute the network on every node\n",
    "        # for N hops and then simply make predictions based on the node 0 nodes\n",
    "        #\n",
    "        # yeah...if we did not compute this on ALL nodes, I think we are\n",
    "        # making it effectively 1 hop only, and just going multiple rounds with 1 hop!\n",
    "\n",
    "        h = self.gat1(x, edge_index)\n",
    "        h = h.relu()\n",
    "\n",
    "        h = self.gat2(h, edge_index)\n",
    "        h = h.relu()\n",
    "\n",
    "        h = self.gat3(h, edge_index)\n",
    "        # relu here?\n",
    "\n",
    "        logits = self.pred_head(h[node0_indices])\n",
    "        return logits\n"
   ]
  },
  {
   "cell_type": "code",
   "execution_count": 5,
   "metadata": {},
   "outputs": [
    {
     "name": "stdout",
     "output_type": "stream",
     "text": [
      "TypeSeqModel(\n",
      "  (gat1): GATConv(47, 128, heads=1)\n",
      "  (gat2): GATConv(128, 128, heads=1)\n",
      "  (gat3): GATConv(128, 128, heads=1)\n",
      "  (pred_head): Linear(128, 20, bias=True)\n",
      ")\n"
     ]
    }
   ],
   "source": [
    "model = TypeSeqModel(dataset, hidden_channels=HIDDEN_CHANNELS)\n",
    "print(model)"
   ]
  },
  {
   "cell_type": "code",
   "execution_count": 6,
   "metadata": {},
   "outputs": [],
   "source": [
    "optimizer = torch.optim.Adam(model.parameters(), lr=LEARN_RATE)\n",
    "criterion = torch.nn.CrossEntropyLoss()\n",
    "\n",
    "def train_one_epoch(train_loader:DataLoader, dev):\n",
    "    model.train()\n",
    "\n",
    "    for data in train_loader:\n",
    "        data.to(dev)\n",
    "        out = model(data.x, data.edge_index, data.batch)\n",
    "        # FIXME: change this to floats in Dataset if we need to stick with this\n",
    "        loss = criterion(out, data.y.to(torch.float32))\n",
    "        loss.backward()\n",
    "        optimizer.step()\n",
    "        optimizer.zero_grad()\n",
    "\n",
    "def eval(loader:DataLoader, dev):\n",
    "    model.eval()\n",
    "\n",
    "    correct = 0\n",
    "    total_loss = 0\n",
    "    for data in loader:\n",
    "        data.to(dev)\n",
    "        out = model(data.x, data.edge_index, data.batch)\n",
    "        # FIXME: change this to floats in Dataset if we need to stick with this\n",
    "        loss = criterion(out, data.y.to(torch.float32))\n",
    "        total_loss += loss.item()\n",
    "        pred_probabilities = F.softmax(out, dim=1)\n",
    "        correct += int((pred_probabilities.argmax(dim=1) == data.y.argmax(dim=1)).sum())\n",
    "    return correct/len(loader.dataset), total_loss/len(loader.dataset)"
   ]
  },
  {
   "cell_type": "code",
   "execution_count": 7,
   "metadata": {},
   "outputs": [
    {
     "name": "stdout",
     "output_type": "stream",
     "text": [
      "Device count: 4\n",
      "Device 0: Tesla M10\n",
      "Device 1: Tesla M10\n",
      "Device 2: Tesla M10\n",
      "Device 3: Tesla M10\n"
     ]
    }
   ],
   "source": [
    "import torch\n",
    "\n",
    "if not torch.cuda.is_available():\n",
    "    print(f'CUDA NOT AVAILABLE!')\n",
    "else:\n",
    "    print(f'Device count: {torch.cuda.device_count()}')\n",
    "    for i in range(torch.cuda.device_count()):\n",
    "        print(f'Device {i}: {torch.cuda.get_device_name(i)}')\n",
    "\n",
    "CUDA_DEVICE = 0"
   ]
  },
  {
   "cell_type": "code",
   "execution_count": 8,
   "metadata": {},
   "outputs": [
    {
     "name": "stderr",
     "output_type": "stream",
     "text": [
      "Failed to detect the name of this notebook, you can set it manually with the WANDB_NOTEBOOK_NAME environment variable to enable code saving.\n",
      "\u001b[34m\u001b[1mwandb\u001b[0m: Currently logged in as: \u001b[33mcstew33\u001b[0m (\u001b[33muah-phd\u001b[0m). Use \u001b[1m`wandb login --relogin`\u001b[0m to force relogin\n"
     ]
    },
    {
     "data": {
      "text/html": [
       "Tracking run with wandb version 0.16.1"
      ],
      "text/plain": [
       "<IPython.core.display.HTML object>"
      ]
     },
     "metadata": {},
     "output_type": "display_data"
    },
    {
     "data": {
      "text/html": [
       "Run data is saved locally in <code>/home/cls0027/dev/datatype-recovery-experiments/notebooks/wandb/run-20240103_215148-3if9r2hk</code>"
      ],
      "text/plain": [
       "<IPython.core.display.HTML object>"
      ]
     },
     "metadata": {},
     "output_type": "display_data"
    },
    {
     "data": {
      "text/html": [
       "Syncing run <strong><a href='https://wandb.ai/uah-phd/model0/runs/3if9r2hk' target=\"_blank\">faithful-sea-12</a></strong> to <a href='https://wandb.ai/uah-phd/model0' target=\"_blank\">Weights & Biases</a> (<a href='https://wandb.me/run' target=\"_blank\">docs</a>)<br/>"
      ],
      "text/plain": [
       "<IPython.core.display.HTML object>"
      ]
     },
     "metadata": {},
     "output_type": "display_data"
    },
    {
     "data": {
      "text/html": [
       " View project at <a href='https://wandb.ai/uah-phd/model0' target=\"_blank\">https://wandb.ai/uah-phd/model0</a>"
      ],
      "text/plain": [
       "<IPython.core.display.HTML object>"
      ]
     },
     "metadata": {},
     "output_type": "display_data"
    },
    {
     "data": {
      "text/html": [
       " View run at <a href='https://wandb.ai/uah-phd/model0/runs/3if9r2hk' target=\"_blank\">https://wandb.ai/uah-phd/model0/runs/3if9r2hk</a>"
      ],
      "text/plain": [
       "<IPython.core.display.HTML object>"
      ]
     },
     "metadata": {},
     "output_type": "display_data"
    },
    {
     "name": "stdout",
     "output_type": "stream",
     "text": [
      "---------------\n",
      "Current device: cuda:0\n",
      "Current CUDA device: 0 (Tesla M10)\n",
      "Train loss = 0.0468, train accuracy = 1.42%\n",
      "Test loss = 0.0467, test accuracy = 1.25%\n"
     ]
    },
    {
     "data": {
      "application/vnd.jupyter.widget-view+json": {
       "model_id": "b7f0ae120daa45eb98086530c53e4539",
       "version_major": 2,
       "version_minor": 0
      },
      "text/plain": [
       "  0%|          | 0/1499 [00:00<?, ?it/s]"
      ]
     },
     "metadata": {},
     "output_type": "display_data"
    },
    {
     "name": "stdout",
     "output_type": "stream",
     "text": [
      "Train loss = 0.0009, train accuracy = 97.16%\n",
      "Test loss = 0.0009, test accuracy = 96.56%\n"
     ]
    },
    {
     "name": "stderr",
     "output_type": "stream",
     "text": [
      "wandb: WARNING Source type is set to 'repo' but some required information is missing from the environment. A job will not be created from this run. See https://docs.wandb.ai/guides/launch/create-job\n"
     ]
    },
    {
     "data": {
      "application/vnd.jupyter.widget-view+json": {
       "model_id": "7c20db3d55924f3aa5693c6c8555e175",
       "version_major": 2,
       "version_minor": 0
      },
      "text/plain": [
       "VBox(children=(Label(value='0.030 MB of 0.030 MB uploaded\\r'), FloatProgress(value=1.0, max=1.0)))"
      ]
     },
     "metadata": {},
     "output_type": "display_data"
    },
    {
     "data": {
      "text/html": [
       "<style>\n",
       "    table.wandb td:nth-child(1) { padding: 0 10px; text-align: left ; width: auto;} td:nth-child(2) {text-align: left ; width: 100%}\n",
       "    .wandb-row { display: flex; flex-direction: row; flex-wrap: wrap; justify-content: flex-start; width: 100% }\n",
       "    .wandb-col { display: flex; flex-direction: column; flex-basis: 100%; flex: 1; padding: 10px; }\n",
       "    </style>\n",
       "<div class=\"wandb-row\"><div class=\"wandb-col\"><h3>Run history:</h3><br/><table class=\"wandb\"><tr><td>test/acc</td><td>▁▃▄▅▅▆▆▆▇▇▇▇▇▇████▇▇█▇██████████████████</td></tr><tr><td>test/loss</td><td>█▅▄▄▃▃▂▂▂▂▂▂▁▁▁▁▁▁▁▁▁▂▁▁▁▁▁▁▁▁▁▁▁▁▁▁▁▁▁▁</td></tr><tr><td>train/acc</td><td>▁▄▄▅▆▆▇▇▇▇▇▇█████▇█▇█▇██████████████████</td></tr><tr><td>train/loss</td><td>█▅▄▄▃▃▂▂▂▂▂▁▁▁▁▁▁▁▁▂▁▁▁▁▁▁▁▁▁▁▁▁▁▁▁▁▁▁▁▁</td></tr></table><br/></div><div class=\"wandb-col\"><h3>Run summary:</h3><br/><table class=\"wandb\"><tr><td>test/acc</td><td>0.96562</td></tr><tr><td>test/loss</td><td>0.00093</td></tr><tr><td>train/acc</td><td>0.97159</td></tr><tr><td>train/loss</td><td>0.00088</td></tr></table><br/></div></div>"
      ],
      "text/plain": [
       "<IPython.core.display.HTML object>"
      ]
     },
     "metadata": {},
     "output_type": "display_data"
    },
    {
     "data": {
      "text/html": [
       " View run <strong style=\"color:#cdcd00\">faithful-sea-12</strong> at: <a href='https://wandb.ai/uah-phd/model0/runs/3if9r2hk' target=\"_blank\">https://wandb.ai/uah-phd/model0/runs/3if9r2hk</a><br/>Synced 5 W&B file(s), 2 media file(s), 1 artifact file(s) and 0 other file(s)"
      ],
      "text/plain": [
       "<IPython.core.display.HTML object>"
      ]
     },
     "metadata": {},
     "output_type": "display_data"
    },
    {
     "data": {
      "text/html": [
       "Find logs at: <code>./wandb/run-20240103_215148-3if9r2hk/logs</code>"
      ],
      "text/plain": [
       "<IPython.core.display.HTML object>"
      ]
     },
     "metadata": {},
     "output_type": "display_data"
    },
    {
     "data": {
      "image/png": "[encoded data removed]",
      "text/plain": [
       "<Figure size 640x480 with 1 Axes>"
      ]
     },
     "metadata": {},
     "output_type": "display_data"
    }
   ],
   "source": [
    "from tqdm.auto import trange\n",
    "\n",
    "# 2m, 13.7s to get initial train/test accuracy on CPU\n",
    "# ~3m to get initial \" on GPU\n",
    "# 7m and counting without finishing first epoch using individual .to() methods...\n",
    "\n",
    "import wandb\n",
    "wandb.login()\n",
    "\n",
    "from pathlib import Path\n",
    "dataset_names = ','.join([Path(x).parent.parent.stem for x in data_params['experiment_runs']])\n",
    "\n",
    "wandb.init(\n",
    "    # set the wandb project where this run will be logged\n",
    "    project=\"model0\",\n",
    "\n",
    "    # track hyperparameters and run metadata\n",
    "    config={\n",
    "        \"learning_rate\": LEARN_RATE,\n",
    "        \"architecture\": \"GATConv\",\n",
    "        \"dataset\": dataset_names,\n",
    "        \"epochs\": NUM_EPOCHS,\n",
    "        'hidden_channels': HIDDEN_CHANNELS,\n",
    "    }\n",
    ")\n",
    "\n",
    "wandb.log({\n",
    "    'Dataset/classes': wandb.Table(dataframe=dataset_classes \\\n",
    "                        .sort_values('Train',ascending=False) \\\n",
    "                        .reset_index()),\n",
    "    'Dataset/plot': wandb.Image(\n",
    "        dataset_classes[['TrainPcnt','TestPcnt']].sort_values('TrainPcnt').plot(kind='barh')\n",
    "    ),\n",
    "})\n",
    "\n",
    "with torch.cuda.device(CUDA_DEVICE):\n",
    "    cuda_dev = torch.cuda.current_device()\n",
    "    device = f'cuda:{cuda_dev}' if torch.cuda.is_available() else 'cpu'\n",
    "    print(f'---------------')\n",
    "    print(f'Current device: {device}')\n",
    "    print(f'Current CUDA device: {cuda_dev} ({torch.cuda.get_device_name(cuda_dev)})')\n",
    "\n",
    "    # move model to device\n",
    "    model = model.to(device)\n",
    "\n",
    "    train_acc, train_loss = eval(train_loader, device)\n",
    "    test_acc, test_loss = eval(test_loader, device)\n",
    "    print(f'Train loss = {train_loss:.4f}, train accuracy = {train_acc*100:,.2f}%')\n",
    "    print(f'Test loss = {test_loss:.4f}, test accuracy = {test_acc*100:,.2f}%')\n",
    "\n",
    "    for epoch in trange(1, NUM_EPOCHS):\n",
    "        train_one_epoch(train_loader, device)\n",
    "        train_acc, train_loss = eval(train_loader, device)\n",
    "        test_acc, test_loss = eval(test_loader, device)\n",
    "        wandb.log({\n",
    "            'train/loss': train_loss,\n",
    "            'train/acc': train_acc,\n",
    "            'test/loss': test_loss,\n",
    "            'test/acc': test_acc,\n",
    "        })\n",
    "        torch.save(model, 'type_seq_model.pt')\n",
    "\n",
    "    train_acc, train_loss = eval(train_loader, device)\n",
    "    test_acc, test_loss = eval(test_loader, device)\n",
    "    print(f'Train loss = {train_loss:.4f}, train accuracy = {train_acc*100:,.2f}%')\n",
    "    print(f'Test loss = {test_loss:.4f}, test accuracy = {test_acc*100:,.2f}%')\n",
    "    wandb.finish()"
   ]
  },
  {
   "cell_type": "code",
   "execution_count": 9,
   "metadata": {},
   "outputs": [],
   "source": [
    "# for i in range(b.x.shape[0]):\n",
    "#     print(decode_astnode(b.x[i]))"
   ]
  },
  {
   "cell_type": "code",
   "execution_count": 10,
   "metadata": {},
   "outputs": [],
   "source": [
    "# rungid, bid, _, _, _ = dataset[0].varid\n",
    "# [(x.varid[0], x.varid[1]) for x in dataset[10000:10100]][:5]"
   ]
  },
  {
   "cell_type": "code",
   "execution_count": 11,
   "metadata": {},
   "outputs": [
    {
     "ename": "IndexError",
     "evalue": "range object index out of range",
     "output_type": "error",
     "traceback": [
      "\u001b[0;31m---------------------------------------------------------------------------\u001b[0m",
      "\u001b[0;31mIndexError\u001b[0m                                Traceback (most recent call last)",
      "Cell \u001b[0;32mIn[11], line 8\u001b[0m\n\u001b[1;32m      6\u001b[0m ss \u001b[38;5;241m=\u001b[39m Subset(dataset, indices)\n\u001b[1;32m      7\u001b[0m loader \u001b[38;5;241m=\u001b[39m DataLoader(ss, shuffle\u001b[38;5;241m=\u001b[39m\u001b[38;5;28;01mTrue\u001b[39;00m)\n\u001b[0;32m----> 8\u001b[0m [(x\u001b[38;5;241m.\u001b[39mvarid[\u001b[38;5;241m0\u001b[39m][\u001b[38;5;241m0\u001b[39m], x\u001b[38;5;241m.\u001b[39mvarid[\u001b[38;5;241m0\u001b[39m][\u001b[38;5;241m1\u001b[39m]) \u001b[38;5;28;01mfor\u001b[39;00m x \u001b[38;5;129;01min\u001b[39;00m loader]\n",
      "Cell \u001b[0;32mIn[11], line 8\u001b[0m, in \u001b[0;36m<listcomp>\u001b[0;34m(.0)\u001b[0m\n\u001b[1;32m      6\u001b[0m ss \u001b[38;5;241m=\u001b[39m Subset(dataset, indices)\n\u001b[1;32m      7\u001b[0m loader \u001b[38;5;241m=\u001b[39m DataLoader(ss, shuffle\u001b[38;5;241m=\u001b[39m\u001b[38;5;28;01mTrue\u001b[39;00m)\n\u001b[0;32m----> 8\u001b[0m [(x\u001b[38;5;241m.\u001b[39mvarid[\u001b[38;5;241m0\u001b[39m][\u001b[38;5;241m0\u001b[39m], x\u001b[38;5;241m.\u001b[39mvarid[\u001b[38;5;241m0\u001b[39m][\u001b[38;5;241m1\u001b[39m]) \u001b[38;5;28;01mfor\u001b[39;00m x \u001b[38;5;129;01min\u001b[39;00m loader]\n",
      "File \u001b[0;32m~/envs/phd/lib/python3.8/site-packages/torch/utils/data/dataloader.py:630\u001b[0m, in \u001b[0;36m_BaseDataLoaderIter.__next__\u001b[0;34m(self)\u001b[0m\n\u001b[1;32m    627\u001b[0m \u001b[38;5;28;01mif\u001b[39;00m \u001b[38;5;28mself\u001b[39m\u001b[38;5;241m.\u001b[39m_sampler_iter \u001b[38;5;129;01mis\u001b[39;00m \u001b[38;5;28;01mNone\u001b[39;00m:\n\u001b[1;32m    628\u001b[0m     \u001b[38;5;66;03m# TODO(https://github.com/pytorch/pytorch/issues/76750)\u001b[39;00m\n\u001b[1;32m    629\u001b[0m     \u001b[38;5;28mself\u001b[39m\u001b[38;5;241m.\u001b[39m_reset()  \u001b[38;5;66;03m# type: ignore[call-arg]\u001b[39;00m\n\u001b[0;32m--> 630\u001b[0m data \u001b[38;5;241m=\u001b[39m \u001b[38;5;28;43mself\u001b[39;49m\u001b[38;5;241;43m.\u001b[39;49m\u001b[43m_next_data\u001b[49m\u001b[43m(\u001b[49m\u001b[43m)\u001b[49m\n\u001b[1;32m    631\u001b[0m \u001b[38;5;28mself\u001b[39m\u001b[38;5;241m.\u001b[39m_num_yielded \u001b[38;5;241m+\u001b[39m\u001b[38;5;241m=\u001b[39m \u001b[38;5;241m1\u001b[39m\n\u001b[1;32m    632\u001b[0m \u001b[38;5;28;01mif\u001b[39;00m \u001b[38;5;28mself\u001b[39m\u001b[38;5;241m.\u001b[39m_dataset_kind \u001b[38;5;241m==\u001b[39m _DatasetKind\u001b[38;5;241m.\u001b[39mIterable \u001b[38;5;129;01mand\u001b[39;00m \\\n\u001b[1;32m    633\u001b[0m         \u001b[38;5;28mself\u001b[39m\u001b[38;5;241m.\u001b[39m_IterableDataset_len_called \u001b[38;5;129;01mis\u001b[39;00m \u001b[38;5;129;01mnot\u001b[39;00m \u001b[38;5;28;01mNone\u001b[39;00m \u001b[38;5;129;01mand\u001b[39;00m \\\n\u001b[1;32m    634\u001b[0m         \u001b[38;5;28mself\u001b[39m\u001b[38;5;241m.\u001b[39m_num_yielded \u001b[38;5;241m>\u001b[39m \u001b[38;5;28mself\u001b[39m\u001b[38;5;241m.\u001b[39m_IterableDataset_len_called:\n",
      "File \u001b[0;32m~/envs/phd/lib/python3.8/site-packages/torch/utils/data/dataloader.py:674\u001b[0m, in \u001b[0;36m_SingleProcessDataLoaderIter._next_data\u001b[0;34m(self)\u001b[0m\n\u001b[1;32m    672\u001b[0m \u001b[38;5;28;01mdef\u001b[39;00m \u001b[38;5;21m_next_data\u001b[39m(\u001b[38;5;28mself\u001b[39m):\n\u001b[1;32m    673\u001b[0m     index \u001b[38;5;241m=\u001b[39m \u001b[38;5;28mself\u001b[39m\u001b[38;5;241m.\u001b[39m_next_index()  \u001b[38;5;66;03m# may raise StopIteration\u001b[39;00m\n\u001b[0;32m--> 674\u001b[0m     data \u001b[38;5;241m=\u001b[39m \u001b[38;5;28;43mself\u001b[39;49m\u001b[38;5;241;43m.\u001b[39;49m\u001b[43m_dataset_fetcher\u001b[49m\u001b[38;5;241;43m.\u001b[39;49m\u001b[43mfetch\u001b[49m\u001b[43m(\u001b[49m\u001b[43mindex\u001b[49m\u001b[43m)\u001b[49m  \u001b[38;5;66;03m# may raise StopIteration\u001b[39;00m\n\u001b[1;32m    675\u001b[0m     \u001b[38;5;28;01mif\u001b[39;00m \u001b[38;5;28mself\u001b[39m\u001b[38;5;241m.\u001b[39m_pin_memory:\n\u001b[1;32m    676\u001b[0m         data \u001b[38;5;241m=\u001b[39m _utils\u001b[38;5;241m.\u001b[39mpin_memory\u001b[38;5;241m.\u001b[39mpin_memory(data, \u001b[38;5;28mself\u001b[39m\u001b[38;5;241m.\u001b[39m_pin_memory_device)\n",
      "File \u001b[0;32m~/envs/phd/lib/python3.8/site-packages/torch/utils/data/_utils/fetch.py:49\u001b[0m, in \u001b[0;36m_MapDatasetFetcher.fetch\u001b[0;34m(self, possibly_batched_index)\u001b[0m\n\u001b[1;32m     47\u001b[0m \u001b[38;5;28;01mif\u001b[39;00m \u001b[38;5;28mself\u001b[39m\u001b[38;5;241m.\u001b[39mauto_collation:\n\u001b[1;32m     48\u001b[0m     \u001b[38;5;28;01mif\u001b[39;00m \u001b[38;5;28mhasattr\u001b[39m(\u001b[38;5;28mself\u001b[39m\u001b[38;5;241m.\u001b[39mdataset, \u001b[38;5;124m\"\u001b[39m\u001b[38;5;124m__getitems__\u001b[39m\u001b[38;5;124m\"\u001b[39m) \u001b[38;5;129;01mand\u001b[39;00m \u001b[38;5;28mself\u001b[39m\u001b[38;5;241m.\u001b[39mdataset\u001b[38;5;241m.\u001b[39m__getitems__:\n\u001b[0;32m---> 49\u001b[0m         data \u001b[38;5;241m=\u001b[39m \u001b[38;5;28;43mself\u001b[39;49m\u001b[38;5;241;43m.\u001b[39;49m\u001b[43mdataset\u001b[49m\u001b[38;5;241;43m.\u001b[39;49m\u001b[43m__getitems__\u001b[49m\u001b[43m(\u001b[49m\u001b[43mpossibly_batched_index\u001b[49m\u001b[43m)\u001b[49m\n\u001b[1;32m     50\u001b[0m     \u001b[38;5;28;01melse\u001b[39;00m:\n\u001b[1;32m     51\u001b[0m         data \u001b[38;5;241m=\u001b[39m [\u001b[38;5;28mself\u001b[39m\u001b[38;5;241m.\u001b[39mdataset[idx] \u001b[38;5;28;01mfor\u001b[39;00m idx \u001b[38;5;129;01min\u001b[39;00m possibly_batched_index]\n",
      "File \u001b[0;32m~/envs/phd/lib/python3.8/site-packages/torch/utils/data/dataset.py:364\u001b[0m, in \u001b[0;36mSubset.__getitems__\u001b[0;34m(self, indices)\u001b[0m\n\u001b[1;32m    362\u001b[0m     \u001b[38;5;28;01mreturn\u001b[39;00m \u001b[38;5;28mself\u001b[39m\u001b[38;5;241m.\u001b[39mdataset\u001b[38;5;241m.\u001b[39m__getitems__([\u001b[38;5;28mself\u001b[39m\u001b[38;5;241m.\u001b[39mindices[idx] \u001b[38;5;28;01mfor\u001b[39;00m idx \u001b[38;5;129;01min\u001b[39;00m indices])  \u001b[38;5;66;03m# type: ignore[attr-defined]\u001b[39;00m\n\u001b[1;32m    363\u001b[0m \u001b[38;5;28;01melse\u001b[39;00m:\n\u001b[0;32m--> 364\u001b[0m     \u001b[38;5;28;01mreturn\u001b[39;00m [\u001b[38;5;28mself\u001b[39m\u001b[38;5;241m.\u001b[39mdataset[\u001b[38;5;28mself\u001b[39m\u001b[38;5;241m.\u001b[39mindices[idx]] \u001b[38;5;28;01mfor\u001b[39;00m idx \u001b[38;5;129;01min\u001b[39;00m indices]\n",
      "File \u001b[0;32m~/envs/phd/lib/python3.8/site-packages/torch/utils/data/dataset.py:364\u001b[0m, in \u001b[0;36m<listcomp>\u001b[0;34m(.0)\u001b[0m\n\u001b[1;32m    362\u001b[0m     \u001b[38;5;28;01mreturn\u001b[39;00m \u001b[38;5;28mself\u001b[39m\u001b[38;5;241m.\u001b[39mdataset\u001b[38;5;241m.\u001b[39m__getitems__([\u001b[38;5;28mself\u001b[39m\u001b[38;5;241m.\u001b[39mindices[idx] \u001b[38;5;28;01mfor\u001b[39;00m idx \u001b[38;5;129;01min\u001b[39;00m indices])  \u001b[38;5;66;03m# type: ignore[attr-defined]\u001b[39;00m\n\u001b[1;32m    363\u001b[0m \u001b[38;5;28;01melse\u001b[39;00m:\n\u001b[0;32m--> 364\u001b[0m     \u001b[38;5;28;01mreturn\u001b[39;00m [\u001b[38;5;28;43mself\u001b[39;49m\u001b[38;5;241;43m.\u001b[39;49m\u001b[43mdataset\u001b[49m\u001b[43m[\u001b[49m\u001b[38;5;28;43mself\u001b[39;49m\u001b[38;5;241;43m.\u001b[39;49m\u001b[43mindices\u001b[49m\u001b[43m[\u001b[49m\u001b[43midx\u001b[49m\u001b[43m]\u001b[49m\u001b[43m]\u001b[49m \u001b[38;5;28;01mfor\u001b[39;00m idx \u001b[38;5;129;01min\u001b[39;00m indices]\n",
      "File \u001b[0;32m~/envs/phd/lib/python3.8/site-packages/torch_geometric/data/dataset.py:263\u001b[0m, in \u001b[0;36mDataset.__getitem__\u001b[0;34m(self, idx)\u001b[0m\n\u001b[1;32m    253\u001b[0m \u001b[38;5;250m\u001b[39m\u001b[38;5;124mr\u001b[39m\u001b[38;5;124;03m\"\"\"In case :obj:`idx` is of type integer, will return the data object\u001b[39;00m\n\u001b[1;32m    254\u001b[0m \u001b[38;5;124;03mat index :obj:`idx` (and transforms it in case :obj:`transform` is\u001b[39;00m\n\u001b[1;32m    255\u001b[0m \u001b[38;5;124;03mpresent).\u001b[39;00m\n\u001b[1;32m    256\u001b[0m \u001b[38;5;124;03mIn case :obj:`idx` is a slicing object, *e.g.*, :obj:`[2:5]`, a list, a\u001b[39;00m\n\u001b[1;32m    257\u001b[0m \u001b[38;5;124;03mtuple, or a :obj:`torch.Tensor` or :obj:`np.ndarray` of type long or\u001b[39;00m\n\u001b[1;32m    258\u001b[0m \u001b[38;5;124;03mbool, will return a subset of the dataset at the specified indices.\"\"\"\u001b[39;00m\n\u001b[1;32m    259\u001b[0m \u001b[38;5;28;01mif\u001b[39;00m (\u001b[38;5;28misinstance\u001b[39m(idx, (\u001b[38;5;28mint\u001b[39m, np\u001b[38;5;241m.\u001b[39minteger))\n\u001b[1;32m    260\u001b[0m         \u001b[38;5;129;01mor\u001b[39;00m (\u001b[38;5;28misinstance\u001b[39m(idx, Tensor) \u001b[38;5;129;01mand\u001b[39;00m idx\u001b[38;5;241m.\u001b[39mdim() \u001b[38;5;241m==\u001b[39m \u001b[38;5;241m0\u001b[39m)\n\u001b[1;32m    261\u001b[0m         \u001b[38;5;129;01mor\u001b[39;00m (\u001b[38;5;28misinstance\u001b[39m(idx, np\u001b[38;5;241m.\u001b[39mndarray) \u001b[38;5;129;01mand\u001b[39;00m np\u001b[38;5;241m.\u001b[39misscalar(idx))):\n\u001b[0;32m--> 263\u001b[0m     data \u001b[38;5;241m=\u001b[39m \u001b[38;5;28mself\u001b[39m\u001b[38;5;241m.\u001b[39mget(\u001b[38;5;28;43mself\u001b[39;49m\u001b[38;5;241;43m.\u001b[39;49m\u001b[43mindices\u001b[49m\u001b[43m(\u001b[49m\u001b[43m)\u001b[49m\u001b[43m[\u001b[49m\u001b[43midx\u001b[49m\u001b[43m]\u001b[49m)\n\u001b[1;32m    264\u001b[0m     data \u001b[38;5;241m=\u001b[39m data \u001b[38;5;28;01mif\u001b[39;00m \u001b[38;5;28mself\u001b[39m\u001b[38;5;241m.\u001b[39mtransform \u001b[38;5;129;01mis\u001b[39;00m \u001b[38;5;28;01mNone\u001b[39;00m \u001b[38;5;28;01melse\u001b[39;00m \u001b[38;5;28mself\u001b[39m\u001b[38;5;241m.\u001b[39mtransform(data)\n\u001b[1;32m    265\u001b[0m     \u001b[38;5;28;01mreturn\u001b[39;00m data\n",
      "\u001b[0;31mIndexError\u001b[0m: range object index out of range"
     ]
    }
   ],
   "source": [
    "[(i, x.varid[0], x.varid[1]) for i, x in enumerate(dataset[10000:10100])][:5]\n",
    "\n",
    "indices = [10000, 10001, 10002, 10003, 10004]\n",
    "from torch.utils.data import Subset\n",
    "\n",
    "ss = Subset(dataset, indices)\n",
    "loader = DataLoader(ss, shuffle=True)\n",
    "[(x.varid[0][0], x.varid[0][1]) for x in loader]"
   ]
  }
 ],
 "metadata": {
  "kernelspec": {
   "display_name": "phd",
   "language": "python",
   "name": "python3"
  },
  "language_info": {
   "codemirror_mode": {
    "name": "ipython",
    "version": 3
   },
   "file_extension": ".py",
   "mimetype": "text/x-python",
   "name": "python",
   "nbconvert_exporter": "python",
   "pygments_lexer": "ipython3",
   "version": "3.8.10"
  }
 },
 "nbformat": 4,
 "nbformat_minor": 2
}
