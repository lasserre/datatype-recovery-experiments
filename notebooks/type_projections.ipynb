{
 "cells": [
  {
   "cell_type": "code",
   "execution_count": 1,
   "metadata": {},
   "outputs": [],
   "source": [
    "#!ls ~/trained_models/\n",
    "from pathlib import Path\n",
    "import pandas as pd\n",
    "pd.set_option('display.max_colwidth', 20)   # JSON columns make things look weird in notebook without this\n",
    "\n",
    "from datatype_recovery.models.dataset import load_dataset_from_path\n",
    "from datatype_recovery.models.dataset.encoding import *\n",
    "\n",
    "# dataset_path = Path.home()/'datasets/coreutils_full_5hops'\n",
    "# model_path = Path.home()/'trained_models/dragon_5hops_5heads_3linear__trainset_new_ep50.pt'\n",
    "# dataset = load_dataset_from_path(dataset_path)\n",
    "# df = dataset.read_vars_csv()\n",
    "# df"
   ]
  },
  {
   "cell_type": "code",
   "execution_count": 2,
   "metadata": {},
   "outputs": [],
   "source": [
    "df = pd.read_csv(Path.home()/'evals/astera_tydamin/dragon_aligned.csv')\n",
    "df['Pred'] = df.PredJson.apply(DataType.from_json)"
   ]
  },
  {
   "cell_type": "code",
   "execution_count": 6,
   "metadata": {},
   "outputs": [
    {
     "data": {
      "text/plain": [
       "0.7162162162162162"
      ]
     },
     "execution_count": 6,
     "metadata": {},
     "output_type": "execute_result"
    }
   ],
   "source": [
    "(df.TypeSeq==df.PredSeq).sum()/len(df)"
   ]
  },
  {
   "cell_type": "code",
   "execution_count": 16,
   "metadata": {},
   "outputs": [
    {
     "data": {
      "text/plain": [
       "uint32"
      ]
     },
     "execution_count": 16,
     "metadata": {},
     "output_type": "execute_result"
    }
   ],
   "source": [
    "#type(df.Pred.iloc[0])\n",
    "\n",
    "# i1, u1??\n",
    "\n",
    "# BASE:\n",
    "# i8, 16, 32, 64, 128\n",
    "# u8, 16, 32, 64, 128\n",
    "# f32, f64, f128\n",
    "# bool, char, union, enum, array, struct\n",
    "# void*\n",
    "# BASE*\n",
    "# BASE_STRUCT_MEMBER\n",
    "# PTR_STRUCT_MEMBER\n",
    "\n",
    "# --> TODO - what do their types look like? ...dump these to CSV\n",
    "\n",
    "def project_to_tygr_type(dt:DataType) -> DataType:\n",
    "    pass"
   ]
  }
 ],
 "metadata": {
  "kernelspec": {
   "display_name": "phd",
   "language": "python",
   "name": "python3"
  },
  "language_info": {
   "codemirror_mode": {
    "name": "ipython",
    "version": 3
   },
   "file_extension": ".py",
   "mimetype": "text/x-python",
   "name": "python",
   "nbconvert_exporter": "python",
   "pygments_lexer": "ipython3",
   "version": "3.8.10"
  }
 },
 "nbformat": 4,
 "nbformat_minor": 2
}
